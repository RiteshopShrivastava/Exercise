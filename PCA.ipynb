{
  "nbformat": 4,
  "nbformat_minor": 0,
  "metadata": {
    "kernelspec": {
      "display_name": "Python 3",
      "language": "python",
      "name": "python3"
    },
    "language_info": {
      "codemirror_mode": {
        "name": "ipython",
        "version": 3
      },
      "file_extension": ".py",
      "mimetype": "text/x-python",
      "name": "python",
      "nbconvert_exporter": "python",
      "pygments_lexer": "ipython3",
      "version": "3.7.4"
    },
    "colab": {
      "name": "PCA.ipynb",
      "provenance": [],
      "collapsed_sections": [],
      "include_colab_link": true
    }
  },
  "cells": [
    {
      "cell_type": "markdown",
      "metadata": {
        "id": "view-in-github",
        "colab_type": "text"
      },
      "source": [
        "<a href=\"https://colab.research.google.com/github/RiteshopShrivastava/Python/blob/main/PCA.ipynb\" target=\"_parent\"><img src=\"https://colab.research.google.com/assets/colab-badge.svg\" alt=\"Open In Colab\"/></a>"
      ]
    },
    {
      "cell_type": "code",
      "metadata": {
        "id": "T0EU-hBQOlsg"
      },
      "source": [
        "import pandas as pd \n",
        "import numpy as np\n",
        "from sklearn.decomposition import PCA\n",
        "import matplotlib.pyplot as plt\n",
        "from sklearn.preprocessing import scale"
      ],
      "execution_count": 1,
      "outputs": []
    },
    {
      "cell_type": "code",
      "metadata": {
        "id": "J2ntSHEdOlsk",
        "colab": {
          "base_uri": "https://localhost:8080/",
          "height": 204
        },
        "outputId": "cdf32c50-8353-410f-8726-8075a36b041a"
      },
      "source": [
        "uni = pd.read_csv(\"PCA.csv\")\n",
        "uni.describe()\n",
        "uni.head()"
      ],
      "execution_count": 2,
      "outputs": [
        {
          "output_type": "execute_result",
          "data": {
            "text/html": [
              "<div>\n",
              "<style scoped>\n",
              "    .dataframe tbody tr th:only-of-type {\n",
              "        vertical-align: middle;\n",
              "    }\n",
              "\n",
              "    .dataframe tbody tr th {\n",
              "        vertical-align: top;\n",
              "    }\n",
              "\n",
              "    .dataframe thead th {\n",
              "        text-align: right;\n",
              "    }\n",
              "</style>\n",
              "<table border=\"1\" class=\"dataframe\">\n",
              "  <thead>\n",
              "    <tr style=\"text-align: right;\">\n",
              "      <th></th>\n",
              "      <th>Univ</th>\n",
              "      <th>SAT</th>\n",
              "      <th>Top10</th>\n",
              "      <th>Accept</th>\n",
              "      <th>SFRatio</th>\n",
              "      <th>Expenses</th>\n",
              "      <th>GradRate</th>\n",
              "    </tr>\n",
              "  </thead>\n",
              "  <tbody>\n",
              "    <tr>\n",
              "      <th>0</th>\n",
              "      <td>Brown</td>\n",
              "      <td>1310</td>\n",
              "      <td>89</td>\n",
              "      <td>22</td>\n",
              "      <td>13</td>\n",
              "      <td>22704</td>\n",
              "      <td>94</td>\n",
              "    </tr>\n",
              "    <tr>\n",
              "      <th>1</th>\n",
              "      <td>CalTech</td>\n",
              "      <td>1415</td>\n",
              "      <td>100</td>\n",
              "      <td>25</td>\n",
              "      <td>6</td>\n",
              "      <td>63575</td>\n",
              "      <td>81</td>\n",
              "    </tr>\n",
              "    <tr>\n",
              "      <th>2</th>\n",
              "      <td>CMU</td>\n",
              "      <td>1260</td>\n",
              "      <td>62</td>\n",
              "      <td>59</td>\n",
              "      <td>9</td>\n",
              "      <td>25026</td>\n",
              "      <td>72</td>\n",
              "    </tr>\n",
              "    <tr>\n",
              "      <th>3</th>\n",
              "      <td>Columbia</td>\n",
              "      <td>1310</td>\n",
              "      <td>76</td>\n",
              "      <td>24</td>\n",
              "      <td>12</td>\n",
              "      <td>31510</td>\n",
              "      <td>88</td>\n",
              "    </tr>\n",
              "    <tr>\n",
              "      <th>4</th>\n",
              "      <td>Cornell</td>\n",
              "      <td>1280</td>\n",
              "      <td>83</td>\n",
              "      <td>33</td>\n",
              "      <td>13</td>\n",
              "      <td>21864</td>\n",
              "      <td>90</td>\n",
              "    </tr>\n",
              "  </tbody>\n",
              "</table>\n",
              "</div>"
            ],
            "text/plain": [
              "       Univ   SAT  Top10  Accept  SFRatio  Expenses  GradRate\n",
              "0     Brown  1310     89      22       13     22704        94\n",
              "1   CalTech  1415    100      25        6     63575        81\n",
              "2       CMU  1260     62      59        9     25026        72\n",
              "3  Columbia  1310     76      24       12     31510        88\n",
              "4   Cornell  1280     83      33       13     21864        90"
            ]
          },
          "metadata": {},
          "execution_count": 2
        }
      ]
    },
    {
      "cell_type": "code",
      "metadata": {
        "id": "4yki9tOsOlsl",
        "colab": {
          "base_uri": "https://localhost:8080/"
        },
        "outputId": "94b35e62-84e8-40c1-eb6f-b2b4dd4d5c4f"
      },
      "source": [
        "# Considering only numerical data \n",
        "uni.data = uni.iloc[:,1:]\n",
        "uni.data.head()\n",
        "# Converting into numpy array\n",
        "UNI = uni.data.values\n",
        "UNI"
      ],
      "execution_count": 3,
      "outputs": [
        {
          "output_type": "stream",
          "text": [
            "/usr/local/lib/python3.7/dist-packages/ipykernel_launcher.py:2: UserWarning: Pandas doesn't allow columns to be created via a new attribute name - see https://pandas.pydata.org/pandas-docs/stable/indexing.html#attribute-access\n",
            "  \n"
          ],
          "name": "stderr"
        },
        {
          "output_type": "execute_result",
          "data": {
            "text/plain": [
              "array([[ 1310,    89,    22,    13, 22704,    94],\n",
              "       [ 1415,   100,    25,     6, 63575,    81],\n",
              "       [ 1260,    62,    59,     9, 25026,    72],\n",
              "       [ 1310,    76,    24,    12, 31510,    88],\n",
              "       [ 1280,    83,    33,    13, 21864,    90],\n",
              "       [ 1340,    89,    23,    10, 32162,    95],\n",
              "       [ 1315,    90,    30,    12, 31585,    95],\n",
              "       [ 1255,    74,    24,    12, 20126,    92],\n",
              "       [ 1400,    91,    14,    11, 39525,    97],\n",
              "       [ 1305,    75,    44,     7, 58691,    87],\n",
              "       [ 1380,    94,    30,    10, 34870,    91],\n",
              "       [ 1260,    85,    39,    11, 28052,    89],\n",
              "       [ 1255,    81,    42,    13, 15122,    94],\n",
              "       [ 1081,    38,    54,    18, 10185,    80],\n",
              "       [ 1375,    91,    14,     8, 30220,    95],\n",
              "       [ 1005,    28,    90,    19,  9066,    69],\n",
              "       [ 1360,    90,    20,    12, 36450,    93],\n",
              "       [ 1075,    49,    67,    25,  8704,    67],\n",
              "       [ 1240,    95,    40,    17, 15140,    78],\n",
              "       [ 1290,    75,    50,    13, 38380,    87],\n",
              "       [ 1180,    65,    68,    16, 15470,    85],\n",
              "       [ 1285,    80,    36,    11, 27553,    90],\n",
              "       [ 1225,    77,    44,    14, 13349,    92],\n",
              "       [ 1085,    40,    69,    15, 11857,    71],\n",
              "       [ 1375,    95,    19,    11, 43514,    96]])"
            ]
          },
          "metadata": {},
          "execution_count": 3
        }
      ]
    },
    {
      "cell_type": "code",
      "metadata": {
        "id": "VmZYS__tOlsm"
      },
      "source": [
        "# Normalizing the numerical data \n",
        "uni_normal = scale(UNI)"
      ],
      "execution_count": 4,
      "outputs": []
    },
    {
      "cell_type": "code",
      "metadata": {
        "id": "BvQMR0FiOlsn",
        "colab": {
          "base_uri": "https://localhost:8080/"
        },
        "outputId": "3faeb763-6ec4-4912-b7f1-9745f864ee12"
      },
      "source": [
        "uni_normal"
      ],
      "execution_count": 5,
      "outputs": [
        {
          "output_type": "execute_result",
          "data": {
            "text/plain": [
              "array([[ 0.41028362,  0.6575195 , -0.88986682,  0.07026045, -0.33141256,\n",
              "         0.82030265],\n",
              "       [ 1.39925928,  1.23521235, -0.73465749, -1.68625071,  2.56038138,\n",
              "        -0.64452351],\n",
              "       [-0.06065717, -0.76045386,  1.02438157, -0.93346022, -0.16712136,\n",
              "        -1.65863393],\n",
              "       [ 0.41028362, -0.02520842, -0.78639393, -0.18066972,  0.29164871,\n",
              "         0.14422904],\n",
              "       [ 0.12771914,  0.34241431, -0.32076595,  0.07026045, -0.39084607,\n",
              "         0.36958691],\n",
              "       [ 0.69284809,  0.6575195 , -0.83813038, -0.68253005,  0.33778044,\n",
              "         0.93298158],\n",
              "       [ 0.4573777 ,  0.71003703, -0.47597528, -0.18066972,  0.29695528,\n",
              "         0.93298158],\n",
              "       [-0.10775125, -0.13024348, -0.78639393, -0.18066972, -0.51381683,\n",
              "         0.59494478],\n",
              "       [ 1.25797704,  0.76255456, -1.30375836, -0.43159988,  0.85874344,\n",
              "         1.15833946],\n",
              "       [ 0.36318954, -0.07772595,  0.24833493, -1.43532055,  2.21481798,\n",
              "         0.0315501 ],\n",
              "       [ 1.06960072,  0.92010716, -0.47597528, -0.68253005,  0.52938275,\n",
              "         0.48226584],\n",
              "       [-0.06065717,  0.44744937, -0.01034729, -0.43159988,  0.04698077,\n",
              "         0.25690797],\n",
              "       [-0.10775125,  0.23737924,  0.14486204,  0.07026045, -0.86787073,\n",
              "         0.82030265],\n",
              "       [-1.7466252 , -2.02087462,  0.76569936,  1.32491127, -1.21718409,\n",
              "        -0.75720245],\n",
              "       [ 1.02250664,  0.76255456, -1.30375836, -1.18439038,  0.20037583,\n",
              "         0.93298158],\n",
              "       [-2.46245521, -2.54604994,  2.6282113 ,  1.57584144, -1.29635802,\n",
              "        -1.99667073],\n",
              "       [ 0.88122441,  0.71003703, -0.9933397 , -0.18066972,  0.64117435,\n",
              "         0.70762371],\n",
              "       [-1.8031381 , -1.44318177,  1.43827311,  3.08142243, -1.32197103,\n",
              "        -2.22202861],\n",
              "       [-0.24903349,  0.97262469,  0.04138915,  1.07398111, -0.86659715,\n",
              "        -0.98256032],\n",
              "       [ 0.2219073 , -0.07772595,  0.55875358,  0.07026045,  0.77772991,\n",
              "         0.0315501 ],\n",
              "       [-0.81416244, -0.60290126,  1.49000956,  0.82305094, -0.84324827,\n",
              "        -0.19380777],\n",
              "       [ 0.17481322,  0.18486171, -0.16555662, -0.43159988,  0.01167444,\n",
              "         0.36958691],\n",
              "       [-0.39031573,  0.02730912,  0.24833493,  0.32119061, -0.99331788,\n",
              "         0.59494478],\n",
              "       [-1.70894994, -1.91583956,  1.541746  ,  0.57212078, -1.09888311,\n",
              "        -1.77131286],\n",
              "       [ 1.02250664,  0.97262469, -1.04507615, -0.43159988,  1.14098185,\n",
              "         1.04566052]])"
            ]
          },
          "metadata": {},
          "execution_count": 5
        }
      ]
    },
    {
      "cell_type": "code",
      "metadata": {
        "id": "qe8xOCygOlsn"
      },
      "source": [
        "pca = PCA()\n",
        "pca_values = pca.fit_transform(uni_normal)"
      ],
      "execution_count": 14,
      "outputs": []
    },
    {
      "cell_type": "code",
      "metadata": {
        "id": "boGGslJwOlso",
        "colab": {
          "base_uri": "https://localhost:8080/"
        },
        "outputId": "8bd57357-56ee-4e5e-8071-0e29031d1d89"
      },
      "source": [
        "pca_values"
      ],
      "execution_count": 15,
      "outputs": [
        {
          "output_type": "execute_result",
          "data": {
            "text/plain": [
              "array([[-1.00987445e+00, -1.06430962e+00,  8.10663051e-02,\n",
              "         5.69506350e-02, -1.28754245e-01, -3.46496377e-02],\n",
              "       [-2.82223781e+00,  2.25904458e+00,  8.36828830e-01,\n",
              "         1.43844644e-01, -1.25961913e-01, -1.80703168e-01],\n",
              "       [ 1.11246577e+00,  1.63120889e+00, -2.66786839e-01,\n",
              "         1.07507502e+00, -1.91814148e-01,  3.45679459e-01],\n",
              "       [-7.41741217e-01, -4.21874699e-02,  6.05008649e-02,\n",
              "        -1.57208116e-01, -5.77611392e-01,  1.09163092e-01],\n",
              "       [-3.11912064e-01, -6.35243572e-01,  1.02405189e-02,\n",
              "         1.71363672e-01,  1.27261287e-02, -1.69212696e-02],\n",
              "       [-1.69669089e+00, -3.44363283e-01, -2.53407507e-01,\n",
              "         1.25643278e-02, -5.26606002e-02, -2.71661600e-02],\n",
              "       [-1.24682093e+00, -4.90983662e-01, -3.20938196e-02,\n",
              "        -2.05643780e-01,  2.93505340e-01, -7.80119838e-02],\n",
              "       [-3.38749784e-01, -7.85168589e-01, -4.93584829e-01,\n",
              "         3.98563085e-02, -5.44978619e-01, -1.55371653e-01],\n",
              "       [-2.37415013e+00, -3.86538883e-01,  1.16098392e-01,\n",
              "        -4.53365617e-01, -2.30108300e-01,  2.66983932e-01],\n",
              "       [-1.40327739e+00,  2.11951503e+00, -4.42827141e-01,\n",
              "        -6.32543273e-01,  2.30053526e-01, -2.35615124e-01],\n",
              "       [-1.72610332e+00,  8.82371161e-02,  1.70403663e-01,\n",
              "         2.60901913e-01,  2.33318380e-01,  2.38968449e-01],\n",
              "       [-4.50857480e-01, -1.11329480e-02, -1.75746046e-01,\n",
              "         2.36165626e-01,  2.63250697e-01, -3.14843521e-01],\n",
              "       [ 4.02381405e-02, -1.00920438e+00, -4.96517167e-01,\n",
              "         2.29298758e-01,  4.48031921e-01,  4.93921533e-03],\n",
              "       [ 3.23373034e+00, -3.74580487e-01, -4.95372816e-01,\n",
              "        -5.21237711e-01, -6.39294809e-01, -9.00477852e-02],\n",
              "       [-2.23626502e+00, -3.71793294e-01, -3.98993653e-01,\n",
              "         4.06966479e-01, -4.16760680e-01,  5.06186327e-02],\n",
              "       [ 5.17299212e+00,  7.79915346e-01, -3.85912331e-01,\n",
              "        -2.32211711e-01,  1.79286976e-01, -3.09046943e-02],\n",
              "       [-1.69964377e+00, -3.05597453e-01,  3.18507851e-01,\n",
              "        -2.97462682e-01, -1.63424678e-01,  1.14422592e-01],\n",
              "       [ 4.57814600e+00, -3.47591363e-01,  1.49964176e+00,\n",
              "        -4.54251714e-01, -1.91141971e-01,  1.04149297e-01],\n",
              "       [ 8.22603117e-01, -6.98906146e-01,  1.42781145e+00,\n",
              "         7.60778800e-01,  1.84260335e-01, -2.51103268e-01],\n",
              "       [-9.77621343e-02,  6.50446454e-01,  1.00508440e-01,\n",
              "        -5.00097185e-01,  4.87217823e-01,  2.19242132e-01],\n",
              "       [ 1.96318260e+00, -2.24767561e-01, -2.55881433e-01,\n",
              "        -4.84741049e-02,  8.22745655e-01,  1.52246521e-01],\n",
              "       [-5.42288939e-01, -7.95888376e-02, -3.05393475e-01,\n",
              "         1.31698758e-01,  5.27399148e-02, -3.67264440e-02],\n",
              "       [ 5.32220920e-01, -1.01716720e+00, -4.23716362e-01,\n",
              "         1.69535706e-01,  3.57813210e-01, -6.60989993e-02],\n",
              "       [ 3.54869664e+00,  7.78461666e-01, -4.49363319e-01,\n",
              "         3.23678618e-01, -3.58332564e-01, -7.74564151e-02],\n",
              "       [-2.30590032e+00, -1.17704318e-01,  2.53988661e-01,\n",
              "        -5.16183372e-01,  5.58940129e-02, -1.07932007e-02]])"
            ]
          },
          "metadata": {},
          "execution_count": 15
        }
      ]
    },
    {
      "cell_type": "code",
      "metadata": {
        "id": "HrzykUu7Olsp"
      },
      "source": [
        "# we can give how many number of PC we want\n",
        "#pca = PCA(n_components = 5)\n",
        "#pca_values = pca.fit_transform(uni_normal)"
      ],
      "execution_count": 12,
      "outputs": []
    },
    {
      "cell_type": "code",
      "metadata": {
        "id": "_lGPjWVlOlsq",
        "colab": {
          "base_uri": "https://localhost:8080/"
        },
        "outputId": "f8b74941-6122-4df2-e3a5-3c336c91d81c"
      },
      "source": [
        "# The amount of variance that each PCA explains is \n",
        "var = pca.explained_variance_ratio_\n",
        "var"
      ],
      "execution_count": 16,
      "outputs": [
        {
          "output_type": "execute_result",
          "data": {
            "text/plain": [
              "array([0.76868084, 0.13113602, 0.04776031, 0.02729668, 0.0207177 ,\n",
              "       0.00440844])"
            ]
          },
          "metadata": {},
          "execution_count": 16
        }
      ]
    },
    {
      "cell_type": "code",
      "metadata": {
        "id": "_LEJQvitOlsr",
        "colab": {
          "base_uri": "https://localhost:8080/"
        },
        "outputId": "0d5555be-4028-4b43-8992-08ed4908ef6c"
      },
      "source": [
        "# Cumulative variance \n",
        "var1 = np.cumsum(np.round(var,decimals = 4)*100)\n",
        "var1"
      ],
      "execution_count": 17,
      "outputs": [
        {
          "output_type": "execute_result",
          "data": {
            "text/plain": [
              "array([ 76.87,  89.98,  94.76,  97.49,  99.56, 100.  ])"
            ]
          },
          "metadata": {},
          "execution_count": 17
        }
      ]
    },
    {
      "cell_type": "code",
      "metadata": {
        "id": "By4ohy-rOlss",
        "colab": {
          "base_uri": "https://localhost:8080/"
        },
        "outputId": "df7134da-6d6a-4274-ed38-1104cb75ecd8"
      },
      "source": [
        "pca.components_"
      ],
      "execution_count": 18,
      "outputs": [
        {
          "output_type": "execute_result",
          "data": {
            "text/plain": [
              "array([[-0.45774863, -0.42714437,  0.42430805,  0.39064831, -0.36252316,\n",
              "        -0.37940403],\n",
              "       [ 0.03968044, -0.19993153,  0.32089297, -0.43256441,  0.6344864 ,\n",
              "        -0.51555367],\n",
              "       [ 0.1870388 ,  0.49780855, -0.15627899,  0.60608085,  0.20474114,\n",
              "        -0.53247261],\n",
              "       [ 0.13124033,  0.37489567,  0.0612872 , -0.50739095, -0.62340055,\n",
              "        -0.43863341],\n",
              "       [ 0.02064583,  0.4820162 ,  0.8010936 ,  0.07682369,  0.07254775,\n",
              "         0.33810965],\n",
              "       [ 0.8580547 , -0.39607492,  0.21693361,  0.1720479 , -0.17376309,\n",
              "        -0.00353754]])"
            ]
          },
          "metadata": {},
          "execution_count": 18
        }
      ]
    },
    {
      "cell_type": "code",
      "metadata": {
        "id": "YJhWRAw5Olss",
        "colab": {
          "base_uri": "https://localhost:8080/",
          "height": 282
        },
        "outputId": "ae752294-a269-4529-9df0-004f8872d83a"
      },
      "source": [
        "# Variance plot for PCA components obtained \n",
        "plt.plot(var1,color=\"red\")"
      ],
      "execution_count": 19,
      "outputs": [
        {
          "output_type": "execute_result",
          "data": {
            "text/plain": [
              "[<matplotlib.lines.Line2D at 0x7fcdb9258290>]"
            ]
          },
          "metadata": {},
          "execution_count": 19
        },
        {
          "output_type": "display_data",
          "data": {
            "image/png": "[encoded data removed]",
            "text/plain": [
              "<Figure size 432x288 with 1 Axes>"
            ]
          },
          "metadata": {
            "needs_background": "light"
          }
        }
      ]
    },
    {
      "cell_type": "code",
      "metadata": {
        "id": "g0vv8StUOlst",
        "colab": {
          "base_uri": "https://localhost:8080/"
        },
        "outputId": "5a46fabe-86f1-42dc-a0bd-8b88a5e3a598"
      },
      "source": [
        "pca_values[:,0:1]"
      ],
      "execution_count": 20,
      "outputs": [
        {
          "output_type": "execute_result",
          "data": {
            "text/plain": [
              "array([[-1.00987445],\n",
              "       [-2.82223781],\n",
              "       [ 1.11246577],\n",
              "       [-0.74174122],\n",
              "       [-0.31191206],\n",
              "       [-1.69669089],\n",
              "       [-1.24682093],\n",
              "       [-0.33874978],\n",
              "       [-2.37415013],\n",
              "       [-1.40327739],\n",
              "       [-1.72610332],\n",
              "       [-0.45085748],\n",
              "       [ 0.04023814],\n",
              "       [ 3.23373034],\n",
              "       [-2.23626502],\n",
              "       [ 5.17299212],\n",
              "       [-1.69964377],\n",
              "       [ 4.578146  ],\n",
              "       [ 0.82260312],\n",
              "       [-0.09776213],\n",
              "       [ 1.9631826 ],\n",
              "       [-0.54228894],\n",
              "       [ 0.53222092],\n",
              "       [ 3.54869664],\n",
              "       [-2.30590032]])"
            ]
          },
          "metadata": {},
          "execution_count": 20
        }
      ]
    },
    {
      "cell_type": "code",
      "metadata": {
        "id": "_LHjGNXcOlst",
        "colab": {
          "base_uri": "https://localhost:8080/",
          "height": 282
        },
        "outputId": "3c7dc3fc-f2cf-44e7-daa0-54b9a65c66da"
      },
      "source": [
        "# plot between PCA1 and PCA2 \n",
        "x = pca_values[:,0:1]\n",
        "y = pca_values[:,1:2]\n",
        "#z = pca_values[:2:3]\n",
        "plt.scatter(x,y)"
      ],
      "execution_count": 21,
      "outputs": [
        {
          "output_type": "execute_result",
          "data": {
            "text/plain": [
              "<matplotlib.collections.PathCollection at 0x7fcdb8cfc5d0>"
            ]
          },
          "metadata": {},
          "execution_count": 21
        },
        {
          "output_type": "display_data",
          "data": {
            "image/png": "[encoded data removed]",
            "text/plain": [
              "<Figure size 432x288 with 1 Axes>"
            ]
          },
          "metadata": {
            "needs_background": "light"
          }
        }
      ]
    },
    {
      "cell_type": "code",
      "metadata": {
        "id": "2EXty5MqOlsu"
      },
      "source": [
        "finalDf = pd.concat([pd.DataFrame(pca_values[:,0:2],columns=['pc1','pc2']), uni[['Univ']]], axis = 1)"
      ],
      "execution_count": 22,
      "outputs": []
    },
    {
      "cell_type": "code",
      "metadata": {
        "id": "dn1lhBcJQL00",
        "colab": {
          "base_uri": "https://localhost:8080/",
          "height": 824
        },
        "outputId": "c210fbff-8299-46ee-8d17-34c99f11f284"
      },
      "source": [
        "finalDf"
      ],
      "execution_count": 23,
      "outputs": [
        {
          "output_type": "execute_result",
          "data": {
            "text/html": [
              "<div>\n",
              "<style scoped>\n",
              "    .dataframe tbody tr th:only-of-type {\n",
              "        vertical-align: middle;\n",
              "    }\n",
              "\n",
              "    .dataframe tbody tr th {\n",
              "        vertical-align: top;\n",
              "    }\n",
              "\n",
              "    .dataframe thead th {\n",
              "        text-align: right;\n",
              "    }\n",
              "</style>\n",
              "<table border=\"1\" class=\"dataframe\">\n",
              "  <thead>\n",
              "    <tr style=\"text-align: right;\">\n",
              "      <th></th>\n",
              "      <th>pc1</th>\n",
              "      <th>pc2</th>\n",
              "      <th>Univ</th>\n",
              "    </tr>\n",
              "  </thead>\n",
              "  <tbody>\n",
              "    <tr>\n",
              "      <th>0</th>\n",
              "      <td>-1.009874</td>\n",
              "      <td>-1.064310</td>\n",
              "      <td>Brown</td>\n",
              "    </tr>\n",
              "    <tr>\n",
              "      <th>1</th>\n",
              "      <td>-2.822238</td>\n",
              "      <td>2.259045</td>\n",
              "      <td>CalTech</td>\n",
              "    </tr>\n",
              "    <tr>\n",
              "      <th>2</th>\n",
              "      <td>1.112466</td>\n",
              "      <td>1.631209</td>\n",
              "      <td>CMU</td>\n",
              "    </tr>\n",
              "    <tr>\n",
              "      <th>3</th>\n",
              "      <td>-0.741741</td>\n",
              "      <td>-0.042187</td>\n",
              "      <td>Columbia</td>\n",
              "    </tr>\n",
              "    <tr>\n",
              "      <th>4</th>\n",
              "      <td>-0.311912</td>\n",
              "      <td>-0.635244</td>\n",
              "      <td>Cornell</td>\n",
              "    </tr>\n",
              "    <tr>\n",
              "      <th>5</th>\n",
              "      <td>-1.696691</td>\n",
              "      <td>-0.344363</td>\n",
              "      <td>Dartmouth</td>\n",
              "    </tr>\n",
              "    <tr>\n",
              "      <th>6</th>\n",
              "      <td>-1.246821</td>\n",
              "      <td>-0.490984</td>\n",
              "      <td>Duke</td>\n",
              "    </tr>\n",
              "    <tr>\n",
              "      <th>7</th>\n",
              "      <td>-0.338750</td>\n",
              "      <td>-0.785169</td>\n",
              "      <td>Georgetown</td>\n",
              "    </tr>\n",
              "    <tr>\n",
              "      <th>8</th>\n",
              "      <td>-2.374150</td>\n",
              "      <td>-0.386539</td>\n",
              "      <td>Harvard</td>\n",
              "    </tr>\n",
              "    <tr>\n",
              "      <th>9</th>\n",
              "      <td>-1.403277</td>\n",
              "      <td>2.119515</td>\n",
              "      <td>JohnsHopkins</td>\n",
              "    </tr>\n",
              "    <tr>\n",
              "      <th>10</th>\n",
              "      <td>-1.726103</td>\n",
              "      <td>0.088237</td>\n",
              "      <td>MIT</td>\n",
              "    </tr>\n",
              "    <tr>\n",
              "      <th>11</th>\n",
              "      <td>-0.450857</td>\n",
              "      <td>-0.011133</td>\n",
              "      <td>Northwestern</td>\n",
              "    </tr>\n",
              "    <tr>\n",
              "      <th>12</th>\n",
              "      <td>0.040238</td>\n",
              "      <td>-1.009204</td>\n",
              "      <td>NotreDame</td>\n",
              "    </tr>\n",
              "    <tr>\n",
              "      <th>13</th>\n",
              "      <td>3.233730</td>\n",
              "      <td>-0.374580</td>\n",
              "      <td>PennState</td>\n",
              "    </tr>\n",
              "    <tr>\n",
              "      <th>14</th>\n",
              "      <td>-2.236265</td>\n",
              "      <td>-0.371793</td>\n",
              "      <td>Princeton</td>\n",
              "    </tr>\n",
              "    <tr>\n",
              "      <th>15</th>\n",
              "      <td>5.172992</td>\n",
              "      <td>0.779915</td>\n",
              "      <td>Purdue</td>\n",
              "    </tr>\n",
              "    <tr>\n",
              "      <th>16</th>\n",
              "      <td>-1.699644</td>\n",
              "      <td>-0.305597</td>\n",
              "      <td>Stanford</td>\n",
              "    </tr>\n",
              "    <tr>\n",
              "      <th>17</th>\n",
              "      <td>4.578146</td>\n",
              "      <td>-0.347591</td>\n",
              "      <td>TexasA&amp;M</td>\n",
              "    </tr>\n",
              "    <tr>\n",
              "      <th>18</th>\n",
              "      <td>0.822603</td>\n",
              "      <td>-0.698906</td>\n",
              "      <td>UCBerkeley</td>\n",
              "    </tr>\n",
              "    <tr>\n",
              "      <th>19</th>\n",
              "      <td>-0.097762</td>\n",
              "      <td>0.650446</td>\n",
              "      <td>UChicago</td>\n",
              "    </tr>\n",
              "    <tr>\n",
              "      <th>20</th>\n",
              "      <td>1.963183</td>\n",
              "      <td>-0.224768</td>\n",
              "      <td>UMichigan</td>\n",
              "    </tr>\n",
              "    <tr>\n",
              "      <th>21</th>\n",
              "      <td>-0.542289</td>\n",
              "      <td>-0.079589</td>\n",
              "      <td>UPenn</td>\n",
              "    </tr>\n",
              "    <tr>\n",
              "      <th>22</th>\n",
              "      <td>0.532221</td>\n",
              "      <td>-1.017167</td>\n",
              "      <td>UVA</td>\n",
              "    </tr>\n",
              "    <tr>\n",
              "      <th>23</th>\n",
              "      <td>3.548697</td>\n",
              "      <td>0.778462</td>\n",
              "      <td>UWisconsin</td>\n",
              "    </tr>\n",
              "    <tr>\n",
              "      <th>24</th>\n",
              "      <td>-2.305900</td>\n",
              "      <td>-0.117704</td>\n",
              "      <td>Yale</td>\n",
              "    </tr>\n",
              "  </tbody>\n",
              "</table>\n",
              "</div>"
            ],
            "text/plain": [
              "         pc1       pc2          Univ\n",
              "0  -1.009874 -1.064310         Brown\n",
              "1  -2.822238  2.259045       CalTech\n",
              "2   1.112466  1.631209           CMU\n",
              "3  -0.741741 -0.042187      Columbia\n",
              "4  -0.311912 -0.635244       Cornell\n",
              "5  -1.696691 -0.344363     Dartmouth\n",
              "6  -1.246821 -0.490984          Duke\n",
              "7  -0.338750 -0.785169    Georgetown\n",
              "8  -2.374150 -0.386539       Harvard\n",
              "9  -1.403277  2.119515  JohnsHopkins\n",
              "10 -1.726103  0.088237           MIT\n",
              "11 -0.450857 -0.011133  Northwestern\n",
              "12  0.040238 -1.009204     NotreDame\n",
              "13  3.233730 -0.374580     PennState\n",
              "14 -2.236265 -0.371793     Princeton\n",
              "15  5.172992  0.779915        Purdue\n",
              "16 -1.699644 -0.305597      Stanford\n",
              "17  4.578146 -0.347591      TexasA&M\n",
              "18  0.822603 -0.698906    UCBerkeley\n",
              "19 -0.097762  0.650446      UChicago\n",
              "20  1.963183 -0.224768     UMichigan\n",
              "21 -0.542289 -0.079589         UPenn\n",
              "22  0.532221 -1.017167           UVA\n",
              "23  3.548697  0.778462    UWisconsin\n",
              "24 -2.305900 -0.117704          Yale"
            ]
          },
          "metadata": {},
          "execution_count": 23
        }
      ]
    },
    {
      "cell_type": "code",
      "metadata": {
        "id": "5jA1GSTdOlsu",
        "colab": {
          "base_uri": "https://localhost:8080/",
          "height": 514
        },
        "outputId": "825762d4-c081-43d2-c88b-3a48b14d13c2"
      },
      "source": [
        "import seaborn as sns\n",
        "plt.figure(figsize=(12,8))\n",
        "sns.scatterplot(data=finalDf,x='pc1',y='pc2',hue='Univ')"
      ],
      "execution_count": 28,
      "outputs": [
        {
          "output_type": "execute_result",
          "data": {
            "text/plain": [
              "<matplotlib.axes._subplots.AxesSubplot at 0x7fcdb7266a10>"
            ]
          },
          "metadata": {},
          "execution_count": 28
        },
        {
          "output_type": "display_data",
          "data": {
            "image/png": "[encoded data removed]",
            "text/plain": [
              "<Figure size 864x576 with 1 Axes>"
            ]
          },
          "metadata": {
            "needs_background": "light"
          }
        }
      ]
    },
    {
      "cell_type": "code",
      "metadata": {
        "id": "t68bA84PQVld"
      },
      "source": [
        ""
      ],
      "execution_count": null,
      "outputs": []
    }
  ]
}