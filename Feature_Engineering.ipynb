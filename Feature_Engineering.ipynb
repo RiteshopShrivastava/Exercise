{
  "nbformat": 4,
  "nbformat_minor": 0,
  "metadata": {
    "colab": {
      "name": "Feature Engineering.ipynb",
      "provenance": [],
      "collapsed_sections": [],
      "authorship_tag": "ABX9TyNSCakMBSj/Ql6NcgEnR63v",
      "include_colab_link": true
    },
    "kernelspec": {
      "name": "python3",
      "display_name": "Python 3"
    },
    "language_info": {
      "name": "python"
    }
  },
  "cells": [
    {
      "cell_type": "markdown",
      "metadata": {
        "id": "view-in-github",
        "colab_type": "text"
      },
      "source": [
        "<a href=\"https://colab.research.google.com/github/RiteshopShrivastava/Python/blob/main/Feature_Engineering.ipynb\" target=\"_parent\"><img src=\"https://colab.research.google.com/assets/colab-badge.svg\" alt=\"Open In Colab\"/></a>"
      ]
    },
    {
      "cell_type": "markdown",
      "metadata": {
        "id": "d_VtimsiBPBy"
      },
      "source": [
        "**Univariate feature selection**"
      ]
    },
    {
      "cell_type": "code",
      "metadata": {
        "colab": {
          "base_uri": "https://localhost:8080/"
        },
        "id": "2_qPM2ups1Sa",
        "outputId": "9dc31885-2b7c-4ede-a950-098b0fe7bc9e"
      },
      "source": [
        "# Feature Extraction with Univariate Statistical Tests (Chi-squared for classification)\n",
        "import pandas as pd\n",
        "import numpy as np\n",
        "from sklearn.feature_selection import SelectKBest\n",
        "from sklearn.feature_selection import chi2\n",
        "from sklearn.feature_selection import f_classif \n",
        "# load data\n",
        "filename = ('pima-indians-diabetes.data.csv')\n",
        "column = ['preg', 'plas', 'pres', 'skin', 'test', 'mass', 'pedi', 'age', 'class']\n",
        "dataframe = pd.read_csv(filename, names=column)\n",
        "array = dataframe.values\n",
        "X= array[:,0:8]\n",
        "Y = array[:,8]\n",
        "# feature extraction\n",
        "model_UV = SelectKBest(score_func =chi2, k=6 )\n",
        "fit = model_UV.fit(X,Y)\n",
        "# Summary scores\n",
        "np.set_printoptions(precision=3)\n",
        "print(fit.scores_)\n",
        "#features = fit.transform(X)\n",
        "\n",
        "#test = SelectKBest(score_func =f_classif, k=4 )\n",
        "#fit1 = test.fit(X,Y)\n",
        "#print(fit1.scores_)"
      ],
      "execution_count": 2,
      "outputs": [
        {
          "output_type": "stream",
          "name": "stdout",
          "text": [
            "[ 111.52  1411.887   17.605   53.108 2175.565  127.669    5.393  181.304]\n"
          ]
        }
      ]
    },
    {
      "cell_type": "markdown",
      "metadata": {
        "id": "nfxoXzWkHaRd"
      },
      "source": [
        "from above output 'test' (2175.565), 'plas'(1411.887), 'class' (181.304) and 'pedi' (127.669) are most important features"
      ]
    },
    {
      "cell_type": "markdown",
      "metadata": {
        "id": "gzLrSinvB_Fk"
      },
      "source": [
        "**Recursive Feature Elimination**"
      ]
    },
    {
      "cell_type": "code",
      "metadata": {
        "colab": {
          "base_uri": "https://localhost:8080/"
        },
        "id": "UUU2LdVTBlWZ",
        "outputId": "1f707e20-ce81-4696-9a9a-791e357a4ca1"
      },
      "source": [
        "# Feature Extraction with RFE\n",
        "import pandas as pd\n",
        "import numpy as np\n",
        "from sklearn.feature_selection import RFE\n",
        "from sklearn.linear_model import LogisticRegression\n",
        "# load data\n",
        "filename = 'pima-indians-diabetes.data.csv'\n",
        "column = ['preg', 'plas', 'pres', 'skin', 'test', 'mass', 'pedi', 'age', 'class']\n",
        "dataframe_RFE = pd.read_csv(filename,names=column)\n",
        "array = dataframe_RFE.values\n",
        "X= array[:, 0:8]\n",
        "Y = array[:,8]\n",
        "# feature extraction\n",
        "#model = LogisticRegression(max_iter=200)                  # put max_itr= 200(more than 100), else will give error\n",
        "model_rfe = RFE(LogisticRegression(max_iter=200), 3)       # 3 means no of features to be identified\n",
        "fit = model_rfe.fit(X,Y)\n",
        "print(fit.n_features_)\n",
        "print(fit.support_)\n",
        "print(fit.ranking_)\n"
      ],
      "execution_count": 3,
      "outputs": [
        {
          "output_type": "stream",
          "name": "stdout",
          "text": [
            "3\n",
            "[ True False False False False  True  True False]\n",
            "[1 2 4 6 5 1 1 3]\n"
          ]
        }
      ]
    },
    {
      "cell_type": "markdown",
      "metadata": {
        "id": "dHZ1-a3hG_D4"
      },
      "source": [
        "From above output we can say,preg,mass,pedi are most important feature"
      ]
    },
    {
      "cell_type": "markdown",
      "metadata": {
        "id": "jWRbcZFuI8Ra"
      },
      "source": [
        "**Feature Importance using Decision Tree**"
      ]
    },
    {
      "cell_type": "code",
      "metadata": {
        "colab": {
          "base_uri": "https://localhost:8080/"
        },
        "id": "JzglVeDeCDvf",
        "outputId": "55c6284f-de13-4036-c93f-1f0bef840a21"
      },
      "source": [
        "import pandas as pd\n",
        "import numpy as np\n",
        "from sklearn.tree import DecisionTreeClassifier\n",
        "filename = 'pima-indians-diabetes.data.csv'\n",
        "column_name = ['preg', 'plas', 'pres', 'skin', 'test', 'mass', 'pedi', 'age', 'class']\n",
        "dataframe_DT = pd.read_csv(filename, names= column_name)\n",
        "array = dataframe_DT.values\n",
        "X= array [:,0:8]\n",
        "Y = array [:, 8]\n",
        "# Feature extraction\n",
        "model_DT = DecisionTreeClassifier()\n",
        "fit = model_DT.fit(X,Y)\n",
        "print(fit.feature_importances_)"
      ],
      "execution_count": 4,
      "outputs": [
        {
          "output_type": "stream",
          "name": "stdout",
          "text": [
            "[0.051 0.329 0.097 0.009 0.053 0.215 0.138 0.109]\n"
          ]
        }
      ]
    },
    {
      "cell_type": "markdown",
      "metadata": {
        "id": "NzDx1X14HCKZ"
      },
      "source": [
        ""
      ]
    }
  ]
}