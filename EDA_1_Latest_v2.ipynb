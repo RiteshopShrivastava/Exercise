{
  "nbformat": 4,
  "nbformat_minor": 0,
  "metadata": {
    "kernelspec": {
      "display_name": "Python 3",
      "language": "python",
      "name": "python3"
    },
    "language_info": {
      "codemirror_mode": {
        "name": "ipython",
        "version": 3
      },
      "file_extension": ".py",
      "mimetype": "text/x-python",
      "name": "python",
      "nbconvert_exporter": "python",
      "pygments_lexer": "ipython3",
      "version": "3.7.3"
    },
    "varInspector": {
      "cols": {
        "lenName": 16,
        "lenType": 16,
        "lenVar": 40
      },
      "kernels_config": {
        "python": {
          "delete_cmd_postfix": "",
          "delete_cmd_prefix": "del ",
          "library": "var_list.py",
          "varRefreshCmd": "print(var_dic_list())"
        },
        "r": {
          "delete_cmd_postfix": ") ",
          "delete_cmd_prefix": "rm(",
          "library": "var_list.r",
          "varRefreshCmd": "cat(var_dic_list()) "
        }
      },
      "types_to_exclude": [
        "module",
        "function",
        "builtin_function_or_method",
        "instance",
        "_Feature"
      ],
      "window_display": false
    },
    "colab": {
      "name": "EDA_1_Latest_v2.ipynb",
      "provenance": [],
      "collapsed_sections": [],
      "include_colab_link": true
    },
    "widgets": {
      "application/vnd.jupyter.widget-state+json": {
        "96d48ef3374449e2a756d4e697b2538d": {
          "model_module": "@jupyter-widgets/controls",
          "model_name": "HBoxModel",
          "model_module_version": "1.5.0",
          "state": {
            "_view_name": "HBoxView",
            "_dom_classes": [],
            "_model_name": "HBoxModel",
            "_view_module": "@jupyter-widgets/controls",
            "_model_module_version": "1.5.0",
            "_view_count": null,
            "_view_module_version": "1.5.0",
            "box_style": "",
            "layout": "IPY_MODEL_c49c9aa60604431aa77c1c1378b52702",
            "_model_module": "@jupyter-widgets/controls",
            "children": [
              "IPY_MODEL_57df50e3ead944ae8d635bccd4254d36",
              "IPY_MODEL_c2009dd70d52433fb26ac9d803cda080",
              "IPY_MODEL_e9e779f6d4a64b8eaae92b8198779aa2"
            ]
          }
        },
        "c49c9aa60604431aa77c1c1378b52702": {
          "model_module": "@jupyter-widgets/base",
          "model_name": "LayoutModel",
          "model_module_version": "1.2.0",
          "state": {
            "_view_name": "LayoutView",
            "grid_template_rows": null,
            "right": null,
            "justify_content": null,
            "_view_module": "@jupyter-widgets/base",
            "overflow": null,
            "_model_module_version": "1.2.0",
            "_view_count": null,
            "flex_flow": "row wrap",
            "width": "100%",
            "min_width": null,
            "border": null,
            "align_items": null,
            "bottom": null,
            "_model_module": "@jupyter-widgets/base",
            "top": null,
            "grid_column": null,
            "overflow_y": null,
            "overflow_x": null,
            "grid_auto_flow": null,
            "grid_area": null,
            "grid_template_columns": null,
            "flex": null,
            "_model_name": "LayoutModel",
            "justify_items": null,
            "grid_row": null,
            "max_height": null,
            "align_content": null,
            "visibility": null,
            "align_self": null,
            "height": null,
            "min_height": null,
            "padding": null,
            "grid_auto_rows": null,
            "grid_gap": null,
            "max_width": null,
            "order": null,
            "_view_module_version": "1.2.0",
            "grid_template_areas": null,
            "object_position": null,
            "object_fit": null,
            "grid_auto_columns": null,
            "margin": null,
            "display": "inline-flex",
            "left": null
          }
        },
        "57df50e3ead944ae8d635bccd4254d36": {
          "model_module": "@jupyter-widgets/controls",
          "model_name": "HTMLModel",
          "model_module_version": "1.5.0",
          "state": {
            "_view_name": "HTMLView",
            "style": "IPY_MODEL_ff74fdc62510426d9ca8fe2227a3ad08",
            "_dom_classes": [],
            "description": "",
            "_model_name": "HTMLModel",
            "placeholder": "​",
            "_view_module": "@jupyter-widgets/controls",
            "_model_module_version": "1.5.0",
            "value": "Done! Use &#x27;show&#x27; commands to display/save.   ",
            "_view_count": null,
            "_view_module_version": "1.5.0",
            "description_tooltip": null,
            "_model_module": "@jupyter-widgets/controls",
            "layout": "IPY_MODEL_fc7c68b7a9b644399665bac0b36e7e20"
          }
        },
        "c2009dd70d52433fb26ac9d803cda080": {
          "model_module": "@jupyter-widgets/controls",
          "model_name": "FloatProgressModel",
          "model_module_version": "1.5.0",
          "state": {
            "_view_name": "ProgressView",
            "style": "IPY_MODEL_5c4f305e46bd4947975bdf744f3b2144",
            "_dom_classes": [],
            "description": "",
            "_model_name": "FloatProgressModel",
            "bar_style": "success",
            "max": 1,
            "_view_module": "@jupyter-widgets/controls",
            "_model_module_version": "1.5.0",
            "value": 1,
            "_view_count": null,
            "_view_module_version": "1.5.0",
            "orientation": "horizontal",
            "min": 0,
            "description_tooltip": null,
            "_model_module": "@jupyter-widgets/controls",
            "layout": "IPY_MODEL_3bb5db72016b4898b17651d1a045a5a2"
          }
        },
        "e9e779f6d4a64b8eaae92b8198779aa2": {
          "model_module": "@jupyter-widgets/controls",
          "model_name": "HTMLModel",
          "model_module_version": "1.5.0",
          "state": {
            "_view_name": "HTMLView",
            "style": "IPY_MODEL_70cf5a96aaa9458cb122c361059eb245",
            "_dom_classes": [],
            "description": "",
            "_model_name": "HTMLModel",
            "placeholder": "​",
            "_view_module": "@jupyter-widgets/controls",
            "_model_module_version": "1.5.0",
            "value": " [100%]   00:00 -&gt; (00:00 left)",
            "_view_count": null,
            "_view_module_version": "1.5.0",
            "description_tooltip": null,
            "_model_module": "@jupyter-widgets/controls",
            "layout": "IPY_MODEL_84c7fc51b1194d988ee31d796a5e66aa"
          }
        },
        "ff74fdc62510426d9ca8fe2227a3ad08": {
          "model_module": "@jupyter-widgets/controls",
          "model_name": "DescriptionStyleModel",
          "model_module_version": "1.5.0",
          "state": {
            "_view_name": "StyleView",
            "_model_name": "DescriptionStyleModel",
            "description_width": "",
            "_view_module": "@jupyter-widgets/base",
            "_model_module_version": "1.5.0",
            "_view_count": null,
            "_view_module_version": "1.2.0",
            "_model_module": "@jupyter-widgets/controls"
          }
        },
        "fc7c68b7a9b644399665bac0b36e7e20": {
          "model_module": "@jupyter-widgets/base",
          "model_name": "LayoutModel",
          "model_module_version": "1.2.0",
          "state": {
            "_view_name": "LayoutView",
            "grid_template_rows": null,
            "right": null,
            "justify_content": null,
            "_view_module": "@jupyter-widgets/base",
            "overflow": null,
            "_model_module_version": "1.2.0",
            "_view_count": null,
            "flex_flow": null,
            "width": null,
            "min_width": null,
            "border": null,
            "align_items": null,
            "bottom": null,
            "_model_module": "@jupyter-widgets/base",
            "top": null,
            "grid_column": null,
            "overflow_y": null,
            "overflow_x": null,
            "grid_auto_flow": null,
            "grid_area": null,
            "grid_template_columns": null,
            "flex": null,
            "_model_name": "LayoutModel",
            "justify_items": null,
            "grid_row": null,
            "max_height": null,
            "align_content": null,
            "visibility": null,
            "align_self": null,
            "height": null,
            "min_height": null,
            "padding": null,
            "grid_auto_rows": null,
            "grid_gap": null,
            "max_width": null,
            "order": null,
            "_view_module_version": "1.2.0",
            "grid_template_areas": null,
            "object_position": null,
            "object_fit": null,
            "grid_auto_columns": null,
            "margin": null,
            "display": null,
            "left": null
          }
        },
        "5c4f305e46bd4947975bdf744f3b2144": {
          "model_module": "@jupyter-widgets/controls",
          "model_name": "ProgressStyleModel",
          "model_module_version": "1.5.0",
          "state": {
            "_view_name": "StyleView",
            "_model_name": "ProgressStyleModel",
            "description_width": "",
            "_view_module": "@jupyter-widgets/base",
            "_model_module_version": "1.5.0",
            "_view_count": null,
            "_view_module_version": "1.2.0",
            "bar_color": null,
            "_model_module": "@jupyter-widgets/controls"
          }
        },
        "3bb5db72016b4898b17651d1a045a5a2": {
          "model_module": "@jupyter-widgets/base",
          "model_name": "LayoutModel",
          "model_module_version": "1.2.0",
          "state": {
            "_view_name": "LayoutView",
            "grid_template_rows": null,
            "right": null,
            "justify_content": null,
            "_view_module": "@jupyter-widgets/base",
            "overflow": null,
            "_model_module_version": "1.2.0",
            "_view_count": null,
            "flex_flow": null,
            "width": null,
            "min_width": null,
            "border": null,
            "align_items": null,
            "bottom": null,
            "_model_module": "@jupyter-widgets/base",
            "top": null,
            "grid_column": null,
            "overflow_y": null,
            "overflow_x": null,
            "grid_auto_flow": null,
            "grid_area": null,
            "grid_template_columns": null,
            "flex": "2",
            "_model_name": "LayoutModel",
            "justify_items": null,
            "grid_row": null,
            "max_height": null,
            "align_content": null,
            "visibility": null,
            "align_self": null,
            "height": null,
            "min_height": null,
            "padding": null,
            "grid_auto_rows": null,
            "grid_gap": null,
            "max_width": null,
            "order": null,
            "_view_module_version": "1.2.0",
            "grid_template_areas": null,
            "object_position": null,
            "object_fit": null,
            "grid_auto_columns": null,
            "margin": null,
            "display": null,
            "left": null
          }
        },
        "70cf5a96aaa9458cb122c361059eb245": {
          "model_module": "@jupyter-widgets/controls",
          "model_name": "DescriptionStyleModel",
          "model_module_version": "1.5.0",
          "state": {
            "_view_name": "StyleView",
            "_model_name": "DescriptionStyleModel",
            "description_width": "",
            "_view_module": "@jupyter-widgets/base",
            "_model_module_version": "1.5.0",
            "_view_count": null,
            "_view_module_version": "1.2.0",
            "_model_module": "@jupyter-widgets/controls"
          }
        },
        "84c7fc51b1194d988ee31d796a5e66aa": {
          "model_module": "@jupyter-widgets/base",
          "model_name": "LayoutModel",
          "model_module_version": "1.2.0",
          "state": {
            "_view_name": "LayoutView",
            "grid_template_rows": null,
            "right": null,
            "justify_content": null,
            "_view_module": "@jupyter-widgets/base",
            "overflow": null,
            "_model_module_version": "1.2.0",
            "_view_count": null,
            "flex_flow": null,
            "width": null,
            "min_width": null,
            "border": null,
            "align_items": null,
            "bottom": null,
            "_model_module": "@jupyter-widgets/base",
            "top": null,
            "grid_column": null,
            "overflow_y": null,
            "overflow_x": null,
            "grid_auto_flow": null,
            "grid_area": null,
            "grid_template_columns": null,
            "flex": null,
            "_model_name": "LayoutModel",
            "justify_items": null,
            "grid_row": null,
            "max_height": null,
            "align_content": null,
            "visibility": null,
            "align_self": null,
            "height": null,
            "min_height": null,
            "padding": null,
            "grid_auto_rows": null,
            "grid_gap": null,
            "max_width": null,
            "order": null,
            "_view_module_version": "1.2.0",
            "grid_template_areas": null,
            "object_position": null,
            "object_fit": null,
            "grid_auto_columns": null,
            "margin": null,
            "display": null,
            "left": null
          }
        }
      }
    }
  },
  "cells": [
    {
      "cell_type": "markdown",
      "metadata": {
        "id": "view-in-github",
        "colab_type": "text"
      },
      "source": [
        "<a href=\"https://colab.research.google.com/github/RiteshopShrivastava/Python/blob/main/EDA_1_Latest_v2.ipynb\" target=\"_parent\"><img src=\"https://colab.research.google.com/assets/colab-badge.svg\" alt=\"Open In Colab\"/></a>"
      ]
    },
    {
      "cell_type": "markdown",
      "metadata": {
        "id": "f0H8GaBivjnZ"
      },
      "source": [
        "# Exploratory Data Analysis"
      ]
    },
    {
      "cell_type": "code",
      "metadata": {
        "colab": {
          "base_uri": "https://localhost:8080/"
        },
        "id": "UAeojA9Kvjnh",
        "outputId": "15de055c-3a7e-4484-9aad-32afa231c666"
      },
      "source": [
        "!pip install pandas_profiling\n",
        "!pip install sweetviz"
      ],
      "execution_count": 2,
      "outputs": [
        {
          "output_type": "stream",
          "name": "stdout",
          "text": [
            "Requirement already satisfied: pandas_profiling in /usr/local/lib/python3.7/dist-packages (1.4.1)\n",
            "Requirement already satisfied: pandas>=0.19 in /usr/local/lib/python3.7/dist-packages (from pandas_profiling) (1.1.5)\n",
            "Requirement already satisfied: jinja2>=2.8 in /usr/local/lib/python3.7/dist-packages (from pandas_profiling) (2.11.3)\n",
            "Requirement already satisfied: matplotlib>=1.4 in /usr/local/lib/python3.7/dist-packages (from pandas_profiling) (3.2.2)\n",
            "Requirement already satisfied: six>=1.9 in /usr/local/lib/python3.7/dist-packages (from pandas_profiling) (1.15.0)\n",
            "Requirement already satisfied: MarkupSafe>=0.23 in /usr/local/lib/python3.7/dist-packages (from jinja2>=2.8->pandas_profiling) (2.0.1)\n",
            "Requirement already satisfied: pyparsing!=2.0.4,!=2.1.2,!=2.1.6,>=2.0.1 in /usr/local/lib/python3.7/dist-packages (from matplotlib>=1.4->pandas_profiling) (2.4.7)\n",
            "Requirement already satisfied: python-dateutil>=2.1 in /usr/local/lib/python3.7/dist-packages (from matplotlib>=1.4->pandas_profiling) (2.8.2)\n",
            "Requirement already satisfied: numpy>=1.11 in /usr/local/lib/python3.7/dist-packages (from matplotlib>=1.4->pandas_profiling) (1.19.5)\n",
            "Requirement already satisfied: cycler>=0.10 in /usr/local/lib/python3.7/dist-packages (from matplotlib>=1.4->pandas_profiling) (0.10.0)\n",
            "Requirement already satisfied: kiwisolver>=1.0.1 in /usr/local/lib/python3.7/dist-packages (from matplotlib>=1.4->pandas_profiling) (1.3.2)\n",
            "Requirement already satisfied: pytz>=2017.2 in /usr/local/lib/python3.7/dist-packages (from pandas>=0.19->pandas_profiling) (2018.9)\n",
            "Collecting sweetviz\n",
            "  Downloading sweetviz-2.1.3-py3-none-any.whl (15.1 MB)\n",
            "\u001b[K     |████████████████████████████████| 15.1 MB 188 kB/s \n",
            "\u001b[?25hRequirement already satisfied: pandas!=1.0.0,!=1.0.1,!=1.0.2,>=0.25.3 in /usr/local/lib/python3.7/dist-packages (from sweetviz) (1.1.5)\n",
            "Requirement already satisfied: matplotlib>=3.1.3 in /usr/local/lib/python3.7/dist-packages (from sweetviz) (3.2.2)\n",
            "Requirement already satisfied: importlib-resources>=1.2.0 in /usr/local/lib/python3.7/dist-packages (from sweetviz) (5.2.2)\n",
            "Requirement already satisfied: jinja2>=2.11.1 in /usr/local/lib/python3.7/dist-packages (from sweetviz) (2.11.3)\n",
            "Requirement already satisfied: numpy>=1.16.0 in /usr/local/lib/python3.7/dist-packages (from sweetviz) (1.19.5)\n",
            "Requirement already satisfied: scipy>=1.3.2 in /usr/local/lib/python3.7/dist-packages (from sweetviz) (1.4.1)\n",
            "Requirement already satisfied: tqdm>=4.43.0 in /usr/local/lib/python3.7/dist-packages (from sweetviz) (4.62.3)\n",
            "Requirement already satisfied: zipp>=3.1.0 in /usr/local/lib/python3.7/dist-packages (from importlib-resources>=1.2.0->sweetviz) (3.6.0)\n",
            "Requirement already satisfied: MarkupSafe>=0.23 in /usr/local/lib/python3.7/dist-packages (from jinja2>=2.11.1->sweetviz) (2.0.1)\n",
            "Requirement already satisfied: kiwisolver>=1.0.1 in /usr/local/lib/python3.7/dist-packages (from matplotlib>=3.1.3->sweetviz) (1.3.2)\n",
            "Requirement already satisfied: cycler>=0.10 in /usr/local/lib/python3.7/dist-packages (from matplotlib>=3.1.3->sweetviz) (0.10.0)\n",
            "Requirement already satisfied: python-dateutil>=2.1 in /usr/local/lib/python3.7/dist-packages (from matplotlib>=3.1.3->sweetviz) (2.8.2)\n",
            "Requirement already satisfied: pyparsing!=2.0.4,!=2.1.2,!=2.1.6,>=2.0.1 in /usr/local/lib/python3.7/dist-packages (from matplotlib>=3.1.3->sweetviz) (2.4.7)\n",
            "Requirement already satisfied: six in /usr/local/lib/python3.7/dist-packages (from cycler>=0.10->matplotlib>=3.1.3->sweetviz) (1.15.0)\n",
            "Requirement already satisfied: pytz>=2017.2 in /usr/local/lib/python3.7/dist-packages (from pandas!=1.0.0,!=1.0.1,!=1.0.2,>=0.25.3->sweetviz) (2018.9)\n",
            "Installing collected packages: sweetviz\n",
            "Successfully installed sweetviz-2.1.3\n"
          ]
        }
      ]
    },
    {
      "cell_type": "code",
      "metadata": {
        "ExecuteTime": {
          "end_time": "2020-10-30T02:57:04.647329Z",
          "start_time": "2020-10-30T02:57:04.605920Z"
        },
        "id": "QXHo-94pvjnj"
      },
      "source": [
        "#load the libraries\n",
        "import pandas as pd\n",
        "import numpy as np\n",
        "import matplotlib.pyplot as plt"
      ],
      "execution_count": 154,
      "outputs": []
    },
    {
      "cell_type": "code",
      "metadata": {
        "ExecuteTime": {
          "end_time": "2020-10-30T02:57:07.068255Z",
          "start_time": "2020-10-30T02:57:06.907173Z"
        },
        "id": "mCRrm5yYvjnl"
      },
      "source": [
        "data1 = pd.read_csv(\"data_clean.csv\") "
      ],
      "execution_count": 204,
      "outputs": []
    },
    {
      "cell_type": "code",
      "metadata": {
        "ExecuteTime": {
          "end_time": "2020-10-30T02:57:08.891411Z",
          "start_time": "2020-10-30T02:57:08.830059Z"
        },
        "colab": {
          "base_uri": "https://localhost:8080/",
          "height": 204
        },
        "id": "79rS9i4Zvjnm",
        "outputId": "075614a8-7b21-434c-e6b4-cec8ad9de994"
      },
      "source": [
        "data1.head()"
      ],
      "execution_count": 205,
      "outputs": [
        {
          "output_type": "execute_result",
          "data": {
            "text/html": [
              "<div>\n",
              "<style scoped>\n",
              "    .dataframe tbody tr th:only-of-type {\n",
              "        vertical-align: middle;\n",
              "    }\n",
              "\n",
              "    .dataframe tbody tr th {\n",
              "        vertical-align: top;\n",
              "    }\n",
              "\n",
              "    .dataframe thead th {\n",
              "        text-align: right;\n",
              "    }\n",
              "</style>\n",
              "<table border=\"1\" class=\"dataframe\">\n",
              "  <thead>\n",
              "    <tr style=\"text-align: right;\">\n",
              "      <th></th>\n",
              "      <th>Unnamed: 0</th>\n",
              "      <th>Ozone</th>\n",
              "      <th>Solar.R</th>\n",
              "      <th>Wind</th>\n",
              "      <th>Temp C</th>\n",
              "      <th>Month</th>\n",
              "      <th>Day</th>\n",
              "      <th>Year</th>\n",
              "      <th>Temp</th>\n",
              "      <th>Weather</th>\n",
              "    </tr>\n",
              "  </thead>\n",
              "  <tbody>\n",
              "    <tr>\n",
              "      <th>0</th>\n",
              "      <td>1</td>\n",
              "      <td>41.0</td>\n",
              "      <td>190.0</td>\n",
              "      <td>7.4</td>\n",
              "      <td>67</td>\n",
              "      <td>5</td>\n",
              "      <td>1</td>\n",
              "      <td>2010</td>\n",
              "      <td>67</td>\n",
              "      <td>S</td>\n",
              "    </tr>\n",
              "    <tr>\n",
              "      <th>1</th>\n",
              "      <td>2</td>\n",
              "      <td>36.0</td>\n",
              "      <td>118.0</td>\n",
              "      <td>8.0</td>\n",
              "      <td>72</td>\n",
              "      <td>5</td>\n",
              "      <td>2</td>\n",
              "      <td>2010</td>\n",
              "      <td>72</td>\n",
              "      <td>C</td>\n",
              "    </tr>\n",
              "    <tr>\n",
              "      <th>2</th>\n",
              "      <td>3</td>\n",
              "      <td>12.0</td>\n",
              "      <td>149.0</td>\n",
              "      <td>12.6</td>\n",
              "      <td>74</td>\n",
              "      <td>5</td>\n",
              "      <td>3</td>\n",
              "      <td>2010</td>\n",
              "      <td>74</td>\n",
              "      <td>PS</td>\n",
              "    </tr>\n",
              "    <tr>\n",
              "      <th>3</th>\n",
              "      <td>4</td>\n",
              "      <td>18.0</td>\n",
              "      <td>313.0</td>\n",
              "      <td>11.5</td>\n",
              "      <td>62</td>\n",
              "      <td>5</td>\n",
              "      <td>4</td>\n",
              "      <td>2010</td>\n",
              "      <td>62</td>\n",
              "      <td>S</td>\n",
              "    </tr>\n",
              "    <tr>\n",
              "      <th>4</th>\n",
              "      <td>5</td>\n",
              "      <td>NaN</td>\n",
              "      <td>NaN</td>\n",
              "      <td>14.3</td>\n",
              "      <td>56</td>\n",
              "      <td>5</td>\n",
              "      <td>5</td>\n",
              "      <td>2010</td>\n",
              "      <td>56</td>\n",
              "      <td>S</td>\n",
              "    </tr>\n",
              "  </tbody>\n",
              "</table>\n",
              "</div>"
            ],
            "text/plain": [
              "   Unnamed: 0  Ozone  Solar.R  Wind Temp C Month  Day  Year  Temp Weather\n",
              "0           1   41.0    190.0   7.4     67     5    1  2010    67       S\n",
              "1           2   36.0    118.0   8.0     72     5    2  2010    72       C\n",
              "2           3   12.0    149.0  12.6     74     5    3  2010    74      PS\n",
              "3           4   18.0    313.0  11.5     62     5    4  2010    62       S\n",
              "4           5    NaN      NaN  14.3     56     5    5  2010    56       S"
            ]
          },
          "metadata": {},
          "execution_count": 205
        }
      ]
    },
    {
      "cell_type": "code",
      "metadata": {
        "ExecuteTime": {
          "end_time": "2020-10-30T02:57:11.174001Z",
          "start_time": "2020-10-30T02:57:11.139094Z"
        },
        "id": "ijnoAVn9vjno",
        "colab": {
          "base_uri": "https://localhost:8080/",
          "height": 359
        },
        "outputId": "1b53e344-b527-4060-dd9f-5d2c6e943893"
      },
      "source": [
        "data1.tail(10)"
      ],
      "execution_count": 206,
      "outputs": [
        {
          "output_type": "execute_result",
          "data": {
            "text/html": [
              "<div>\n",
              "<style scoped>\n",
              "    .dataframe tbody tr th:only-of-type {\n",
              "        vertical-align: middle;\n",
              "    }\n",
              "\n",
              "    .dataframe tbody tr th {\n",
              "        vertical-align: top;\n",
              "    }\n",
              "\n",
              "    .dataframe thead th {\n",
              "        text-align: right;\n",
              "    }\n",
              "</style>\n",
              "<table border=\"1\" class=\"dataframe\">\n",
              "  <thead>\n",
              "    <tr style=\"text-align: right;\">\n",
              "      <th></th>\n",
              "      <th>Unnamed: 0</th>\n",
              "      <th>Ozone</th>\n",
              "      <th>Solar.R</th>\n",
              "      <th>Wind</th>\n",
              "      <th>Temp C</th>\n",
              "      <th>Month</th>\n",
              "      <th>Day</th>\n",
              "      <th>Year</th>\n",
              "      <th>Temp</th>\n",
              "      <th>Weather</th>\n",
              "    </tr>\n",
              "  </thead>\n",
              "  <tbody>\n",
              "    <tr>\n",
              "      <th>149</th>\n",
              "      <td>150</td>\n",
              "      <td>NaN</td>\n",
              "      <td>145.0</td>\n",
              "      <td>13.2</td>\n",
              "      <td>77</td>\n",
              "      <td>9</td>\n",
              "      <td>27</td>\n",
              "      <td>2010</td>\n",
              "      <td>77</td>\n",
              "      <td>PS</td>\n",
              "    </tr>\n",
              "    <tr>\n",
              "      <th>150</th>\n",
              "      <td>151</td>\n",
              "      <td>14.0</td>\n",
              "      <td>191.0</td>\n",
              "      <td>14.3</td>\n",
              "      <td>75</td>\n",
              "      <td>9</td>\n",
              "      <td>28</td>\n",
              "      <td>2010</td>\n",
              "      <td>75</td>\n",
              "      <td>S</td>\n",
              "    </tr>\n",
              "    <tr>\n",
              "      <th>151</th>\n",
              "      <td>152</td>\n",
              "      <td>18.0</td>\n",
              "      <td>131.0</td>\n",
              "      <td>8.0</td>\n",
              "      <td>76</td>\n",
              "      <td>9</td>\n",
              "      <td>29</td>\n",
              "      <td>2010</td>\n",
              "      <td>76</td>\n",
              "      <td>PS</td>\n",
              "    </tr>\n",
              "    <tr>\n",
              "      <th>152</th>\n",
              "      <td>153</td>\n",
              "      <td>20.0</td>\n",
              "      <td>223.0</td>\n",
              "      <td>11.5</td>\n",
              "      <td>68</td>\n",
              "      <td>9</td>\n",
              "      <td>30</td>\n",
              "      <td>2010</td>\n",
              "      <td>68</td>\n",
              "      <td>S</td>\n",
              "    </tr>\n",
              "    <tr>\n",
              "      <th>153</th>\n",
              "      <td>154</td>\n",
              "      <td>41.0</td>\n",
              "      <td>190.0</td>\n",
              "      <td>7.4</td>\n",
              "      <td>67</td>\n",
              "      <td>5</td>\n",
              "      <td>1</td>\n",
              "      <td>2010</td>\n",
              "      <td>67</td>\n",
              "      <td>C</td>\n",
              "    </tr>\n",
              "    <tr>\n",
              "      <th>154</th>\n",
              "      <td>155</td>\n",
              "      <td>30.0</td>\n",
              "      <td>193.0</td>\n",
              "      <td>6.9</td>\n",
              "      <td>70</td>\n",
              "      <td>9</td>\n",
              "      <td>26</td>\n",
              "      <td>2010</td>\n",
              "      <td>70</td>\n",
              "      <td>PS</td>\n",
              "    </tr>\n",
              "    <tr>\n",
              "      <th>155</th>\n",
              "      <td>156</td>\n",
              "      <td>NaN</td>\n",
              "      <td>145.0</td>\n",
              "      <td>13.2</td>\n",
              "      <td>77</td>\n",
              "      <td>9</td>\n",
              "      <td>27</td>\n",
              "      <td>2010</td>\n",
              "      <td>77</td>\n",
              "      <td>S</td>\n",
              "    </tr>\n",
              "    <tr>\n",
              "      <th>156</th>\n",
              "      <td>157</td>\n",
              "      <td>14.0</td>\n",
              "      <td>191.0</td>\n",
              "      <td>14.3</td>\n",
              "      <td>75</td>\n",
              "      <td>9</td>\n",
              "      <td>28</td>\n",
              "      <td>2010</td>\n",
              "      <td>75</td>\n",
              "      <td>S</td>\n",
              "    </tr>\n",
              "    <tr>\n",
              "      <th>157</th>\n",
              "      <td>158</td>\n",
              "      <td>18.0</td>\n",
              "      <td>131.0</td>\n",
              "      <td>8.0</td>\n",
              "      <td>76</td>\n",
              "      <td>9</td>\n",
              "      <td>29</td>\n",
              "      <td>2010</td>\n",
              "      <td>76</td>\n",
              "      <td>C</td>\n",
              "    </tr>\n",
              "    <tr>\n",
              "      <th>158</th>\n",
              "      <td>159</td>\n",
              "      <td>NaN</td>\n",
              "      <td>145.0</td>\n",
              "      <td>13.2</td>\n",
              "      <td>77</td>\n",
              "      <td>9</td>\n",
              "      <td>27</td>\n",
              "      <td>2010</td>\n",
              "      <td>77</td>\n",
              "      <td>S</td>\n",
              "    </tr>\n",
              "  </tbody>\n",
              "</table>\n",
              "</div>"
            ],
            "text/plain": [
              "     Unnamed: 0  Ozone  Solar.R  Wind Temp C Month  Day  Year  Temp Weather\n",
              "149         150    NaN    145.0  13.2     77     9   27  2010    77      PS\n",
              "150         151   14.0    191.0  14.3     75     9   28  2010    75       S\n",
              "151         152   18.0    131.0   8.0     76     9   29  2010    76      PS\n",
              "152         153   20.0    223.0  11.5     68     9   30  2010    68       S\n",
              "153         154   41.0    190.0   7.4     67     5    1  2010    67       C\n",
              "154         155   30.0    193.0   6.9     70     9   26  2010    70      PS\n",
              "155         156    NaN    145.0  13.2     77     9   27  2010    77       S\n",
              "156         157   14.0    191.0  14.3     75     9   28  2010    75       S\n",
              "157         158   18.0    131.0   8.0     76     9   29  2010    76       C\n",
              "158         159    NaN    145.0  13.2     77     9   27  2010    77       S"
            ]
          },
          "metadata": {},
          "execution_count": 206
        }
      ]
    },
    {
      "cell_type": "code",
      "metadata": {
        "ExecuteTime": {
          "end_time": "2020-10-30T02:57:14.084647Z",
          "start_time": "2020-10-30T02:57:14.034782Z"
        },
        "id": "T0aN0GPbvjnp"
      },
      "source": [
        "data1"
      ],
      "execution_count": null,
      "outputs": []
    },
    {
      "cell_type": "code",
      "metadata": {
        "ExecuteTime": {
          "end_time": "2020-10-30T02:57:16.269289Z",
          "start_time": "2020-10-30T02:57:16.261311Z"
        },
        "id": "Ma7-2xuyvjnq",
        "colab": {
          "base_uri": "https://localhost:8080/"
        },
        "outputId": "c8657711-ad73-426f-abca-c56732e6a803"
      },
      "source": [
        "#Data Structure \n",
        "type(data1)\n",
        "data1.shape"
      ],
      "execution_count": 208,
      "outputs": [
        {
          "output_type": "execute_result",
          "data": {
            "text/plain": [
              "(159, 10)"
            ]
          },
          "metadata": {},
          "execution_count": 208
        }
      ]
    },
    {
      "cell_type": "code",
      "metadata": {
        "ExecuteTime": {
          "end_time": "2020-10-30T02:57:19.179868Z",
          "start_time": "2020-10-30T02:57:19.155931Z"
        },
        "id": "6bx-3JM2vjns",
        "colab": {
          "base_uri": "https://localhost:8080/"
        },
        "outputId": "ffcfa676-19a2-4590-f558-0037b3e51523"
      },
      "source": [
        "#data types\n",
        "data1.dtypes "
      ],
      "execution_count": 209,
      "outputs": [
        {
          "output_type": "execute_result",
          "data": {
            "text/plain": [
              "Unnamed: 0      int64\n",
              "Ozone         float64\n",
              "Solar.R       float64\n",
              "Wind          float64\n",
              "Temp C         object\n",
              "Month          object\n",
              "Day             int64\n",
              "Year            int64\n",
              "Temp            int64\n",
              "Weather        object\n",
              "dtype: object"
            ]
          },
          "metadata": {},
          "execution_count": 209
        }
      ]
    },
    {
      "cell_type": "markdown",
      "metadata": {
        "id": "B8WPElkevjnt"
      },
      "source": [
        "# Data type conversion"
      ]
    },
    {
      "cell_type": "code",
      "metadata": {
        "ExecuteTime": {
          "end_time": "2020-10-29T16:16:39.742720Z",
          "start_time": "2020-10-29T16:16:39.706817Z"
        },
        "id": "h5ty021Vvjnu",
        "colab": {
          "base_uri": "https://localhost:8080/"
        },
        "outputId": "edc30f22-f294-42de-d725-341614629266"
      },
      "source": [
        "data1.info() "
      ],
      "execution_count": 210,
      "outputs": [
        {
          "output_type": "stream",
          "name": "stdout",
          "text": [
            "<class 'pandas.core.frame.DataFrame'>\n",
            "RangeIndex: 159 entries, 0 to 158\n",
            "Data columns (total 10 columns):\n",
            " #   Column      Non-Null Count  Dtype  \n",
            "---  ------      --------------  -----  \n",
            " 0   Unnamed: 0  159 non-null    int64  \n",
            " 1   Ozone       120 non-null    float64\n",
            " 2   Solar.R     152 non-null    float64\n",
            " 3   Wind        159 non-null    float64\n",
            " 4   Temp C      159 non-null    object \n",
            " 5   Month       159 non-null    object \n",
            " 6   Day         159 non-null    int64  \n",
            " 7   Year        159 non-null    int64  \n",
            " 8   Temp        159 non-null    int64  \n",
            " 9   Weather     156 non-null    object \n",
            "dtypes: float64(3), int64(4), object(3)\n",
            "memory usage: 12.5+ KB\n"
          ]
        }
      ]
    },
    {
      "cell_type": "code",
      "metadata": {
        "ExecuteTime": {
          "end_time": "2020-10-29T16:16:46.266067Z",
          "start_time": "2020-10-29T16:16:46.215202Z"
        },
        "id": "Kvyi5v2rvjnv",
        "colab": {
          "base_uri": "https://localhost:8080/",
          "height": 204
        },
        "outputId": "57e63e2b-a574-427d-f75e-1eecbc18340e"
      },
      "source": [
        "data1.head()"
      ],
      "execution_count": 211,
      "outputs": [
        {
          "output_type": "execute_result",
          "data": {
            "text/html": [
              "<div>\n",
              "<style scoped>\n",
              "    .dataframe tbody tr th:only-of-type {\n",
              "        vertical-align: middle;\n",
              "    }\n",
              "\n",
              "    .dataframe tbody tr th {\n",
              "        vertical-align: top;\n",
              "    }\n",
              "\n",
              "    .dataframe thead th {\n",
              "        text-align: right;\n",
              "    }\n",
              "</style>\n",
              "<table border=\"1\" class=\"dataframe\">\n",
              "  <thead>\n",
              "    <tr style=\"text-align: right;\">\n",
              "      <th></th>\n",
              "      <th>Unnamed: 0</th>\n",
              "      <th>Ozone</th>\n",
              "      <th>Solar.R</th>\n",
              "      <th>Wind</th>\n",
              "      <th>Temp C</th>\n",
              "      <th>Month</th>\n",
              "      <th>Day</th>\n",
              "      <th>Year</th>\n",
              "      <th>Temp</th>\n",
              "      <th>Weather</th>\n",
              "    </tr>\n",
              "  </thead>\n",
              "  <tbody>\n",
              "    <tr>\n",
              "      <th>0</th>\n",
              "      <td>1</td>\n",
              "      <td>41.0</td>\n",
              "      <td>190.0</td>\n",
              "      <td>7.4</td>\n",
              "      <td>67</td>\n",
              "      <td>5</td>\n",
              "      <td>1</td>\n",
              "      <td>2010</td>\n",
              "      <td>67</td>\n",
              "      <td>S</td>\n",
              "    </tr>\n",
              "    <tr>\n",
              "      <th>1</th>\n",
              "      <td>2</td>\n",
              "      <td>36.0</td>\n",
              "      <td>118.0</td>\n",
              "      <td>8.0</td>\n",
              "      <td>72</td>\n",
              "      <td>5</td>\n",
              "      <td>2</td>\n",
              "      <td>2010</td>\n",
              "      <td>72</td>\n",
              "      <td>C</td>\n",
              "    </tr>\n",
              "    <tr>\n",
              "      <th>2</th>\n",
              "      <td>3</td>\n",
              "      <td>12.0</td>\n",
              "      <td>149.0</td>\n",
              "      <td>12.6</td>\n",
              "      <td>74</td>\n",
              "      <td>5</td>\n",
              "      <td>3</td>\n",
              "      <td>2010</td>\n",
              "      <td>74</td>\n",
              "      <td>PS</td>\n",
              "    </tr>\n",
              "    <tr>\n",
              "      <th>3</th>\n",
              "      <td>4</td>\n",
              "      <td>18.0</td>\n",
              "      <td>313.0</td>\n",
              "      <td>11.5</td>\n",
              "      <td>62</td>\n",
              "      <td>5</td>\n",
              "      <td>4</td>\n",
              "      <td>2010</td>\n",
              "      <td>62</td>\n",
              "      <td>S</td>\n",
              "    </tr>\n",
              "    <tr>\n",
              "      <th>4</th>\n",
              "      <td>5</td>\n",
              "      <td>NaN</td>\n",
              "      <td>NaN</td>\n",
              "      <td>14.3</td>\n",
              "      <td>56</td>\n",
              "      <td>5</td>\n",
              "      <td>5</td>\n",
              "      <td>2010</td>\n",
              "      <td>56</td>\n",
              "      <td>S</td>\n",
              "    </tr>\n",
              "  </tbody>\n",
              "</table>\n",
              "</div>"
            ],
            "text/plain": [
              "   Unnamed: 0  Ozone  Solar.R  Wind Temp C Month  Day  Year  Temp Weather\n",
              "0           1   41.0    190.0   7.4     67     5    1  2010    67       S\n",
              "1           2   36.0    118.0   8.0     72     5    2  2010    72       C\n",
              "2           3   12.0    149.0  12.6     74     5    3  2010    74      PS\n",
              "3           4   18.0    313.0  11.5     62     5    4  2010    62       S\n",
              "4           5    NaN      NaN  14.3     56     5    5  2010    56       S"
            ]
          },
          "metadata": {},
          "execution_count": 211
        }
      ]
    },
    {
      "cell_type": "code",
      "metadata": {
        "ExecuteTime": {
          "end_time": "2020-10-30T02:57:33.797012Z",
          "start_time": "2020-10-30T02:57:33.787041Z"
        },
        "id": "sgcjIJxFvjnw"
      },
      "source": [
        "data2=data1.iloc[:,1:] "
      ],
      "execution_count": 136,
      "outputs": []
    },
    {
      "cell_type": "code",
      "metadata": {
        "ExecuteTime": {
          "end_time": "2020-10-30T02:57:36.115097Z",
          "start_time": "2020-10-30T02:57:36.069218Z"
        },
        "colab": {
          "base_uri": "https://localhost:8080/",
          "height": 204
        },
        "id": "YZKrDyEDvjnw",
        "outputId": "b2523df1-54c8-4455-fbff-5193560a677b"
      },
      "source": [
        "data2.head()"
      ],
      "execution_count": 137,
      "outputs": [
        {
          "output_type": "execute_result",
          "data": {
            "text/html": [
              "<div>\n",
              "<style scoped>\n",
              "    .dataframe tbody tr th:only-of-type {\n",
              "        vertical-align: middle;\n",
              "    }\n",
              "\n",
              "    .dataframe tbody tr th {\n",
              "        vertical-align: top;\n",
              "    }\n",
              "\n",
              "    .dataframe thead th {\n",
              "        text-align: right;\n",
              "    }\n",
              "</style>\n",
              "<table border=\"1\" class=\"dataframe\">\n",
              "  <thead>\n",
              "    <tr style=\"text-align: right;\">\n",
              "      <th></th>\n",
              "      <th>Ozone</th>\n",
              "      <th>Solar.R</th>\n",
              "      <th>Wind</th>\n",
              "      <th>Temp C</th>\n",
              "      <th>Month</th>\n",
              "      <th>Day</th>\n",
              "      <th>Year</th>\n",
              "      <th>Temp</th>\n",
              "      <th>Weather</th>\n",
              "    </tr>\n",
              "  </thead>\n",
              "  <tbody>\n",
              "    <tr>\n",
              "      <th>0</th>\n",
              "      <td>41.0</td>\n",
              "      <td>190.0</td>\n",
              "      <td>7.4</td>\n",
              "      <td>67</td>\n",
              "      <td>5</td>\n",
              "      <td>1</td>\n",
              "      <td>2010</td>\n",
              "      <td>67</td>\n",
              "      <td>S</td>\n",
              "    </tr>\n",
              "    <tr>\n",
              "      <th>1</th>\n",
              "      <td>36.0</td>\n",
              "      <td>118.0</td>\n",
              "      <td>8.0</td>\n",
              "      <td>72</td>\n",
              "      <td>5</td>\n",
              "      <td>2</td>\n",
              "      <td>2010</td>\n",
              "      <td>72</td>\n",
              "      <td>C</td>\n",
              "    </tr>\n",
              "    <tr>\n",
              "      <th>2</th>\n",
              "      <td>12.0</td>\n",
              "      <td>149.0</td>\n",
              "      <td>12.6</td>\n",
              "      <td>74</td>\n",
              "      <td>5</td>\n",
              "      <td>3</td>\n",
              "      <td>2010</td>\n",
              "      <td>74</td>\n",
              "      <td>PS</td>\n",
              "    </tr>\n",
              "    <tr>\n",
              "      <th>3</th>\n",
              "      <td>18.0</td>\n",
              "      <td>313.0</td>\n",
              "      <td>11.5</td>\n",
              "      <td>62</td>\n",
              "      <td>5</td>\n",
              "      <td>4</td>\n",
              "      <td>2010</td>\n",
              "      <td>62</td>\n",
              "      <td>S</td>\n",
              "    </tr>\n",
              "    <tr>\n",
              "      <th>4</th>\n",
              "      <td>NaN</td>\n",
              "      <td>NaN</td>\n",
              "      <td>14.3</td>\n",
              "      <td>56</td>\n",
              "      <td>5</td>\n",
              "      <td>5</td>\n",
              "      <td>2010</td>\n",
              "      <td>56</td>\n",
              "      <td>S</td>\n",
              "    </tr>\n",
              "  </tbody>\n",
              "</table>\n",
              "</div>"
            ],
            "text/plain": [
              "   Ozone  Solar.R  Wind Temp C Month  Day  Year  Temp Weather\n",
              "0   41.0    190.0   7.4     67     5    1  2010    67       S\n",
              "1   36.0    118.0   8.0     72     5    2  2010    72       C\n",
              "2   12.0    149.0  12.6     74     5    3  2010    74      PS\n",
              "3   18.0    313.0  11.5     62     5    4  2010    62       S\n",
              "4    NaN      NaN  14.3     56     5    5  2010    56       S"
            ]
          },
          "metadata": {},
          "execution_count": 137
        }
      ]
    },
    {
      "cell_type": "code",
      "metadata": {
        "ExecuteTime": {
          "end_time": "2020-10-30T02:57:38.524134Z",
          "start_time": "2020-10-30T02:57:38.515161Z"
        },
        "colab": {
          "base_uri": "https://localhost:8080/"
        },
        "id": "MyFjqm-7vjnx",
        "outputId": "e9fcf687-ccd5-43f5-da34-faea41115b0c"
      },
      "source": [
        "#The method .copy() is used here so that any changes made in new DataFrame don't get reflected in the original one\n",
        "data=data2.copy() \n",
        "type "
      ],
      "execution_count": 138,
      "outputs": [
        {
          "output_type": "execute_result",
          "data": {
            "text/plain": [
              "type"
            ]
          },
          "metadata": {},
          "execution_count": 138
        }
      ]
    },
    {
      "cell_type": "code",
      "metadata": {
        "ExecuteTime": {
          "end_time": "2020-10-30T02:57:40.887629Z",
          "start_time": "2020-10-30T02:57:40.705121Z"
        },
        "id": "nc3YvDgCvjny"
      },
      "source": [
        "data['Month']\n",
        "pd.set_option(\"display.max_rows\", None)\n",
        "data"
      ],
      "execution_count": null,
      "outputs": []
    },
    {
      "cell_type": "code",
      "metadata": {
        "ExecuteTime": {
          "end_time": "2020-10-30T02:57:44.070758Z",
          "start_time": "2020-10-30T02:57:44.038844Z"
        },
        "colab": {
          "base_uri": "https://localhost:8080/"
        },
        "id": "4ooDkZN9vjnz",
        "outputId": "f1ddc92d-953e-4339-dc32-b4d6fb2f2f33"
      },
      "source": [
        "data['Temp C']=pd.to_numeric(data['Temp C'],errors='coerce')# coerce will introduce NA values for non numeric data in the columns\n",
        "data.info()       "
      ],
      "execution_count": 140,
      "outputs": [
        {
          "output_type": "stream",
          "name": "stdout",
          "text": [
            "<class 'pandas.core.frame.DataFrame'>\n",
            "RangeIndex: 159 entries, 0 to 158\n",
            "Data columns (total 9 columns):\n",
            " #   Column   Non-Null Count  Dtype  \n",
            "---  ------   --------------  -----  \n",
            " 0   Ozone    120 non-null    float64\n",
            " 1   Solar.R  152 non-null    float64\n",
            " 2   Wind     159 non-null    float64\n",
            " 3   Temp C   158 non-null    float64\n",
            " 4   Month    159 non-null    object \n",
            " 5   Day      159 non-null    int64  \n",
            " 6   Year     159 non-null    int64  \n",
            " 7   Temp     159 non-null    int64  \n",
            " 8   Weather  156 non-null    object \n",
            "dtypes: float64(4), int64(3), object(2)\n",
            "memory usage: 11.3+ KB\n"
          ]
        }
      ]
    },
    {
      "cell_type": "code",
      "metadata": {
        "ExecuteTime": {
          "end_time": "2020-10-30T02:57:56.576831Z",
          "start_time": "2020-10-30T02:57:56.525967Z"
        },
        "id": "O4y_GF_Rvjn0"
      },
      "source": [
        "data['Month']= pd.to_numeric(data.Month, errors= 'coerce')\n",
        "data['Weather']=data['Weather'].astype('category')\n",
        "data['Wind']=data['Wind'].astype('int64')  "
      ],
      "execution_count": 212,
      "outputs": []
    },
    {
      "cell_type": "code",
      "metadata": {
        "ExecuteTime": {
          "end_time": "2020-10-30T02:57:59.012211Z",
          "start_time": "2020-10-30T02:57:58.969324Z"
        },
        "id": "CCb0LNCdvjn1",
        "colab": {
          "base_uri": "https://localhost:8080/"
        },
        "outputId": "9d8824f6-485d-4e00-ed42-923a759ad1b3"
      },
      "source": [
        "data.info() "
      ],
      "execution_count": 213,
      "outputs": [
        {
          "output_type": "stream",
          "name": "stdout",
          "text": [
            "<class 'pandas.core.frame.DataFrame'>\n",
            "RangeIndex: 159 entries, 0 to 158\n",
            "Data columns (total 9 columns):\n",
            " #   Column   Non-Null Count  Dtype   \n",
            "---  ------   --------------  -----   \n",
            " 0   Ozone    120 non-null    float64 \n",
            " 1   Solar.R  152 non-null    float64 \n",
            " 2   Wind     159 non-null    int64   \n",
            " 3   Temp C   158 non-null    float64 \n",
            " 4   Month    158 non-null    float64 \n",
            " 5   Day      159 non-null    int64   \n",
            " 6   Year     159 non-null    int64   \n",
            " 7   Temp     159 non-null    int64   \n",
            " 8   Weather  156 non-null    category\n",
            "dtypes: category(1), float64(4), int64(4)\n",
            "memory usage: 10.3 KB\n"
          ]
        }
      ]
    },
    {
      "cell_type": "markdown",
      "metadata": {
        "id": "XjA05zFUvjn3"
      },
      "source": [
        "# Duplicates"
      ]
    },
    {
      "cell_type": "code",
      "metadata": {
        "ExecuteTime": {
          "end_time": "2020-10-30T02:58:11.022040Z",
          "start_time": "2020-10-30T02:58:10.959209Z"
        },
        "id": "mVEVObeLvjn4",
        "colab": {
          "base_uri": "https://localhost:8080/"
        },
        "outputId": "894bb2cb-fa16-4002-eccc-3c7c36da4ebe"
      },
      "source": [
        "#Count of duplicated rows\n",
        "data[data.duplicated()].shape "
      ],
      "execution_count": 214,
      "outputs": [
        {
          "output_type": "execute_result",
          "data": {
            "text/plain": [
              "(2, 9)"
            ]
          },
          "metadata": {},
          "execution_count": 214
        }
      ]
    },
    {
      "cell_type": "code",
      "metadata": {
        "ExecuteTime": {
          "end_time": "2020-10-30T02:58:14.163261Z",
          "start_time": "2020-10-30T02:58:13.953820Z"
        },
        "id": "aBqluYsUvjn4",
        "colab": {
          "base_uri": "https://localhost:8080/",
          "height": 204
        },
        "outputId": "e64bb5fe-c583-41fe-b8b6-d3d56fc71715"
      },
      "source": [
        "data.head()"
      ],
      "execution_count": 217,
      "outputs": [
        {
          "output_type": "execute_result",
          "data": {
            "text/html": [
              "<div>\n",
              "<style scoped>\n",
              "    .dataframe tbody tr th:only-of-type {\n",
              "        vertical-align: middle;\n",
              "    }\n",
              "\n",
              "    .dataframe tbody tr th {\n",
              "        vertical-align: top;\n",
              "    }\n",
              "\n",
              "    .dataframe thead th {\n",
              "        text-align: right;\n",
              "    }\n",
              "</style>\n",
              "<table border=\"1\" class=\"dataframe\">\n",
              "  <thead>\n",
              "    <tr style=\"text-align: right;\">\n",
              "      <th></th>\n",
              "      <th>Ozone</th>\n",
              "      <th>Solar.R</th>\n",
              "      <th>Wind</th>\n",
              "      <th>Temp C</th>\n",
              "      <th>Month</th>\n",
              "      <th>Day</th>\n",
              "      <th>Year</th>\n",
              "      <th>Temp</th>\n",
              "      <th>Weather</th>\n",
              "    </tr>\n",
              "  </thead>\n",
              "  <tbody>\n",
              "    <tr>\n",
              "      <th>0</th>\n",
              "      <td>41.0</td>\n",
              "      <td>190.0</td>\n",
              "      <td>7</td>\n",
              "      <td>67.0</td>\n",
              "      <td>5.0</td>\n",
              "      <td>1</td>\n",
              "      <td>2010</td>\n",
              "      <td>67</td>\n",
              "      <td>S</td>\n",
              "    </tr>\n",
              "    <tr>\n",
              "      <th>1</th>\n",
              "      <td>36.0</td>\n",
              "      <td>118.0</td>\n",
              "      <td>8</td>\n",
              "      <td>72.0</td>\n",
              "      <td>5.0</td>\n",
              "      <td>2</td>\n",
              "      <td>2010</td>\n",
              "      <td>72</td>\n",
              "      <td>C</td>\n",
              "    </tr>\n",
              "    <tr>\n",
              "      <th>2</th>\n",
              "      <td>12.0</td>\n",
              "      <td>149.0</td>\n",
              "      <td>12</td>\n",
              "      <td>74.0</td>\n",
              "      <td>5.0</td>\n",
              "      <td>3</td>\n",
              "      <td>2010</td>\n",
              "      <td>74</td>\n",
              "      <td>PS</td>\n",
              "    </tr>\n",
              "    <tr>\n",
              "      <th>3</th>\n",
              "      <td>18.0</td>\n",
              "      <td>313.0</td>\n",
              "      <td>11</td>\n",
              "      <td>62.0</td>\n",
              "      <td>5.0</td>\n",
              "      <td>4</td>\n",
              "      <td>2010</td>\n",
              "      <td>62</td>\n",
              "      <td>S</td>\n",
              "    </tr>\n",
              "    <tr>\n",
              "      <th>4</th>\n",
              "      <td>NaN</td>\n",
              "      <td>NaN</td>\n",
              "      <td>14</td>\n",
              "      <td>56.0</td>\n",
              "      <td>5.0</td>\n",
              "      <td>5</td>\n",
              "      <td>2010</td>\n",
              "      <td>56</td>\n",
              "      <td>S</td>\n",
              "    </tr>\n",
              "  </tbody>\n",
              "</table>\n",
              "</div>"
            ],
            "text/plain": [
              "   Ozone  Solar.R  Wind  Temp C  Month  Day  Year  Temp Weather\n",
              "0   41.0    190.0     7    67.0    5.0    1  2010    67       S\n",
              "1   36.0    118.0     8    72.0    5.0    2  2010    72       C\n",
              "2   12.0    149.0    12    74.0    5.0    3  2010    74      PS\n",
              "3   18.0    313.0    11    62.0    5.0    4  2010    62       S\n",
              "4    NaN      NaN    14    56.0    5.0    5  2010    56       S"
            ]
          },
          "metadata": {},
          "execution_count": 217
        }
      ]
    },
    {
      "cell_type": "code",
      "metadata": {
        "ExecuteTime": {
          "end_time": "2020-10-30T02:58:16.979149Z",
          "start_time": "2020-10-30T02:58:16.940253Z"
        },
        "id": "nE_nMI0_vjn5",
        "colab": {
          "base_uri": "https://localhost:8080/",
          "height": 111
        },
        "outputId": "c58d01fe-e8df-42a0-ec25-4973b6f7e32d"
      },
      "source": [
        "#Print the duplicated rows\n",
        "data[data.duplicated()] "
      ],
      "execution_count": 218,
      "outputs": [
        {
          "output_type": "execute_result",
          "data": {
            "text/html": [
              "<div>\n",
              "<style scoped>\n",
              "    .dataframe tbody tr th:only-of-type {\n",
              "        vertical-align: middle;\n",
              "    }\n",
              "\n",
              "    .dataframe tbody tr th {\n",
              "        vertical-align: top;\n",
              "    }\n",
              "\n",
              "    .dataframe thead th {\n",
              "        text-align: right;\n",
              "    }\n",
              "</style>\n",
              "<table border=\"1\" class=\"dataframe\">\n",
              "  <thead>\n",
              "    <tr style=\"text-align: right;\">\n",
              "      <th></th>\n",
              "      <th>Ozone</th>\n",
              "      <th>Solar.R</th>\n",
              "      <th>Wind</th>\n",
              "      <th>Temp C</th>\n",
              "      <th>Month</th>\n",
              "      <th>Day</th>\n",
              "      <th>Year</th>\n",
              "      <th>Temp</th>\n",
              "      <th>Weather</th>\n",
              "    </tr>\n",
              "  </thead>\n",
              "  <tbody>\n",
              "    <tr>\n",
              "      <th>156</th>\n",
              "      <td>14.0</td>\n",
              "      <td>191.0</td>\n",
              "      <td>14</td>\n",
              "      <td>75.0</td>\n",
              "      <td>9.0</td>\n",
              "      <td>28</td>\n",
              "      <td>2010</td>\n",
              "      <td>75</td>\n",
              "      <td>S</td>\n",
              "    </tr>\n",
              "    <tr>\n",
              "      <th>158</th>\n",
              "      <td>NaN</td>\n",
              "      <td>145.0</td>\n",
              "      <td>13</td>\n",
              "      <td>77.0</td>\n",
              "      <td>9.0</td>\n",
              "      <td>27</td>\n",
              "      <td>2010</td>\n",
              "      <td>77</td>\n",
              "      <td>S</td>\n",
              "    </tr>\n",
              "  </tbody>\n",
              "</table>\n",
              "</div>"
            ],
            "text/plain": [
              "     Ozone  Solar.R  Wind  Temp C  Month  Day  Year  Temp Weather\n",
              "156   14.0    191.0    14    75.0    9.0   28  2010    75       S\n",
              "158    NaN    145.0    13    77.0    9.0   27  2010    77       S"
            ]
          },
          "metadata": {},
          "execution_count": 218
        }
      ]
    },
    {
      "cell_type": "code",
      "metadata": {
        "ExecuteTime": {
          "end_time": "2020-10-30T02:58:20.355563Z",
          "start_time": "2020-10-30T02:58:20.342597Z"
        },
        "id": "NRxwG7cHvjn6"
      },
      "source": [
        "data_cleaned1=data.drop_duplicates() "
      ],
      "execution_count": 219,
      "outputs": []
    },
    {
      "cell_type": "code",
      "metadata": {
        "ExecuteTime": {
          "end_time": "2020-10-30T02:58:22.670969Z",
          "start_time": "2020-10-30T02:58:22.662991Z"
        },
        "colab": {
          "base_uri": "https://localhost:8080/"
        },
        "id": "lcZFFL4Fvjn7",
        "outputId": "be1959ee-7278-4e77-c22f-aec847a564d7"
      },
      "source": [
        "data_cleaned1.shape "
      ],
      "execution_count": 220,
      "outputs": [
        {
          "output_type": "execute_result",
          "data": {
            "text/plain": [
              "(157, 9)"
            ]
          },
          "metadata": {},
          "execution_count": 220
        }
      ]
    },
    {
      "cell_type": "markdown",
      "metadata": {
        "id": "VSr9RAA8vjn7"
      },
      "source": [
        "# Drop columns"
      ]
    },
    {
      "cell_type": "code",
      "metadata": {
        "ExecuteTime": {
          "end_time": "2020-10-30T02:58:30.183459Z",
          "start_time": "2020-10-30T02:58:30.174483Z"
        },
        "id": "61FeLGOHvjn8"
      },
      "source": [
        "data_cleaned2=data_cleaned1.drop('Temp C',axis=1) "
      ],
      "execution_count": 221,
      "outputs": []
    },
    {
      "cell_type": "code",
      "metadata": {
        "ExecuteTime": {
          "end_time": "2020-10-30T02:58:33.054556Z",
          "start_time": "2020-10-30T02:58:32.861075Z"
        },
        "id": "nvKxqn8mvjn8",
        "colab": {
          "base_uri": "https://localhost:8080/",
          "height": 204
        },
        "outputId": "a3b4cade-7b1b-4357-d93a-99091494d4a0"
      },
      "source": [
        "data_cleaned2.head()"
      ],
      "execution_count": 222,
      "outputs": [
        {
          "output_type": "execute_result",
          "data": {
            "text/html": [
              "<div>\n",
              "<style scoped>\n",
              "    .dataframe tbody tr th:only-of-type {\n",
              "        vertical-align: middle;\n",
              "    }\n",
              "\n",
              "    .dataframe tbody tr th {\n",
              "        vertical-align: top;\n",
              "    }\n",
              "\n",
              "    .dataframe thead th {\n",
              "        text-align: right;\n",
              "    }\n",
              "</style>\n",
              "<table border=\"1\" class=\"dataframe\">\n",
              "  <thead>\n",
              "    <tr style=\"text-align: right;\">\n",
              "      <th></th>\n",
              "      <th>Ozone</th>\n",
              "      <th>Solar.R</th>\n",
              "      <th>Wind</th>\n",
              "      <th>Month</th>\n",
              "      <th>Day</th>\n",
              "      <th>Year</th>\n",
              "      <th>Temp</th>\n",
              "      <th>Weather</th>\n",
              "    </tr>\n",
              "  </thead>\n",
              "  <tbody>\n",
              "    <tr>\n",
              "      <th>0</th>\n",
              "      <td>41.0</td>\n",
              "      <td>190.0</td>\n",
              "      <td>7</td>\n",
              "      <td>5.0</td>\n",
              "      <td>1</td>\n",
              "      <td>2010</td>\n",
              "      <td>67</td>\n",
              "      <td>S</td>\n",
              "    </tr>\n",
              "    <tr>\n",
              "      <th>1</th>\n",
              "      <td>36.0</td>\n",
              "      <td>118.0</td>\n",
              "      <td>8</td>\n",
              "      <td>5.0</td>\n",
              "      <td>2</td>\n",
              "      <td>2010</td>\n",
              "      <td>72</td>\n",
              "      <td>C</td>\n",
              "    </tr>\n",
              "    <tr>\n",
              "      <th>2</th>\n",
              "      <td>12.0</td>\n",
              "      <td>149.0</td>\n",
              "      <td>12</td>\n",
              "      <td>5.0</td>\n",
              "      <td>3</td>\n",
              "      <td>2010</td>\n",
              "      <td>74</td>\n",
              "      <td>PS</td>\n",
              "    </tr>\n",
              "    <tr>\n",
              "      <th>3</th>\n",
              "      <td>18.0</td>\n",
              "      <td>313.0</td>\n",
              "      <td>11</td>\n",
              "      <td>5.0</td>\n",
              "      <td>4</td>\n",
              "      <td>2010</td>\n",
              "      <td>62</td>\n",
              "      <td>S</td>\n",
              "    </tr>\n",
              "    <tr>\n",
              "      <th>4</th>\n",
              "      <td>NaN</td>\n",
              "      <td>NaN</td>\n",
              "      <td>14</td>\n",
              "      <td>5.0</td>\n",
              "      <td>5</td>\n",
              "      <td>2010</td>\n",
              "      <td>56</td>\n",
              "      <td>S</td>\n",
              "    </tr>\n",
              "  </tbody>\n",
              "</table>\n",
              "</div>"
            ],
            "text/plain": [
              "   Ozone  Solar.R  Wind  Month  Day  Year  Temp Weather\n",
              "0   41.0    190.0     7    5.0    1  2010    67       S\n",
              "1   36.0    118.0     8    5.0    2  2010    72       C\n",
              "2   12.0    149.0    12    5.0    3  2010    74      PS\n",
              "3   18.0    313.0    11    5.0    4  2010    62       S\n",
              "4    NaN      NaN    14    5.0    5  2010    56       S"
            ]
          },
          "metadata": {},
          "execution_count": 222
        }
      ]
    },
    {
      "cell_type": "markdown",
      "metadata": {
        "id": "3L1rboCsvjn9"
      },
      "source": [
        "# Rename the columns"
      ]
    },
    {
      "cell_type": "code",
      "metadata": {
        "ExecuteTime": {
          "end_time": "2020-10-30T02:59:18.084359Z",
          "start_time": "2020-10-30T02:59:18.074384Z"
        },
        "id": "_kmBpOChvjn9"
      },
      "source": [
        "#rename the Solar column\n",
        "data_cleaned3 = data_cleaned2.rename({'Solar.R': 'Solar'}, axis=1) "
      ],
      "execution_count": 223,
      "outputs": []
    },
    {
      "cell_type": "code",
      "metadata": {
        "ExecuteTime": {
          "end_time": "2020-10-30T02:59:20.737219Z",
          "start_time": "2020-10-30T02:59:20.529773Z"
        },
        "id": "9Yc1z5c0vjn-",
        "colab": {
          "base_uri": "https://localhost:8080/",
          "height": 204
        },
        "outputId": "26c778fb-d7cd-4e7e-81df-8bef02b88a32"
      },
      "source": [
        "data_cleaned3.head()"
      ],
      "execution_count": 224,
      "outputs": [
        {
          "output_type": "execute_result",
          "data": {
            "text/html": [
              "<div>\n",
              "<style scoped>\n",
              "    .dataframe tbody tr th:only-of-type {\n",
              "        vertical-align: middle;\n",
              "    }\n",
              "\n",
              "    .dataframe tbody tr th {\n",
              "        vertical-align: top;\n",
              "    }\n",
              "\n",
              "    .dataframe thead th {\n",
              "        text-align: right;\n",
              "    }\n",
              "</style>\n",
              "<table border=\"1\" class=\"dataframe\">\n",
              "  <thead>\n",
              "    <tr style=\"text-align: right;\">\n",
              "      <th></th>\n",
              "      <th>Ozone</th>\n",
              "      <th>Solar</th>\n",
              "      <th>Wind</th>\n",
              "      <th>Month</th>\n",
              "      <th>Day</th>\n",
              "      <th>Year</th>\n",
              "      <th>Temp</th>\n",
              "      <th>Weather</th>\n",
              "    </tr>\n",
              "  </thead>\n",
              "  <tbody>\n",
              "    <tr>\n",
              "      <th>0</th>\n",
              "      <td>41.0</td>\n",
              "      <td>190.0</td>\n",
              "      <td>7</td>\n",
              "      <td>5.0</td>\n",
              "      <td>1</td>\n",
              "      <td>2010</td>\n",
              "      <td>67</td>\n",
              "      <td>S</td>\n",
              "    </tr>\n",
              "    <tr>\n",
              "      <th>1</th>\n",
              "      <td>36.0</td>\n",
              "      <td>118.0</td>\n",
              "      <td>8</td>\n",
              "      <td>5.0</td>\n",
              "      <td>2</td>\n",
              "      <td>2010</td>\n",
              "      <td>72</td>\n",
              "      <td>C</td>\n",
              "    </tr>\n",
              "    <tr>\n",
              "      <th>2</th>\n",
              "      <td>12.0</td>\n",
              "      <td>149.0</td>\n",
              "      <td>12</td>\n",
              "      <td>5.0</td>\n",
              "      <td>3</td>\n",
              "      <td>2010</td>\n",
              "      <td>74</td>\n",
              "      <td>PS</td>\n",
              "    </tr>\n",
              "    <tr>\n",
              "      <th>3</th>\n",
              "      <td>18.0</td>\n",
              "      <td>313.0</td>\n",
              "      <td>11</td>\n",
              "      <td>5.0</td>\n",
              "      <td>4</td>\n",
              "      <td>2010</td>\n",
              "      <td>62</td>\n",
              "      <td>S</td>\n",
              "    </tr>\n",
              "    <tr>\n",
              "      <th>4</th>\n",
              "      <td>NaN</td>\n",
              "      <td>NaN</td>\n",
              "      <td>14</td>\n",
              "      <td>5.0</td>\n",
              "      <td>5</td>\n",
              "      <td>2010</td>\n",
              "      <td>56</td>\n",
              "      <td>S</td>\n",
              "    </tr>\n",
              "  </tbody>\n",
              "</table>\n",
              "</div>"
            ],
            "text/plain": [
              "   Ozone  Solar  Wind  Month  Day  Year  Temp Weather\n",
              "0   41.0  190.0     7    5.0    1  2010    67       S\n",
              "1   36.0  118.0     8    5.0    2  2010    72       C\n",
              "2   12.0  149.0    12    5.0    3  2010    74      PS\n",
              "3   18.0  313.0    11    5.0    4  2010    62       S\n",
              "4    NaN    NaN    14    5.0    5  2010    56       S"
            ]
          },
          "metadata": {},
          "execution_count": 224
        }
      ]
    },
    {
      "cell_type": "markdown",
      "metadata": {
        "id": "w4fs729Avjn-"
      },
      "source": [
        "# Outlier Detection"
      ]
    },
    {
      "cell_type": "code",
      "metadata": {
        "ExecuteTime": {
          "end_time": "2020-10-30T02:59:37.682862Z",
          "start_time": "2020-10-30T02:59:36.986068Z"
        },
        "colab": {
          "base_uri": "https://localhost:8080/",
          "height": 282
        },
        "id": "UjeNOILxvjn-",
        "outputId": "2bf9f961-4d87-4231-cd41-29f14f1da1d9"
      },
      "source": [
        "# histogram of Ozone\n",
        "data_cleaned3['Ozone'].hist()"
      ],
      "execution_count": 225,
      "outputs": [
        {
          "output_type": "execute_result",
          "data": {
            "text/plain": [
              "<matplotlib.axes._subplots.AxesSubplot at 0x7f3b916ede10>"
            ]
          },
          "metadata": {},
          "execution_count": 225
        },
        {
          "output_type": "display_data",
          "data": {
            "image/png": "[encoded data removed]",
            "text/plain": [
              "<Figure size 432x288 with 1 Axes>"
            ]
          },
          "metadata": {
            "needs_background": "light"
          }
        }
      ]
    },
    {
      "cell_type": "code",
      "metadata": {
        "ExecuteTime": {
          "end_time": "2020-10-30T02:59:41.897603Z",
          "start_time": "2020-10-30T02:59:41.522092Z"
        },
        "id": "IxHF5FZGvjn_",
        "colab": {
          "base_uri": "https://localhost:8080/",
          "height": 285
        },
        "outputId": "c8be96cd-64d6-494c-9d4d-a95d3855c966"
      },
      "source": [
        "#Box plot\n",
        "data_cleaned3.boxplot(column=['Ozone'])\n",
        "plt.plot()"
      ],
      "execution_count": 226,
      "outputs": [
        {
          "output_type": "execute_result",
          "data": {
            "text/plain": [
              "[]"
            ]
          },
          "metadata": {},
          "execution_count": 226
        },
        {
          "output_type": "display_data",
          "data": {
            "image/png": "[encoded data removed]",
            "text/plain": [
              "<Figure size 432x288 with 1 Axes>"
            ]
          },
          "metadata": {
            "needs_background": "light"
          }
        }
      ]
    },
    {
      "cell_type": "code",
      "metadata": {
        "ExecuteTime": {
          "end_time": "2020-10-30T02:59:48.124095Z",
          "start_time": "2020-10-30T02:59:48.104148Z"
        },
        "id": "Al9uA4GEvjn_",
        "colab": {
          "base_uri": "https://localhost:8080/"
        },
        "outputId": "74a8ba7d-4112-4afe-8010-d120bd6d4dc3"
      },
      "source": [
        "#Descriptive stat\n",
        "data_cleaned3['Ozone'].describe()"
      ],
      "execution_count": 227,
      "outputs": [
        {
          "output_type": "execute_result",
          "data": {
            "text/plain": [
              "count    119.000000\n",
              "mean      41.815126\n",
              "std       32.659249\n",
              "min        1.000000\n",
              "25%       18.000000\n",
              "50%       31.000000\n",
              "75%       62.000000\n",
              "max      168.000000\n",
              "Name: Ozone, dtype: float64"
            ]
          },
          "metadata": {},
          "execution_count": 227
        }
      ]
    },
    {
      "cell_type": "code",
      "metadata": {
        "ExecuteTime": {
          "end_time": "2020-10-30T02:59:52.431600Z",
          "start_time": "2020-10-30T02:59:52.280998Z"
        },
        "id": "j4VIVjd1vjoA",
        "colab": {
          "base_uri": "https://localhost:8080/",
          "height": 204
        },
        "outputId": "62b9805b-cfd4-456c-a202-e6908c2d87a9"
      },
      "source": [
        "data_cleaned3.head()"
      ],
      "execution_count": 228,
      "outputs": [
        {
          "output_type": "execute_result",
          "data": {
            "text/html": [
              "<div>\n",
              "<style scoped>\n",
              "    .dataframe tbody tr th:only-of-type {\n",
              "        vertical-align: middle;\n",
              "    }\n",
              "\n",
              "    .dataframe tbody tr th {\n",
              "        vertical-align: top;\n",
              "    }\n",
              "\n",
              "    .dataframe thead th {\n",
              "        text-align: right;\n",
              "    }\n",
              "</style>\n",
              "<table border=\"1\" class=\"dataframe\">\n",
              "  <thead>\n",
              "    <tr style=\"text-align: right;\">\n",
              "      <th></th>\n",
              "      <th>Ozone</th>\n",
              "      <th>Solar</th>\n",
              "      <th>Wind</th>\n",
              "      <th>Month</th>\n",
              "      <th>Day</th>\n",
              "      <th>Year</th>\n",
              "      <th>Temp</th>\n",
              "      <th>Weather</th>\n",
              "    </tr>\n",
              "  </thead>\n",
              "  <tbody>\n",
              "    <tr>\n",
              "      <th>0</th>\n",
              "      <td>41.0</td>\n",
              "      <td>190.0</td>\n",
              "      <td>7</td>\n",
              "      <td>5.0</td>\n",
              "      <td>1</td>\n",
              "      <td>2010</td>\n",
              "      <td>67</td>\n",
              "      <td>S</td>\n",
              "    </tr>\n",
              "    <tr>\n",
              "      <th>1</th>\n",
              "      <td>36.0</td>\n",
              "      <td>118.0</td>\n",
              "      <td>8</td>\n",
              "      <td>5.0</td>\n",
              "      <td>2</td>\n",
              "      <td>2010</td>\n",
              "      <td>72</td>\n",
              "      <td>C</td>\n",
              "    </tr>\n",
              "    <tr>\n",
              "      <th>2</th>\n",
              "      <td>12.0</td>\n",
              "      <td>149.0</td>\n",
              "      <td>12</td>\n",
              "      <td>5.0</td>\n",
              "      <td>3</td>\n",
              "      <td>2010</td>\n",
              "      <td>74</td>\n",
              "      <td>PS</td>\n",
              "    </tr>\n",
              "    <tr>\n",
              "      <th>3</th>\n",
              "      <td>18.0</td>\n",
              "      <td>313.0</td>\n",
              "      <td>11</td>\n",
              "      <td>5.0</td>\n",
              "      <td>4</td>\n",
              "      <td>2010</td>\n",
              "      <td>62</td>\n",
              "      <td>S</td>\n",
              "    </tr>\n",
              "    <tr>\n",
              "      <th>4</th>\n",
              "      <td>NaN</td>\n",
              "      <td>NaN</td>\n",
              "      <td>14</td>\n",
              "      <td>5.0</td>\n",
              "      <td>5</td>\n",
              "      <td>2010</td>\n",
              "      <td>56</td>\n",
              "      <td>S</td>\n",
              "    </tr>\n",
              "  </tbody>\n",
              "</table>\n",
              "</div>"
            ],
            "text/plain": [
              "   Ozone  Solar  Wind  Month  Day  Year  Temp Weather\n",
              "0   41.0  190.0     7    5.0    1  2010    67       S\n",
              "1   36.0  118.0     8    5.0    2  2010    72       C\n",
              "2   12.0  149.0    12    5.0    3  2010    74      PS\n",
              "3   18.0  313.0    11    5.0    4  2010    62       S\n",
              "4    NaN    NaN    14    5.0    5  2010    56       S"
            ]
          },
          "metadata": {},
          "execution_count": 228
        }
      ]
    },
    {
      "cell_type": "code",
      "metadata": {
        "ExecuteTime": {
          "end_time": "2020-10-30T03:00:03.183928Z",
          "start_time": "2020-10-30T03:00:02.826883Z"
        },
        "id": "mezphh9-vjoA",
        "colab": {
          "base_uri": "https://localhost:8080/",
          "height": 285
        },
        "outputId": "8429a732-da8e-45a1-ae3b-765f345c8349"
      },
      "source": [
        "#Bar plot\n",
        "data['Weather'].value_counts().plot.bar()"
      ],
      "execution_count": 229,
      "outputs": [
        {
          "output_type": "execute_result",
          "data": {
            "text/plain": [
              "<matplotlib.axes._subplots.AxesSubplot at 0x7f3b9164d550>"
            ]
          },
          "metadata": {},
          "execution_count": 229
        },
        {
          "output_type": "display_data",
          "data": {
            "image/png": "[encoded data removed]",
            "text/plain": [
              "<Figure size 432x288 with 1 Axes>"
            ]
          },
          "metadata": {
            "needs_background": "light"
          }
        }
      ]
    },
    {
      "cell_type": "code",
      "metadata": {
        "id": "6daxILfzvM5A"
      },
      "source": [
        "#data.plot(kind='hist')"
      ],
      "execution_count": 159,
      "outputs": []
    },
    {
      "cell_type": "markdown",
      "metadata": {
        "id": "F2_cJpWYvjoB"
      },
      "source": [
        "# Missing Values and Imputation"
      ]
    },
    {
      "cell_type": "code",
      "metadata": {
        "ExecuteTime": {
          "end_time": "2020-10-29T16:32:46.603013Z",
          "start_time": "2020-10-29T16:32:45.334871Z"
        },
        "id": "d8UMYX48vjoB",
        "colab": {
          "base_uri": "https://localhost:8080/",
          "height": 319
        },
        "outputId": "bf0ca133-eeb0-419b-bf04-51df8bdcbfac"
      },
      "source": [
        "import seaborn as sns\n",
        "cols = data_cleaned3.columns\n",
        "colours = ['#000099', '#ffff00'] # specify the colours - yellow is missing. blue is not missing.\n",
        "sns.heatmap(data_cleaned3[cols].isnull(),\n",
        "            cmap=sns.color_palette(colours)) "
      ],
      "execution_count": 230,
      "outputs": [
        {
          "output_type": "execute_result",
          "data": {
            "text/plain": [
              "<matplotlib.axes._subplots.AxesSubplot at 0x7f3b915ba9d0>"
            ]
          },
          "metadata": {},
          "execution_count": 230
        },
        {
          "output_type": "display_data",
          "data": {
            "image/png": "[encoded data removed]",
            "text/plain": [
              "<Figure size 432x288 with 2 Axes>"
            ]
          },
          "metadata": {
            "needs_background": "light"
          }
        }
      ]
    },
    {
      "cell_type": "code",
      "metadata": {
        "ExecuteTime": {
          "end_time": "2020-10-30T03:02:07.229404Z",
          "start_time": "2020-10-30T03:02:07.198487Z"
        },
        "id": "IJvFD2a7vjoB",
        "colab": {
          "base_uri": "https://localhost:8080/",
          "height": 204
        },
        "outputId": "ec54b320-88cc-4a50-dd4e-54d31da0525f"
      },
      "source": [
        "#any one of the columns is true\n",
        "data_cleaned3[data_cleaned3.isnull().any(axis=1)].head()"
      ],
      "execution_count": 231,
      "outputs": [
        {
          "output_type": "execute_result",
          "data": {
            "text/html": [
              "<div>\n",
              "<style scoped>\n",
              "    .dataframe tbody tr th:only-of-type {\n",
              "        vertical-align: middle;\n",
              "    }\n",
              "\n",
              "    .dataframe tbody tr th {\n",
              "        vertical-align: top;\n",
              "    }\n",
              "\n",
              "    .dataframe thead th {\n",
              "        text-align: right;\n",
              "    }\n",
              "</style>\n",
              "<table border=\"1\" class=\"dataframe\">\n",
              "  <thead>\n",
              "    <tr style=\"text-align: right;\">\n",
              "      <th></th>\n",
              "      <th>Ozone</th>\n",
              "      <th>Solar</th>\n",
              "      <th>Wind</th>\n",
              "      <th>Month</th>\n",
              "      <th>Day</th>\n",
              "      <th>Year</th>\n",
              "      <th>Temp</th>\n",
              "      <th>Weather</th>\n",
              "    </tr>\n",
              "  </thead>\n",
              "  <tbody>\n",
              "    <tr>\n",
              "      <th>4</th>\n",
              "      <td>NaN</td>\n",
              "      <td>NaN</td>\n",
              "      <td>14</td>\n",
              "      <td>5.0</td>\n",
              "      <td>5</td>\n",
              "      <td>2010</td>\n",
              "      <td>56</td>\n",
              "      <td>S</td>\n",
              "    </tr>\n",
              "    <tr>\n",
              "      <th>5</th>\n",
              "      <td>28.0</td>\n",
              "      <td>NaN</td>\n",
              "      <td>14</td>\n",
              "      <td>5.0</td>\n",
              "      <td>6</td>\n",
              "      <td>2010</td>\n",
              "      <td>66</td>\n",
              "      <td>C</td>\n",
              "    </tr>\n",
              "    <tr>\n",
              "      <th>9</th>\n",
              "      <td>NaN</td>\n",
              "      <td>194.0</td>\n",
              "      <td>8</td>\n",
              "      <td>5.0</td>\n",
              "      <td>10</td>\n",
              "      <td>2010</td>\n",
              "      <td>69</td>\n",
              "      <td>S</td>\n",
              "    </tr>\n",
              "    <tr>\n",
              "      <th>10</th>\n",
              "      <td>7.0</td>\n",
              "      <td>NaN</td>\n",
              "      <td>6</td>\n",
              "      <td>5.0</td>\n",
              "      <td>11</td>\n",
              "      <td>2010</td>\n",
              "      <td>74</td>\n",
              "      <td>C</td>\n",
              "    </tr>\n",
              "    <tr>\n",
              "      <th>23</th>\n",
              "      <td>32.0</td>\n",
              "      <td>92.0</td>\n",
              "      <td>12</td>\n",
              "      <td>NaN</td>\n",
              "      <td>24</td>\n",
              "      <td>2010</td>\n",
              "      <td>61</td>\n",
              "      <td>C</td>\n",
              "    </tr>\n",
              "  </tbody>\n",
              "</table>\n",
              "</div>"
            ],
            "text/plain": [
              "    Ozone  Solar  Wind  Month  Day  Year  Temp Weather\n",
              "4     NaN    NaN    14    5.0    5  2010    56       S\n",
              "5    28.0    NaN    14    5.0    6  2010    66       C\n",
              "9     NaN  194.0     8    5.0   10  2010    69       S\n",
              "10    7.0    NaN     6    5.0   11  2010    74       C\n",
              "23   32.0   92.0    12    NaN   24  2010    61       C"
            ]
          },
          "metadata": {},
          "execution_count": 231
        }
      ]
    },
    {
      "cell_type": "code",
      "metadata": {
        "ExecuteTime": {
          "end_time": "2020-10-30T03:11:09.643542Z",
          "start_time": "2020-10-30T03:11:09.631577Z"
        },
        "id": "Of9eiTXqvjoC",
        "colab": {
          "base_uri": "https://localhost:8080/"
        },
        "outputId": "df02ce14-e8a7-4ca1-95e5-baa83acc82e0"
      },
      "source": [
        "data_cleaned3.isnull().sum() "
      ],
      "execution_count": 232,
      "outputs": [
        {
          "output_type": "execute_result",
          "data": {
            "text/plain": [
              "Ozone      38\n",
              "Solar       7\n",
              "Wind        0\n",
              "Month       1\n",
              "Day         0\n",
              "Year        0\n",
              "Temp        0\n",
              "Weather     3\n",
              "dtype: int64"
            ]
          },
          "metadata": {},
          "execution_count": 232
        }
      ]
    },
    {
      "cell_type": "code",
      "metadata": {
        "ExecuteTime": {
          "end_time": "2020-10-30T03:02:37.240571Z",
          "start_time": "2020-10-30T03:02:37.232592Z"
        },
        "id": "ZciEXUA8vjoC",
        "colab": {
          "base_uri": "https://localhost:8080/"
        },
        "outputId": "9d16968f-b03f-4da1-da35-74916601d5ca"
      },
      "source": [
        "#Mean Value calculation\n",
        "mean = data_cleaned3['Ozone'].mean()\n",
        "print(mean) "
      ],
      "execution_count": 233,
      "outputs": [
        {
          "output_type": "stream",
          "name": "stdout",
          "text": [
            "41.81512605042017\n"
          ]
        }
      ]
    },
    {
      "cell_type": "code",
      "metadata": {
        "ExecuteTime": {
          "end_time": "2020-10-30T03:02:42.147138Z",
          "start_time": "2020-10-30T03:02:42.138162Z"
        },
        "id": "c1AyjQSYvjoC"
      },
      "source": [
        "data_cleaned3['Ozone'] = data_cleaned3['Ozone'].fillna(mean)  "
      ],
      "execution_count": 234,
      "outputs": []
    },
    {
      "cell_type": "code",
      "metadata": {
        "ExecuteTime": {
          "end_time": "2020-10-30T03:02:45.115444Z",
          "start_time": "2020-10-30T03:02:44.974780Z"
        },
        "id": "BHMTlFdCvjoD",
        "colab": {
          "base_uri": "https://localhost:8080/",
          "height": 359
        },
        "outputId": "4893f3f7-cf54-456e-c94e-509803067460"
      },
      "source": [
        "data_cleaned3.head(10)"
      ],
      "execution_count": 235,
      "outputs": [
        {
          "output_type": "execute_result",
          "data": {
            "text/html": [
              "<div>\n",
              "<style scoped>\n",
              "    .dataframe tbody tr th:only-of-type {\n",
              "        vertical-align: middle;\n",
              "    }\n",
              "\n",
              "    .dataframe tbody tr th {\n",
              "        vertical-align: top;\n",
              "    }\n",
              "\n",
              "    .dataframe thead th {\n",
              "        text-align: right;\n",
              "    }\n",
              "</style>\n",
              "<table border=\"1\" class=\"dataframe\">\n",
              "  <thead>\n",
              "    <tr style=\"text-align: right;\">\n",
              "      <th></th>\n",
              "      <th>Ozone</th>\n",
              "      <th>Solar</th>\n",
              "      <th>Wind</th>\n",
              "      <th>Month</th>\n",
              "      <th>Day</th>\n",
              "      <th>Year</th>\n",
              "      <th>Temp</th>\n",
              "      <th>Weather</th>\n",
              "    </tr>\n",
              "  </thead>\n",
              "  <tbody>\n",
              "    <tr>\n",
              "      <th>0</th>\n",
              "      <td>41.000000</td>\n",
              "      <td>190.0</td>\n",
              "      <td>7</td>\n",
              "      <td>5.0</td>\n",
              "      <td>1</td>\n",
              "      <td>2010</td>\n",
              "      <td>67</td>\n",
              "      <td>S</td>\n",
              "    </tr>\n",
              "    <tr>\n",
              "      <th>1</th>\n",
              "      <td>36.000000</td>\n",
              "      <td>118.0</td>\n",
              "      <td>8</td>\n",
              "      <td>5.0</td>\n",
              "      <td>2</td>\n",
              "      <td>2010</td>\n",
              "      <td>72</td>\n",
              "      <td>C</td>\n",
              "    </tr>\n",
              "    <tr>\n",
              "      <th>2</th>\n",
              "      <td>12.000000</td>\n",
              "      <td>149.0</td>\n",
              "      <td>12</td>\n",
              "      <td>5.0</td>\n",
              "      <td>3</td>\n",
              "      <td>2010</td>\n",
              "      <td>74</td>\n",
              "      <td>PS</td>\n",
              "    </tr>\n",
              "    <tr>\n",
              "      <th>3</th>\n",
              "      <td>18.000000</td>\n",
              "      <td>313.0</td>\n",
              "      <td>11</td>\n",
              "      <td>5.0</td>\n",
              "      <td>4</td>\n",
              "      <td>2010</td>\n",
              "      <td>62</td>\n",
              "      <td>S</td>\n",
              "    </tr>\n",
              "    <tr>\n",
              "      <th>4</th>\n",
              "      <td>41.815126</td>\n",
              "      <td>NaN</td>\n",
              "      <td>14</td>\n",
              "      <td>5.0</td>\n",
              "      <td>5</td>\n",
              "      <td>2010</td>\n",
              "      <td>56</td>\n",
              "      <td>S</td>\n",
              "    </tr>\n",
              "    <tr>\n",
              "      <th>5</th>\n",
              "      <td>28.000000</td>\n",
              "      <td>NaN</td>\n",
              "      <td>14</td>\n",
              "      <td>5.0</td>\n",
              "      <td>6</td>\n",
              "      <td>2010</td>\n",
              "      <td>66</td>\n",
              "      <td>C</td>\n",
              "    </tr>\n",
              "    <tr>\n",
              "      <th>6</th>\n",
              "      <td>23.000000</td>\n",
              "      <td>299.0</td>\n",
              "      <td>8</td>\n",
              "      <td>5.0</td>\n",
              "      <td>7</td>\n",
              "      <td>2010</td>\n",
              "      <td>65</td>\n",
              "      <td>PS</td>\n",
              "    </tr>\n",
              "    <tr>\n",
              "      <th>7</th>\n",
              "      <td>19.000000</td>\n",
              "      <td>99.0</td>\n",
              "      <td>13</td>\n",
              "      <td>5.0</td>\n",
              "      <td>8</td>\n",
              "      <td>2010</td>\n",
              "      <td>59</td>\n",
              "      <td>C</td>\n",
              "    </tr>\n",
              "    <tr>\n",
              "      <th>8</th>\n",
              "      <td>8.000000</td>\n",
              "      <td>19.0</td>\n",
              "      <td>20</td>\n",
              "      <td>5.0</td>\n",
              "      <td>9</td>\n",
              "      <td>2010</td>\n",
              "      <td>61</td>\n",
              "      <td>PS</td>\n",
              "    </tr>\n",
              "    <tr>\n",
              "      <th>9</th>\n",
              "      <td>41.815126</td>\n",
              "      <td>194.0</td>\n",
              "      <td>8</td>\n",
              "      <td>5.0</td>\n",
              "      <td>10</td>\n",
              "      <td>2010</td>\n",
              "      <td>69</td>\n",
              "      <td>S</td>\n",
              "    </tr>\n",
              "  </tbody>\n",
              "</table>\n",
              "</div>"
            ],
            "text/plain": [
              "       Ozone  Solar  Wind  Month  Day  Year  Temp Weather\n",
              "0  41.000000  190.0     7    5.0    1  2010    67       S\n",
              "1  36.000000  118.0     8    5.0    2  2010    72       C\n",
              "2  12.000000  149.0    12    5.0    3  2010    74      PS\n",
              "3  18.000000  313.0    11    5.0    4  2010    62       S\n",
              "4  41.815126    NaN    14    5.0    5  2010    56       S\n",
              "5  28.000000    NaN    14    5.0    6  2010    66       C\n",
              "6  23.000000  299.0     8    5.0    7  2010    65      PS\n",
              "7  19.000000   99.0    13    5.0    8  2010    59       C\n",
              "8   8.000000   19.0    20    5.0    9  2010    61      PS\n",
              "9  41.815126  194.0     8    5.0   10  2010    69       S"
            ]
          },
          "metadata": {},
          "execution_count": 235
        }
      ]
    },
    {
      "cell_type": "code",
      "metadata": {
        "ExecuteTime": {
          "end_time": "2020-10-30T03:11:52.350102Z",
          "start_time": "2020-10-30T03:11:52.337135Z"
        },
        "id": "mFv022TMvjoD",
        "colab": {
          "base_uri": "https://localhost:8080/"
        },
        "outputId": "9b6d3dad-03f7-4adb-a0b5-0147238c594f"
      },
      "source": [
        "#Missing value imputation for categorical vlaue\n",
        "data_cleaned3[['Weather']].isnull().sum()"
      ],
      "execution_count": 236,
      "outputs": [
        {
          "output_type": "execute_result",
          "data": {
            "text/plain": [
              "Weather    3\n",
              "dtype: int64"
            ]
          },
          "metadata": {},
          "execution_count": 236
        }
      ]
    },
    {
      "cell_type": "code",
      "metadata": {
        "colab": {
          "base_uri": "https://localhost:8080/",
          "height": 80
        },
        "id": "o576mA4Nyl-f",
        "outputId": "095f295f-59b7-4fc7-a56a-617a171f1ff1"
      },
      "source": [
        "data_cleaned3[['Weather']].mode()"
      ],
      "execution_count": 237,
      "outputs": [
        {
          "output_type": "execute_result",
          "data": {
            "text/html": [
              "<div>\n",
              "<style scoped>\n",
              "    .dataframe tbody tr th:only-of-type {\n",
              "        vertical-align: middle;\n",
              "    }\n",
              "\n",
              "    .dataframe tbody tr th {\n",
              "        vertical-align: top;\n",
              "    }\n",
              "\n",
              "    .dataframe thead th {\n",
              "        text-align: right;\n",
              "    }\n",
              "</style>\n",
              "<table border=\"1\" class=\"dataframe\">\n",
              "  <thead>\n",
              "    <tr style=\"text-align: right;\">\n",
              "      <th></th>\n",
              "      <th>Weather</th>\n",
              "    </tr>\n",
              "  </thead>\n",
              "  <tbody>\n",
              "    <tr>\n",
              "      <th>0</th>\n",
              "      <td>S</td>\n",
              "    </tr>\n",
              "  </tbody>\n",
              "</table>\n",
              "</div>"
            ],
            "text/plain": [
              "  Weather\n",
              "0       S"
            ]
          },
          "metadata": {},
          "execution_count": 237
        }
      ]
    },
    {
      "cell_type": "code",
      "metadata": {
        "id": "Z_OVSqFWz-iM"
      },
      "source": [
        "#Missing value imputation for categorical vlaue\n",
        "data_cleaned3['Weather'] = data_cleaned3['Weather'].fillna(data_cleaned3['Weather'].mode().iloc[0])"
      ],
      "execution_count": 238,
      "outputs": []
    },
    {
      "cell_type": "code",
      "metadata": {
        "ExecuteTime": {
          "end_time": "2020-10-30T03:11:58.017341Z",
          "start_time": "2020-10-30T03:11:58.004374Z"
        },
        "id": "yjTwKSRxvjoE",
        "colab": {
          "base_uri": "https://localhost:8080/"
        },
        "outputId": "121a984e-05bf-4514-8800-d7c1d39a4017"
      },
      "source": [
        "data_cleaned3[['Weather']].isnull().sum()"
      ],
      "execution_count": 239,
      "outputs": [
        {
          "output_type": "execute_result",
          "data": {
            "text/plain": [
              "Weather    0\n",
              "dtype: int64"
            ]
          },
          "metadata": {},
          "execution_count": 239
        }
      ]
    },
    {
      "cell_type": "code",
      "metadata": {
        "ExecuteTime": {
          "end_time": "2020-10-30T03:12:45.276067Z",
          "start_time": "2020-10-30T03:12:45.105008Z"
        },
        "id": "Z4K6_tYevjoE",
        "colab": {
          "base_uri": "https://localhost:8080/",
          "height": 204
        },
        "outputId": "c465e938-5172-497b-a304-c655ab3cd98d"
      },
      "source": [
        "data_cleaned3.head()"
      ],
      "execution_count": 240,
      "outputs": [
        {
          "output_type": "execute_result",
          "data": {
            "text/html": [
              "<div>\n",
              "<style scoped>\n",
              "    .dataframe tbody tr th:only-of-type {\n",
              "        vertical-align: middle;\n",
              "    }\n",
              "\n",
              "    .dataframe tbody tr th {\n",
              "        vertical-align: top;\n",
              "    }\n",
              "\n",
              "    .dataframe thead th {\n",
              "        text-align: right;\n",
              "    }\n",
              "</style>\n",
              "<table border=\"1\" class=\"dataframe\">\n",
              "  <thead>\n",
              "    <tr style=\"text-align: right;\">\n",
              "      <th></th>\n",
              "      <th>Ozone</th>\n",
              "      <th>Solar</th>\n",
              "      <th>Wind</th>\n",
              "      <th>Month</th>\n",
              "      <th>Day</th>\n",
              "      <th>Year</th>\n",
              "      <th>Temp</th>\n",
              "      <th>Weather</th>\n",
              "    </tr>\n",
              "  </thead>\n",
              "  <tbody>\n",
              "    <tr>\n",
              "      <th>0</th>\n",
              "      <td>41.000000</td>\n",
              "      <td>190.0</td>\n",
              "      <td>7</td>\n",
              "      <td>5.0</td>\n",
              "      <td>1</td>\n",
              "      <td>2010</td>\n",
              "      <td>67</td>\n",
              "      <td>S</td>\n",
              "    </tr>\n",
              "    <tr>\n",
              "      <th>1</th>\n",
              "      <td>36.000000</td>\n",
              "      <td>118.0</td>\n",
              "      <td>8</td>\n",
              "      <td>5.0</td>\n",
              "      <td>2</td>\n",
              "      <td>2010</td>\n",
              "      <td>72</td>\n",
              "      <td>C</td>\n",
              "    </tr>\n",
              "    <tr>\n",
              "      <th>2</th>\n",
              "      <td>12.000000</td>\n",
              "      <td>149.0</td>\n",
              "      <td>12</td>\n",
              "      <td>5.0</td>\n",
              "      <td>3</td>\n",
              "      <td>2010</td>\n",
              "      <td>74</td>\n",
              "      <td>PS</td>\n",
              "    </tr>\n",
              "    <tr>\n",
              "      <th>3</th>\n",
              "      <td>18.000000</td>\n",
              "      <td>313.0</td>\n",
              "      <td>11</td>\n",
              "      <td>5.0</td>\n",
              "      <td>4</td>\n",
              "      <td>2010</td>\n",
              "      <td>62</td>\n",
              "      <td>S</td>\n",
              "    </tr>\n",
              "    <tr>\n",
              "      <th>4</th>\n",
              "      <td>41.815126</td>\n",
              "      <td>NaN</td>\n",
              "      <td>14</td>\n",
              "      <td>5.0</td>\n",
              "      <td>5</td>\n",
              "      <td>2010</td>\n",
              "      <td>56</td>\n",
              "      <td>S</td>\n",
              "    </tr>\n",
              "  </tbody>\n",
              "</table>\n",
              "</div>"
            ],
            "text/plain": [
              "       Ozone  Solar  Wind  Month  Day  Year  Temp Weather\n",
              "0  41.000000  190.0     7    5.0    1  2010    67       S\n",
              "1  36.000000  118.0     8    5.0    2  2010    72       C\n",
              "2  12.000000  149.0    12    5.0    3  2010    74      PS\n",
              "3  18.000000  313.0    11    5.0    4  2010    62       S\n",
              "4  41.815126    NaN    14    5.0    5  2010    56       S"
            ]
          },
          "metadata": {},
          "execution_count": 240
        }
      ]
    },
    {
      "cell_type": "code",
      "metadata": {
        "ExecuteTime": {
          "end_time": "2020-10-30T03:12:29.329025Z",
          "start_time": "2020-10-30T03:12:29.317057Z"
        },
        "id": "vl42t_0evjoF",
        "colab": {
          "base_uri": "https://localhost:8080/"
        },
        "outputId": "0459a2e4-aadf-4a16-db88-60b3ff56b8e3"
      },
      "source": [
        "data_cleaned3.isnull().sum() "
      ],
      "execution_count": 241,
      "outputs": [
        {
          "output_type": "execute_result",
          "data": {
            "text/plain": [
              "Ozone      0\n",
              "Solar      7\n",
              "Wind       0\n",
              "Month      1\n",
              "Day        0\n",
              "Year       0\n",
              "Temp       0\n",
              "Weather    0\n",
              "dtype: int64"
            ]
          },
          "metadata": {},
          "execution_count": 241
        }
      ]
    },
    {
      "cell_type": "code",
      "metadata": {
        "colab": {
          "base_uri": "https://localhost:8080/"
        },
        "id": "yIK_D3-X5oaS",
        "outputId": "f097381e-628b-4d8f-e4aa-a012a2967dac"
      },
      "source": [
        "#Mean Value calculation for Solar column\n",
        "mean1 = data_cleaned3['Solar'].mean()\n",
        "print(mean1)"
      ],
      "execution_count": 242,
      "outputs": [
        {
          "output_type": "stream",
          "name": "stdout",
          "text": [
            "185.36666666666667\n"
          ]
        }
      ]
    },
    {
      "cell_type": "code",
      "metadata": {
        "ExecuteTime": {
          "end_time": "2020-10-30T03:26:23.234856Z",
          "start_time": "2020-10-30T03:26:23.092230Z"
        },
        "id": "bHhZDiMwvjoH",
        "colab": {
          "base_uri": "https://localhost:8080/",
          "height": 359
        },
        "outputId": "bc5ca398-4194-4d58-c02e-030a52e57ed5"
      },
      "source": [
        "data_cleaned3['Solar'] = data_cleaned3['Solar'].fillna(mean1)\n",
        "data_cleaned3.head(10)"
      ],
      "execution_count": 243,
      "outputs": [
        {
          "output_type": "execute_result",
          "data": {
            "text/html": [
              "<div>\n",
              "<style scoped>\n",
              "    .dataframe tbody tr th:only-of-type {\n",
              "        vertical-align: middle;\n",
              "    }\n",
              "\n",
              "    .dataframe tbody tr th {\n",
              "        vertical-align: top;\n",
              "    }\n",
              "\n",
              "    .dataframe thead th {\n",
              "        text-align: right;\n",
              "    }\n",
              "</style>\n",
              "<table border=\"1\" class=\"dataframe\">\n",
              "  <thead>\n",
              "    <tr style=\"text-align: right;\">\n",
              "      <th></th>\n",
              "      <th>Ozone</th>\n",
              "      <th>Solar</th>\n",
              "      <th>Wind</th>\n",
              "      <th>Month</th>\n",
              "      <th>Day</th>\n",
              "      <th>Year</th>\n",
              "      <th>Temp</th>\n",
              "      <th>Weather</th>\n",
              "    </tr>\n",
              "  </thead>\n",
              "  <tbody>\n",
              "    <tr>\n",
              "      <th>0</th>\n",
              "      <td>41.000000</td>\n",
              "      <td>190.000000</td>\n",
              "      <td>7</td>\n",
              "      <td>5.0</td>\n",
              "      <td>1</td>\n",
              "      <td>2010</td>\n",
              "      <td>67</td>\n",
              "      <td>S</td>\n",
              "    </tr>\n",
              "    <tr>\n",
              "      <th>1</th>\n",
              "      <td>36.000000</td>\n",
              "      <td>118.000000</td>\n",
              "      <td>8</td>\n",
              "      <td>5.0</td>\n",
              "      <td>2</td>\n",
              "      <td>2010</td>\n",
              "      <td>72</td>\n",
              "      <td>C</td>\n",
              "    </tr>\n",
              "    <tr>\n",
              "      <th>2</th>\n",
              "      <td>12.000000</td>\n",
              "      <td>149.000000</td>\n",
              "      <td>12</td>\n",
              "      <td>5.0</td>\n",
              "      <td>3</td>\n",
              "      <td>2010</td>\n",
              "      <td>74</td>\n",
              "      <td>PS</td>\n",
              "    </tr>\n",
              "    <tr>\n",
              "      <th>3</th>\n",
              "      <td>18.000000</td>\n",
              "      <td>313.000000</td>\n",
              "      <td>11</td>\n",
              "      <td>5.0</td>\n",
              "      <td>4</td>\n",
              "      <td>2010</td>\n",
              "      <td>62</td>\n",
              "      <td>S</td>\n",
              "    </tr>\n",
              "    <tr>\n",
              "      <th>4</th>\n",
              "      <td>41.815126</td>\n",
              "      <td>185.366667</td>\n",
              "      <td>14</td>\n",
              "      <td>5.0</td>\n",
              "      <td>5</td>\n",
              "      <td>2010</td>\n",
              "      <td>56</td>\n",
              "      <td>S</td>\n",
              "    </tr>\n",
              "    <tr>\n",
              "      <th>5</th>\n",
              "      <td>28.000000</td>\n",
              "      <td>185.366667</td>\n",
              "      <td>14</td>\n",
              "      <td>5.0</td>\n",
              "      <td>6</td>\n",
              "      <td>2010</td>\n",
              "      <td>66</td>\n",
              "      <td>C</td>\n",
              "    </tr>\n",
              "    <tr>\n",
              "      <th>6</th>\n",
              "      <td>23.000000</td>\n",
              "      <td>299.000000</td>\n",
              "      <td>8</td>\n",
              "      <td>5.0</td>\n",
              "      <td>7</td>\n",
              "      <td>2010</td>\n",
              "      <td>65</td>\n",
              "      <td>PS</td>\n",
              "    </tr>\n",
              "    <tr>\n",
              "      <th>7</th>\n",
              "      <td>19.000000</td>\n",
              "      <td>99.000000</td>\n",
              "      <td>13</td>\n",
              "      <td>5.0</td>\n",
              "      <td>8</td>\n",
              "      <td>2010</td>\n",
              "      <td>59</td>\n",
              "      <td>C</td>\n",
              "    </tr>\n",
              "    <tr>\n",
              "      <th>8</th>\n",
              "      <td>8.000000</td>\n",
              "      <td>19.000000</td>\n",
              "      <td>20</td>\n",
              "      <td>5.0</td>\n",
              "      <td>9</td>\n",
              "      <td>2010</td>\n",
              "      <td>61</td>\n",
              "      <td>PS</td>\n",
              "    </tr>\n",
              "    <tr>\n",
              "      <th>9</th>\n",
              "      <td>41.815126</td>\n",
              "      <td>194.000000</td>\n",
              "      <td>8</td>\n",
              "      <td>5.0</td>\n",
              "      <td>10</td>\n",
              "      <td>2010</td>\n",
              "      <td>69</td>\n",
              "      <td>S</td>\n",
              "    </tr>\n",
              "  </tbody>\n",
              "</table>\n",
              "</div>"
            ],
            "text/plain": [
              "       Ozone       Solar  Wind  Month  Day  Year  Temp Weather\n",
              "0  41.000000  190.000000     7    5.0    1  2010    67       S\n",
              "1  36.000000  118.000000     8    5.0    2  2010    72       C\n",
              "2  12.000000  149.000000    12    5.0    3  2010    74      PS\n",
              "3  18.000000  313.000000    11    5.0    4  2010    62       S\n",
              "4  41.815126  185.366667    14    5.0    5  2010    56       S\n",
              "5  28.000000  185.366667    14    5.0    6  2010    66       C\n",
              "6  23.000000  299.000000     8    5.0    7  2010    65      PS\n",
              "7  19.000000   99.000000    13    5.0    8  2010    59       C\n",
              "8   8.000000   19.000000    20    5.0    9  2010    61      PS\n",
              "9  41.815126  194.000000     8    5.0   10  2010    69       S"
            ]
          },
          "metadata": {},
          "execution_count": 243
        }
      ]
    },
    {
      "cell_type": "code",
      "metadata": {
        "ExecuteTime": {
          "end_time": "2020-10-30T03:17:37.120142Z",
          "start_time": "2020-10-30T03:17:36.865940Z"
        },
        "id": "Tl6F59FUvjoG"
      },
      "source": [
        "data_cleaned3=data_cleaned3.drop('Weather',axis=1)  "
      ],
      "execution_count": 244,
      "outputs": []
    },
    {
      "cell_type": "code",
      "metadata": {
        "ExecuteTime": {
          "end_time": "2020-10-30T03:17:52.432263Z",
          "start_time": "2020-10-30T03:17:52.329539Z"
        },
        "id": "4Bo-c16gvjoH",
        "colab": {
          "base_uri": "https://localhost:8080/"
        },
        "outputId": "b4b91a1d-9297-4ca4-cb2a-dbfe061cbd0c"
      },
      "source": [
        "data_cleaned3.info()"
      ],
      "execution_count": 247,
      "outputs": [
        {
          "output_type": "stream",
          "name": "stdout",
          "text": [
            "<class 'pandas.core.frame.DataFrame'>\n",
            "Int64Index: 157 entries, 0 to 157\n",
            "Data columns (total 7 columns):\n",
            " #   Column  Non-Null Count  Dtype  \n",
            "---  ------  --------------  -----  \n",
            " 0   Ozone   157 non-null    float64\n",
            " 1   Solar   157 non-null    float64\n",
            " 2   Wind    157 non-null    int64  \n",
            " 3   Month   156 non-null    float64\n",
            " 4   Day     157 non-null    int64  \n",
            " 5   Year    157 non-null    int64  \n",
            " 6   Temp    157 non-null    int64  \n",
            "dtypes: float64(3), int64(4)\n",
            "memory usage: 9.8 KB\n"
          ]
        }
      ]
    },
    {
      "cell_type": "markdown",
      "metadata": {
        "id": "LTvRJAkDvjoG"
      },
      "source": [
        "# Scatter plot and Correlation analysis"
      ]
    },
    {
      "cell_type": "code",
      "metadata": {
        "ExecuteTime": {
          "end_time": "2020-10-30T03:28:21.282334Z",
          "start_time": "2020-10-30T03:28:03.762379Z"
        },
        "id": "IO_Jt-BzvjoJ",
        "colab": {
          "base_uri": "https://localhost:8080/",
          "height": 1000
        },
        "outputId": "0338826b-1add-4b3a-bdb2-62de3be68205"
      },
      "source": [
        "# Seaborn visualization library\n",
        "import seaborn as sns\n",
        "# Create the default pairplot\n",
        "sns.pairplot(data_cleaned3) "
      ],
      "execution_count": 248,
      "outputs": [
        {
          "output_type": "execute_result",
          "data": {
            "text/plain": [
              "<seaborn.axisgrid.PairGrid at 0x7f3b914ad610>"
            ]
          },
          "metadata": {},
          "execution_count": 248
        },
        {
          "output_type": "display_data",
          "data": {
            "image/png": "[encoded data removed]",
            "text/plain": [
              "<Figure size 1260x1260 with 56 Axes>"
            ]
          },
          "metadata": {
            "needs_background": "light"
          }
        }
      ]
    },
    {
      "cell_type": "code",
      "metadata": {
        "ExecuteTime": {
          "end_time": "2020-10-30T03:29:31.698711Z",
          "start_time": "2020-10-30T03:29:31.670787Z"
        },
        "id": "wEbtbQwEvjoJ",
        "colab": {
          "base_uri": "https://localhost:8080/",
          "height": 266
        },
        "outputId": "12638492-8cc5-40ec-a0eb-84f3b79f2fb3"
      },
      "source": [
        "#Correlation\n",
        "data_cleaned3.corr() "
      ],
      "execution_count": 249,
      "outputs": [
        {
          "output_type": "execute_result",
          "data": {
            "text/html": [
              "<div>\n",
              "<style scoped>\n",
              "    .dataframe tbody tr th:only-of-type {\n",
              "        vertical-align: middle;\n",
              "    }\n",
              "\n",
              "    .dataframe tbody tr th {\n",
              "        vertical-align: top;\n",
              "    }\n",
              "\n",
              "    .dataframe thead th {\n",
              "        text-align: right;\n",
              "    }\n",
              "</style>\n",
              "<table border=\"1\" class=\"dataframe\">\n",
              "  <thead>\n",
              "    <tr style=\"text-align: right;\">\n",
              "      <th></th>\n",
              "      <th>Ozone</th>\n",
              "      <th>Solar</th>\n",
              "      <th>Wind</th>\n",
              "      <th>Month</th>\n",
              "      <th>Day</th>\n",
              "      <th>Year</th>\n",
              "      <th>Temp</th>\n",
              "    </tr>\n",
              "  </thead>\n",
              "  <tbody>\n",
              "    <tr>\n",
              "      <th>Ozone</th>\n",
              "      <td>1.000000</td>\n",
              "      <td>0.304559</td>\n",
              "      <td>-0.512566</td>\n",
              "      <td>0.132860</td>\n",
              "      <td>-0.021916</td>\n",
              "      <td>NaN</td>\n",
              "      <td>0.606500</td>\n",
              "    </tr>\n",
              "    <tr>\n",
              "      <th>Solar</th>\n",
              "      <td>0.304559</td>\n",
              "      <td>1.000000</td>\n",
              "      <td>-0.065213</td>\n",
              "      <td>-0.090902</td>\n",
              "      <td>-0.151007</td>\n",
              "      <td>NaN</td>\n",
              "      <td>0.260677</td>\n",
              "    </tr>\n",
              "    <tr>\n",
              "      <th>Wind</th>\n",
              "      <td>-0.512566</td>\n",
              "      <td>-0.065213</td>\n",
              "      <td>1.000000</td>\n",
              "      <td>-0.167450</td>\n",
              "      <td>0.044380</td>\n",
              "      <td>NaN</td>\n",
              "      <td>-0.444875</td>\n",
              "    </tr>\n",
              "    <tr>\n",
              "      <th>Month</th>\n",
              "      <td>0.132860</td>\n",
              "      <td>-0.090902</td>\n",
              "      <td>-0.167450</td>\n",
              "      <td>1.000000</td>\n",
              "      <td>0.050055</td>\n",
              "      <td>NaN</td>\n",
              "      <td>0.398516</td>\n",
              "    </tr>\n",
              "    <tr>\n",
              "      <th>Day</th>\n",
              "      <td>-0.021916</td>\n",
              "      <td>-0.151007</td>\n",
              "      <td>0.044380</td>\n",
              "      <td>0.050055</td>\n",
              "      <td>1.000000</td>\n",
              "      <td>NaN</td>\n",
              "      <td>-0.122787</td>\n",
              "    </tr>\n",
              "    <tr>\n",
              "      <th>Year</th>\n",
              "      <td>NaN</td>\n",
              "      <td>NaN</td>\n",
              "      <td>NaN</td>\n",
              "      <td>NaN</td>\n",
              "      <td>NaN</td>\n",
              "      <td>NaN</td>\n",
              "      <td>NaN</td>\n",
              "    </tr>\n",
              "    <tr>\n",
              "      <th>Temp</th>\n",
              "      <td>0.606500</td>\n",
              "      <td>0.260677</td>\n",
              "      <td>-0.444875</td>\n",
              "      <td>0.398516</td>\n",
              "      <td>-0.122787</td>\n",
              "      <td>NaN</td>\n",
              "      <td>1.000000</td>\n",
              "    </tr>\n",
              "  </tbody>\n",
              "</table>\n",
              "</div>"
            ],
            "text/plain": [
              "          Ozone     Solar      Wind     Month       Day  Year      Temp\n",
              "Ozone  1.000000  0.304559 -0.512566  0.132860 -0.021916   NaN  0.606500\n",
              "Solar  0.304559  1.000000 -0.065213 -0.090902 -0.151007   NaN  0.260677\n",
              "Wind  -0.512566 -0.065213  1.000000 -0.167450  0.044380   NaN -0.444875\n",
              "Month  0.132860 -0.090902 -0.167450  1.000000  0.050055   NaN  0.398516\n",
              "Day   -0.021916 -0.151007  0.044380  0.050055  1.000000   NaN -0.122787\n",
              "Year        NaN       NaN       NaN       NaN       NaN   NaN       NaN\n",
              "Temp   0.606500  0.260677 -0.444875  0.398516 -0.122787   NaN  1.000000"
            ]
          },
          "metadata": {},
          "execution_count": 249
        }
      ]
    },
    {
      "cell_type": "markdown",
      "metadata": {
        "id": "hVgD4ISuvjoJ"
      },
      "source": [
        "# Transformations"
      ]
    },
    {
      "cell_type": "markdown",
      "metadata": {
        "id": "fEkewAqdvjoK"
      },
      "source": [
        "#### Dummy Variable"
      ]
    },
    {
      "cell_type": "code",
      "metadata": {
        "ExecuteTime": {
          "end_time": "2020-10-30T03:29:44.897402Z",
          "start_time": "2020-10-30T03:29:44.882443Z"
        },
        "id": "wBFXowHnvjoK"
      },
      "source": [
        "#Creating dummy variable for Weather column\n",
        "data_cleaned4=pd.get_dummies(data,columns=['Weather'])"
      ],
      "execution_count": 250,
      "outputs": []
    },
    {
      "cell_type": "code",
      "metadata": {
        "ExecuteTime": {
          "end_time": "2020-10-30T03:29:47.767992Z",
          "start_time": "2020-10-30T03:29:47.579471Z"
        },
        "id": "_6fAQKSLvjoK",
        "colab": {
          "base_uri": "https://localhost:8080/",
          "height": 204
        },
        "outputId": "bb1de880-9314-4838-f430-2bc77c98ba4a"
      },
      "source": [
        "data_cleaned4.head()"
      ],
      "execution_count": 251,
      "outputs": [
        {
          "output_type": "execute_result",
          "data": {
            "text/html": [
              "<div>\n",
              "<style scoped>\n",
              "    .dataframe tbody tr th:only-of-type {\n",
              "        vertical-align: middle;\n",
              "    }\n",
              "\n",
              "    .dataframe tbody tr th {\n",
              "        vertical-align: top;\n",
              "    }\n",
              "\n",
              "    .dataframe thead th {\n",
              "        text-align: right;\n",
              "    }\n",
              "</style>\n",
              "<table border=\"1\" class=\"dataframe\">\n",
              "  <thead>\n",
              "    <tr style=\"text-align: right;\">\n",
              "      <th></th>\n",
              "      <th>Ozone</th>\n",
              "      <th>Solar.R</th>\n",
              "      <th>Wind</th>\n",
              "      <th>Temp C</th>\n",
              "      <th>Month</th>\n",
              "      <th>Day</th>\n",
              "      <th>Year</th>\n",
              "      <th>Temp</th>\n",
              "      <th>Weather_C</th>\n",
              "      <th>Weather_PS</th>\n",
              "      <th>Weather_S</th>\n",
              "    </tr>\n",
              "  </thead>\n",
              "  <tbody>\n",
              "    <tr>\n",
              "      <th>0</th>\n",
              "      <td>41.0</td>\n",
              "      <td>190.0</td>\n",
              "      <td>7</td>\n",
              "      <td>67.0</td>\n",
              "      <td>5.0</td>\n",
              "      <td>1</td>\n",
              "      <td>2010</td>\n",
              "      <td>67</td>\n",
              "      <td>0</td>\n",
              "      <td>0</td>\n",
              "      <td>1</td>\n",
              "    </tr>\n",
              "    <tr>\n",
              "      <th>1</th>\n",
              "      <td>36.0</td>\n",
              "      <td>118.0</td>\n",
              "      <td>8</td>\n",
              "      <td>72.0</td>\n",
              "      <td>5.0</td>\n",
              "      <td>2</td>\n",
              "      <td>2010</td>\n",
              "      <td>72</td>\n",
              "      <td>1</td>\n",
              "      <td>0</td>\n",
              "      <td>0</td>\n",
              "    </tr>\n",
              "    <tr>\n",
              "      <th>2</th>\n",
              "      <td>12.0</td>\n",
              "      <td>149.0</td>\n",
              "      <td>12</td>\n",
              "      <td>74.0</td>\n",
              "      <td>5.0</td>\n",
              "      <td>3</td>\n",
              "      <td>2010</td>\n",
              "      <td>74</td>\n",
              "      <td>0</td>\n",
              "      <td>1</td>\n",
              "      <td>0</td>\n",
              "    </tr>\n",
              "    <tr>\n",
              "      <th>3</th>\n",
              "      <td>18.0</td>\n",
              "      <td>313.0</td>\n",
              "      <td>11</td>\n",
              "      <td>62.0</td>\n",
              "      <td>5.0</td>\n",
              "      <td>4</td>\n",
              "      <td>2010</td>\n",
              "      <td>62</td>\n",
              "      <td>0</td>\n",
              "      <td>0</td>\n",
              "      <td>1</td>\n",
              "    </tr>\n",
              "    <tr>\n",
              "      <th>4</th>\n",
              "      <td>NaN</td>\n",
              "      <td>NaN</td>\n",
              "      <td>14</td>\n",
              "      <td>56.0</td>\n",
              "      <td>5.0</td>\n",
              "      <td>5</td>\n",
              "      <td>2010</td>\n",
              "      <td>56</td>\n",
              "      <td>0</td>\n",
              "      <td>0</td>\n",
              "      <td>1</td>\n",
              "    </tr>\n",
              "  </tbody>\n",
              "</table>\n",
              "</div>"
            ],
            "text/plain": [
              "   Ozone  Solar.R  Wind  Temp C  ...  Temp  Weather_C  Weather_PS  Weather_S\n",
              "0   41.0    190.0     7    67.0  ...    67          0           0          1\n",
              "1   36.0    118.0     8    72.0  ...    72          1           0          0\n",
              "2   12.0    149.0    12    74.0  ...    74          0           1          0\n",
              "3   18.0    313.0    11    62.0  ...    62          0           0          1\n",
              "4    NaN      NaN    14    56.0  ...    56          0           0          1\n",
              "\n",
              "[5 rows x 11 columns]"
            ]
          },
          "metadata": {},
          "execution_count": 251
        }
      ]
    },
    {
      "cell_type": "code",
      "metadata": {
        "ExecuteTime": {
          "end_time": "2020-10-30T03:30:07.228317Z",
          "start_time": "2020-10-30T03:30:07.063226Z"
        },
        "id": "d6bJVueLvjoL",
        "colab": {
          "base_uri": "https://localhost:8080/",
          "height": 204
        },
        "outputId": "0d27a063-2442-426e-8803-48634549e2d6"
      },
      "source": [
        "data_cleaned4=data_cleaned4.dropna() \n",
        "data_cleaned4.head()"
      ],
      "execution_count": 252,
      "outputs": [
        {
          "output_type": "execute_result",
          "data": {
            "text/html": [
              "<div>\n",
              "<style scoped>\n",
              "    .dataframe tbody tr th:only-of-type {\n",
              "        vertical-align: middle;\n",
              "    }\n",
              "\n",
              "    .dataframe tbody tr th {\n",
              "        vertical-align: top;\n",
              "    }\n",
              "\n",
              "    .dataframe thead th {\n",
              "        text-align: right;\n",
              "    }\n",
              "</style>\n",
              "<table border=\"1\" class=\"dataframe\">\n",
              "  <thead>\n",
              "    <tr style=\"text-align: right;\">\n",
              "      <th></th>\n",
              "      <th>Ozone</th>\n",
              "      <th>Solar.R</th>\n",
              "      <th>Wind</th>\n",
              "      <th>Temp C</th>\n",
              "      <th>Month</th>\n",
              "      <th>Day</th>\n",
              "      <th>Year</th>\n",
              "      <th>Temp</th>\n",
              "      <th>Weather_C</th>\n",
              "      <th>Weather_PS</th>\n",
              "      <th>Weather_S</th>\n",
              "    </tr>\n",
              "  </thead>\n",
              "  <tbody>\n",
              "    <tr>\n",
              "      <th>0</th>\n",
              "      <td>41.0</td>\n",
              "      <td>190.0</td>\n",
              "      <td>7</td>\n",
              "      <td>67.0</td>\n",
              "      <td>5.0</td>\n",
              "      <td>1</td>\n",
              "      <td>2010</td>\n",
              "      <td>67</td>\n",
              "      <td>0</td>\n",
              "      <td>0</td>\n",
              "      <td>1</td>\n",
              "    </tr>\n",
              "    <tr>\n",
              "      <th>1</th>\n",
              "      <td>36.0</td>\n",
              "      <td>118.0</td>\n",
              "      <td>8</td>\n",
              "      <td>72.0</td>\n",
              "      <td>5.0</td>\n",
              "      <td>2</td>\n",
              "      <td>2010</td>\n",
              "      <td>72</td>\n",
              "      <td>1</td>\n",
              "      <td>0</td>\n",
              "      <td>0</td>\n",
              "    </tr>\n",
              "    <tr>\n",
              "      <th>2</th>\n",
              "      <td>12.0</td>\n",
              "      <td>149.0</td>\n",
              "      <td>12</td>\n",
              "      <td>74.0</td>\n",
              "      <td>5.0</td>\n",
              "      <td>3</td>\n",
              "      <td>2010</td>\n",
              "      <td>74</td>\n",
              "      <td>0</td>\n",
              "      <td>1</td>\n",
              "      <td>0</td>\n",
              "    </tr>\n",
              "    <tr>\n",
              "      <th>3</th>\n",
              "      <td>18.0</td>\n",
              "      <td>313.0</td>\n",
              "      <td>11</td>\n",
              "      <td>62.0</td>\n",
              "      <td>5.0</td>\n",
              "      <td>4</td>\n",
              "      <td>2010</td>\n",
              "      <td>62</td>\n",
              "      <td>0</td>\n",
              "      <td>0</td>\n",
              "      <td>1</td>\n",
              "    </tr>\n",
              "    <tr>\n",
              "      <th>6</th>\n",
              "      <td>23.0</td>\n",
              "      <td>299.0</td>\n",
              "      <td>8</td>\n",
              "      <td>65.0</td>\n",
              "      <td>5.0</td>\n",
              "      <td>7</td>\n",
              "      <td>2010</td>\n",
              "      <td>65</td>\n",
              "      <td>0</td>\n",
              "      <td>1</td>\n",
              "      <td>0</td>\n",
              "    </tr>\n",
              "  </tbody>\n",
              "</table>\n",
              "</div>"
            ],
            "text/plain": [
              "   Ozone  Solar.R  Wind  Temp C  ...  Temp  Weather_C  Weather_PS  Weather_S\n",
              "0   41.0    190.0     7    67.0  ...    67          0           0          1\n",
              "1   36.0    118.0     8    72.0  ...    72          1           0          0\n",
              "2   12.0    149.0    12    74.0  ...    74          0           1          0\n",
              "3   18.0    313.0    11    62.0  ...    62          0           0          1\n",
              "6   23.0    299.0     8    65.0  ...    65          0           1          0\n",
              "\n",
              "[5 rows x 11 columns]"
            ]
          },
          "metadata": {},
          "execution_count": 252
        }
      ]
    },
    {
      "cell_type": "markdown",
      "metadata": {
        "id": "0VAMzZfEvjoL"
      },
      "source": [
        "#### Normalization of the data"
      ]
    },
    {
      "cell_type": "code",
      "metadata": {
        "ExecuteTime": {
          "end_time": "2020-10-29T16:47:10.769214Z",
          "start_time": "2020-10-29T16:47:06.566216Z"
        },
        "id": "OMGjl3uqvjoL"
      },
      "source": [
        "#Normalization of the data\n",
        "from numpy import set_printoptions\n",
        "from sklearn.preprocessing import MinMaxScaler"
      ],
      "execution_count": 253,
      "outputs": []
    },
    {
      "cell_type": "code",
      "metadata": {
        "ExecuteTime": {
          "end_time": "2020-10-29T16:47:15.694812Z",
          "start_time": "2020-10-29T16:47:15.684839Z"
        },
        "id": "gTHnnX7UvjoM",
        "colab": {
          "base_uri": "https://localhost:8080/"
        },
        "outputId": "7ebd7962-ce0a-417d-fa64-947384fe95d5"
      },
      "source": [
        "data_cleaned4.values"
      ],
      "execution_count": 254,
      "outputs": [
        {
          "output_type": "execute_result",
          "data": {
            "text/plain": [
              "array([[ 41., 190.,   7., ...,   0.,   0.,   1.],\n",
              "       [ 36., 118.,   8., ...,   1.,   0.,   0.],\n",
              "       [ 12., 149.,  12., ...,   0.,   1.,   0.],\n",
              "       ...,\n",
              "       [ 30., 193.,   6., ...,   0.,   1.,   0.],\n",
              "       [ 14., 191.,  14., ...,   0.,   0.,   1.],\n",
              "       [ 18., 131.,   8., ...,   1.,   0.,   0.]])"
            ]
          },
          "metadata": {},
          "execution_count": 254
        }
      ]
    },
    {
      "cell_type": "code",
      "metadata": {
        "id": "zvR_Jg3CvjoM",
        "colab": {
          "base_uri": "https://localhost:8080/"
        },
        "outputId": "71fa1c1d-3d29-4475-c421-0974face7942"
      },
      "source": [
        "# Normalization using MinMaxScaler\n",
        "array = data_cleaned4.values\n",
        "\n",
        "scaler = MinMaxScaler(feature_range=(0,1))\n",
        "rescaledX = scaler.fit_transform(array[:,0:5])\n",
        "\n",
        "#transformed data\n",
        "set_printoptions(precision=2)\n",
        "print(rescaledX[0:5,:])"
      ],
      "execution_count": 255,
      "outputs": [
        {
          "output_type": "stream",
          "name": "stdout",
          "text": [
            "[[0.24 0.56 0.28 0.25 0.  ]\n",
            " [0.21 0.34 0.33 0.38 0.  ]\n",
            " [0.07 0.43 0.56 0.43 0.  ]\n",
            " [0.1  0.94 0.5  0.12 0.  ]\n",
            " [0.13 0.89 0.33 0.2  0.  ]]\n"
          ]
        }
      ]
    },
    {
      "cell_type": "code",
      "metadata": {
        "id": "-XcQ7vf_vjoM"
      },
      "source": [
        "# Standardize data (0 mean, 1 stdev)\n",
        "from sklearn.preprocessing import StandardScaler"
      ],
      "execution_count": 256,
      "outputs": []
    },
    {
      "cell_type": "code",
      "metadata": {
        "id": "8ySQmKqfvjoM",
        "colab": {
          "base_uri": "https://localhost:8080/"
        },
        "outputId": "db4058b9-50c3-4852-875f-90faeec29811"
      },
      "source": [
        "# Standardize using StandardScaler\n",
        "array = data_cleaned4.values\n",
        "scaler = StandardScaler().fit(array)\n",
        "rescaledX1 = scaler.transform(array)\n",
        "\n",
        "# summarize transformed data\n",
        "set_printoptions(precision=2)\n",
        "print(rescaledX1[0:5,:])"
      ],
      "execution_count": 257,
      "outputs": [
        {
          "output_type": "stream",
          "name": "stdout",
          "text": [
            "[[-0.02  0.05 -0.69 -1.15 -1.53 -1.7   0.   -1.15 -0.64 -0.68  1.28]\n",
            " [-0.17 -0.75 -0.41 -0.62 -1.53 -1.59  0.   -0.62  1.57 -0.68 -0.78]\n",
            " [-0.9  -0.41  0.73 -0.4  -1.53 -1.48  0.   -0.4  -0.64  1.47 -0.78]\n",
            " [-0.72  1.43  0.45 -1.69 -1.53 -1.36  0.   -1.69 -0.64 -0.68  1.28]\n",
            " [-0.57  1.27 -0.41 -1.37 -1.53 -1.02  0.   -1.37 -0.64  1.47 -0.78]]\n"
          ]
        }
      ]
    },
    {
      "cell_type": "markdown",
      "metadata": {
        "id": "rJgxcyPgvjoN"
      },
      "source": [
        "# Speed up the EDA process"
      ]
    },
    {
      "cell_type": "code",
      "metadata": {
        "id": "3yTVte9vKPFJ"
      },
      "source": [
        "import pandas_profiling as pp\n",
        "import sweetviz as sv"
      ],
      "execution_count": 259,
      "outputs": []
    },
    {
      "cell_type": "code",
      "metadata": {
        "ExecuteTime": {
          "end_time": "2020-10-30T03:31:11.474808Z",
          "start_time": "2020-10-30T03:31:02.109914Z"
        },
        "id": "5Cy10QAtvjoN",
        "colab": {
          "base_uri": "https://localhost:8080/",
          "height": 66,
          "referenced_widgets": [
            "96d48ef3374449e2a756d4e697b2538d",
            "c49c9aa60604431aa77c1c1378b52702",
            "57df50e3ead944ae8d635bccd4254d36",
            "c2009dd70d52433fb26ac9d803cda080",
            "e9e779f6d4a64b8eaae92b8198779aa2",
            "ff74fdc62510426d9ca8fe2227a3ad08",
            "fc7c68b7a9b644399665bac0b36e7e20",
            "5c4f305e46bd4947975bdf744f3b2144",
            "3bb5db72016b4898b17651d1a045a5a2",
            "70cf5a96aaa9458cb122c361059eb245",
            "84c7fc51b1194d988ee31d796a5e66aa"
          ]
        },
        "outputId": "b084ae58-d546-43db-e88d-45bacf866e92"
      },
      "source": [
        "sweet_report = sv.analyze(data1)\n",
        "sweet_report.show_html('weather_report.html')  "
      ],
      "execution_count": 258,
      "outputs": [
        {
          "output_type": "display_data",
          "data": {
            "application/vnd.jupyter.widget-view+json": {
              "model_id": "96d48ef3374449e2a756d4e697b2538d",
              "version_minor": 0,
              "version_major": 2
            },
            "text/plain": [
              "                                             |          | [  0%]   00:00 -> (? left)"
            ]
          },
          "metadata": {}
        },
        {
          "output_type": "stream",
          "name": "stdout",
          "text": [
            "Report weather_report.html was generated! NOTEBOOK/COLAB USERS: the web browser MAY not pop up, regardless, the report IS saved in your notebook/colab files.\n"
          ]
        }
      ]
    },
    {
      "cell_type": "code",
      "metadata": {
        "id": "9BN9aZzqLFlM"
      },
      "source": [
        "data = pd.read_csv(\"data_clean1.csv\",index_col=0)"
      ],
      "execution_count": 272,
      "outputs": []
    },
    {
      "cell_type": "code",
      "metadata": {
        "id": "4Futfk2TSELC"
      },
      "source": [
        "EDA_report= pp.ProfileReport(data)\n",
        "EDA_report.to_file(output_file='report.html')"
      ],
      "execution_count": null,
      "outputs": []
    }
  ]
}