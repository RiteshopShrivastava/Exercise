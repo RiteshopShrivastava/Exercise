{
  "nbformat": 4,
  "nbformat_minor": 0,
  "metadata": {
    "kernelspec": {
      "display_name": "Python 3",
      "language": "python",
      "name": "python3"
    },
    "language_info": {
      "codemirror_mode": {
        "name": "ipython",
        "version": 3
      },
      "file_extension": ".py",
      "mimetype": "text/x-python",
      "name": "python",
      "nbconvert_exporter": "python",
      "pygments_lexer": "ipython3",
      "version": "3.7.4"
    },
    "colab": {
      "name": "T_SNE.ipynb",
      "provenance": [],
      "collapsed_sections": [],
      "include_colab_link": true
    }
  },
  "cells": [
    {
      "cell_type": "markdown",
      "metadata": {
        "id": "view-in-github",
        "colab_type": "text"
      },
      "source": [
        "<a href=\"https://colab.research.google.com/github/RiteshopShrivastava/Python/blob/main/T_SNE.ipynb\" target=\"_parent\"><img src=\"https://colab.research.google.com/assets/colab-badge.svg\" alt=\"Open In Colab\"/></a>"
      ]
    },
    {
      "cell_type": "code",
      "metadata": {
        "id": "ij9Bp9Ak2Oug",
        "colab": {
          "base_uri": "https://localhost:8080/"
        },
        "outputId": "01499a11-6b59-4083-a278-de86e00f1ac5"
      },
      "source": [
        "!pip install bioinfokit"
      ],
      "execution_count": 2,
      "outputs": [
        {
          "output_type": "stream",
          "text": [
            "Collecting bioinfokit\n",
            "  Downloading bioinfokit-2.0.6.tar.gz (84 kB)\n",
            "\u001b[?25l\r\u001b[K     |███▉                            | 10 kB 15.2 MB/s eta 0:00:01\r\u001b[K     |███████▊                        | 20 kB 17.2 MB/s eta 0:00:01\r\u001b[K     |███████████▋                    | 30 kB 13.4 MB/s eta 0:00:01\r\u001b[K     |███████████████▌                | 40 kB 10.0 MB/s eta 0:00:01\r\u001b[K     |███████████████████▍            | 51 kB 5.3 MB/s eta 0:00:01\r\u001b[K     |███████████████████████▎        | 61 kB 5.1 MB/s eta 0:00:01\r\u001b[K     |███████████████████████████▏    | 71 kB 5.6 MB/s eta 0:00:01\r\u001b[K     |███████████████████████████████ | 81 kB 6.2 MB/s eta 0:00:01\r\u001b[K     |████████████████████████████████| 84 kB 2.0 MB/s \n",
            "\u001b[?25hRequirement already satisfied: pandas in /usr/local/lib/python3.7/dist-packages (from bioinfokit) (1.1.5)\n",
            "Requirement already satisfied: numpy in /usr/local/lib/python3.7/dist-packages (from bioinfokit) (1.19.5)\n",
            "Requirement already satisfied: matplotlib in /usr/local/lib/python3.7/dist-packages (from bioinfokit) (3.2.2)\n",
            "Requirement already satisfied: scipy in /usr/local/lib/python3.7/dist-packages (from bioinfokit) (1.4.1)\n",
            "Requirement already satisfied: scikit-learn in /usr/local/lib/python3.7/dist-packages (from bioinfokit) (0.22.2.post1)\n",
            "Requirement already satisfied: seaborn in /usr/local/lib/python3.7/dist-packages (from bioinfokit) (0.11.1)\n",
            "Requirement already satisfied: matplotlib-venn in /usr/local/lib/python3.7/dist-packages (from bioinfokit) (0.11.6)\n",
            "Requirement already satisfied: tabulate in /usr/local/lib/python3.7/dist-packages (from bioinfokit) (0.8.9)\n",
            "Requirement already satisfied: statsmodels in /usr/local/lib/python3.7/dist-packages (from bioinfokit) (0.10.2)\n",
            "Collecting textwrap3\n",
            "  Downloading textwrap3-0.9.2-py2.py3-none-any.whl (12 kB)\n",
            "Collecting adjustText\n",
            "  Downloading adjustText-0.7.3.tar.gz (7.5 kB)\n",
            "Requirement already satisfied: python-dateutil>=2.1 in /usr/local/lib/python3.7/dist-packages (from matplotlib->bioinfokit) (2.8.2)\n",
            "Requirement already satisfied: kiwisolver>=1.0.1 in /usr/local/lib/python3.7/dist-packages (from matplotlib->bioinfokit) (1.3.1)\n",
            "Requirement already satisfied: cycler>=0.10 in /usr/local/lib/python3.7/dist-packages (from matplotlib->bioinfokit) (0.10.0)\n",
            "Requirement already satisfied: pyparsing!=2.0.4,!=2.1.2,!=2.1.6,>=2.0.1 in /usr/local/lib/python3.7/dist-packages (from matplotlib->bioinfokit) (2.4.7)\n",
            "Requirement already satisfied: six in /usr/local/lib/python3.7/dist-packages (from cycler>=0.10->matplotlib->bioinfokit) (1.15.0)\n",
            "Requirement already satisfied: pytz>=2017.2 in /usr/local/lib/python3.7/dist-packages (from pandas->bioinfokit) (2018.9)\n",
            "Requirement already satisfied: joblib>=0.11 in /usr/local/lib/python3.7/dist-packages (from scikit-learn->bioinfokit) (1.0.1)\n",
            "Requirement already satisfied: patsy>=0.4.0 in /usr/local/lib/python3.7/dist-packages (from statsmodels->bioinfokit) (0.5.1)\n",
            "Building wheels for collected packages: bioinfokit, adjustText\n",
            "  Building wheel for bioinfokit (setup.py) ... \u001b[?25l\u001b[?25hdone\n",
            "  Created wheel for bioinfokit: filename=bioinfokit-2.0.6-py3-none-any.whl size=57066 sha256=e97cd6dc633cdc47671416029ed76f73099a65f341b1a8713c925cca27e66134\n",
            "  Stored in directory: /root/.cache/pip/wheels/38/b2/a0/3f65c463d3faababa8cb5f3076e3bfc1c49fea2a736a49038a\n",
            "  Building wheel for adjustText (setup.py) ... \u001b[?25l\u001b[?25hdone\n",
            "  Created wheel for adjustText: filename=adjustText-0.7.3-py3-none-any.whl size=7094 sha256=51255385d9b1f9767053c5044a5282140463e6f6b5774379b0b318218f290ceb\n",
            "  Stored in directory: /root/.cache/pip/wheels/2f/98/32/afbf902d8f040fadfdf0a44357e4ab750afe165d873bf5893d\n",
            "Successfully built bioinfokit adjustText\n",
            "Installing collected packages: textwrap3, adjustText, bioinfokit\n",
            "Successfully installed adjustText-0.7.3 bioinfokit-2.0.6 textwrap3-0.9.2\n"
          ],
          "name": "stdout"
        }
      ]
    },
    {
      "cell_type": "code",
      "metadata": {
        "id": "pzuvU2uJ1i7U"
      },
      "source": [
        "from pandas import read_csv\n",
        "import pandas as pd\n",
        "\n",
        "from sklearn.manifold import TSNE\n",
        "from bioinfokit.visuz import cluster"
      ],
      "execution_count": 3,
      "outputs": []
    },
    {
      "cell_type": "code",
      "metadata": {
        "id": "XV1fMmqK1i7a"
      },
      "source": [
        "# load data\n",
        "filename = 'TSNE_data_sri'\n",
        "dataframe = pd.read_csv(filename)"
      ],
      "execution_count": 25,
      "outputs": []
    },
    {
      "cell_type": "code",
      "metadata": {
        "id": "Fg8MOLh_iPjl",
        "colab": {
          "base_uri": "https://localhost:8080/"
        },
        "outputId": "5f4afe1a-1dbd-43e2-f7ab-634936b8c804"
      },
      "source": [
        "dataframe.columns"
      ],
      "execution_count": 26,
      "outputs": [
        {
          "output_type": "execute_result",
          "data": {
            "text/plain": [
              "Index(['diagnosis', 'radius_mean', 'texture_mean', 'perimeter_mean',\n",
              "       'area_mean', 'smoothness_mean', 'compactness_mean', 'concavity_mean',\n",
              "       'concave points_mean', 'symmetry_mean', 'fractal_dimension_mean',\n",
              "       'radius_se', 'texture_se', 'perimeter_se', 'area_se', 'smoothness_se',\n",
              "       'compactness_se', 'concavity_se', 'concave points_se', 'symmetry_se',\n",
              "       'fractal_dimension_se', 'radius_worst', 'texture_worst',\n",
              "       'perimeter_worst', 'area_worst', 'smoothness_worst',\n",
              "       'compactness_worst', 'concavity_worst', 'concave points_worst',\n",
              "       'symmetry_worst', 'fractal_dimension_worst'],\n",
              "      dtype='object')"
            ]
          },
          "metadata": {},
          "execution_count": 26
        }
      ]
    },
    {
      "cell_type": "code",
      "metadata": {
        "id": "NBVMFwzA1i7e"
      },
      "source": [
        "# Split-out validation dataset\n",
        "array = dataframe.values\n",
        "# separate array into input and output components\n",
        "X = array[:,1:]\n",
        "Y = array[:,0]"
      ],
      "execution_count": 27,
      "outputs": []
    },
    {
      "cell_type": "code",
      "metadata": {
        "id": "6fveh_yh1i7i"
      },
      "source": [
        "#TSNE visualization\n",
        "from bioinfokit.visuz import cluster\n",
        "\n",
        "data_tsne = TSNE(n_components=2).fit_transform(X)\n",
        "color_class = dataframe['diagnosis'].to_numpy()\n",
        "cluster.tsneplot(score=data_tsne, colorlist=color_class, legendpos='upper right',legendanchor=(1.15, 1))\n",
        "\n",
        "\n",
        "#Plot will be stored in the default directory"
      ],
      "execution_count": 28,
      "outputs": []
    },
    {
      "cell_type": "code",
      "metadata": {
        "id": "nT5egfAq1i7p",
        "colab": {
          "base_uri": "https://localhost:8080/"
        },
        "outputId": "731f9d80-4f0d-4188-aefc-ba8acdc01846"
      },
      "source": [
        "data_tsne"
      ],
      "execution_count": 29,
      "outputs": [
        {
          "output_type": "execute_result",
          "data": {
            "text/plain": [
              "array([[-31.508116 ,   0.65322  ],\n",
              "       [-28.760523 ,  -0.1819819],\n",
              "       [-26.87606  ,   4.382922 ],\n",
              "       ...,\n",
              "       [-14.579894 ,  18.97462  ],\n",
              "       [-28.073679 ,   1.9847502],\n",
              "       [ -5.9524407, -40.63252  ]], dtype=float32)"
            ]
          },
          "metadata": {},
          "execution_count": 29
        }
      ]
    },
    {
      "cell_type": "code",
      "metadata": {
        "id": "o1nchdZhjKnt"
      },
      "source": [
        ""
      ],
      "execution_count": null,
      "outputs": []
    }
  ]
}