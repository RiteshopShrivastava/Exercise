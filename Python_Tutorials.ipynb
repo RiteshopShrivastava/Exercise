{
  "nbformat": 4,
  "nbformat_minor": 0,
  "metadata": {
    "colab": {
      "name": "Python_Tutorials.ipynb",
      "provenance": [],
      "collapsed_sections": [],
      "authorship_tag": "ABX9TyPQT7U39HzySHxsm7ZDuMnS",
      "include_colab_link": true
    },
    "kernelspec": {
      "name": "python3",
      "display_name": "Python 3"
    },
    "language_info": {
      "name": "python"
    }
  },
  "cells": [
    {
      "cell_type": "markdown",
      "metadata": {
        "id": "view-in-github",
        "colab_type": "text"
      },
      "source": [
        "<a href=\"https://colab.research.google.com/github/RiteshopShrivastava/Python/blob/main/Python_Tutorials.ipynb\" target=\"_parent\"><img src=\"https://colab.research.google.com/assets/colab-badge.svg\" alt=\"Open In Colab\"/></a>"
      ]
    },
    {
      "cell_type": "markdown",
      "metadata": {
        "id": "6pYhGba6TaE3"
      },
      "source": [
        "# **Python Baiscs**"
      ]
    },
    {
      "cell_type": "code",
      "metadata": {
        "id": "GFU8K6l36IYo"
      },
      "source": [
        "dir(__builtins__)"
      ],
      "execution_count": null,
      "outputs": []
    },
    {
      "cell_type": "code",
      "metadata": {
        "id": "2xHyWrv26Iaw"
      },
      "source": [
        "help(zip)"
      ],
      "execution_count": null,
      "outputs": []
    },
    {
      "cell_type": "code",
      "metadata": {
        "id": "3ppA75nH6IeF"
      },
      "source": [
        "import math\n",
        "help(math)"
      ],
      "execution_count": null,
      "outputs": []
    },
    {
      "cell_type": "code",
      "metadata": {
        "colab": {
          "base_uri": "https://localhost:8080/"
        },
        "id": "NZFmRFK_TMH1",
        "outputId": "daefbd5c-7519-486a-86ed-146267460665"
      },
      "source": [
        "x =  int(input('Please enter 1st number'))\n",
        "y =  int(input('Please enter 2nd number'))\n",
        "z =  int(input('Please enter 3rd number'))"
      ],
      "execution_count": null,
      "outputs": [
        {
          "name": "stdout",
          "output_type": "stream",
          "text": [
            "Please enter 1st number10\n",
            "Please enter 2nd number20\n",
            "Please enter 3rd number30\n"
          ]
        }
      ]
    },
    {
      "cell_type": "code",
      "metadata": {
        "colab": {
          "base_uri": "https://localhost:8080/"
        },
        "id": "xeBlwd2tbY9r",
        "outputId": "9e393c48-132a-49e4-e8c8-06e568f9c30d"
      },
      "source": [
        "print('Maximum number is')\n",
        "print(max(x,y,z))"
      ],
      "execution_count": null,
      "outputs": [
        {
          "output_type": "stream",
          "name": "stdout",
          "text": [
            "Maximum number is\n",
            "30\n"
          ]
        }
      ]
    },
    {
      "cell_type": "code",
      "metadata": {
        "id": "kcDA3AeYbZAo"
      },
      "source": [
        "b=5"
      ],
      "execution_count": null,
      "outputs": []
    },
    {
      "cell_type": "code",
      "metadata": {
        "id": "KtQ8YdAGbZCr"
      },
      "source": [
        "b +=5"
      ],
      "execution_count": null,
      "outputs": []
    },
    {
      "cell_type": "code",
      "metadata": {
        "colab": {
          "base_uri": "https://localhost:8080/"
        },
        "id": "5IV2vNffbZFw",
        "outputId": "7e8b66c3-3b86-416b-8c5e-1f8963870468"
      },
      "source": [
        "b"
      ],
      "execution_count": null,
      "outputs": [
        {
          "output_type": "execute_result",
          "data": {
            "text/plain": [
              "10"
            ]
          },
          "metadata": {},
          "execution_count": 39
        }
      ]
    },
    {
      "cell_type": "code",
      "metadata": {
        "id": "534jPYxpbZIX"
      },
      "source": [
        "b ^=5"
      ],
      "execution_count": null,
      "outputs": []
    },
    {
      "cell_type": "code",
      "metadata": {
        "colab": {
          "base_uri": "https://localhost:8080/"
        },
        "id": "gmXUmwTLbZKf",
        "outputId": "4365d413-251d-4169-9dd4-85449cf29f4f"
      },
      "source": [
        "b"
      ],
      "execution_count": null,
      "outputs": [
        {
          "output_type": "execute_result",
          "data": {
            "text/plain": [
              "15"
            ]
          },
          "metadata": {},
          "execution_count": 41
        }
      ]
    },
    {
      "cell_type": "code",
      "metadata": {
        "id": "aoSvZFCCbZMN"
      },
      "source": [
        "b ^=5"
      ],
      "execution_count": null,
      "outputs": []
    },
    {
      "cell_type": "code",
      "metadata": {
        "colab": {
          "base_uri": "https://localhost:8080/"
        },
        "id": "YlplF6swbZOU",
        "outputId": "e38adac2-9df9-45d1-f7b3-09f9f1a49baf"
      },
      "source": [
        "b"
      ],
      "execution_count": null,
      "outputs": [
        {
          "output_type": "execute_result",
          "data": {
            "text/plain": [
              "10"
            ]
          },
          "metadata": {},
          "execution_count": 43
        }
      ]
    },
    {
      "cell_type": "code",
      "metadata": {
        "id": "OPGe4pw2bZQd",
        "colab": {
          "base_uri": "https://localhost:8080/"
        },
        "outputId": "e3d8bdcc-e53c-4ffd-cb7a-2683308b99a3"
      },
      "source": [
        "alpha =5 #int (input('alpha ='))\n",
        "beta = 10 #int(input('beta ='))\n",
        "gamma = 15 #int(input('gamma='))\n",
        "\n",
        "sum = alpha+beta+gamma\n",
        "print(sum)\n",
        "difference = sum - 5\n",
        "print(difference)\n"
      ],
      "execution_count": null,
      "outputs": [
        {
          "output_type": "stream",
          "name": "stdout",
          "text": [
            "30\n",
            "25\n"
          ]
        }
      ]
    },
    {
      "cell_type": "code",
      "metadata": {
        "colab": {
          "base_uri": "https://localhost:8080/"
        },
        "id": "aFVoNo33b7GR",
        "outputId": "f1f08561-b819-455c-8f44-c4fb4fb7c083"
      },
      "source": [
        "difference += 5\n",
        "difference"
      ],
      "execution_count": null,
      "outputs": [
        {
          "output_type": "execute_result",
          "data": {
            "text/plain": [
              "35"
            ]
          },
          "metadata": {},
          "execution_count": 35
        }
      ]
    },
    {
      "cell_type": "code",
      "metadata": {
        "colab": {
          "base_uri": "https://localhost:8080/"
        },
        "id": "3GRIPcKbb7Ir",
        "outputId": "6cb17378-dfa9-4ecc-f863-236c0993d9f5"
      },
      "source": [
        ""
      ],
      "execution_count": null,
      "outputs": [
        {
          "output_type": "execute_result",
          "data": {
            "text/plain": [
              "30"
            ]
          },
          "metadata": {},
          "execution_count": 34
        }
      ]
    },
    {
      "cell_type": "code",
      "metadata": {
        "colab": {
          "base_uri": "https://localhost:8080/"
        },
        "id": "DSmWOUENb7LG",
        "outputId": "195c4de8-e1ec-476d-e9aa-7e0ee7c76db3"
      },
      "source": [
        "difference &=5\n",
        "difference"
      ],
      "execution_count": null,
      "outputs": [
        {
          "output_type": "execute_result",
          "data": {
            "text/plain": [
              "1"
            ]
          },
          "metadata": {},
          "execution_count": 36
        }
      ]
    },
    {
      "cell_type": "code",
      "metadata": {
        "colab": {
          "base_uri": "https://localhost:8080/"
        },
        "id": "5TSIdL4ab7Pu",
        "outputId": "bbb5b76d-695e-4fce-eba2-10365b2039f0"
      },
      "source": [
        "x = 13\n",
        "y= x | 25\n",
        "y"
      ],
      "execution_count": null,
      "outputs": [
        {
          "output_type": "execute_result",
          "data": {
            "text/plain": [
              "29"
            ]
          },
          "metadata": {},
          "execution_count": 79
        }
      ]
    },
    {
      "cell_type": "code",
      "metadata": {
        "id": "c416--RMleae",
        "colab": {
          "base_uri": "https://localhost:8080/"
        },
        "outputId": "c1ad3ecf-8490-4ef1-e0a7-811bbb376de9"
      },
      "source": [
        "type(x)"
      ],
      "execution_count": null,
      "outputs": [
        {
          "output_type": "execute_result",
          "data": {
            "text/plain": [
              "int"
            ]
          },
          "metadata": {},
          "execution_count": 80
        }
      ]
    },
    {
      "cell_type": "markdown",
      "metadata": {
        "id": "3Z1ixfDPYp8h"
      },
      "source": [
        "# **Python Variables**"
      ]
    },
    {
      "cell_type": "markdown",
      "metadata": {
        "id": "GOXBL3uYZHpL"
      },
      "source": [
        "**Python Variables - Assign Multiple Values**"
      ]
    },
    {
      "cell_type": "code",
      "metadata": {
        "id": "Sqio2E_9leiu",
        "colab": {
          "base_uri": "https://localhost:8080/"
        },
        "outputId": "232bef66-e9ff-4abf-b277-15431fff737a"
      },
      "source": [
        "#Many Values to Multiple Variables\n",
        "\n",
        "x, y, z = \"Orange\", \"Banana\", \"Cherry\"\n",
        "print(x)\n",
        "print(y)\n",
        "print(z)"
      ],
      "execution_count": null,
      "outputs": [
        {
          "output_type": "stream",
          "name": "stdout",
          "text": [
            "Orange\n",
            "Banana\n",
            "Cherry\n"
          ]
        }
      ]
    },
    {
      "cell_type": "code",
      "metadata": {
        "id": "r2f81YR8lek5",
        "colab": {
          "base_uri": "https://localhost:8080/"
        },
        "outputId": "e38582bb-efc8-4610-a024-abef5f764bc7"
      },
      "source": [
        "# One Value to Multiple Variables\n",
        "\n",
        "x = y = z = \"Orange\"\n",
        "print(x)\n",
        "print(y)\n",
        "print(z)"
      ],
      "execution_count": null,
      "outputs": [
        {
          "output_type": "stream",
          "name": "stdout",
          "text": [
            "Orange\n",
            "Orange\n",
            "Orange\n"
          ]
        }
      ]
    },
    {
      "cell_type": "code",
      "metadata": {
        "id": "lLaj6Mv_lenU",
        "colab": {
          "base_uri": "https://localhost:8080/"
        },
        "outputId": "c1e3b2f8-3d95-4d43-a3f4-5c7e06b4bbe3"
      },
      "source": [
        "# Unpack a Collection \n",
        "'''If you have a collection of values in a list, tuple etc.\n",
        "Python allows you extract the values into variables. This is called unpacking.'''\n",
        "\n",
        "fruits = [\"apple\", \"banana\", \"cherry\"]\n",
        "x, y, z = fruits\n",
        "print(x)\n",
        "print(y)\n",
        "print(z)"
      ],
      "execution_count": null,
      "outputs": [
        {
          "output_type": "stream",
          "name": "stdout",
          "text": [
            "apple\n",
            "banana\n",
            "cherry\n"
          ]
        }
      ]
    },
    {
      "cell_type": "markdown",
      "metadata": {
        "id": "0te0M-S6ZhsY"
      },
      "source": [
        "**Output Variables**\n",
        "\n",
        "The Python print statement is often used to output variables.\n",
        "\n",
        "To combine both text and a variable, Python uses the + character:"
      ]
    },
    {
      "cell_type": "code",
      "metadata": {
        "id": "AJ6SGi7QleqK",
        "colab": {
          "base_uri": "https://localhost:8080/"
        },
        "outputId": "e305ac99-7b79-4079-b554-7399076a4406"
      },
      "source": [
        "x = \"awesome\"\n",
        "print(\"Python is \" +x)"
      ],
      "execution_count": null,
      "outputs": [
        {
          "output_type": "stream",
          "name": "stdout",
          "text": [
            "Python is awesome\n"
          ]
        }
      ]
    },
    {
      "cell_type": "code",
      "metadata": {
        "id": "AO4UW2Gwles3",
        "colab": {
          "base_uri": "https://localhost:8080/"
        },
        "outputId": "0fd1ce00-ef8f-475d-f6b6-8be63af2e50a"
      },
      "source": [
        "# You can also use the + character to add a variable to another variable:\n",
        "x = \"Python is \"\n",
        "y = \"awesome\"\n",
        "z =  x + y\n",
        "print(z)"
      ],
      "execution_count": null,
      "outputs": [
        {
          "output_type": "stream",
          "name": "stdout",
          "text": [
            "Python is awesome\n"
          ]
        }
      ]
    },
    {
      "cell_type": "code",
      "metadata": {
        "id": "iGyfOa3xleyH",
        "colab": {
          "base_uri": "https://localhost:8080/"
        },
        "outputId": "4d098354-99e9-45de-c201-0d0bf2334186"
      },
      "source": [
        "# For numbers, the + character works as a mathematical operator:\n",
        "\n",
        "x = 5\n",
        "y = 10\n",
        "print(x + y)"
      ],
      "execution_count": null,
      "outputs": [
        {
          "output_type": "stream",
          "name": "stdout",
          "text": [
            "15\n"
          ]
        }
      ]
    },
    {
      "cell_type": "code",
      "metadata": {
        "id": "dKWa-oHTle0H"
      },
      "source": [
        "#If you try to combine a string and a number, Python will give you an error:\n",
        "\n",
        "'''x = 5\n",
        "y = \"John\"\n",
        "print(x + y)'''"
      ],
      "execution_count": null,
      "outputs": []
    },
    {
      "cell_type": "markdown",
      "metadata": {
        "id": "WP-IDxUFTjKj"
      },
      "source": [
        "# **Global Variables**"
      ]
    },
    {
      "cell_type": "code",
      "metadata": {
        "colab": {
          "base_uri": "https://localhost:8080/"
        },
        "id": "6adl9qR7TI3g",
        "outputId": "9c657600-f67d-4dc4-c5c9-51c46e234676"
      },
      "source": [
        "#Create a variable outside of a function, and use it inside the function\n",
        "x = \"awesome\"\n",
        "\n",
        "def myfunc():\n",
        "  print(\"Python is \" + x)\n",
        "myfunc()"
      ],
      "execution_count": null,
      "outputs": [
        {
          "output_type": "stream",
          "name": "stdout",
          "text": [
            "Python is awesome\n"
          ]
        }
      ]
    },
    {
      "cell_type": "code",
      "metadata": {
        "colab": {
          "base_uri": "https://localhost:8080/"
        },
        "id": "sK6SRhb-TI7H",
        "outputId": "00e65667-ea75-4601-efad-3f128c62ca74"
      },
      "source": [
        "#Create a variable inside a function, with the same name as the global variable\n",
        "x = \"awesome\"\n",
        "\n",
        "def myfunc():\n",
        "  x = \"fantastic\"\n",
        "  print(\"Python is \" + x)\n",
        "myfunc()\n",
        "print(\"Python is \" + x)"
      ],
      "execution_count": null,
      "outputs": [
        {
          "output_type": "stream",
          "name": "stdout",
          "text": [
            "Python is fantastic\n",
            "Python is awesome\n"
          ]
        }
      ]
    },
    {
      "cell_type": "code",
      "metadata": {
        "colab": {
          "base_uri": "https://localhost:8080/"
        },
        "id": "rA-tEyr_TI-6",
        "outputId": "2aba8d88-37be-43c4-815c-6d5393bb90ab"
      },
      "source": [
        "#If you use the global keyword, the variable belongs to the global scope:\n",
        "def myfunc():\n",
        "  global x\n",
        "  x = \"fantastic\"\n",
        "myfunc()\n",
        "print(\"Python is \" + x)"
      ],
      "execution_count": null,
      "outputs": [
        {
          "output_type": "stream",
          "name": "stdout",
          "text": [
            "Python is fantastic\n"
          ]
        }
      ]
    },
    {
      "cell_type": "code",
      "metadata": {
        "colab": {
          "base_uri": "https://localhost:8080/"
        },
        "id": "yU2CV79TTJBS",
        "outputId": "8466f5c0-b77c-4b5a-8344-d8b4f83d7671"
      },
      "source": [
        "#To change the value of a global variable inside a function, refer to the variable by using the global keyword:\n",
        "x = \"awesome\"\n",
        "\n",
        "def myfunc():\n",
        "  global x\n",
        "  x = \"fantastic\"\n",
        "myfunc()\n",
        "print(\"Python is \" + x)"
      ],
      "execution_count": null,
      "outputs": [
        {
          "output_type": "stream",
          "name": "stdout",
          "text": [
            "Python is fantastic\n"
          ]
        }
      ]
    },
    {
      "cell_type": "markdown",
      "metadata": {
        "id": "d499T7fYYINn"
      },
      "source": [
        "# **Data Type**"
      ]
    },
    {
      "cell_type": "code",
      "metadata": {
        "colab": {
          "base_uri": "https://localhost:8080/"
        },
        "id": "_O4v7lnHTJE3",
        "outputId": "88d80f9b-ed74-40ab-f5ef-3446621c541b"
      },
      "source": [
        "# You can get the data type of any object by using the type() function:\n",
        "x = 5\n",
        "#print(type(x))\n",
        "type(x)"
      ],
      "execution_count": null,
      "outputs": [
        {
          "output_type": "execute_result",
          "data": {
            "text/plain": [
              "int"
            ]
          },
          "metadata": {},
          "execution_count": 97
        }
      ]
    },
    {
      "cell_type": "markdown",
      "metadata": {
        "id": "TyQflkTYbOpN"
      },
      "source": [
        "**Setting the Data Type**\n",
        "\n",
        "In Python, the data type is set when you assign a value to a variable:"
      ]
    },
    {
      "cell_type": "code",
      "metadata": {
        "colab": {
          "base_uri": "https://localhost:8080/"
        },
        "id": "kf85p3mzTJG7",
        "outputId": "6e9192a6-d513-4e4d-ba32-fd86f9ad5364"
      },
      "source": [
        "x = \"Hello World\"\n",
        "type(x)"
      ],
      "execution_count": null,
      "outputs": [
        {
          "output_type": "execute_result",
          "data": {
            "text/plain": [
              "str"
            ]
          },
          "metadata": {},
          "execution_count": 98
        }
      ]
    },
    {
      "cell_type": "code",
      "metadata": {
        "colab": {
          "base_uri": "https://localhost:8080/"
        },
        "id": "BbPudiJvTJJo",
        "outputId": "11dc63b7-3d1b-4111-ad0d-90a1b8058e2e"
      },
      "source": [
        "x= 20\n",
        "type(x)"
      ],
      "execution_count": null,
      "outputs": [
        {
          "output_type": "execute_result",
          "data": {
            "text/plain": [
              "int"
            ]
          },
          "metadata": {},
          "execution_count": 101
        }
      ]
    },
    {
      "cell_type": "code",
      "metadata": {
        "colab": {
          "base_uri": "https://localhost:8080/"
        },
        "id": "z7i7YHcbTJLf",
        "outputId": "d0ae6fa0-05df-4732-917a-140d53acdd3c"
      },
      "source": [
        "x= 20.5\n",
        "type(x)"
      ],
      "execution_count": null,
      "outputs": [
        {
          "output_type": "execute_result",
          "data": {
            "text/plain": [
              "float"
            ]
          },
          "metadata": {},
          "execution_count": 102
        }
      ]
    },
    {
      "cell_type": "code",
      "metadata": {
        "colab": {
          "base_uri": "https://localhost:8080/"
        },
        "id": "YmXNvjNVTJPT",
        "outputId": "392a069d-4d62-458b-e019-3da722ed07c2"
      },
      "source": [
        "x = 1j\n",
        "type(x)"
      ],
      "execution_count": null,
      "outputs": [
        {
          "output_type": "execute_result",
          "data": {
            "text/plain": [
              "complex"
            ]
          },
          "metadata": {},
          "execution_count": 104
        }
      ]
    },
    {
      "cell_type": "code",
      "metadata": {
        "colab": {
          "base_uri": "https://localhost:8080/"
        },
        "id": "VsWkD8zDTJRh",
        "outputId": "4963b525-2003-4e91-8439-9addcfc34f46"
      },
      "source": [
        "x = ['apple','banana','orange']\n",
        "type(x)"
      ],
      "execution_count": null,
      "outputs": [
        {
          "output_type": "execute_result",
          "data": {
            "text/plain": [
              "list"
            ]
          },
          "metadata": {},
          "execution_count": 105
        }
      ]
    },
    {
      "cell_type": "code",
      "metadata": {
        "colab": {
          "base_uri": "https://localhost:8080/"
        },
        "id": "6zi4PvIPTJUr",
        "outputId": "836fc214-3c76-4dbe-d056-381b4d975477"
      },
      "source": [
        "x = (\"apple\", \"banana\", \"cherry\")\n",
        "type(x)"
      ],
      "execution_count": null,
      "outputs": [
        {
          "output_type": "execute_result",
          "data": {
            "text/plain": [
              "tuple"
            ]
          },
          "metadata": {},
          "execution_count": 106
        },
        {
          "output_type": "execute_result",
          "data": {
            "text/plain": [
              "tuple"
            ]
          },
          "metadata": {},
          "execution_count": 107
        }
      ]
    },
    {
      "cell_type": "code",
      "metadata": {
        "colab": {
          "base_uri": "https://localhost:8080/"
        },
        "id": "zee_sYCxTJWo",
        "outputId": "5870111c-9170-40f1-85d1-643f40059e01"
      },
      "source": [
        "x = range (6)\n",
        "print(x)\n",
        "type(x)"
      ],
      "execution_count": null,
      "outputs": [
        {
          "output_type": "stream",
          "name": "stdout",
          "text": [
            "range(0, 6)\n"
          ]
        },
        {
          "output_type": "execute_result",
          "data": {
            "text/plain": [
              "range"
            ]
          },
          "metadata": {},
          "execution_count": 111
        }
      ]
    },
    {
      "cell_type": "code",
      "metadata": {
        "colab": {
          "base_uri": "https://localhost:8080/"
        },
        "id": "Hp_xqtowTJZV",
        "outputId": "43958659-9642-40f5-fd59-f48d9ef5c6c2"
      },
      "source": [
        "x = {'Name' :\"John\", \"Age\" : 30}\n",
        "print(x)\n",
        "type(x)"
      ],
      "execution_count": null,
      "outputs": [
        {
          "output_type": "stream",
          "name": "stdout",
          "text": [
            "{'Name': 'John', 'Age': 30}\n"
          ]
        },
        {
          "output_type": "execute_result",
          "data": {
            "text/plain": [
              "dict"
            ]
          },
          "metadata": {},
          "execution_count": 110
        }
      ]
    },
    {
      "cell_type": "code",
      "metadata": {
        "colab": {
          "base_uri": "https://localhost:8080/"
        },
        "id": "W_kptPpRTJbv",
        "outputId": "86e1c6fb-a944-4e18-9034-19469b3f9cd3"
      },
      "source": [
        "x = { \"Apple\", \"Banana\", \"Orange\"}\n",
        "type(x)"
      ],
      "execution_count": null,
      "outputs": [
        {
          "output_type": "execute_result",
          "data": {
            "text/plain": [
              "set"
            ]
          },
          "metadata": {},
          "execution_count": 1
        }
      ]
    },
    {
      "cell_type": "code",
      "metadata": {
        "colab": {
          "base_uri": "https://localhost:8080/"
        },
        "id": "1y3NnvXGTJel",
        "outputId": "14699e14-3a30-43ef-dbc6-79247d8ffeb9"
      },
      "source": [
        "x = frozenset({ \"Apple\", \"Banana\", \"Orange\"})\n",
        "type(x)"
      ],
      "execution_count": null,
      "outputs": [
        {
          "output_type": "execute_result",
          "data": {
            "text/plain": [
              "frozenset"
            ]
          },
          "metadata": {},
          "execution_count": 2
        }
      ]
    },
    {
      "cell_type": "code",
      "metadata": {
        "colab": {
          "base_uri": "https://localhost:8080/"
        },
        "id": "RtCIzQ95GFX_",
        "outputId": "ffb20968-e95e-4be1-99ae-e6f7b881fa29"
      },
      "source": [
        "x= True\n",
        "type(x)"
      ],
      "execution_count": null,
      "outputs": [
        {
          "output_type": "execute_result",
          "data": {
            "text/plain": [
              "bool"
            ]
          },
          "metadata": {},
          "execution_count": 4
        }
      ]
    },
    {
      "cell_type": "code",
      "metadata": {
        "colab": {
          "base_uri": "https://localhost:8080/"
        },
        "id": "G5dxgEzpGFak",
        "outputId": "5d88153c-15b6-4f58-fbd6-ca1467e5372a"
      },
      "source": [
        "x = b\"Hello\"\n",
        "type(x)"
      ],
      "execution_count": null,
      "outputs": [
        {
          "output_type": "execute_result",
          "data": {
            "text/plain": [
              "bytes"
            ]
          },
          "metadata": {},
          "execution_count": 8
        }
      ]
    },
    {
      "cell_type": "markdown",
      "metadata": {
        "id": "vDpqba8CHISH"
      },
      "source": [
        "**Setting the Specific Data Type**\n",
        "\n",
        "If you want to specify the data type, you can use the following constructor functions:"
      ]
    },
    {
      "cell_type": "code",
      "metadata": {
        "colab": {
          "base_uri": "https://localhost:8080/"
        },
        "id": "Mi6Bsw5tGFfU",
        "outputId": "e5a38ae2-d090-497c-abee-04887bb297b4"
      },
      "source": [
        "x=list((\"apple\", \"banana\", \"cherry\"))\n",
        "type(x)"
      ],
      "execution_count": null,
      "outputs": [
        {
          "output_type": "execute_result",
          "data": {
            "text/plain": [
              "list"
            ]
          },
          "metadata": {},
          "execution_count": 86
        }
      ]
    },
    {
      "cell_type": "code",
      "metadata": {
        "colab": {
          "base_uri": "https://localhost:8080/"
        },
        "id": "o5clZ_kBHYzz",
        "outputId": "8eb5802d-487f-4b99-bd2e-9eaca63209e6"
      },
      "source": [
        "x = tuple((\"apple\", \"banana\", \"cherry\"))\n",
        "type(x)"
      ],
      "execution_count": null,
      "outputs": [
        {
          "output_type": "execute_result",
          "data": {
            "text/plain": [
              "tuple"
            ]
          },
          "metadata": {},
          "execution_count": 13
        }
      ]
    },
    {
      "cell_type": "code",
      "metadata": {
        "colab": {
          "base_uri": "https://localhost:8080/"
        },
        "id": "0O43rmoHHY2i",
        "outputId": "5650452b-61e1-4d0a-b31d-e1d4f3f9f767"
      },
      "source": [
        "x = ((\"apple\", \"banana\", \"cherry\"))\n",
        "type(x)"
      ],
      "execution_count": null,
      "outputs": [
        {
          "output_type": "execute_result",
          "data": {
            "text/plain": [
              "tuple"
            ]
          },
          "metadata": {},
          "execution_count": 15
        }
      ]
    },
    {
      "cell_type": "code",
      "metadata": {
        "colab": {
          "base_uri": "https://localhost:8080/"
        },
        "id": "wArgnW4SHY5X",
        "outputId": "591e0911-13f8-47c3-d998-12ee72736a92"
      },
      "source": [
        "x = bool()\n",
        "type(x)"
      ],
      "execution_count": null,
      "outputs": [
        {
          "output_type": "execute_result",
          "data": {
            "text/plain": [
              "bool"
            ]
          },
          "metadata": {},
          "execution_count": 17
        }
      ]
    },
    {
      "cell_type": "markdown",
      "metadata": {
        "id": "CmvPgSCZJ5TU"
      },
      "source": [
        "# **Python Numbers**\n",
        "\n",
        "There are three numeric types in Python:\n",
        "\n",
        "**int, float, complex**\n",
        "\n",
        "Variables of numeric types are created when you assign a value to them:"
      ]
    },
    {
      "cell_type": "code",
      "metadata": {
        "colab": {
          "base_uri": "https://localhost:8080/"
        },
        "id": "POF715jJHY7x",
        "outputId": "0d2e7920-d858-4a79-8ea5-b0bb0918fdd0"
      },
      "source": [
        "x = 1\n",
        "y = 35656222554887711\n",
        "z = -3255522\n",
        "\n",
        "print(type(x))\n",
        "print(type(y))\n",
        "print(type(z))"
      ],
      "execution_count": null,
      "outputs": [
        {
          "output_type": "stream",
          "name": "stdout",
          "text": [
            "<class 'int'>\n",
            "<class 'int'>\n",
            "<class 'int'>\n"
          ]
        }
      ]
    },
    {
      "cell_type": "code",
      "metadata": {
        "colab": {
          "base_uri": "https://localhost:8080/"
        },
        "id": "oltJxRiUHY_x",
        "outputId": "f890385a-1b05-4a09-fe3f-269b81f19ed9"
      },
      "source": [
        "x = 1.10\n",
        "y = 1.0\n",
        "z = -35.59\n",
        "\n",
        "print(type(x))\n",
        "print(type(y))\n",
        "print(type(z))"
      ],
      "execution_count": null,
      "outputs": [
        {
          "output_type": "stream",
          "name": "stdout",
          "text": [
            "<class 'float'>\n",
            "<class 'float'>\n",
            "<class 'float'>\n"
          ]
        }
      ]
    },
    {
      "cell_type": "code",
      "metadata": {
        "colab": {
          "base_uri": "https://localhost:8080/"
        },
        "id": "JXWEDuZsHZCe",
        "outputId": "bc1aff3a-33e7-439e-e9ef-9fbdcf361338"
      },
      "source": [
        "#Float can also be scientific numbers with an \"e\" to indicate the power of 10.\n",
        "x = 35e3\n",
        "y = 12E4\n",
        "z = -87.7e100\n",
        "\n",
        "print(type(x))\n",
        "print(type(y))\n",
        "print(type(z))"
      ],
      "execution_count": null,
      "outputs": [
        {
          "output_type": "stream",
          "name": "stdout",
          "text": [
            "<class 'float'>\n",
            "<class 'float'>\n",
            "<class 'float'>\n"
          ]
        }
      ]
    },
    {
      "cell_type": "code",
      "metadata": {
        "colab": {
          "base_uri": "https://localhost:8080/"
        },
        "id": "X9UEhX8CHZGD",
        "outputId": "5b170643-7c59-4040-c352-ec05ed6196d9"
      },
      "source": [
        "x = 3+5j\n",
        "y = 5j\n",
        "z = -5j\n",
        "\n",
        "print(type(x))\n",
        "print(type(y))\n",
        "print(type(z))"
      ],
      "execution_count": null,
      "outputs": [
        {
          "output_type": "stream",
          "name": "stdout",
          "text": [
            "<class 'complex'>\n",
            "<class 'complex'>\n",
            "<class 'complex'>\n"
          ]
        }
      ]
    },
    {
      "cell_type": "markdown",
      "metadata": {
        "id": "iVyFqbvPL33N"
      },
      "source": [
        "# **Type Conversion**\n",
        "\n",
        "You can convert from one type to another with the int(), float(), and complex() methods:\n",
        "\n",
        "**Note: You cannot convert complex numbers into another number type.**"
      ]
    },
    {
      "cell_type": "code",
      "metadata": {
        "colab": {
          "base_uri": "https://localhost:8080/"
        },
        "id": "rZw0p0qrHZIy",
        "outputId": "7c919e67-9a97-4461-87c7-6b2df9e545af"
      },
      "source": [
        "x = 1    # int\n",
        "y = 2.8  # float\n",
        "z = 1j   # complex\n",
        "\n",
        "#convert from int to float:\n",
        "a = float(x)\n",
        "\n",
        "#convert from float to int:\n",
        "b = int(y)\n",
        "\n",
        "#convert from int to complex:\n",
        "c = complex(x)\n",
        "\n",
        "print(a)\n",
        "print(b)\n",
        "print(c)\n",
        "\n",
        "print(type(a))\n",
        "print(type(b))\n",
        "print(type(c))"
      ],
      "execution_count": null,
      "outputs": [
        {
          "output_type": "stream",
          "name": "stdout",
          "text": [
            "1.0\n",
            "2\n",
            "(1+0j)\n",
            "<class 'float'>\n",
            "<class 'int'>\n",
            "<class 'complex'>\n"
          ]
        }
      ]
    },
    {
      "cell_type": "code",
      "metadata": {
        "colab": {
          "base_uri": "https://localhost:8080/"
        },
        "id": "Tyj8pYECHZLt",
        "outputId": "e05d4e0b-0cda-4f89-a115-3a2d8705963b"
      },
      "source": [
        "import random\n",
        "random.randrange(1,10)"
      ],
      "execution_count": null,
      "outputs": [
        {
          "output_type": "execute_result",
          "data": {
            "text/plain": [
              "7"
            ]
          },
          "metadata": {},
          "execution_count": 35
        }
      ]
    },
    {
      "cell_type": "markdown",
      "metadata": {
        "id": "dTs8URjCOv1T"
      },
      "source": [
        "# **Python Casting**"
      ]
    },
    {
      "cell_type": "markdown",
      "metadata": {
        "id": "nD8pCtokO3Yl"
      },
      "source": [
        "**Specify a Variable Type**\n",
        "\n",
        "There may be times when you want to specify a type on to a variable. This can be done with casting. Python is an object-orientated language, and as such it uses classes to define data types, including its primitive types.\n",
        "\n",
        "Casting in python is therefore done using constructor functions:\n",
        "\n",
        "**int()** - constructs an integer number from an integer literal, a float literal (by removing all decimals), or a string literal (providing the string represents a whole number)\n",
        "\n",
        "**float()** - constructs a float number from an integer literal, a float literal or a string literal (providing the string represents a float or an integer)\n",
        "\n",
        "**str()** - constructs a string from a wide variety of data types, including strings, integer literals and float literals"
      ]
    },
    {
      "cell_type": "code",
      "metadata": {
        "colab": {
          "base_uri": "https://localhost:8080/"
        },
        "id": "PTVnsasBHZR2",
        "outputId": "2da95eb6-b6d0-4798-e793-21cf7394f829"
      },
      "source": [
        "x = int(1)\n",
        "y = int(2.8)\n",
        "z = int(\"4\")\n",
        "print(x) \n",
        "print(y)\n",
        "print(z)\n"
      ],
      "execution_count": null,
      "outputs": [
        {
          "output_type": "stream",
          "name": "stdout",
          "text": [
            "1\n",
            "2\n",
            "4\n"
          ]
        }
      ]
    },
    {
      "cell_type": "code",
      "metadata": {
        "colab": {
          "base_uri": "https://localhost:8080/"
        },
        "id": "M2gKiId1HZVJ",
        "outputId": "7d735711-e086-43dc-8c12-6c724ca2dead"
      },
      "source": [
        "x = float(1)\n",
        "y = float(2.8)\n",
        "z = float(\"4\")\n",
        "print(x) \n",
        "print(y)\n",
        "print(z)"
      ],
      "execution_count": null,
      "outputs": [
        {
          "output_type": "stream",
          "name": "stdout",
          "text": [
            "1.0\n",
            "2.8\n",
            "4.0\n"
          ]
        }
      ]
    },
    {
      "cell_type": "code",
      "metadata": {
        "colab": {
          "base_uri": "https://localhost:8080/"
        },
        "id": "8LsG7Y-vHZYM",
        "outputId": "3ffcecaf-7625-4279-8c7a-ce33dad3b509"
      },
      "source": [
        "x = str(\"s1\")\n",
        "y = str(2.8)\n",
        "z = str(\"4\")\n",
        "print(x) \n",
        "print(y)\n",
        "print(z)"
      ],
      "execution_count": null,
      "outputs": [
        {
          "output_type": "stream",
          "name": "stdout",
          "text": [
            "s1\n",
            "2.8\n",
            "4\n"
          ]
        }
      ]
    },
    {
      "cell_type": "markdown",
      "metadata": {
        "id": "zhfI5mLfSZtg"
      },
      "source": [
        "# **Python Strings**"
      ]
    },
    {
      "cell_type": "markdown",
      "metadata": {
        "id": "VbEvIZi1SZPm"
      },
      "source": [
        "Strings in python are surrounded by either single quotation marks, or double quotation marks.\n",
        "\n",
        "'hello' is the same as \"hello\".\n",
        "\n",
        "You can display a string literal with the print() function:"
      ]
    },
    {
      "cell_type": "code",
      "metadata": {
        "colab": {
          "base_uri": "https://localhost:8080/"
        },
        "id": "xmoMG7M1GFiM",
        "outputId": "9b4c8e28-4906-4d35-8a43-2b25d0a7215f"
      },
      "source": [
        "print(\"Hello\")\n",
        "print('Hello')"
      ],
      "execution_count": null,
      "outputs": [
        {
          "output_type": "stream",
          "name": "stdout",
          "text": [
            "Hello\n",
            "Hello\n"
          ]
        }
      ]
    },
    {
      "cell_type": "code",
      "metadata": {
        "colab": {
          "base_uri": "https://localhost:8080/"
        },
        "id": "gFB_NgxRGFl5",
        "outputId": "19401a23-c82d-4fcc-c1ef-1f131aea0f67"
      },
      "source": [
        "# Assigning a string to a variable is done with the variable name followed by an equal sign and the string:\n",
        "\n",
        "a = 'Hello'\n",
        "print(a)"
      ],
      "execution_count": null,
      "outputs": [
        {
          "output_type": "stream",
          "name": "stdout",
          "text": [
            "Hello\n"
          ]
        }
      ]
    },
    {
      "cell_type": "markdown",
      "metadata": {
        "id": "NbfcECF0TUws"
      },
      "source": [
        "**Multiline Strings**\n",
        "\n",
        "You can assign a multiline string to a variable by using three single or double quotes:"
      ]
    },
    {
      "cell_type": "code",
      "metadata": {
        "colab": {
          "base_uri": "https://localhost:8080/"
        },
        "id": "bAKyqxdVTC_9",
        "outputId": "fac9360e-78b0-41a0-bc7f-c7bf6a2ca99c"
      },
      "source": [
        "#You can assign a multiline string to a variable by using three quotes:\n",
        "a = ''' My name is Ritesh\n",
        " i leaves in Bhopal,\n",
        " Madhya Pradesh '''\n",
        "print(a) \n",
        "\n",
        "# Note: in the result, the line breaks are inserted at the same position as in the code."
      ],
      "execution_count": null,
      "outputs": [
        {
          "output_type": "stream",
          "name": "stdout",
          "text": [
            " My name is Ritesh\n",
            " i leaves in Bhopal,\n",
            " Madhya Pradesh \n"
          ]
        }
      ]
    },
    {
      "cell_type": "markdown",
      "metadata": {
        "id": "cobzXqhlVJDI"
      },
      "source": [
        "**Strings are Arrays**\n",
        "\n",
        "Like many other popular programming languages, strings in Python are arrays of bytes representing unicode characters.\n",
        "\n",
        "However, Python does not have a character data type, a single character is simply a string with a length of 1.\n",
        "\n",
        "Square brackets can be used to access elements of the string."
      ]
    },
    {
      "cell_type": "code",
      "metadata": {
        "colab": {
          "base_uri": "https://localhost:8080/"
        },
        "id": "aKE6Ol4uTDDo",
        "outputId": "3eaf5efc-7611-48e8-a171-c9f1b17a0f69"
      },
      "source": [
        "a = \"Hello world\"\n",
        "print(a[0])"
      ],
      "execution_count": null,
      "outputs": [
        {
          "output_type": "stream",
          "name": "stdout",
          "text": [
            "H\n"
          ]
        }
      ]
    },
    {
      "cell_type": "markdown",
      "metadata": {
        "id": "Mhqg-qOvVjHq"
      },
      "source": [
        "**Looping Through a String**\n",
        "\n",
        "Since strings are arrays, we can loop through the characters in a string, with a for loop."
      ]
    },
    {
      "cell_type": "code",
      "metadata": {
        "colab": {
          "base_uri": "https://localhost:8080/"
        },
        "id": "lc3mCktZTDG3",
        "outputId": "fd5157e5-926f-4cb9-ea8e-10e335c15182"
      },
      "source": [
        "for x in \"banana\":\n",
        "  print(x)"
      ],
      "execution_count": null,
      "outputs": [
        {
          "output_type": "stream",
          "name": "stdout",
          "text": [
            "b\n",
            "a\n",
            "n\n",
            "a\n",
            "n\n",
            "a\n"
          ]
        }
      ]
    },
    {
      "cell_type": "code",
      "metadata": {
        "colab": {
          "base_uri": "https://localhost:8080/"
        },
        "id": "9wEQlqVuTDJp",
        "outputId": "8752cc9a-abb1-4aaf-98a4-b0beab3b9a4f"
      },
      "source": [
        "#To get the length of a string, use the len() function.\n",
        "x = \"hello world\"\n",
        "print(len(x))"
      ],
      "execution_count": null,
      "outputs": [
        {
          "output_type": "stream",
          "name": "stdout",
          "text": [
            "11\n"
          ]
        }
      ]
    },
    {
      "cell_type": "markdown",
      "metadata": {
        "id": "cTE8vMKuWRHH"
      },
      "source": [
        "**Check String**\n",
        "\n",
        "To check if a certain phrase or character is present in a string, we can use the keyword in."
      ]
    },
    {
      "cell_type": "code",
      "metadata": {
        "colab": {
          "base_uri": "https://localhost:8080/"
        },
        "id": "byM6xbMqTDMP",
        "outputId": "b8909c62-939d-40d4-b9dc-e5462cb2c7c4"
      },
      "source": [
        "x = \"Hi this is my laptop\"\n",
        "print(\"this\" in x)"
      ],
      "execution_count": null,
      "outputs": [
        {
          "output_type": "stream",
          "name": "stdout",
          "text": [
            "True\n"
          ]
        }
      ]
    },
    {
      "cell_type": "markdown",
      "metadata": {
        "id": "UKvRolzPXD9R"
      },
      "source": [
        "**Check string with if statement:**"
      ]
    },
    {
      "cell_type": "code",
      "metadata": {
        "colab": {
          "base_uri": "https://localhost:8080/"
        },
        "id": "NOvcxO4LTDPQ",
        "outputId": "26ac487d-286a-4f73-9ffa-57b328da6779"
      },
      "source": [
        "# Print only if \"free\" is present:\n",
        "\n",
        "txt = \"The best things in life are free!\"\n",
        "if \"free\" in txt:\n",
        "  print(\"Yes, free is present\")"
      ],
      "execution_count": null,
      "outputs": [
        {
          "output_type": "stream",
          "name": "stdout",
          "text": [
            "Yes, free is present\n"
          ]
        }
      ]
    },
    {
      "cell_type": "markdown",
      "metadata": {
        "id": "1I9uwsL5YQOp"
      },
      "source": [
        " **Check if NOT**"
      ]
    },
    {
      "cell_type": "code",
      "metadata": {
        "colab": {
          "base_uri": "https://localhost:8080/"
        },
        "id": "GaQ11LN3TDRy",
        "outputId": "562d25f7-b230-4d13-a028-c4c9395d9d2d"
      },
      "source": [
        "# Check if \"expensive\" is NOT present in the following text:\n",
        "\n",
        "txt = \"The best things in life are free!\"\n",
        "\"expensive\" not in txt"
      ],
      "execution_count": 20,
      "outputs": [
        {
          "output_type": "execute_result",
          "data": {
            "text/plain": [
              "True"
            ]
          },
          "metadata": {},
          "execution_count": 20
        }
      ]
    },
    {
      "cell_type": "code",
      "metadata": {
        "colab": {
          "base_uri": "https://localhost:8080/"
        },
        "id": "wGgk7NpcTDUW",
        "outputId": "c4743d33-026d-4027-ed13-118f10a34f37"
      },
      "source": [
        "#Check 'not' with if statement:\n",
        "txt = \"The best things in life are free!\"\n",
        "if \"expensive\" not in txt:\n",
        "  print(\"No, expensive is not present\")"
      ],
      "execution_count": null,
      "outputs": [
        {
          "output_type": "stream",
          "name": "stdout",
          "text": [
            "No, expensive is not present\n"
          ]
        }
      ]
    },
    {
      "cell_type": "markdown",
      "metadata": {
        "id": "VHePLvJgZFdM"
      },
      "source": [
        "# **Slicing**\n",
        "\n",
        "You can return a range of characters by using the slice syntax.\n",
        "\n",
        "Specify the start index and the end index, separated by a colon, to return a part of the string."
      ]
    },
    {
      "cell_type": "code",
      "metadata": {
        "colab": {
          "base_uri": "https://localhost:8080/"
        },
        "id": "ZCZ3e3kpTDXE",
        "outputId": "e1c3bec9-f5ca-48e1-8349-470fe2f06493"
      },
      "source": [
        "a = \"hello World\"\n",
        "print(a[2:7])"
      ],
      "execution_count": null,
      "outputs": [
        {
          "output_type": "stream",
          "name": "stdout",
          "text": [
            "llo W\n"
          ]
        }
      ]
    },
    {
      "cell_type": "code",
      "metadata": {
        "colab": {
          "base_uri": "https://localhost:8080/"
        },
        "id": "9PYIVyk9TDad",
        "outputId": "bc2fbbd1-f26c-436d-f799-44db13a12039"
      },
      "source": [
        "#Slice From the Start\n",
        "a = \"hello World\"\n",
        "print(a[:5])"
      ],
      "execution_count": null,
      "outputs": [
        {
          "output_type": "stream",
          "name": "stdout",
          "text": [
            "hello\n"
          ]
        }
      ]
    },
    {
      "cell_type": "code",
      "metadata": {
        "colab": {
          "base_uri": "https://localhost:8080/"
        },
        "id": "7y8h0ik0TDdi",
        "outputId": "72540e81-c7bd-472d-cf8e-884f250025b5"
      },
      "source": [
        "#Slice To the End\n",
        "a = \"hello World\"\n",
        "print(a[2:])"
      ],
      "execution_count": null,
      "outputs": [
        {
          "output_type": "stream",
          "name": "stdout",
          "text": [
            "llo World\n"
          ]
        }
      ]
    },
    {
      "cell_type": "markdown",
      "metadata": {
        "id": "eS0cRM0OZvti"
      },
      "source": [
        "# **Negative Indexing**\n",
        "\n",
        "Use negative indexes to start the slice from the end of the string:"
      ]
    },
    {
      "cell_type": "code",
      "metadata": {
        "colab": {
          "base_uri": "https://localhost:8080/"
        },
        "id": "LIuQYW-mZq0V",
        "outputId": "d521e5d7-5424-462a-c824-1b149b9dcaea"
      },
      "source": [
        "'''Get the characters:\n",
        "From: \"o\" in \"World!\" (position -5)\n",
        "To, but not included: \"d\" in \"World!\" (position -2):'''\n",
        "\n",
        "\n",
        "a = \"World!\"\n",
        "print(a[-5:-2])"
      ],
      "execution_count": null,
      "outputs": [
        {
          "output_type": "stream",
          "name": "stdout",
          "text": [
            "orl\n"
          ]
        }
      ]
    },
    {
      "cell_type": "code",
      "metadata": {
        "colab": {
          "base_uri": "https://localhost:8080/"
        },
        "id": "NYD2rF7oZrCz",
        "outputId": "3d0ffde4-bab3-49ac-ddee-34633a9e3c87"
      },
      "source": [
        "#Upper case\n",
        "\n",
        "a = \"Hello world\"\n",
        "print(a.upper())"
      ],
      "execution_count": null,
      "outputs": [
        {
          "output_type": "stream",
          "name": "stdout",
          "text": [
            "HELLO WORLD\n"
          ]
        }
      ]
    },
    {
      "cell_type": "code",
      "metadata": {
        "colab": {
          "base_uri": "https://localhost:8080/"
        },
        "id": "WZ3u9hT4ZrLV",
        "outputId": "28cb8fe0-2a95-40e6-f0d6-c10c842ea72b"
      },
      "source": [
        "#lower\n",
        "a = \"HELLO WORLD\"\n",
        "print(a.lower())"
      ],
      "execution_count": null,
      "outputs": [
        {
          "output_type": "stream",
          "name": "stdout",
          "text": [
            "hello world\n"
          ]
        }
      ]
    },
    {
      "cell_type": "markdown",
      "metadata": {
        "id": "Wyta-RoJa--L"
      },
      "source": [
        "# **Remove Whitespace**\n",
        "\n",
        "Whitespace is the space before and/or after the actual text, and very often you want to remove this space."
      ]
    },
    {
      "cell_type": "code",
      "metadata": {
        "colab": {
          "base_uri": "https://localhost:8080/"
        },
        "id": "GGFZTUf4ZrOS",
        "outputId": "e2058414-2a40-4247-a035-7de1955913d2"
      },
      "source": [
        "# The strip() method removes any whitespace from the beginning or the end:\n",
        "a = \" HELLO WORLD \"\n",
        "print(a.strip())"
      ],
      "execution_count": null,
      "outputs": [
        {
          "output_type": "stream",
          "name": "stdout",
          "text": [
            "HELLO WORLD\n"
          ]
        }
      ]
    },
    {
      "cell_type": "markdown",
      "metadata": {
        "id": "5YkdoPkSbk7P"
      },
      "source": [
        "# **Replace String**\n",
        "\n",
        "The replace() method replaces a string with another string:"
      ]
    },
    {
      "cell_type": "code",
      "metadata": {
        "colab": {
          "base_uri": "https://localhost:8080/"
        },
        "id": "DabQCkyyZrSQ",
        "outputId": "482f5250-595b-4c56-ce98-4eb2762fdbb6"
      },
      "source": [
        "a = \" HELLO WORLD \"\n",
        "print(a.replace('H', 'J'))"
      ],
      "execution_count": null,
      "outputs": [
        {
          "output_type": "stream",
          "name": "stdout",
          "text": [
            " JELLO WORLD \n"
          ]
        }
      ]
    },
    {
      "cell_type": "markdown",
      "metadata": {
        "id": "Imlj-x0HcDuW"
      },
      "source": [
        "# **Split String**\n",
        "\n",
        "The split() method returns a list where the text between the specified separator becomes the list items.\n",
        "\n",
        "The split() method splits the string into substrings if it finds instances of the separator:"
      ]
    },
    {
      "cell_type": "code",
      "metadata": {
        "colab": {
          "base_uri": "https://localhost:8080/"
        },
        "id": "iV7BlUkPZrWC",
        "outputId": "a6db95aa-2375-4698-80dc-f909e6fc001e"
      },
      "source": [
        "a = \"Hello, World!\"\n",
        "print(a.split(\",\")) # returns ['Hello', ' World!']"
      ],
      "execution_count": null,
      "outputs": [
        {
          "output_type": "stream",
          "name": "stdout",
          "text": [
            "['Hello', ' World!']\n"
          ]
        }
      ]
    },
    {
      "cell_type": "markdown",
      "metadata": {
        "id": "0wrjYv4zcdLM"
      },
      "source": [
        "# **String Concatenation**\n",
        "\n",
        "To concatenate, or combine, two strings you can use the + operator"
      ]
    },
    {
      "cell_type": "code",
      "metadata": {
        "colab": {
          "base_uri": "https://localhost:8080/"
        },
        "id": "vlf3vL6FZrZ8",
        "outputId": "6ee6eea8-6341-4205-fe78-7d670b23aabe"
      },
      "source": [
        "a = \"Hello\"\n",
        "b= \"World\"\n",
        "c = a+b\n",
        "print(c)"
      ],
      "execution_count": null,
      "outputs": [
        {
          "output_type": "stream",
          "name": "stdout",
          "text": [
            "HelloWorld\n"
          ]
        }
      ]
    },
    {
      "cell_type": "code",
      "metadata": {
        "colab": {
          "base_uri": "https://localhost:8080/"
        },
        "id": "6Wi2OaqdZrd8",
        "outputId": "a482bb7d-33d2-4a63-fb01-39ab833f21d8"
      },
      "source": [
        "#To add a space between them, add a \" \":\n",
        "a = \"Hello\"\n",
        "b= \"World\"\n",
        "c = a+\" \"+b\n",
        "print(c)"
      ],
      "execution_count": null,
      "outputs": [
        {
          "output_type": "stream",
          "name": "stdout",
          "text": [
            "Hello World\n"
          ]
        }
      ]
    },
    {
      "cell_type": "markdown",
      "metadata": {
        "id": "tvTrllAadVGL"
      },
      "source": [
        "# **String Format**\n",
        "\n",
        "As we learned in the Python Variables chapter, we cannot combine strings and numbers like this\n",
        "\n",
        "age = 36\n",
        "\n",
        "txt = \"My name is John, I am \" + age\n",
        "\n",
        "print(txt)\n",
        "\n",
        "\n",
        "**But we can combine strings and numbers by using the format() method**!\n",
        "\n",
        "The format() method takes the passed arguments, formats them, and places them in the string where the placeholders {} are:"
      ]
    },
    {
      "cell_type": "code",
      "metadata": {
        "colab": {
          "base_uri": "https://localhost:8080/"
        },
        "id": "Aym9PGJZZrhY",
        "outputId": "39ef2549-557f-4d26-e6f0-9ca724654b58"
      },
      "source": [
        "age = 36\n",
        "txt = \"My name is John, and i am {}\"\n",
        "print(txt.format(age))"
      ],
      "execution_count": null,
      "outputs": [
        {
          "output_type": "stream",
          "name": "stdout",
          "text": [
            "My name is John, and i am 36\n"
          ]
        }
      ]
    },
    {
      "cell_type": "code",
      "metadata": {
        "colab": {
          "base_uri": "https://localhost:8080/"
        },
        "id": "9TttCsDzZrkb",
        "outputId": "eba60604-480c-48bb-ad20-7c0d0217f821"
      },
      "source": [
        "#The format() method takes unlimited number of arguments, and are placed into the respective placeholders:\n",
        "\n",
        "quantity = 3\n",
        "price = 100\n",
        "itemno =1001\n",
        "\n",
        "txt = \"I want {} piece of item {} for {} Rupees\"\n",
        "print(txt.format(quantity, itemno,price))"
      ],
      "execution_count": null,
      "outputs": [
        {
          "output_type": "stream",
          "name": "stdout",
          "text": [
            "I want 3 piece of item 1001 for 100 Rupees\n"
          ]
        }
      ]
    },
    {
      "cell_type": "code",
      "metadata": {
        "colab": {
          "base_uri": "https://localhost:8080/"
        },
        "id": "ddlSQT6xZrza",
        "outputId": "e0e77686-5504-4cd1-a845-a09d2a2dc624"
      },
      "source": [
        "#You can use index numbers {0} to be sure the arguments are placed in the correct placeholders:\n",
        "\n",
        "quantity = 3\n",
        "price = 100\n",
        "itemno =1001\n",
        "\n",
        "txt = \"I want {1} piece of item {2} for {0} Rupees\"\n",
        "print(txt.format(price, quantity,itemno))"
      ],
      "execution_count": null,
      "outputs": [
        {
          "output_type": "stream",
          "name": "stdout",
          "text": [
            "I want 3 piece of item 1001 for 100 Rupees\n"
          ]
        }
      ]
    },
    {
      "cell_type": "markdown",
      "metadata": {
        "id": "WtPXd-G3mil3"
      },
      "source": [
        "# **Python - Escape Characters**\n",
        "\n",
        "To insert characters that are illegal in a string, use an escape character.\n",
        "\n",
        "An escape character is a backslash \\ followed by the character you want to insert.\n",
        "\n",
        "An example of an illegal character is a double quote inside a string that is surrounded by double quotes:"
      ]
    },
    {
      "cell_type": "markdown",
      "metadata": {
        "id": "zTFUQPGamx6V"
      },
      "source": [
        "**Example**\n",
        "\n",
        "You will get an error if you use double quotes inside a string that is surrounded by double quotes:\n",
        "\n",
        "**txt = \"We are the so-called \"Vikings\" from the north.\"**\n",
        "\n",
        "To fix this problem, use the escape character \\\":"
      ]
    },
    {
      "cell_type": "code",
      "metadata": {
        "id": "8qmFv9o-Zr4F",
        "colab": {
          "base_uri": "https://localhost:8080/"
        },
        "outputId": "d5d6e074-6c9e-42f7-c723-0c3b8f45e411"
      },
      "source": [
        "txt = \"We are the so-called \\\"Vikings\\\" from the north\"\n",
        "print(txt)"
      ],
      "execution_count": null,
      "outputs": [
        {
          "output_type": "stream",
          "name": "stdout",
          "text": [
            "We are the so-called \"Vikings\" from the north\n"
          ]
        }
      ]
    },
    {
      "cell_type": "markdown",
      "metadata": {
        "id": "TdKsblOenae0"
      },
      "source": [
        "**Other escape characters used in Python:**\n",
        "\n",
        "\\'\tSingle Quote\t\n",
        "\\\\\tBackslash\t\n",
        "\\n\tNew Line\t\n",
        "\\r\tCarriage Return\t\n",
        "\\t\tTab\t\n",
        "\\b\tBackspace\t\n",
        "\\f\tForm Feed\t\n",
        "\\ooo\tOctal value\t\n",
        "\\xhh\tHex value"
      ]
    },
    {
      "cell_type": "code",
      "metadata": {
        "colab": {
          "base_uri": "https://localhost:8080/"
        },
        "id": "ylLtHJV9mtA9",
        "outputId": "61962244-0e0e-4250-f966-6355bd8169ec"
      },
      "source": [
        "txt = \"We are the so-called \\n Vikings from the north\"\n",
        "print(txt)"
      ],
      "execution_count": null,
      "outputs": [
        {
          "output_type": "stream",
          "name": "stdout",
          "text": [
            "We are the so-called\n",
            " Vikings from the north\n"
          ]
        }
      ]
    },
    {
      "cell_type": "markdown",
      "metadata": {
        "id": "o-aE3SZQoMHP"
      },
      "source": [
        "# **String Methods**\n",
        "\n",
        "Python has a set of built-in methods that you can use on strings.\n",
        "\n",
        "**Note: All string methods returns new values. They do not change the original string.**"
      ]
    },
    {
      "cell_type": "code",
      "metadata": {
        "id": "w9Z6G4R0ugEP"
      },
      "source": [
        "#Method\tDescription\n",
        "'''capitalize()\tConverts the first character to upper case\n",
        "casefold()\tConverts string into lower case\n",
        "center()\tReturns a centered string\n",
        "count()\tReturns the number of times a specified value occurs in a string\n",
        "encode()\tReturns an encoded version of the string\n",
        "endswith()\tReturns true if the string ends with the specified value\n",
        "expandtabs()\tSets the tab size of the string\n",
        "find()\tSearches the string for a specified value and returns the position of where it was found\n",
        "format()\tFormats specified values in a string\n",
        "format_map()\tFormats specified values in a string\n",
        "index()\tSearches the string for a specified value and returns the position of where it was found\n",
        "isalnum()\tReturns True if all characters in the string are alphanumeric\n",
        "isalpha()\tReturns True if all characters in the string are in the alphabet\n",
        "isdecimal()\tReturns True if all characters in the string are decimals\n",
        "isdigit()\tReturns True if all characters in the string are digits\n",
        "isidentifier()\tReturns True if the string is an identifier\n",
        "islower()\tReturns True if all characters in the string are lower case\n",
        "isnumeric()\tReturns True if all characters in the string are numeric\n",
        "isprintable()\tReturns True if all characters in the string are printable\n",
        "isspace()\tReturns True if all characters in the string are whitespaces\n",
        "istitle()\tReturns True if the string follows the rules of a title\n",
        "isupper()\tReturns True if all characters in the string are upper case\n",
        "join()\tJoins the elements of an iterable to the end of the string\n",
        "ljust()\tReturns a left justified version of the string\n",
        "lower()\tConverts a string into lower case\n",
        "lstrip()\tReturns a left trim version of the string\n",
        "maketrans()\tReturns a translation table to be used in translations\n",
        "partition()\tReturns a tuple where the string is parted into three parts\n",
        "replace()\tReturns a string where a specified value is replaced with a specified value\n",
        "rfind()\tSearches the string for a specified value and returns the last position of where it was found\n",
        "rindex()\tSearches the string for a specified value and returns the last position of where it was found\n",
        "rjust()\tReturns a right justified version of the string\n",
        "rpartition()\tReturns a tuple where the string is parted into three parts\n",
        "rsplit()\tSplits the string at the specified separator, and returns a list\n",
        "rstrip()\tReturns a right trim version of the string\n",
        "split()\tSplits the string at the specified separator, and returns a list\n",
        "splitlines()\tSplits the string at line breaks and returns a list\n",
        "startswith()\tReturns true if the string starts with the specified value\n",
        "strip()\tReturns a trimmed version of the string\n",
        "swapcase()\tSwaps cases, lower case becomes upper case and vice versa\n",
        "title()\tConverts the first character of each word to upper case\n",
        "translate()\tReturns a translated string\n",
        "upper()\tConverts a string into upper case\n",
        "zfill()\tFills the string with a specified number of 0 values at the beginning'''"
      ],
      "execution_count": null,
      "outputs": []
    },
    {
      "cell_type": "markdown",
      "metadata": {
        "id": "oprr1sSmuSIR"
      },
      "source": [
        "# **Boolean Values**\n",
        "\n",
        "In programming you often need to know if an expression is True or False.\n",
        "\n",
        "You can evaluate any expression in Python, and get one of two answers, True or False.\n",
        "\n",
        "When you compare two values, the expression is evaluated and Python returns the Boolean answer:"
      ]
    },
    {
      "cell_type": "code",
      "metadata": {
        "colab": {
          "base_uri": "https://localhost:8080/"
        },
        "id": "uPSoZtg1mtEb",
        "outputId": "9a04af4c-d5de-475b-91af-765073477c7f"
      },
      "source": [
        "print(10>9)\n",
        "print(10==9)\n",
        "print(10<9)"
      ],
      "execution_count": null,
      "outputs": [
        {
          "output_type": "stream",
          "name": "stdout",
          "text": [
            "True\n",
            "False\n",
            "False\n"
          ]
        }
      ]
    },
    {
      "cell_type": "markdown",
      "metadata": {
        "id": "KmDwZLMUvLES"
      },
      "source": [
        "**When you run a condition in an if statement, Python returns True or False:**"
      ]
    },
    {
      "cell_type": "code",
      "metadata": {
        "colab": {
          "base_uri": "https://localhost:8080/"
        },
        "id": "sXhFsu6smtHh",
        "outputId": "5165b903-aa18-41d7-d2c9-d99f6fda8d0c"
      },
      "source": [
        "#Print a message based on whether the condition is True or False:\n",
        "a = 200\n",
        "b = 33\n",
        "\n",
        "if b > a:\n",
        "  print(\"b is greater than a\")\n",
        "else:\n",
        "  print(\"b is not greater than a\")"
      ],
      "execution_count": null,
      "outputs": [
        {
          "output_type": "stream",
          "name": "stdout",
          "text": [
            "b is not greater than a\n"
          ]
        }
      ]
    },
    {
      "cell_type": "markdown",
      "metadata": {
        "id": "6QarzH_1vVDU"
      },
      "source": [
        "**Evaluate Values and Variables**\n",
        "\n",
        "The bool() function allows you to evaluate any value, and give you True or False in return,"
      ]
    },
    {
      "cell_type": "code",
      "metadata": {
        "colab": {
          "base_uri": "https://localhost:8080/"
        },
        "id": "ApfadVpTmtKU",
        "outputId": "6e20a719-07ea-4ec0-8b0a-fe0c756bba99"
      },
      "source": [
        "#Evaluate a string and a number:\n",
        "\n",
        "print(bool(\"Hello\"))\n",
        "print(bool(15))"
      ],
      "execution_count": null,
      "outputs": [
        {
          "output_type": "stream",
          "name": "stdout",
          "text": [
            "True\n",
            "True\n"
          ]
        }
      ]
    },
    {
      "cell_type": "code",
      "metadata": {
        "colab": {
          "base_uri": "https://localhost:8080/"
        },
        "id": "wxHlZQ71mtND",
        "outputId": "38a4f9e6-7972-4228-9565-6f0b954e7074"
      },
      "source": [
        "#Evaluate two variables:\n",
        "\n",
        "x = \"Hello\"\n",
        "y = 15\n",
        "\n",
        "print(bool(x))\n",
        "print(bool(y))"
      ],
      "execution_count": null,
      "outputs": [
        {
          "output_type": "stream",
          "name": "stdout",
          "text": [
            "True\n",
            "True\n"
          ]
        }
      ]
    },
    {
      "cell_type": "markdown",
      "metadata": {
        "id": "Imv57qlovtZ7"
      },
      "source": [
        "**Most Values are True**\n",
        "\n",
        "Almost any value is evaluated to True if it has some sort of content.\n",
        "\n",
        "Any string is True, except empty strings.\n",
        "\n",
        "Any number is True, except 0.\n",
        "\n",
        "Any list, tuple, set, and dictionary are True, except empty ones."
      ]
    },
    {
      "cell_type": "code",
      "metadata": {
        "colab": {
          "base_uri": "https://localhost:8080/"
        },
        "id": "98OurEhimtR1",
        "outputId": "cc2a200d-e118-4184-d7f0-906a5a4f87f4"
      },
      "source": [
        "#The following will return True:\n",
        "\n",
        "bool(\"abc\")\n",
        "bool(123)\n",
        "bool([\"apple\", \"cherry\", \"banana\"])"
      ],
      "execution_count": null,
      "outputs": [
        {
          "output_type": "execute_result",
          "data": {
            "text/plain": [
              "True"
            ]
          },
          "metadata": {},
          "execution_count": 26
        }
      ]
    },
    {
      "cell_type": "markdown",
      "metadata": {
        "id": "MlWRed57v9nW"
      },
      "source": [
        "**Some Values are False**\n",
        "\n",
        "In fact, there are not many values that evaluate to False, except empty values, such as (), [], {}, \"\", the number 0, and the value None. And of course the value False evaluates to False."
      ]
    },
    {
      "cell_type": "code",
      "metadata": {
        "colab": {
          "base_uri": "https://localhost:8080/"
        },
        "id": "JAoisEH7mtU3",
        "outputId": "e8b96a3a-3ebf-463e-daef-96ca279f962d"
      },
      "source": [
        "#The following will return False:\n",
        "\n",
        "bool(False)\n",
        "bool(None)\n",
        "bool(0)\n",
        "bool(\"\")\n",
        "bool(())\n",
        "bool([])\n",
        "bool({})"
      ],
      "execution_count": null,
      "outputs": [
        {
          "output_type": "execute_result",
          "data": {
            "text/plain": [
              "False"
            ]
          },
          "metadata": {},
          "execution_count": 27
        }
      ]
    },
    {
      "cell_type": "markdown",
      "metadata": {
        "id": "SSIbNsewxQzy"
      },
      "source": [
        "**Functions can Return a Boolean**\n",
        "\n",
        "You can create functions that returns a Boolean Value:"
      ]
    },
    {
      "cell_type": "code",
      "metadata": {
        "colab": {
          "base_uri": "https://localhost:8080/"
        },
        "id": "dxvzYW-amtXo",
        "outputId": "b9e75559-6ba7-458b-b83f-75747e6e1066"
      },
      "source": [
        "def myfun():\n",
        "  return True\n",
        "print(myfun())"
      ],
      "execution_count": null,
      "outputs": [
        {
          "output_type": "stream",
          "name": "stdout",
          "text": [
            "True\n"
          ]
        }
      ]
    },
    {
      "cell_type": "code",
      "metadata": {
        "colab": {
          "base_uri": "https://localhost:8080/"
        },
        "id": "KZ-nJ2S9mt78",
        "outputId": "1ff36ed4-a2ff-406d-ca7b-db9b9d264766"
      },
      "source": [
        "def myfun():\n",
        "  return False\n",
        "print(myfun())"
      ],
      "execution_count": null,
      "outputs": [
        {
          "output_type": "stream",
          "name": "stdout",
          "text": [
            "False\n"
          ]
        }
      ]
    },
    {
      "cell_type": "markdown",
      "metadata": {
        "id": "QUInf4Rzx4TK"
      },
      "source": [
        "**You can execute code based on the Boolean answer of a function:**\n",
        "\n",
        "Example\n",
        "\n",
        "Print \"YES!\" if the function returns True, otherwise print \"NO!\":"
      ]
    },
    {
      "cell_type": "code",
      "metadata": {
        "colab": {
          "base_uri": "https://localhost:8080/"
        },
        "id": "8LDv7h6Fmt-1",
        "outputId": "5a9b3717-ceae-44d2-c5f2-08e911e437b2"
      },
      "source": [
        "def Myfunction():\n",
        "  return True\n",
        "if Myfunction():\n",
        "  print(\"Yes\")\n",
        "else:\n",
        "  print(\"No\")"
      ],
      "execution_count": null,
      "outputs": [
        {
          "output_type": "stream",
          "name": "stdout",
          "text": [
            "Yes\n"
          ]
        }
      ]
    },
    {
      "cell_type": "markdown",
      "metadata": {
        "id": "CHDoxn6hyn5-"
      },
      "source": [
        "# **Python Operators**\n",
        "Operators are used to perform operations on variables and values.\n",
        "\n",
        "**Python divides the operators in the following groups:**\n",
        "\n",
        "Arithmetic operators\n",
        "\n",
        "Assignment operators\n",
        "\n",
        "Comparison operators\n",
        "\n",
        "Logical operators\n",
        "\n",
        "Identity operators\n",
        "\n",
        "Membership operators\n",
        "\n",
        "Bitwise operators"
      ]
    },
    {
      "cell_type": "markdown",
      "metadata": {
        "id": "qpqkDzwyzgqQ"
      },
      "source": [
        "**Arithmetic operators are used with numeric values to perform common mathematical operations::**"
      ]
    },
    {
      "cell_type": "code",
      "metadata": {
        "id": "sCCCnrbVmuB5"
      },
      "source": [
        "'''Operator\tName\t            Example\n",
        "+     \tAddition\t          x + y\t\n",
        "-\t      Subtraction\t        x - y\t\n",
        "*     \tMultiplication\t    x * y\t\n",
        "/\t      Division\t          x / y\t\n",
        "%\t      Modulus\t            x % y\t\n",
        "**\t    Exponentiation\t    x ** y\t\n",
        "//\t    Floor division\t    x // y '''"
      ],
      "execution_count": null,
      "outputs": []
    },
    {
      "cell_type": "markdown",
      "metadata": {
        "id": "vFfucqt_62_n"
      },
      "source": [
        "**Assignment Operators**"
      ]
    },
    {
      "cell_type": "markdown",
      "metadata": {
        "id": "DynSn2w91MEu"
      },
      "source": [
        "**Assignment operators are used to assign values to variables:**\n",
        "\n",
        "![image.png](data:image/png;base64,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)"
      ]
    },
    {
      "cell_type": "markdown",
      "metadata": {
        "id": "2MYtwiJ06-Ls"
      },
      "source": [
        "**Comparison Operators**"
      ]
    },
    {
      "cell_type": "markdown",
      "metadata": {
        "id": "0mBAyG0K1aKn"
      },
      "source": [
        "**Comparison operators are used to compare two values:**\n",
        "\n",
        "![image.png](data:image/png;base64,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)"
      ]
    },
    {
      "cell_type": "markdown",
      "metadata": {
        "id": "k7zegsxE6u8Y"
      },
      "source": [
        "**Logical Operators**"
      ]
    },
    {
      "cell_type": "markdown",
      "metadata": {
        "id": "tktEFIWE1oty"
      },
      "source": [
        "![image.png](data:image/png;base64,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)"
      ]
    },
    {
      "cell_type": "markdown",
      "metadata": {
        "id": "CjHrADVs7Qtg"
      },
      "source": [
        "**Identity Operators**"
      ]
    },
    {
      "cell_type": "markdown",
      "metadata": {
        "id": "PR_5eJTV7Sod"
      },
      "source": [
        "![image.png](data:image/png;base64,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)"
      ]
    },
    {
      "cell_type": "markdown",
      "metadata": {
        "id": "FWOj4vOl7fA5"
      },
      "source": [
        "**Membership Operators**"
      ]
    },
    {
      "cell_type": "markdown",
      "metadata": {
        "id": "ckM3npg87g9o"
      },
      "source": [
        "![image.png](data:image/png;base64,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)"
      ]
    },
    {
      "cell_type": "markdown",
      "metadata": {
        "id": "9OhdCFqa7oP5"
      },
      "source": [
        "**Bitwise Operators**"
      ]
    },
    {
      "cell_type": "markdown",
      "metadata": {
        "id": "g4wBzklK7n-o"
      },
      "source": [
        "![image.png](data:image/png;base64,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)"
      ]
    },
    {
      "cell_type": "markdown",
      "metadata": {
        "id": "LKrcc6Pm78d2"
      },
      "source": [
        "# **Python Lists**"
      ]
    },
    {
      "cell_type": "markdown",
      "metadata": {
        "id": "ugY-HBHG8EH8"
      },
      "source": [
        "Lists are used to store multiple items in a single variable.\n",
        "\n",
        "Lists are one of 4 built-in data types in Python used to store collections of data, the other 3 are Tuple, Set, and Dictionary, all with different qualities and usage.\n",
        "\n",
        "**Lists are created using square brackets:**"
      ]
    },
    {
      "cell_type": "code",
      "metadata": {
        "colab": {
          "base_uri": "https://localhost:8080/"
        },
        "id": "XzUu2EKGmuEy",
        "outputId": "026de43b-fd96-43f5-abb1-eff097082d7f"
      },
      "source": [
        "thisislist = [\"apple\", \"banana\", \"orange\"]\n",
        "print(thisislist)"
      ],
      "execution_count": null,
      "outputs": [
        {
          "output_type": "stream",
          "name": "stdout",
          "text": [
            "['apple', 'banana', 'orange']\n"
          ]
        }
      ]
    },
    {
      "cell_type": "markdown",
      "metadata": {
        "id": "Zck-9qmk8vFx"
      },
      "source": [
        "**List Items**\n",
        "\n",
        "List items are ordered, changeable, and allow duplicate values.\n",
        "\n",
        "List items are indexed, the first item has index [0], the second item has index [1] etc.\n",
        "\n",
        "**Ordered**-\n",
        "When we say that lists are ordered, it means that the items have a defined order, and that order will not change.\n",
        "\n",
        "If you add new items to a list, the new items will be placed at the end of the list.\n",
        "\n",
        "***Note: There are some list methods that will change the order, but in general: the order of the items will not change.***\n",
        "\n",
        "**Changeable**-\n",
        "The list is changeable, meaning that we can change, add, and remove items in a list after it has been created.\n",
        "\n",
        "**Allow Duplicates**-\n",
        "Since lists are indexed, lists can have items with the same value:"
      ]
    },
    {
      "cell_type": "markdown",
      "metadata": {
        "id": "ZFECcexj9Qkh"
      },
      "source": [
        "**List Length**\n",
        "\n",
        "To determine how many items a list has, use the len() function:"
      ]
    },
    {
      "cell_type": "code",
      "metadata": {
        "colab": {
          "base_uri": "https://localhost:8080/"
        },
        "id": "UfQP7WjN1NE1",
        "outputId": "757b9be7-b25b-492b-9f80-825a5ce21706"
      },
      "source": [
        "thisislist = ['apple', 'banana', 'orange']\n",
        "print(len(thisislist))"
      ],
      "execution_count": null,
      "outputs": [
        {
          "output_type": "stream",
          "name": "stdout",
          "text": [
            "3\n"
          ]
        }
      ]
    },
    {
      "cell_type": "markdown",
      "metadata": {
        "id": "M99zVSk69oQc"
      },
      "source": [
        "**List Items - Data Types**\n",
        "\n",
        "List items can be of any data type:"
      ]
    },
    {
      "cell_type": "code",
      "metadata": {
        "id": "e2SpQaQP1NKE"
      },
      "source": [
        "# String, int and boolean data types:\n",
        "list1 = [\"apple\", \"banana\", \"cherry\"]\n",
        "list2 = [1, 5, 7, 9, 3]\n",
        "list3 = [True, False, False]"
      ],
      "execution_count": null,
      "outputs": []
    },
    {
      "cell_type": "code",
      "metadata": {
        "id": "iQiOynQ-1NNB"
      },
      "source": [
        "#A list with strings, integers and boolean values:\n",
        "list1 = [34, 'apple', True, 54,'fruits']"
      ],
      "execution_count": null,
      "outputs": []
    },
    {
      "cell_type": "code",
      "metadata": {
        "colab": {
          "base_uri": "https://localhost:8080/"
        },
        "id": "yNIbSXcB1NQg",
        "outputId": "a256b091-5661-4f9a-f9e8-3239002ebda6"
      },
      "source": [
        "#What is the data type of a list?\n",
        "list1 = [34, 'apple', True, 54,'fruits']\n",
        "type(list1)"
      ],
      "execution_count": null,
      "outputs": [
        {
          "output_type": "execute_result",
          "data": {
            "text/plain": [
              "list"
            ]
          },
          "metadata": {},
          "execution_count": 43
        }
      ]
    },
    {
      "cell_type": "markdown",
      "metadata": {
        "id": "WWDaQXn9-zLu"
      },
      "source": [
        "**The list() Constructor**\n",
        "\n",
        "It is also possible to use the list() constructor when creating a new list."
      ]
    },
    {
      "cell_type": "code",
      "metadata": {
        "colab": {
          "base_uri": "https://localhost:8080/"
        },
        "id": "yQjo5kqF1NWR",
        "outputId": "fe18564c-dadd-453f-ebce-fdbf9d4f5df0"
      },
      "source": [
        "# Using the list() constructor to make a List:\n",
        "thisislist = list(('apple', 'banana','orange')) # note the double round-brackets\n",
        "print(thisislist)"
      ],
      "execution_count": null,
      "outputs": [
        {
          "output_type": "stream",
          "name": "stdout",
          "text": [
            "['apple', 'banana', 'orange']\n"
          ]
        }
      ]
    },
    {
      "cell_type": "markdown",
      "metadata": {
        "id": "0TEtx1HEGWBN"
      },
      "source": [
        "# **Python Collections (Arrays)**\n",
        "**There are four collection data types in the Python programming language:**\n",
        "\n",
        "**Lis**t is a collection which is ordered and changeable. Allows duplicate members.\n",
        "\n",
        "**Tuple** is a collection which is ordered and unchangeable. Allows duplicate members.\n",
        "\n",
        "**Set** is a collection which is unordered, unchangeable*, and unindexed. No duplicate members.\n",
        "\n",
        "**Dictionary** is a collection which is ordered** and changeable. No duplicate members.\n",
        "\n",
        "*Set items are unchangeable, but you can remove and/or add items whenever you like.\n",
        "\n",
        "**As of Python version 3.7, dictionaries are ordered. In Python 3.6 and earlier, dictionaries are unordered.\n",
        "\n",
        "**When choosing a collection type, it is useful to understand the properties of that type.Choosing the right type for a particular data set could mean retention of meaning, and, it could mean an increase in efficiency or security.**"
      ]
    },
    {
      "cell_type": "markdown",
      "metadata": {
        "id": "LyVJ25dIHBFq"
      },
      "source": [
        "# **Python - Access List Items**\n",
        "**Access Items**\n",
        "\n",
        "List items are indexed and you can access them by referring to the index number:\n",
        "\n",
        "\n",
        "\n",
        "Range of Indexes\n",
        "You can specify a range of indexes by specifying where to start and where to end the range.\n",
        "\n",
        "When specifying a range, the return value will be a new list with the specified items.\n",
        "\n",
        "Example\n",
        "Return the third, fourth, and fifth item:\n",
        "\n",
        "thislist = [\"apple\", \"banana\", \"cherry\", \"orange\", \"kiwi\", \"melon\", \"mango\"]\n",
        "print(thislist[2:5])\n",
        "Note: The search will start at index 2 (included) and end at index 5 (not included).\n",
        "\n",
        "Remember that the first item has index 0.\n",
        "\n",
        "By leaving out the start value, the range will start at the first item:\n",
        "\n",
        "Example\n",
        "This example returns the items from the beginning to, but NOT including, \"kiwi\":\n",
        "\n",
        "thislist = [\"apple\", \"banana\", \"cherry\", \"orange\", \"kiwi\", \"melon\", \"mango\"]\n",
        "print(thislist[:4])\n",
        "By leaving out the end value, the range will go on to the end of the list:\n",
        "\n",
        "Example\n",
        "This example returns the items from \"cherry\" to the end:\n",
        "\n",
        "thislist = [\"apple\", \"banana\", \"cherry\", \"orange\", \"kiwi\", \"melon\", \"mango\"]\n",
        "print(thislist[2:])\n",
        "Range of Negative Indexes\n",
        "Specify negative indexes if you want to start the search from the end of the list:\n",
        "\n",
        "Example\n",
        "This example returns the items from \"orange\" (-4) to, but NOT including \"mango\" (-1):\n",
        "\n",
        "thislist = [\"apple\", \"banana\", \"cherry\", \"orange\", \"kiwi\", \"melon\", \"mango\"]\n",
        "print(thislist[-4:-1])"
      ]
    },
    {
      "cell_type": "code",
      "metadata": {
        "colab": {
          "base_uri": "https://localhost:8080/"
        },
        "id": "jDN5iVwR1NdP",
        "outputId": "5db333b4-d80b-4481-d438-4cce5f11f4b9"
      },
      "source": [
        "#Example\n",
        "#Print the second item of the list:\n",
        "\n",
        "thislist = [\"apple\", \"banana\", \"cherry\"]\n",
        "print(thislist[1])\n",
        "#Note: The first item has index 0."
      ],
      "execution_count": null,
      "outputs": [
        {
          "output_type": "stream",
          "name": "stdout",
          "text": [
            "banana\n"
          ]
        }
      ]
    },
    {
      "cell_type": "markdown",
      "metadata": {
        "id": "F8btYRMEHgle"
      },
      "source": [
        "**Negative Indexing**\n",
        "\n",
        "Negative indexing means start from the end\n",
        "\n",
        "-1 refers to the last item, -2 refers to the second last item etc."
      ]
    },
    {
      "cell_type": "code",
      "metadata": {
        "colab": {
          "base_uri": "https://localhost:8080/"
        },
        "id": "PXAJyzc11NgY",
        "outputId": "073437b8-d3e4-4f0e-f461-ff609971da98"
      },
      "source": [
        "#Example\n",
        "#Print the last item of the list:\n",
        "\n",
        "thislist = [\"apple\", \"banana\", \"cherry\"]\n",
        "print(thislist[-1])"
      ],
      "execution_count": null,
      "outputs": [
        {
          "output_type": "stream",
          "name": "stdout",
          "text": [
            "cherry\n"
          ]
        }
      ]
    },
    {
      "cell_type": "markdown",
      "metadata": {
        "id": "4ieVf5UuILS5"
      },
      "source": [
        "**Range of Indexes**\n",
        "\n",
        "You can specify a range of indexes by specifying where to start and where to end the range.\n",
        "\n",
        "When specifying a range, the return value will be a new list with the specified items."
      ]
    },
    {
      "cell_type": "code",
      "metadata": {
        "colab": {
          "base_uri": "https://localhost:8080/"
        },
        "id": "gCQtySC41Nmv",
        "outputId": "5a1961f5-87cf-4365-f6a5-03ec5bdfdf1e"
      },
      "source": [
        "#Return the third, fourth, and fifth item:\n",
        "\n",
        "thislist = [\"apple\", \"banana\", \"cherry\", \"orange\", \"kiwi\", \"melon\", \"mango\"]\n",
        "print(thislist[2:5])"
      ],
      "execution_count": null,
      "outputs": [
        {
          "output_type": "stream",
          "name": "stdout",
          "text": [
            "['cherry', 'orange', 'kiwi']\n"
          ]
        }
      ]
    },
    {
      "cell_type": "markdown",
      "metadata": {
        "id": "BRfsylPnIoTu"
      },
      "source": [
        "By leaving out the start value, the range will start at the first item:"
      ]
    },
    {
      "cell_type": "code",
      "metadata": {
        "colab": {
          "base_uri": "https://localhost:8080/"
        },
        "id": "Cbp10eUy1Npu",
        "outputId": "11473f9e-3f8f-424d-d36c-69473ec8ce76"
      },
      "source": [
        "#This example returns the items from the beginning to, but NOT including, \"kiwi\"\n",
        "\n",
        "thislist = [\"apple\", \"banana\", \"cherry\", \"orange\", \"kiwi\", \"melon\", \"mango\"]\n",
        "print(thislist[:4])"
      ],
      "execution_count": null,
      "outputs": [
        {
          "output_type": "stream",
          "name": "stdout",
          "text": [
            "['apple', 'banana', 'cherry', 'orange']\n"
          ]
        }
      ]
    },
    {
      "cell_type": "markdown",
      "metadata": {
        "id": "1hSPDAcEJEx6"
      },
      "source": [
        "By leaving out the end value, the range will go on to the end of the list:"
      ]
    },
    {
      "cell_type": "code",
      "metadata": {
        "colab": {
          "base_uri": "https://localhost:8080/"
        },
        "id": "6lQQGEbC1NtS",
        "outputId": "ac9131a2-240e-48f0-ca8f-1987f20fac8b"
      },
      "source": [
        "#This example returns the items from \"cherry\" to the end:\n",
        "\n",
        "thislist = [\"apple\", \"banana\", \"cherry\", \"orange\", \"kiwi\", \"melon\", \"mango\"]\n",
        "print(thislist[2:])"
      ],
      "execution_count": null,
      "outputs": [
        {
          "output_type": "stream",
          "name": "stdout",
          "text": [
            "['cherry', 'orange', 'kiwi', 'melon', 'mango']\n"
          ]
        }
      ]
    },
    {
      "cell_type": "markdown",
      "metadata": {
        "id": "tuoSv5EaJSL2"
      },
      "source": [
        "**Range of Negative Indexes** -\n",
        "Specify negative indexes if you want to start the search from the end of the list:"
      ]
    },
    {
      "cell_type": "code",
      "metadata": {
        "colab": {
          "base_uri": "https://localhost:8080/"
        },
        "id": "QmfBIfk-1Nwa",
        "outputId": "967e6231-d7d5-4619-fef2-02681b6a6594"
      },
      "source": [
        "#This example returns the items from \"orange\" (-4) to, but NOT including \"mango\" (-1):\n",
        "\n",
        "thislist = [\"apple\", \"banana\", \"cherry\", \"orange\", \"kiwi\", \"melon\", \"mango\"]\n",
        "print(thislist[-4:-1])"
      ],
      "execution_count": null,
      "outputs": [
        {
          "output_type": "stream",
          "name": "stdout",
          "text": [
            "['orange', 'kiwi', 'melon']\n"
          ]
        }
      ]
    },
    {
      "cell_type": "markdown",
      "metadata": {
        "id": "NqfeIHuJbB3Z"
      },
      "source": [
        "**Check if Item Exists**-\n",
        "To determine if a specified item is present in a list use the 'in' keyword:"
      ]
    },
    {
      "cell_type": "code",
      "metadata": {
        "colab": {
          "base_uri": "https://localhost:8080/"
        },
        "id": "k4u0ra731NzY",
        "outputId": "4cbda097-481d-44c3-ca0f-ae66fb0705a3"
      },
      "source": [
        "thisislist= ['apple','banana','orange']\n",
        "if 'apple' in thisislist:\n",
        "  print(\"yes, apple is present in the list\")"
      ],
      "execution_count": null,
      "outputs": [
        {
          "output_type": "stream",
          "name": "stdout",
          "text": [
            "yes, apple is present in the list\n"
          ]
        }
      ]
    },
    {
      "cell_type": "markdown",
      "metadata": {
        "id": "8Zbq9BWkeevc"
      },
      "source": [
        "# **Change List Items**\n",
        "**Change Item Value**-\n",
        "To change the value of a specific item, refer to the index number:"
      ]
    },
    {
      "cell_type": "code",
      "metadata": {
        "colab": {
          "base_uri": "https://localhost:8080/"
        },
        "id": "-9f5ulMZ1N4N",
        "outputId": "9a316d12-e5a4-4f22-d596-b8304760e075"
      },
      "source": [
        "#Change the second item:\n",
        "\n",
        "thislist = [\"apple\", \"banana\", \"cherry\"]\n",
        "thislist[1] = \"blackcurrant\"\n",
        "print(thislist)"
      ],
      "execution_count": null,
      "outputs": [
        {
          "output_type": "stream",
          "name": "stdout",
          "text": [
            "['apple', 'blackcurrant', 'cherry']\n"
          ]
        }
      ]
    },
    {
      "cell_type": "markdown",
      "metadata": {
        "id": "F5rOMuqSepUI"
      },
      "source": [
        "**Change a Range of Item Values**-\n",
        "To change the value of items within a specific range,\n",
        "\n",
        "define a list with the new values, and refer to the range of index numbers where you want to insert the new values:"
      ]
    },
    {
      "cell_type": "code",
      "metadata": {
        "colab": {
          "base_uri": "https://localhost:8080/"
        },
        "id": "nayU91rse46Q",
        "outputId": "39816d6a-1b9c-4f20-fb2a-a2041feb7db0"
      },
      "source": [
        "#Change the values \"banana\" and \"cherry\" with the values \"blackcurrant\" and \"watermelon\":\n",
        "\n",
        "thislist = [\"apple\", \"banana\", \"cherry\", \"orange\", \"kiwi\", \"mango\"]\n",
        "thislist[1:3] = [\"blackcurrant\", \"watermelon\"]\n",
        "print(thislist)"
      ],
      "execution_count": null,
      "outputs": [
        {
          "output_type": "stream",
          "name": "stdout",
          "text": [
            "['apple', 'blackcurrant', 'watermelon', 'orange', 'kiwi', 'mango']\n"
          ]
        }
      ]
    },
    {
      "cell_type": "markdown",
      "metadata": {
        "id": "zQJWZRaCfNJ-"
      },
      "source": [
        "If you insert more items than you replace, the new items will be inserted where you specified, and the remaining items will move accordingly:"
      ]
    },
    {
      "cell_type": "code",
      "metadata": {
        "colab": {
          "base_uri": "https://localhost:8080/"
        },
        "id": "Pxg2IuRIe42h",
        "outputId": "a7420ae1-b409-48e0-b7fc-e416a27aae90"
      },
      "source": [
        "#Change the second value by replacing it with two new values:\n",
        "\n",
        "thislist = [\"apple\", \"banana\", \"cherry\"]\n",
        "thislist[1:2] = [\"blackcurrant\", \"watermelon\"]\n",
        "print(thislist)"
      ],
      "execution_count": null,
      "outputs": [
        {
          "output_type": "stream",
          "name": "stdout",
          "text": [
            "['apple', 'blackcurrant', 'watermelon', 'cherry']\n"
          ]
        }
      ]
    },
    {
      "cell_type": "markdown",
      "metadata": {
        "id": "atyT6kYKXqmU"
      },
      "source": [
        "**Note: The length of the list will change when the number of items inserted does not match the number of items replaced.**"
      ]
    },
    {
      "cell_type": "code",
      "metadata": {
        "id": "WLDRbKLm1N8L",
        "colab": {
          "base_uri": "https://localhost:8080/"
        },
        "outputId": "a4468dfc-3295-47e6-8942-399cc4d92ee7"
      },
      "source": [
        "'''If you insert less items than you replace,the new items will be \n",
        "inserted where you specified, and the remaining items will move accordingly:'''\n",
        "\n",
        "#Change the second and third value by replacing it with one value:\n",
        "\n",
        "thislist = [\"apple\", \"banana\", \"cherry\"]\n",
        "thislist[1:3] = [\"watermelon\"]\n",
        "print(thislist)"
      ],
      "execution_count": null,
      "outputs": [
        {
          "output_type": "stream",
          "name": "stdout",
          "text": [
            "['apple', 'watermelon']\n"
          ]
        }
      ]
    },
    {
      "cell_type": "markdown",
      "metadata": {
        "id": "upMzkNgKYzAH"
      },
      "source": [
        "**Insert Items**\n",
        "\n",
        "To insert a new list item, without replacing any of the existing values, we can use the insert() method.\n",
        "\n",
        "The insert() method inserts an item at the specified index:"
      ]
    },
    {
      "cell_type": "code",
      "metadata": {
        "id": "JIYZ8Qt21OAK",
        "colab": {
          "base_uri": "https://localhost:8080/"
        },
        "outputId": "3f0d3d84-f378-41b3-c139-f61e02bd6822"
      },
      "source": [
        "#Insert \"watermelon\" as the third item:\n",
        "\n",
        "thislist = [\"apple\", \"banana\", \"cherry\"]\n",
        "thislist.insert(2, \"watermelon\")\n",
        "print(thislist)"
      ],
      "execution_count": null,
      "outputs": [
        {
          "output_type": "stream",
          "name": "stdout",
          "text": [
            "['apple', 'banana', 'watermelon', 'cherry']\n"
          ]
        }
      ]
    },
    {
      "cell_type": "markdown",
      "metadata": {
        "id": "bRXbcnmLciwo"
      },
      "source": [
        "#**Add List Items**\n",
        "\n",
        "**Append Items**\n",
        "\n",
        "To add an item to the end of the list, use the append() method:"
      ]
    },
    {
      "cell_type": "code",
      "metadata": {
        "id": "w9zq_a5E1OFR",
        "colab": {
          "base_uri": "https://localhost:8080/"
        },
        "outputId": "c4012e18-db7d-4563-d4ea-ca08e2870e89"
      },
      "source": [
        "#Using the append() method to append an item:\n",
        "\n",
        "thislist = [\"apple\", \"banana\", \"cherry\"]\n",
        "thislist.append(\"orange\")\n",
        "print(thislist)"
      ],
      "execution_count": null,
      "outputs": [
        {
          "output_type": "stream",
          "name": "stdout",
          "text": [
            "['apple', 'banana', 'cherry', 'orange']\n"
          ]
        }
      ]
    },
    {
      "cell_type": "markdown",
      "metadata": {
        "id": "fPJoRLwhdRRw"
      },
      "source": [
        "**Insert Items**\n",
        "\n",
        "To insert a list item at a specified index, use the insert() method.\n",
        "\n",
        "The insert() method inserts an item at the specified index:"
      ]
    },
    {
      "cell_type": "code",
      "metadata": {
        "id": "dTmbkH6w1OJT",
        "colab": {
          "base_uri": "https://localhost:8080/"
        },
        "outputId": "eed46fbc-f2f4-4a9b-8d62-00d05c73d0dd"
      },
      "source": [
        "#Insert an item as the second position:\n",
        "\n",
        "thislist = [\"apple\", \"banana\", \"cherry\"]\n",
        "thislist.insert(1, \"orange\")\n",
        "print(thislist)"
      ],
      "execution_count": null,
      "outputs": [
        {
          "output_type": "stream",
          "name": "stdout",
          "text": [
            "['apple', 'orange', 'banana', 'cherry']\n"
          ]
        }
      ]
    },
    {
      "cell_type": "markdown",
      "metadata": {
        "id": "lBzrXGz-dmlR"
      },
      "source": [
        "**Extend List**\n",
        "\n",
        "To append elements from another list to the current list, use the extend() method."
      ]
    },
    {
      "cell_type": "code",
      "metadata": {
        "id": "o8xYpJ4a1OMn",
        "colab": {
          "base_uri": "https://localhost:8080/"
        },
        "outputId": "c4797f0a-e80f-4dcf-919e-61141af0a81b"
      },
      "source": [
        "#Add the elements of 'tropical' to 'thislist':\n",
        "\n",
        "thislist = [\"apple\", \"banana\", \"cherry\"]\n",
        "tropical = [\"mango\", \"pineapple\", \"papaya\"]\n",
        "thislist.extend(tropical)            #The elements will be added to the end of the list.\n",
        "print(thislist) "
      ],
      "execution_count": null,
      "outputs": [
        {
          "output_type": "stream",
          "name": "stdout",
          "text": [
            "['apple', 'banana', 'cherry', 'mango', 'pineapple', 'papaya']\n"
          ]
        }
      ]
    },
    {
      "cell_type": "markdown",
      "metadata": {
        "id": "4ajc_4OAeGtS"
      },
      "source": [
        "**Add Any Iterable**\n",
        "\n",
        "The extend() method does not have to append ***lists***, you can add any iterable object **(tuples, sets, dictionaries etc.)**."
      ]
    },
    {
      "cell_type": "code",
      "metadata": {
        "id": "msLiwMaq1OQ-",
        "colab": {
          "base_uri": "https://localhost:8080/"
        },
        "outputId": "0a9c52c9-af48-4e8f-ce77-3d6b937d8b4d"
      },
      "source": [
        "#Add elements of a tuple to a list:\n",
        "\n",
        "thislist = [\"apple\", \"banana\", \"cherry\"]\n",
        "thistuple = (\"kiwi\", \"orange\")\n",
        "thislist.extend(thistuple)\n",
        "print(thislist)"
      ],
      "execution_count": null,
      "outputs": [
        {
          "output_type": "stream",
          "name": "stdout",
          "text": [
            "['apple', 'banana', 'cherry', 'kiwi', 'orange']\n"
          ]
        }
      ]
    },
    {
      "cell_type": "markdown",
      "metadata": {
        "id": "8Y3kYsFqeeDM"
      },
      "source": [
        "# **Remove List Items**\n",
        "**Remove Specified Item**-\n",
        "The remove() method removes the specified item."
      ]
    },
    {
      "cell_type": "code",
      "metadata": {
        "id": "7D-fshiP1OUj",
        "colab": {
          "base_uri": "https://localhost:8080/"
        },
        "outputId": "08d01943-f8aa-4f48-d60f-ad0d324b686b"
      },
      "source": [
        "#Remove \"banana\":\n",
        "\n",
        "thislist = [\"apple\", \"banana\", \"cherry\"]\n",
        "thislist.remove(\"banana\")\n",
        "print(thislist)"
      ],
      "execution_count": null,
      "outputs": [
        {
          "output_type": "stream",
          "name": "stdout",
          "text": [
            "['apple', 'cherry']\n"
          ]
        }
      ]
    },
    {
      "cell_type": "markdown",
      "metadata": {
        "id": "umABRMZUfLxI"
      },
      "source": [
        "**Remove Specified Index**-\n",
        "The pop() method removes the specified index."
      ]
    },
    {
      "cell_type": "code",
      "metadata": {
        "id": "0MgcyEq_1OX1",
        "colab": {
          "base_uri": "https://localhost:8080/"
        },
        "outputId": "a05fac01-d838-4ce3-804a-8c55b305736a"
      },
      "source": [
        "thislist = [\"apple\", \"banana\", \"cherry\"]\n",
        "thislist.pop(1)\n",
        "print(thislist)"
      ],
      "execution_count": null,
      "outputs": [
        {
          "output_type": "stream",
          "name": "stdout",
          "text": [
            "['apple', 'cherry']\n"
          ]
        }
      ]
    },
    {
      "cell_type": "code",
      "metadata": {
        "colab": {
          "base_uri": "https://localhost:8080/"
        },
        "id": "mU70qWclfGvF",
        "outputId": "5eaf49b0-ee27-41fa-823c-a9f1be67e9ec"
      },
      "source": [
        "#If you do not specify the index, the pop() method removes the last item.\n",
        "#Remove the last item:\n",
        "\n",
        "thislist = [\"apple\", \"banana\", \"cherry\"]\n",
        "thislist.pop()\n",
        "print(thislist)"
      ],
      "execution_count": null,
      "outputs": [
        {
          "output_type": "stream",
          "name": "stdout",
          "text": [
            "['apple', 'banana']\n"
          ]
        }
      ]
    },
    {
      "cell_type": "markdown",
      "metadata": {
        "id": "DFBrwJLmf1Ld"
      },
      "source": [
        "**The *'del'* keyword also removes the specified index:**"
      ]
    },
    {
      "cell_type": "code",
      "metadata": {
        "colab": {
          "base_uri": "https://localhost:8080/"
        },
        "id": "3sG5E69_fGyZ",
        "outputId": "6f8e1e1c-46c9-412e-e741-ff6e965d593e"
      },
      "source": [
        "#Remove the first item:\n",
        "\n",
        "thislist = [\"apple\", \"banana\", \"cherry\"]\n",
        "del thislist[1]\n",
        "print(thislist)"
      ],
      "execution_count": null,
      "outputs": [
        {
          "output_type": "stream",
          "name": "stdout",
          "text": [
            "['apple', 'cherry']\n"
          ]
        }
      ]
    },
    {
      "cell_type": "code",
      "metadata": {
        "id": "8yu9FxQGfG0Y"
      },
      "source": [
        "#Delete the entire list:\n",
        "\n",
        "thislist = [\"apple\", \"banana\", \"cherry\"]\n",
        "del thislist"
      ],
      "execution_count": null,
      "outputs": []
    },
    {
      "cell_type": "markdown",
      "metadata": {
        "id": "XJXsTbe6iKo7"
      },
      "source": [
        "**Clear the List**\n",
        "\n",
        "The clear() method empties the list.\n",
        "\n",
        "The list still remains, but it has no content."
      ]
    },
    {
      "cell_type": "code",
      "metadata": {
        "colab": {
          "base_uri": "https://localhost:8080/"
        },
        "id": "K1yeJ2vCfG22",
        "outputId": "1e8cd826-f87b-45bf-e33a-29aa2eb602d2"
      },
      "source": [
        "#Clear the list content:\n",
        "\n",
        "thislist = [\"apple\", \"banana\", \"cherry\"]\n",
        "thislist.clear()\n",
        "print(thislist)"
      ],
      "execution_count": null,
      "outputs": [
        {
          "output_type": "stream",
          "name": "stdout",
          "text": [
            "[]\n"
          ]
        }
      ]
    },
    {
      "cell_type": "markdown",
      "metadata": {
        "id": "x9qnPvDlieS-"
      },
      "source": [
        "# **Loop Lists**\n",
        "**Loop Through a List** -\n",
        "You can loop through the list items by using a ***for*** loop:"
      ]
    },
    {
      "cell_type": "code",
      "metadata": {
        "colab": {
          "base_uri": "https://localhost:8080/"
        },
        "id": "w2AFRfaUfG5I",
        "outputId": "d0696cd1-25ec-4def-c6eb-265aeef5a10e"
      },
      "source": [
        "#Print all items in the list, one by one:\n",
        "\n",
        "thislist = [\"apple\", \"banana\", \"cherry\"]\n",
        "for x in thislist:\n",
        "  print(x)"
      ],
      "execution_count": null,
      "outputs": [
        {
          "output_type": "stream",
          "name": "stdout",
          "text": [
            "apple\n",
            "banana\n",
            "cherry\n"
          ]
        }
      ]
    },
    {
      "cell_type": "markdown",
      "metadata": {
        "id": "ktfaQ1Oii7Yt"
      },
      "source": [
        "**Loop Through the Index Numbers**\n",
        "\n",
        "You can also loop through the list items by referring to their index number.\n",
        "\n",
        "Use the range() and len() functions to create a suitable iterable."
      ]
    },
    {
      "cell_type": "code",
      "metadata": {
        "colab": {
          "base_uri": "https://localhost:8080/"
        },
        "id": "PKnSmiLufG78",
        "outputId": "f621eb47-d055-4e69-be4c-33b723146a2e"
      },
      "source": [
        "#Print all items by referring to their index number:\n",
        "\n",
        "thislist = [\"apple\", \"banana\", \"cherry\"]\n",
        "for i in range(len(thislist)):\n",
        "  print(thislist[i])"
      ],
      "execution_count": null,
      "outputs": [
        {
          "output_type": "stream",
          "name": "stdout",
          "text": [
            "apple\n",
            "banana\n",
            "cherry\n"
          ]
        }
      ]
    },
    {
      "cell_type": "markdown",
      "metadata": {
        "id": "4-fnnF-ujVQv"
      },
      "source": [
        "**Loop through a While Loop**\n",
        "\n",
        "You can loop through the list items by using a while loop.\n",
        "\n",
        "Use the len() function to determine the length of the list, then start at 0 and loop your way through the list items by refering to their indexes.\n",
        "\n",
        "Remember to increase the index by 1 after each iteration."
      ]
    },
    {
      "cell_type": "code",
      "metadata": {
        "colab": {
          "base_uri": "https://localhost:8080/"
        },
        "id": "5ruhVZZPfG-E",
        "outputId": "f9705132-9ce3-430f-9bc9-5fa79150ae99"
      },
      "source": [
        "#Print all items, using a while loop to go through all the index numbers\n",
        "\n",
        "thislist = [\"apple\", \"banana\", \"cherry\"]\n",
        "i = 0\n",
        "while i < len(thislist):\n",
        "  print(thislist[i])\n",
        "  i = i + 1"
      ],
      "execution_count": null,
      "outputs": [
        {
          "output_type": "stream",
          "name": "stdout",
          "text": [
            "apple\n",
            "banana\n",
            "cherry\n"
          ]
        }
      ]
    },
    {
      "cell_type": "markdown",
      "metadata": {
        "id": "MWLXzxDekFPh"
      },
      "source": [
        "**Looping Using List Comprehension**\n",
        "\n",
        "List Comprehension offers the shortest syntax for looping through lists:"
      ]
    },
    {
      "cell_type": "code",
      "metadata": {
        "colab": {
          "base_uri": "https://localhost:8080/"
        },
        "id": "EORKnkcFfHC2",
        "outputId": "ed05da94-0469-4ace-f3cf-cdd6898836dd"
      },
      "source": [
        "#A short hand for loop that will print all items in a list:\n",
        "\n",
        "thislist = [\"apple\", \"banana\", \"cherry\"]\n",
        "[print(x) for x in thislist]"
      ],
      "execution_count": null,
      "outputs": [
        {
          "output_type": "stream",
          "name": "stdout",
          "text": [
            "apple\n",
            "banana\n",
            "cherry\n"
          ]
        },
        {
          "output_type": "execute_result",
          "data": {
            "text/plain": [
              "[None, None, None]"
            ]
          },
          "metadata": {},
          "execution_count": 23
        }
      ]
    },
    {
      "cell_type": "markdown",
      "metadata": {
        "id": "2zqPW7svlGcV"
      },
      "source": [
        "# **Python - List Comprehension**\n",
        "\n",
        "List comprehension offers a shorter syntax when you want to create a new list based on the values of an existing list.\n",
        "\n",
        "**Example:**\n",
        "\n",
        "Based on a list of fruits, you want a new list, containing only the fruits with the letter \"a\" in the name.\n",
        "\n",
        "Without list comprehension you will have to write a for statement with a conditional test inside:"
      ]
    },
    {
      "cell_type": "code",
      "metadata": {
        "colab": {
          "base_uri": "https://localhost:8080/"
        },
        "id": "sYTzOvDafHFY",
        "outputId": "f7a62bce-c856-4708-9fb0-f8b3d47eb3a4"
      },
      "source": [
        "fruits = [\"apple\", \"banana\", \"cherry\", \"kiwi\", \"mango\"]\n",
        "newlist=[]\n",
        "for x in fruits:\n",
        "  if 'a' in x:\n",
        "    newlist.append(x)\n",
        "print(newlist)"
      ],
      "execution_count": null,
      "outputs": [
        {
          "output_type": "stream",
          "name": "stdout",
          "text": [
            "['apple', 'banana', 'mango']\n"
          ]
        }
      ]
    },
    {
      "cell_type": "markdown",
      "metadata": {
        "id": "e70TRqZ4l_BR"
      },
      "source": [
        "**With list comprehension you can do all that with only one line of code:**"
      ]
    },
    {
      "cell_type": "code",
      "metadata": {
        "colab": {
          "base_uri": "https://localhost:8080/"
        },
        "id": "TexDlpf-fHH0",
        "outputId": "62430ed2-4989-4325-bca8-2630ab981c68"
      },
      "source": [
        "fruits = [\"apple\", \"banana\", \"cherry\", \"kiwi\", \"mango\"]\n",
        "newlist = [x for x in fruits if 'a'in x]\n",
        "print(newlist)"
      ],
      "execution_count": null,
      "outputs": [
        {
          "output_type": "stream",
          "name": "stdout",
          "text": [
            "['apple', 'banana', 'mango']\n"
          ]
        }
      ]
    },
    {
      "cell_type": "markdown",
      "metadata": {
        "id": "uBB6vxUVmhjS"
      },
      "source": [
        "**The Syntax**\n",
        "\n",
        "newlist = [***expression*** for **item** in **iterable** if **condition == True**]\n",
        "\n",
        "The return value is a new list, leaving the old list unchanged.\n",
        "\n",
        "**Condition**-\n",
        "The condition is like a filter that only accepts the items that valuate to True."
      ]
    },
    {
      "cell_type": "code",
      "metadata": {
        "colab": {
          "base_uri": "https://localhost:8080/"
        },
        "id": "0NjQjpxTfHam",
        "outputId": "750e2d95-cdc5-4480-b03d-10cce6f8ab62"
      },
      "source": [
        "#Only accept items that are not \"apple\":\n",
        "fruits = [\"apple\", \"banana\", \"cherry\", \"kiwi\", \"mango\"]\n",
        "newlist = [x for x in fruits if x!='apple']\n",
        "\n",
        "#The condition if x != \"apple\"  will return True for all elements other than \"apple\",\n",
        "# making the new list contain all fruits except \"apple\".\n",
        "\n",
        "print(newlist)"
      ],
      "execution_count": null,
      "outputs": [
        {
          "output_type": "stream",
          "name": "stdout",
          "text": [
            "['banana', 'cherry', 'kiwi', 'mango']\n"
          ]
        }
      ]
    },
    {
      "cell_type": "code",
      "metadata": {
        "colab": {
          "base_uri": "https://localhost:8080/"
        },
        "id": "U-_J059qfHdR",
        "outputId": "b49cffbe-0ef1-43d4-cd6b-0181092c09fd"
      },
      "source": [
        "#The condition is optional and can be omitted:\n",
        "\n",
        "#With no 'if' statement:\n",
        "fruits = [\"apple\", \"banana\", \"cherry\", \"kiwi\", \"mango\"]\n",
        "newlist = [x for x in fruits]\n",
        "print(newlist)"
      ],
      "execution_count": null,
      "outputs": [
        {
          "output_type": "stream",
          "name": "stdout",
          "text": [
            "['apple', 'banana', 'cherry', 'kiwi', 'mango']\n"
          ]
        }
      ]
    },
    {
      "cell_type": "markdown",
      "metadata": {
        "id": "N1kMBf04odPs"
      },
      "source": [
        "**Iterable** -\n",
        "The iterable can be any iterable object, like a list, tuple, set etc."
      ]
    },
    {
      "cell_type": "code",
      "metadata": {
        "colab": {
          "base_uri": "https://localhost:8080/"
        },
        "id": "1GlVSQhZndLy",
        "outputId": "9e1833ed-d627-4895-976d-92b4e8afb8f4"
      },
      "source": [
        "#You can use the range() function to create an iterable:\n",
        "newlist = [x for x in range(10)]\n",
        "print(newlist)"
      ],
      "execution_count": null,
      "outputs": [
        {
          "output_type": "stream",
          "name": "stdout",
          "text": [
            "[0, 1, 2, 3, 4, 5, 6, 7, 8, 9]\n"
          ]
        }
      ]
    },
    {
      "cell_type": "code",
      "metadata": {
        "colab": {
          "base_uri": "https://localhost:8080/"
        },
        "id": "CcLWJcHZndPf",
        "outputId": "8c21f9ef-2b8b-4a29-8253-498a31cc3371"
      },
      "source": [
        "#Same example, but with a condition:\n",
        "\n",
        "#Accept only numbers lower than 5:\n",
        "\n",
        "newlist = [x for x in range(10) if x < 5]\n",
        "print(newlist)"
      ],
      "execution_count": null,
      "outputs": [
        {
          "output_type": "stream",
          "name": "stdout",
          "text": [
            "[0, 1, 2, 3, 4]\n"
          ]
        }
      ]
    },
    {
      "cell_type": "markdown",
      "metadata": {
        "id": "AtsFKEWRpnqi"
      },
      "source": [
        "**Expression**- \n",
        "The expression is the current item in the iteration, but it is also the outcome,\n",
        "\n",
        "which you can manipulate before it ends up like a list item in the new list:"
      ]
    },
    {
      "cell_type": "code",
      "metadata": {
        "colab": {
          "base_uri": "https://localhost:8080/"
        },
        "id": "2lksKM18ndRm",
        "outputId": "0fd44fd8-23dd-4c68-b376-19c10bbe5d26"
      },
      "source": [
        "#Set the values in the new list to upper case:\n",
        "fruits = [\"apple\", \"banana\", \"cherry\", \"kiwi\", \"mango\"]\n",
        "newlist = [x.upper() for x in fruits]\n",
        "print(newlist)"
      ],
      "execution_count": null,
      "outputs": [
        {
          "output_type": "stream",
          "name": "stdout",
          "text": [
            "['APPLE', 'BANANA', 'CHERRY', 'KIWI', 'MANGO']\n"
          ]
        }
      ]
    },
    {
      "cell_type": "code",
      "metadata": {
        "colab": {
          "base_uri": "https://localhost:8080/"
        },
        "id": "vuIgJOF2ndT6",
        "outputId": "8acbd6bd-396c-4439-9bb7-148ccad89bdd"
      },
      "source": [
        "# You can set the outcome to whatever you like:\n",
        "#Set all values in the new list to 'hello':\n",
        "fruits = [\"apple\", \"banana\", \"cherry\", \"kiwi\", \"mango\"]\n",
        "newlist = ['hello' for x in fruits]\n",
        "print(newlist)"
      ],
      "execution_count": null,
      "outputs": [
        {
          "output_type": "stream",
          "name": "stdout",
          "text": [
            "['hello', 'hello', 'hello', 'hello', 'hello']\n"
          ]
        }
      ]
    },
    {
      "cell_type": "code",
      "metadata": {
        "colab": {
          "base_uri": "https://localhost:8080/"
        },
        "id": "pO9qGMVrndWJ",
        "outputId": "08a05ddb-42a6-40e0-802f-24e9e49306c0"
      },
      "source": [
        "#The expression can also contain conditions,not like a filter,but as a way to manipulate the outcome:\n",
        "#Return \"orange\" instead of \"banana\":\n",
        "fruits = [\"apple\", \"banana\", \"cherry\", \"kiwi\", \"mango\"]\n",
        "newlist = [x if x != \"banana\" else \"orange\" for x in fruits]  \n",
        "\n",
        "'''The above expression says:\n",
        "\n",
        "\"Return the item if it is not banana, if it is banana return orange\"'''\n",
        "\n",
        "print(newlist)"
      ],
      "execution_count": null,
      "outputs": [
        {
          "output_type": "stream",
          "name": "stdout",
          "text": [
            "['apple', 'orange', 'cherry', 'kiwi', 'mango']\n"
          ]
        }
      ]
    },
    {
      "cell_type": "markdown",
      "metadata": {
        "id": "pxU6siB2rn1E"
      },
      "source": [
        "# **Python - Sort Lists**"
      ]
    },
    {
      "cell_type": "markdown",
      "metadata": {
        "id": "55USdEWHPLnu"
      },
      "source": [
        "**Sort List Alphanumerically** -\n",
        "List objects have a sort() method that will sort the list alphanumerically, ascending, by default"
      ]
    },
    {
      "cell_type": "code",
      "metadata": {
        "id": "vt-JLG-KndZC",
        "colab": {
          "base_uri": "https://localhost:8080/"
        },
        "outputId": "556bdb06-25ce-44cc-b38c-8c09256a2baa"
      },
      "source": [
        "#Sort the list alphabetically:\n",
        "\n",
        "thislist = [\"orange\", \"mango\", \"kiwi\", \"pineapple\", \"banana\"]\n",
        "thislist.sort()\n",
        "print(thislist)"
      ],
      "execution_count": 1,
      "outputs": [
        {
          "output_type": "stream",
          "name": "stdout",
          "text": [
            "['banana', 'kiwi', 'mango', 'orange', 'pineapple']\n"
          ]
        }
      ]
    },
    {
      "cell_type": "code",
      "metadata": {
        "id": "mcv94zUjndd0",
        "colab": {
          "base_uri": "https://localhost:8080/"
        },
        "outputId": "b67526d5-f409-43b3-dc21-5635c58e25f0"
      },
      "source": [
        "#Sort the list numerically:\n",
        "\n",
        "thislist = [100,59,25,50,10]\n",
        "thislist.sort()\n",
        "print(thislist)"
      ],
      "execution_count": 2,
      "outputs": [
        {
          "output_type": "stream",
          "name": "stdout",
          "text": [
            "[10, 25, 50, 59, 100]\n"
          ]
        }
      ]
    },
    {
      "cell_type": "markdown",
      "metadata": {
        "id": "4iacW9hCPqmQ"
      },
      "source": [
        "**Sort Descending**- \n",
        "To sort descending, use the keyword argument **reverse = True**:"
      ]
    },
    {
      "cell_type": "code",
      "metadata": {
        "id": "mC9uUSp3ndga",
        "colab": {
          "base_uri": "https://localhost:8080/"
        },
        "outputId": "19028e3f-6a25-4784-ec65-c9ccc705273e"
      },
      "source": [
        "thislist = [100,59,25,50,10]\n",
        "thislist.sort(reverse=True)\n",
        "print(thislist)"
      ],
      "execution_count": 3,
      "outputs": [
        {
          "output_type": "stream",
          "name": "stdout",
          "text": [
            "[100, 59, 50, 25, 10]\n"
          ]
        }
      ]
    },
    {
      "cell_type": "markdown",
      "metadata": {
        "id": "lltrLCxrQHy1"
      },
      "source": [
        "**Customize Sort Function** -\n",
        "You can also customize your own function by using the keyword argument **key = function.**\n",
        "\n",
        "The function will return a number that will be used to sort the list (the lowest number first):"
      ]
    },
    {
      "cell_type": "code",
      "metadata": {
        "id": "SSwKNoGUndi5",
        "colab": {
          "base_uri": "https://localhost:8080/"
        },
        "outputId": "906c73c5-ee85-4444-e8d7-d1e048ede915"
      },
      "source": [
        "#Sort the list based on how close the number is to 50:\n",
        "\n",
        "def myfun(n):\n",
        "  return (n - 50)\n",
        "thislist= [100, 50, 65, 82, 23]\n",
        "thislist.sort(key = myfun)\n",
        "print(thislist)"
      ],
      "execution_count": 9,
      "outputs": [
        {
          "output_type": "stream",
          "name": "stdout",
          "text": [
            "[23, 50, 65, 82, 100]\n"
          ]
        }
      ]
    },
    {
      "cell_type": "code",
      "metadata": {
        "id": "XyyrSceDndlB",
        "colab": {
          "base_uri": "https://localhost:8080/"
        },
        "outputId": "f443028c-d38b-4e3e-ba3f-9c669eb76825"
      },
      "source": [
        "def myfunc(n):\n",
        "  return abs(n - 50)\n",
        "\n",
        "thislist = [100, 50, 65, 82, 23]\n",
        "thislist.sort(key = myfunc)\n",
        "print(thislist)"
      ],
      "execution_count": 8,
      "outputs": [
        {
          "output_type": "stream",
          "name": "stdout",
          "text": [
            "[50, 65, 23, 82, 100]\n"
          ]
        }
      ]
    },
    {
      "cell_type": "markdown",
      "metadata": {
        "id": "HP0TMhn8RoiO"
      },
      "source": [
        "**Case Insensitive Sort** -\n",
        "By default the sort() method is case sensitive, resulting in all capital letters being sorted before lower case letters:"
      ]
    },
    {
      "cell_type": "code",
      "metadata": {
        "id": "VpfliRSlndnF",
        "colab": {
          "base_uri": "https://localhost:8080/"
        },
        "outputId": "eb81ec2c-6a5b-43ce-d83e-726840523902"
      },
      "source": [
        "#Case sensitive sorting can give an unexpected result:\n",
        "\n",
        "thislist = [\"banana\", \"Orange\", \"Kiwi\", \"cherry\"]\n",
        "thislist.sort()\n",
        "print(thislist)"
      ],
      "execution_count": 10,
      "outputs": [
        {
          "output_type": "stream",
          "name": "stdout",
          "text": [
            "['Kiwi', 'Orange', 'banana', 'cherry']\n"
          ]
        }
      ]
    },
    {
      "cell_type": "markdown",
      "metadata": {
        "id": "PIxIZCkUR0Qg"
      },
      "source": [
        "**Luckily we can use built-in functions as key functions when sorting a list.**\n",
        "\n",
        "**So if you want a case-insensitive sort function, use str.lower as a key function:**"
      ]
    },
    {
      "cell_type": "code",
      "metadata": {
        "id": "SQjfefxXndpL",
        "colab": {
          "base_uri": "https://localhost:8080/"
        },
        "outputId": "1c9cc4d7-bf0c-4200-c7e7-ea69c9dfe161"
      },
      "source": [
        "\n",
        "thislist = [\"banana\", \"Orange\", \"Kiwi\", \"cherry\"]\n",
        "thislist.sort(key = str.lower)\n",
        "print(thislist)"
      ],
      "execution_count": 12,
      "outputs": [
        {
          "output_type": "stream",
          "name": "stdout",
          "text": [
            "['banana', 'cherry', 'Kiwi', 'Orange']\n"
          ]
        }
      ]
    },
    {
      "cell_type": "markdown",
      "metadata": {
        "id": "yWkjWAXiSV8T"
      },
      "source": [
        "**Reverse Order** -\n",
        "What if you want to reverse the order of a list, regardless of the alphabet?\n",
        "\n",
        "The **reverse()** method reverses the current sorting order of the elements."
      ]
    },
    {
      "cell_type": "code",
      "metadata": {
        "id": "bbCx8H7dndrK",
        "colab": {
          "base_uri": "https://localhost:8080/"
        },
        "outputId": "d8cc2d07-2c96-476a-e660-8f9f68bea6b9"
      },
      "source": [
        "thislist = [\"banana\", \"Orange\", \"Kiwi\", \"cherry\"]\n",
        "thislist.reverse()\n",
        "print(thislist)"
      ],
      "execution_count": 15,
      "outputs": [
        {
          "output_type": "stream",
          "name": "stdout",
          "text": [
            "['cherry', 'Kiwi', 'Orange', 'banana']\n"
          ]
        }
      ]
    },
    {
      "cell_type": "code",
      "metadata": {
        "colab": {
          "base_uri": "https://localhost:8080/"
        },
        "id": "13EkWPLsSQyZ",
        "outputId": "9d433d0e-8314-4a4b-82da-4630f87a2e7d"
      },
      "source": [
        "thislist = [100, 50, 65, 82, 23]\n",
        "thislist.reverse()\n",
        "print(thislist)"
      ],
      "execution_count": 16,
      "outputs": [
        {
          "output_type": "stream",
          "name": "stdout",
          "text": [
            "[23, 82, 65, 50, 100]\n"
          ]
        }
      ]
    },
    {
      "cell_type": "markdown",
      "metadata": {
        "id": "muTuzJtBTAiD"
      },
      "source": [
        "# **Python - Copy Lists**\n",
        "You cannot copy a list simply by typing **list2 = list1**, because: **list2** will only be a reference to **list1**, and changes made in **list1** will automatically also be made in **list2**.\n",
        "\n",
        "There are ways to make a copy, one way is to use the built-in List method **copy()**."
      ]
    },
    {
      "cell_type": "code",
      "metadata": {
        "colab": {
          "base_uri": "https://localhost:8080/"
        },
        "id": "3sr-5onHVf9t",
        "outputId": "d56de4ef-3a20-4e5d-de83-3dbc2c8f34f5"
      },
      "source": [
        "#Make a copy of a list with the copy() method:\n",
        "\n",
        "thislist = [\"apple\", \"banana\", \"cherry\"]\n",
        "mylist = thislist.copy()\n",
        "print(mylist)\n",
        "mylist.reverse()\n",
        "print(mylist)\n",
        "print(thislist)"
      ],
      "execution_count": 21,
      "outputs": [
        {
          "output_type": "stream",
          "name": "stdout",
          "text": [
            "['apple', 'banana', 'cherry']\n",
            "['cherry', 'banana', 'apple']\n",
            "['apple', 'banana', 'cherry']\n"
          ]
        }
      ]
    },
    {
      "cell_type": "markdown",
      "metadata": {
        "id": "FUrfhQb0Vw4I"
      },
      "source": [
        "**Another way to make a copy is to use the built-in method list().**"
      ]
    },
    {
      "cell_type": "code",
      "metadata": {
        "colab": {
          "base_uri": "https://localhost:8080/"
        },
        "id": "ZOJF7c3aSQ03",
        "outputId": "12e1c8f1-aaac-41f8-dc88-057239a1734a"
      },
      "source": [
        "# Make a copy using the built-in method list().\n",
        "\n",
        "thislist= [\"banana\", \"Orange\", \"Kiwi\", \"cherry\"]\n",
        "mylist = list(thislist)\n",
        "print(mylist)\n",
        "mylist.reverse()\n",
        "print(mylist)\n",
        "print(thislist)"
      ],
      "execution_count": 19,
      "outputs": [
        {
          "output_type": "stream",
          "name": "stdout",
          "text": [
            "['banana', 'Orange', 'Kiwi', 'cherry']\n",
            "['cherry', 'Kiwi', 'Orange', 'banana']\n",
            "['banana', 'Orange', 'Kiwi', 'cherry']\n"
          ]
        }
      ]
    },
    {
      "cell_type": "markdown",
      "metadata": {
        "id": "WKhgszvYTXQR"
      },
      "source": [
        "# **Python - Join Lists**\n",
        "**Join Two Lists** -\n",
        "There are several ways to join, or concatenate, two or more lists in Python.\n",
        "\n",
        "**One of the easiest ways are by using the + operator.**"
      ]
    },
    {
      "cell_type": "code",
      "metadata": {
        "colab": {
          "base_uri": "https://localhost:8080/"
        },
        "id": "FIibSDbPSQ3e",
        "outputId": "d109aeb2-5b20-44fe-80fe-0ce7891da4fa"
      },
      "source": [
        "list1 = [\"a\", \"b\", \"c\"]\n",
        "list2 = [1, 2, 3]\n",
        "list3 = list1 + list2\n",
        "print(list3)"
      ],
      "execution_count": 22,
      "outputs": [
        {
          "output_type": "stream",
          "name": "stdout",
          "text": [
            "['a', 'b', 'c', 1, 2, 3]\n"
          ]
        }
      ]
    },
    {
      "cell_type": "markdown",
      "metadata": {
        "id": "ouz9DYOSXP9m"
      },
      "source": [
        "**Another way to join two lists is by appending all the items from list2 into list1, one by one:**"
      ]
    },
    {
      "cell_type": "code",
      "metadata": {
        "colab": {
          "base_uri": "https://localhost:8080/"
        },
        "id": "BOF7xst2SQ51",
        "outputId": "837c5117-a269-40a9-f231-0e476e117ac7"
      },
      "source": [
        "list1 = [\"a\", \"b\", \"c\"]\n",
        "list2 = [1, 2, 3]\n",
        "for x in list2:\n",
        "  list1.append(x)\n",
        "print(list1)"
      ],
      "execution_count": 23,
      "outputs": [
        {
          "output_type": "stream",
          "name": "stdout",
          "text": [
            "['a', 'b', 'c', 1, 2, 3]\n"
          ]
        }
      ]
    },
    {
      "cell_type": "markdown",
      "metadata": {
        "id": "XOX1QW0yXVYW"
      },
      "source": [
        "**you can also use the extend() method, whose purpose is to add elements from one list to another list:**"
      ]
    },
    {
      "cell_type": "code",
      "metadata": {
        "colab": {
          "base_uri": "https://localhost:8080/"
        },
        "id": "JvL2GYpZSQ98",
        "outputId": "02034408-bb95-409f-b50b-afb7a04dbaa8"
      },
      "source": [
        "list1 = [\"a\", \"b\", \"c\"]\n",
        "list2 = [1, 2, 3]\n",
        "list1.extend(list2)\n",
        "print(list1)"
      ],
      "execution_count": 24,
      "outputs": [
        {
          "output_type": "stream",
          "name": "stdout",
          "text": [
            "['a', 'b', 'c', 1, 2, 3]\n"
          ]
        }
      ]
    },
    {
      "cell_type": "markdown",
      "metadata": {
        "id": "mNw8D0gAX4Wi"
      },
      "source": [
        "# **List Methods**\n",
        "**Python has a set of built-in methods that you can use on lists.**\n",
        "\n",
        "**Method\tDescription**\n",
        "\n",
        "append()- Adds an element at the end of the list\n",
        "\n",
        "clear()-\tRemoves all the elements from the list\n",
        "\n",
        "copy()- Returns a copy of the list\n",
        "\n",
        "count()-\tReturns the number of elements with the specified value\n",
        "\n",
        "extend()-\tAdd the elements of a list (or any iterable), to the end of the current list\n",
        "\n",
        "index()-\tReturns the index of the first element with the specified value\n",
        "\n",
        "insert()-\tAdds an element at the specified position\n",
        "\n",
        "pop()-\tRemoves the element at the specified position\n",
        "\n",
        "remove()-\tRemoves the item with the specified value\n",
        "\n",
        "reverse()-\tReverses the order of the list\n",
        "\n",
        "sort()-\tSorts the list\n"
      ]
    },
    {
      "cell_type": "code",
      "metadata": {
        "id": "0S_wqpA2SQ_1"
      },
      "source": [
        ""
      ],
      "execution_count": null,
      "outputs": []
    },
    {
      "cell_type": "code",
      "metadata": {
        "id": "tlYobH-MSRCb"
      },
      "source": [
        ""
      ],
      "execution_count": null,
      "outputs": []
    },
    {
      "cell_type": "code",
      "metadata": {
        "id": "j0XqZaSqSREe"
      },
      "source": [
        ""
      ],
      "execution_count": null,
      "outputs": []
    },
    {
      "cell_type": "code",
      "metadata": {
        "id": "6iw1kp4sSRG-"
      },
      "source": [
        ""
      ],
      "execution_count": null,
      "outputs": []
    },
    {
      "cell_type": "code",
      "metadata": {
        "id": "WaQozVWPSRJC"
      },
      "source": [
        ""
      ],
      "execution_count": null,
      "outputs": []
    },
    {
      "cell_type": "code",
      "metadata": {
        "id": "k7ug3z4nSRMp"
      },
      "source": [
        ""
      ],
      "execution_count": null,
      "outputs": []
    },
    {
      "cell_type": "code",
      "metadata": {
        "id": "Es9wUzPQSROd"
      },
      "source": [
        ""
      ],
      "execution_count": null,
      "outputs": []
    }
  ]
}