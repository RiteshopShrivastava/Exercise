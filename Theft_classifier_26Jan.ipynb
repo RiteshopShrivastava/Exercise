{
  "nbformat": 4,
  "nbformat_minor": 0,
  "metadata": {
    "colab": {
      "name": "Theft_classifier_26Jan.ipynb",
      "provenance": [],
      "collapsed_sections": [],
      "authorship_tag": "ABX9TyMo8jz8Q7kOs7h1wxXXOWg1",
      "include_colab_link": true
    },
    "kernelspec": {
      "name": "python3",
      "display_name": "Python 3"
    },
    "language_info": {
      "name": "python"
    }
  },
  "cells": [
    {
      "cell_type": "markdown",
      "metadata": {
        "id": "view-in-github",
        "colab_type": "text"
      },
      "source": [
        "<a href=\"https://colab.research.google.com/github/RiteshopShrivastava/Python/blob/main/Theft_classifier_26Jan.ipynb\" target=\"_parent\"><img src=\"https://colab.research.google.com/assets/colab-badge.svg\" alt=\"Open In Colab\"/></a>"
      ]
    },
    {
      "cell_type": "code",
      "execution_count": null,
      "metadata": {
        "id": "pE46BX4J5Mid"
      },
      "outputs": [],
      "source": [
        "df1 = df1.drop(df1[df1.bill_type_code == 'FB'].index)\n",
        "df1 = df1.drop(df1[df1.bill_type_code == 'MIG'].index)\n",
        "\n",
        "df1['act_sctn_load'] = np.where(df1[\"act_sctn_load_unit\"] == \"HP\", df1['act_sctn_load']*.745699, df1['act_sctn_load'] )\n",
        "df1 = df1.drop(columns={'act_sctn_load_unit'})\n",
        "\n",
        "df1 = df1.drop(columns={\"dc_code\",\"per_name\",\"address1\",\"address2\",\"cell_number\",\"per_ctegry\",\"act_sctn_load\",\n",
        "\"mult_fctr\"})\n",
        "df1 = df1.drop(columns={\"bill_month\",})\n",
        "df1 = df1.drop(df1[df1['meter_reader_name']== 'AMR'].index)\n",
        "df1 = df1.drop(df1[df1['meter_reader_name']== 'CCNB_MIG'].index)\n",
        "df1 = df1.drop(df1[df1['meter_reader_name']== 'FEDCO_SB'].index)\n",
        "\n",
        "df1['meter_reader_name'] = df1['meter_reader_name'].astype('category')\n",
        "df1['meter_reader_name'] = df1['meter_reader_name'].fillna(df1['meter_reader_name'].mode()[0])\n",
        "\n",
        "df1['reading_type'] = df1['reading_type'].fillna(df1['reading_type'].mode()[0])\n",
        "df1['case'] = df1['case'].fillna(df1['case'].mode()[0])\n",
        "\n",
        "df1['ctrct_dmnd'] = df1['ctrct_dmnd'].fillna(0)"
      ]
    },
    {
      "cell_type": "code",
      "source": [
        ""
      ],
      "metadata": {
        "id": "1Byqk1GrCVfR"
      },
      "execution_count": null,
      "outputs": []
    },
    {
      "cell_type": "code",
      "source": [
        "label_encoder = LabelEncoder()\n",
        "\n",
        "df2['connection_category']= label_encoder.fit_transform(df2['connection_category'])\n",
        "df2['premise']= label_encoder.fit_transform(df2['premise'])\n",
        "df2['usage1']= label_encoder.fit_transform(df2['usage1'])\n",
        "\n",
        "df2['group_no']= label_encoder.fit_transform(df2['group_no'])\n",
        "df2['bill_type_code']= label_encoder.fit_transform(df2['bill_type_code'])\n",
        "df2['tariff_code']= label_encoder.fit_transform(df2['tariff_code'])\n",
        "\n",
        "df2['phase']= label_encoder.fit_transform(df2['phase'])\n",
        "df2['meter_reader_name']= label_encoder.fit_transform(df2['meter_reader_name'])\n",
        "df2['reading_type']= label_encoder.fit_transform(df2['reading_type'])\n",
        "\n",
        "df2['bill_crr_flag']= label_encoder.fit_transform(df2['bill_crr_flag'])\n",
        "df2['metering_status']= label_encoder.fit_transform(df2['metering_status'])\n",
        "df2['net_meter']= label_encoder.fit_transform(df2['net_meter'])\n",
        "df2['case']= label_encoder.fit_transform(df2['case'])"
      ],
      "metadata": {
        "id": "fw0UgX236Ivr"
      },
      "execution_count": null,
      "outputs": []
    },
    {
      "cell_type": "code",
      "source": [
        "X = df2.iloc[:,1:-1]\n",
        "\n",
        "scaler = StandardScaler()\n",
        "rescaled = scaler.fit_transform(X)\n",
        "rescaled"
      ],
      "metadata": {
        "id": "_9viROXK6Qh0"
      },
      "execution_count": null,
      "outputs": []
    },
    {
      "cell_type": "code",
      "source": [
        "import pandas as pd\n",
        "import seaborn as sns\n",
        "import numpy as np\n",
        "import matplotlib.pyplot as plt\n",
        "from sklearn.preprocessing import StandardScaler, MinMaxScaler"
      ],
      "metadata": {
        "id": "E6SgO_GhCZ2y"
      },
      "execution_count": null,
      "outputs": []
    },
    {
      "cell_type": "code",
      "source": [
        "df = pd.read_excel('combine_data_260122_v1.xlsx')"
      ],
      "metadata": {
        "id": "A6xz-ByLCg67"
      },
      "execution_count": null,
      "outputs": []
    },
    {
      "cell_type": "markdown",
      "source": [
        "# Exploratory Data Analysis"
      ],
      "metadata": {
        "id": "UeXlVR43Ck2c"
      }
    },
    {
      "cell_type": "code",
      "source": [
        "df1 = df.copy()"
      ],
      "metadata": {
        "id": "Y5Trs75mCh6h"
      },
      "execution_count": null,
      "outputs": []
    },
    {
      "cell_type": "code",
      "source": [
        "pd.set_option('display.max_columns', None)\n",
        "df1.head()"
      ],
      "metadata": {
        "id": "33lYZ00CCh9G"
      },
      "execution_count": null,
      "outputs": []
    },
    {
      "cell_type": "code",
      "source": [
        "df1.tail()"
      ],
      "metadata": {
        "id": "j1lViz0LCh_p"
      },
      "execution_count": null,
      "outputs": []
    },
    {
      "cell_type": "code",
      "source": [
        "print('Total number of data points are:', len(df1))"
      ],
      "metadata": {
        "id": "lKEnHoS4CiCu"
      },
      "execution_count": null,
      "outputs": []
    },
    {
      "cell_type": "code",
      "source": [
        "pd.set_option('display.precision', 4)\n",
        "df1.describe()"
      ],
      "metadata": {
        "id": "kb2cFWoECiE5"
      },
      "execution_count": null,
      "outputs": []
    },
    {
      "cell_type": "code",
      "source": [
        "df1.info()"
      ],
      "metadata": {
        "id": "NlGQf4AjCiHL"
      },
      "execution_count": null,
      "outputs": []
    },
    {
      "cell_type": "code",
      "source": [
        "#Bill type code \"FB\"(first bill) and \"MIG\" (Migrated) not to be considered for model development\n",
        "df1 = df1.drop(df1[df1.bill_type_code == 'FB'].index)\n",
        "df1 = df1.drop(df1[df1.bill_type_code == 'MIG'].index)\n",
        "df1.shape"
      ],
      "metadata": {
        "id": "HxX2-3BxCiJT"
      },
      "execution_count": null,
      "outputs": []
    },
    {
      "cell_type": "code",
      "source": [
        "df1['act_sctn_load_unit'].value_counts()"
      ],
      "metadata": {
        "id": "uG9h-1XPCiLh"
      },
      "execution_count": null,
      "outputs": []
    },
    {
      "cell_type": "code",
      "source": [
        "# unit of values in 'act_sctn_load' is different(HP, KW),to be converted all into 'kw'\n",
        "\n",
        "df1['act_sctn_load'] = np.where(df1[\"act_sctn_load_unit\"] == \"HP\", df1['act_sctn_load']*.745699, df1['act_sctn_load'] )"
      ],
      "metadata": {
        "id": "GYE4D8BuCiN1"
      },
      "execution_count": null,
      "outputs": []
    },
    {
      "cell_type": "code",
      "source": [
        "df1.shape"
      ],
      "metadata": {
        "id": "OZo-70spCiQ8"
      },
      "execution_count": null,
      "outputs": []
    },
    {
      "cell_type": "code",
      "source": [
        "df1 = df1.drop(columns={'act_sctn_load_unit'})\n",
        "df1.shape"
      ],
      "metadata": {
        "id": "Z15FwuAvCiS7"
      },
      "execution_count": null,
      "outputs": []
    },
    {
      "cell_type": "code",
      "source": [
        "df1.columns"
      ],
      "metadata": {
        "id": "R-MyMYcxCiV4"
      },
      "execution_count": null,
      "outputs": []
    },
    {
      "cell_type": "code",
      "source": [
        "df1.head()"
      ],
      "metadata": {
        "id": "iaWxeLHaCiX7"
      },
      "execution_count": null,
      "outputs": []
    },
    {
      "cell_type": "code",
      "source": [
        "#Drop column \"dc_code\",\"per_name\",\"address1\",\"address2\",\"cell_number\",\"cons_stat_flg\",\"per_ctegry\",\"act_sctn_load\",\"mult_fctr\",\n",
        "df1 = df1.drop(columns={\"dc_code\",\"per_name\",\"address1\",\"address2\",\"cell_number\",\"per_ctegry\",\"act_sctn_load\",\n",
        "\"mult_fctr\"})\n",
        "df1.shape"
      ],
      "metadata": {
        "id": "iKJqyTkuCiaI"
      },
      "execution_count": null,
      "outputs": []
    },
    {
      "cell_type": "code",
      "source": [
        "df1.tail()"
      ],
      "metadata": {
        "id": "NJomjzTXCici"
      },
      "execution_count": null,
      "outputs": []
    },
    {
      "cell_type": "code",
      "source": [
        "df1['metering_status'].value_counts()"
      ],
      "metadata": {
        "id": "YwCx7VgeCifQ"
      },
      "execution_count": null,
      "outputs": []
    },
    {
      "cell_type": "code",
      "source": [
        "df1 = df1.drop(columns={\"bill_month\",})\n",
        "df1.shape"
      ],
      "metadata": {
        "id": "HLuB_GivCihX"
      },
      "execution_count": null,
      "outputs": []
    },
    {
      "cell_type": "code",
      "source": [
        "df1.columns"
      ],
      "metadata": {
        "id": "ZLsKXZDVCijw"
      },
      "execution_count": null,
      "outputs": []
    },
    {
      "cell_type": "code",
      "source": [
        "df1['meter_reader_name'].value_counts()"
      ],
      "metadata": {
        "id": "uH5EsQ2ECimF"
      },
      "execution_count": null,
      "outputs": []
    },
    {
      "cell_type": "code",
      "source": [
        "#In Meter_reader_name drop \"AMR\",\"CCNB_MIG\" and \"FEDCO_SB\"\n",
        "df1 = df1.drop(df1[df1['meter_reader_name']== 'AMR'].index)\n",
        "df1 = df1.drop(df1[df1['meter_reader_name']== 'CCNB_MIG'].index)\n",
        "df1 = df1.drop(df1[df1['meter_reader_name']== 'FEDCO_SB'].index)"
      ],
      "metadata": {
        "id": "6AJUR1dQCioq"
      },
      "execution_count": null,
      "outputs": []
    },
    {
      "cell_type": "code",
      "source": [
        "df1['meter_reader_name'].value_counts()"
      ],
      "metadata": {
        "id": "7KYH8eivCirN"
      },
      "execution_count": null,
      "outputs": []
    },
    {
      "cell_type": "code",
      "source": [
        "df1.isnull().sum()"
      ],
      "metadata": {
        "id": "tqje1nKnCits"
      },
      "execution_count": null,
      "outputs": []
    },
    {
      "cell_type": "code",
      "source": [
        "df1.STATUS.value_counts()"
      ],
      "metadata": {
        "id": "gyGyVmvlCiwT"
      },
      "execution_count": null,
      "outputs": []
    },
    {
      "cell_type": "code",
      "source": [
        "df1[\"STATUS\"].fillna(\"Non-theft\", inplace = True)"
      ],
      "metadata": {
        "id": "72SML5HBCizH"
      },
      "execution_count": null,
      "outputs": []
    },
    {
      "cell_type": "code",
      "source": [
        "df1.STATUS.value_counts()"
      ],
      "metadata": {
        "id": "_9FAmuApCi1o"
      },
      "execution_count": null,
      "outputs": []
    },
    {
      "cell_type": "code",
      "source": [
        "import seaborn as sns\n",
        "sns.countplot(x= df1['STATUS'])"
      ],
      "metadata": {
        "id": "mZwNDbStCi3u"
      },
      "execution_count": null,
      "outputs": []
    },
    {
      "cell_type": "code",
      "source": [
        "df1.info()"
      ],
      "metadata": {
        "id": "lUppQO24Ci6b"
      },
      "execution_count": null,
      "outputs": []
    },
    {
      "cell_type": "markdown",
      "source": [
        "# Checking for null values and imputation"
      ],
      "metadata": {
        "id": "HNpHIu3uDsm9"
      }
    },
    {
      "cell_type": "code",
      "source": [
        ""
      ],
      "metadata": {
        "id": "MWpAycP_Ci8q"
      },
      "execution_count": null,
      "outputs": []
    },
    {
      "cell_type": "code",
      "source": [
        ""
      ],
      "metadata": {
        "id": "Zx3z3ZgsCi_P"
      },
      "execution_count": null,
      "outputs": []
    },
    {
      "cell_type": "code",
      "source": [
        ""
      ],
      "metadata": {
        "id": "2z9p9PtoCjBm"
      },
      "execution_count": null,
      "outputs": []
    },
    {
      "cell_type": "code",
      "source": [
        ""
      ],
      "metadata": {
        "id": "f3KPy3H4CjEB"
      },
      "execution_count": null,
      "outputs": []
    },
    {
      "cell_type": "code",
      "source": [
        ""
      ],
      "metadata": {
        "id": "1g7a6yL2CjGe"
      },
      "execution_count": null,
      "outputs": []
    },
    {
      "cell_type": "code",
      "source": [
        ""
      ],
      "metadata": {
        "id": "IDQUdiBKCjI-"
      },
      "execution_count": null,
      "outputs": []
    },
    {
      "cell_type": "code",
      "source": [
        ""
      ],
      "metadata": {
        "id": "Ij4GIdwBCjLe"
      },
      "execution_count": null,
      "outputs": []
    },
    {
      "cell_type": "code",
      "source": [
        ""
      ],
      "metadata": {
        "id": "qDPrcMxSCjNo"
      },
      "execution_count": null,
      "outputs": []
    },
    {
      "cell_type": "code",
      "source": [
        ""
      ],
      "metadata": {
        "id": "tmwkQyFLCjP-"
      },
      "execution_count": null,
      "outputs": []
    },
    {
      "cell_type": "code",
      "source": [
        ""
      ],
      "metadata": {
        "id": "aLIqCfC0CjSl"
      },
      "execution_count": null,
      "outputs": []
    },
    {
      "cell_type": "code",
      "source": [
        ""
      ],
      "metadata": {
        "id": "xjKynzaoCjVM"
      },
      "execution_count": null,
      "outputs": []
    },
    {
      "cell_type": "code",
      "source": [
        ""
      ],
      "metadata": {
        "id": "wrY7vJ6gCjYX"
      },
      "execution_count": null,
      "outputs": []
    }
  ]
}