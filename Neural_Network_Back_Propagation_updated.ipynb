{
  "nbformat": 4,
  "nbformat_minor": 0,
  "metadata": {
    "kernelspec": {
      "display_name": "Python 3",
      "language": "python",
      "name": "python3"
    },
    "language_info": {
      "codemirror_mode": {
        "name": "ipython",
        "version": 3
      },
      "file_extension": ".py",
      "mimetype": "text/x-python",
      "name": "python",
      "nbconvert_exporter": "python",
      "pygments_lexer": "ipython3",
      "version": "3.7.3"
    },
    "varInspector": {
      "cols": {
        "lenName": 16,
        "lenType": 16,
        "lenVar": 40
      },
      "kernels_config": {
        "python": {
          "delete_cmd_postfix": "",
          "delete_cmd_prefix": "del ",
          "library": "var_list.py",
          "varRefreshCmd": "print(var_dic_list())"
        },
        "r": {
          "delete_cmd_postfix": ") ",
          "delete_cmd_prefix": "rm(",
          "library": "var_list.r",
          "varRefreshCmd": "cat(var_dic_list()) "
        }
      },
      "types_to_exclude": [
        "module",
        "function",
        "builtin_function_or_method",
        "instance",
        "_Feature"
      ],
      "window_display": false
    },
    "colab": {
      "name": "Neural Network_Back Propagation_updated.ipynb",
      "provenance": [],
      "collapsed_sections": [],
      "include_colab_link": true
    }
  },
  "cells": [
    {
      "cell_type": "markdown",
      "metadata": {
        "id": "view-in-github",
        "colab_type": "text"
      },
      "source": [
        "<a href=\"https://colab.research.google.com/github/RiteshopShrivastava/Exercise/blob/main/Neural_Network_Back_Propagation_updated.ipynb\" target=\"_parent\"><img src=\"https://colab.research.google.com/assets/colab-badge.svg\" alt=\"Open In Colab\"/></a>"
      ]
    },
    {
      "cell_type": "code",
      "metadata": {
        "id": "jrPyedAbd_-J"
      },
      "source": [
        "!pip install keras\n",
        "!pip install tensorflow"
      ],
      "execution_count": null,
      "outputs": []
    },
    {
      "cell_type": "code",
      "metadata": {
        "ExecuteTime": {
          "end_time": "2021-02-09T08:42:54.585529Z",
          "start_time": "2021-02-09T08:41:27.933303Z"
        },
        "id": "cn_tQfZ1d_-L"
      },
      "source": [
        "# Create your first MLP in Keras\n",
        "from keras.models import Sequential\n",
        "from keras.layers import Dense\n",
        "import numpy \n",
        "import pandas as pd\n"
      ],
      "execution_count": 9,
      "outputs": []
    },
    {
      "cell_type": "code",
      "metadata": {
        "ExecuteTime": {
          "end_time": "2021-02-09T08:42:58.124430Z",
          "start_time": "2021-02-09T08:42:57.908638Z"
        },
        "id": "KH4A8ae-d_-M"
      },
      "source": [
        "# fix random seed for reproducibility\n",
        "#seed = 7\n",
        "#numpy.random.seed(seed)\n",
        "# load pima indians dataset\n",
        "dataset = numpy.loadtxt(\"/content/pima-indians-diabetes.data.csv\", delimiter=\",\")\n",
        "# split into input (X) and output (Y) variables\n",
        "X = dataset[:,0:8]\n",
        "Y = dataset[:,8]\n"
      ],
      "execution_count": 11,
      "outputs": []
    },
    {
      "cell_type": "code",
      "metadata": {
        "ExecuteTime": {
          "end_time": "2021-02-09T08:43:05.880536Z",
          "start_time": "2021-02-09T08:43:03.559979Z"
        },
        "id": "Q7kmC6Jid_-N"
      },
      "source": [
        "# create model\n",
        "model = Sequential()\n",
        "model.add(Dense(12, input_dim=8, kernel_initializer='random_uniform', activation='relu'))\n",
        "model.add(Dense(8, kernel_initializer='random_uniform', activation='relu'))\n",
        "model.add(Dense(1, kernel_initializer='random_uniform', activation='sigmoid'))"
      ],
      "execution_count": 12,
      "outputs": []
    },
    {
      "cell_type": "markdown",
      "metadata": {
        "id": "itYFpbOYd_-N"
      },
      "source": [
        "![image.png](attachment:image.png)"
      ]
    },
    {
      "cell_type": "code",
      "metadata": {
        "ExecuteTime": {
          "end_time": "2021-02-09T08:43:10.113333Z",
          "start_time": "2021-02-09T08:43:09.931655Z"
        },
        "id": "GdYkqrQcd_-O"
      },
      "source": [
        "# Compile model\n",
        "model.compile(loss='binary_crossentropy', optimizer='adam', metrics=['accuracy']) "
      ],
      "execution_count": 13,
      "outputs": []
    },
    {
      "cell_type": "code",
      "metadata": {
        "ExecuteTime": {
          "end_time": "2021-02-09T08:43:33.205685Z",
          "start_time": "2021-02-09T08:43:12.271005Z"
        },
        "colab": {
          "base_uri": "https://localhost:8080/"
        },
        "id": "UKTPDzSGd_-O",
        "outputId": "a7385bd9-ce58-40fd-aad4-f6909286d32c"
      },
      "source": [
        "# Fit the model\n",
        "model.fit(X, Y, validation_split=0.33, epochs=150, batch_size=10) "
      ],
      "execution_count": 14,
      "outputs": [
        {
          "output_type": "stream",
          "text": [
            "Epoch 1/150\n",
            "52/52 [==============================] - 1s 7ms/step - loss: 0.6899 - accuracy: 0.5936 - val_loss: 0.6594 - val_accuracy: 0.6732\n",
            "Epoch 2/150\n",
            "52/52 [==============================] - 0s 3ms/step - loss: 0.6753 - accuracy: 0.6247 - val_loss: 0.6529 - val_accuracy: 0.6772\n",
            "Epoch 3/150\n",
            "52/52 [==============================] - 0s 2ms/step - loss: 0.6623 - accuracy: 0.6284 - val_loss: 0.6455 - val_accuracy: 0.6811\n",
            "Epoch 4/150\n",
            "52/52 [==============================] - 0s 2ms/step - loss: 0.6540 - accuracy: 0.6410 - val_loss: 0.6414 - val_accuracy: 0.6811\n",
            "Epoch 5/150\n",
            "52/52 [==============================] - 0s 2ms/step - loss: 0.6609 - accuracy: 0.6253 - val_loss: 0.6315 - val_accuracy: 0.6772\n",
            "Epoch 6/150\n",
            "52/52 [==============================] - 0s 2ms/step - loss: 0.6291 - accuracy: 0.6765 - val_loss: 0.6294 - val_accuracy: 0.6457\n",
            "Epoch 7/150\n",
            "52/52 [==============================] - 0s 2ms/step - loss: 0.6245 - accuracy: 0.6400 - val_loss: 0.6183 - val_accuracy: 0.6772\n",
            "Epoch 8/150\n",
            "52/52 [==============================] - 0s 3ms/step - loss: 0.6158 - accuracy: 0.6789 - val_loss: 0.6094 - val_accuracy: 0.6811\n",
            "Epoch 9/150\n",
            "52/52 [==============================] - 0s 3ms/step - loss: 0.6047 - accuracy: 0.6601 - val_loss: 0.6210 - val_accuracy: 0.6417\n",
            "Epoch 10/150\n",
            "52/52 [==============================] - 0s 3ms/step - loss: 0.6216 - accuracy: 0.6744 - val_loss: 0.6055 - val_accuracy: 0.6811\n",
            "Epoch 11/150\n",
            "52/52 [==============================] - 0s 2ms/step - loss: 0.6301 - accuracy: 0.6574 - val_loss: 0.6051 - val_accuracy: 0.6732\n",
            "Epoch 12/150\n",
            "52/52 [==============================] - 0s 2ms/step - loss: 0.6182 - accuracy: 0.6579 - val_loss: 0.6006 - val_accuracy: 0.6535\n",
            "Epoch 13/150\n",
            "52/52 [==============================] - 0s 3ms/step - loss: 0.5986 - accuracy: 0.6830 - val_loss: 0.5977 - val_accuracy: 0.6535\n",
            "Epoch 14/150\n",
            "52/52 [==============================] - 0s 2ms/step - loss: 0.5996 - accuracy: 0.6731 - val_loss: 0.5976 - val_accuracy: 0.6850\n",
            "Epoch 15/150\n",
            "52/52 [==============================] - 0s 2ms/step - loss: 0.5987 - accuracy: 0.6837 - val_loss: 0.5984 - val_accuracy: 0.6614\n",
            "Epoch 16/150\n",
            "52/52 [==============================] - 0s 2ms/step - loss: 0.6036 - accuracy: 0.6888 - val_loss: 0.5944 - val_accuracy: 0.6535\n",
            "Epoch 17/150\n",
            "52/52 [==============================] - 0s 3ms/step - loss: 0.6116 - accuracy: 0.6848 - val_loss: 0.5938 - val_accuracy: 0.6811\n",
            "Epoch 18/150\n",
            "52/52 [==============================] - 0s 3ms/step - loss: 0.5468 - accuracy: 0.7400 - val_loss: 0.6069 - val_accuracy: 0.6417\n",
            "Epoch 19/150\n",
            "52/52 [==============================] - 0s 2ms/step - loss: 0.6021 - accuracy: 0.6643 - val_loss: 0.5935 - val_accuracy: 0.6496\n",
            "Epoch 20/150\n",
            "52/52 [==============================] - 0s 2ms/step - loss: 0.6080 - accuracy: 0.6686 - val_loss: 0.5910 - val_accuracy: 0.6417\n",
            "Epoch 21/150\n",
            "52/52 [==============================] - 0s 3ms/step - loss: 0.6399 - accuracy: 0.6359 - val_loss: 0.6132 - val_accuracy: 0.6772\n",
            "Epoch 22/150\n",
            "52/52 [==============================] - 0s 2ms/step - loss: 0.5788 - accuracy: 0.7103 - val_loss: 0.5919 - val_accuracy: 0.6535\n",
            "Epoch 23/150\n",
            "52/52 [==============================] - 0s 2ms/step - loss: 0.6056 - accuracy: 0.6777 - val_loss: 0.5875 - val_accuracy: 0.6496\n",
            "Epoch 24/150\n",
            "52/52 [==============================] - 0s 2ms/step - loss: 0.6043 - accuracy: 0.6559 - val_loss: 0.5931 - val_accuracy: 0.6654\n",
            "Epoch 25/150\n",
            "52/52 [==============================] - 0s 3ms/step - loss: 0.5860 - accuracy: 0.6613 - val_loss: 0.5913 - val_accuracy: 0.6575\n",
            "Epoch 26/150\n",
            "52/52 [==============================] - 0s 3ms/step - loss: 0.5806 - accuracy: 0.6935 - val_loss: 0.5845 - val_accuracy: 0.6496\n",
            "Epoch 27/150\n",
            "52/52 [==============================] - 0s 2ms/step - loss: 0.5866 - accuracy: 0.6986 - val_loss: 0.5851 - val_accuracy: 0.6457\n",
            "Epoch 28/150\n",
            "52/52 [==============================] - 0s 2ms/step - loss: 0.5701 - accuracy: 0.6964 - val_loss: 0.5857 - val_accuracy: 0.6496\n",
            "Epoch 29/150\n",
            "52/52 [==============================] - 0s 2ms/step - loss: 0.6026 - accuracy: 0.6665 - val_loss: 0.5837 - val_accuracy: 0.6614\n",
            "Epoch 30/150\n",
            "52/52 [==============================] - 0s 2ms/step - loss: 0.5690 - accuracy: 0.7094 - val_loss: 0.5815 - val_accuracy: 0.7008\n",
            "Epoch 31/150\n",
            "52/52 [==============================] - 0s 3ms/step - loss: 0.5594 - accuracy: 0.7065 - val_loss: 0.5795 - val_accuracy: 0.7008\n",
            "Epoch 32/150\n",
            "52/52 [==============================] - 0s 3ms/step - loss: 0.5650 - accuracy: 0.7001 - val_loss: 0.5873 - val_accuracy: 0.6535\n",
            "Epoch 33/150\n",
            "52/52 [==============================] - 0s 2ms/step - loss: 0.5790 - accuracy: 0.6856 - val_loss: 0.5887 - val_accuracy: 0.6378\n",
            "Epoch 34/150\n",
            "52/52 [==============================] - 0s 3ms/step - loss: 0.5793 - accuracy: 0.6977 - val_loss: 0.5877 - val_accuracy: 0.6732\n",
            "Epoch 35/150\n",
            "52/52 [==============================] - 0s 3ms/step - loss: 0.5948 - accuracy: 0.6710 - val_loss: 0.5915 - val_accuracy: 0.7008\n",
            "Epoch 36/150\n",
            "52/52 [==============================] - 0s 3ms/step - loss: 0.6031 - accuracy: 0.6899 - val_loss: 0.5785 - val_accuracy: 0.6732\n",
            "Epoch 37/150\n",
            "52/52 [==============================] - 0s 2ms/step - loss: 0.5695 - accuracy: 0.7000 - val_loss: 0.5808 - val_accuracy: 0.6575\n",
            "Epoch 38/150\n",
            "52/52 [==============================] - 0s 2ms/step - loss: 0.5645 - accuracy: 0.7058 - val_loss: 0.5777 - val_accuracy: 0.6969\n",
            "Epoch 39/150\n",
            "52/52 [==============================] - 0s 2ms/step - loss: 0.5800 - accuracy: 0.7045 - val_loss: 0.5931 - val_accuracy: 0.7008\n",
            "Epoch 40/150\n",
            "52/52 [==============================] - 0s 3ms/step - loss: 0.5650 - accuracy: 0.7204 - val_loss: 0.5761 - val_accuracy: 0.6693\n",
            "Epoch 41/150\n",
            "52/52 [==============================] - 0s 3ms/step - loss: 0.5608 - accuracy: 0.7326 - val_loss: 0.5834 - val_accuracy: 0.6496\n",
            "Epoch 42/150\n",
            "52/52 [==============================] - 0s 3ms/step - loss: 0.5596 - accuracy: 0.7001 - val_loss: 0.6047 - val_accuracy: 0.6693\n",
            "Epoch 43/150\n",
            "52/52 [==============================] - 0s 3ms/step - loss: 0.6094 - accuracy: 0.6322 - val_loss: 0.5738 - val_accuracy: 0.7244\n",
            "Epoch 44/150\n",
            "52/52 [==============================] - 0s 3ms/step - loss: 0.5385 - accuracy: 0.7477 - val_loss: 0.5845 - val_accuracy: 0.6811\n",
            "Epoch 45/150\n",
            "52/52 [==============================] - 0s 3ms/step - loss: 0.5880 - accuracy: 0.6910 - val_loss: 0.5766 - val_accuracy: 0.7205\n",
            "Epoch 46/150\n",
            "52/52 [==============================] - 0s 3ms/step - loss: 0.5693 - accuracy: 0.7215 - val_loss: 0.5819 - val_accuracy: 0.6732\n",
            "Epoch 47/150\n",
            "52/52 [==============================] - 0s 3ms/step - loss: 0.5439 - accuracy: 0.7513 - val_loss: 0.5731 - val_accuracy: 0.7047\n",
            "Epoch 48/150\n",
            "52/52 [==============================] - 0s 3ms/step - loss: 0.5606 - accuracy: 0.7071 - val_loss: 0.5733 - val_accuracy: 0.6575\n",
            "Epoch 49/150\n",
            "52/52 [==============================] - 0s 3ms/step - loss: 0.5495 - accuracy: 0.7278 - val_loss: 0.5698 - val_accuracy: 0.7165\n",
            "Epoch 50/150\n",
            "52/52 [==============================] - 0s 2ms/step - loss: 0.5747 - accuracy: 0.6998 - val_loss: 0.5738 - val_accuracy: 0.7087\n",
            "Epoch 51/150\n",
            "52/52 [==============================] - 0s 3ms/step - loss: 0.5561 - accuracy: 0.7563 - val_loss: 0.5729 - val_accuracy: 0.6732\n",
            "Epoch 52/150\n",
            "52/52 [==============================] - 0s 2ms/step - loss: 0.5673 - accuracy: 0.7285 - val_loss: 0.5689 - val_accuracy: 0.6890\n",
            "Epoch 53/150\n",
            "52/52 [==============================] - 0s 3ms/step - loss: 0.5584 - accuracy: 0.7318 - val_loss: 0.5667 - val_accuracy: 0.7165\n",
            "Epoch 54/150\n",
            "52/52 [==============================] - 0s 3ms/step - loss: 0.5485 - accuracy: 0.7429 - val_loss: 0.5738 - val_accuracy: 0.6693\n",
            "Epoch 55/150\n",
            "52/52 [==============================] - 0s 3ms/step - loss: 0.6064 - accuracy: 0.7054 - val_loss: 0.5635 - val_accuracy: 0.7205\n",
            "Epoch 56/150\n",
            "52/52 [==============================] - 0s 2ms/step - loss: 0.5323 - accuracy: 0.7247 - val_loss: 0.5669 - val_accuracy: 0.7283\n",
            "Epoch 57/150\n",
            "52/52 [==============================] - 0s 3ms/step - loss: 0.5970 - accuracy: 0.6701 - val_loss: 0.5647 - val_accuracy: 0.7283\n",
            "Epoch 58/150\n",
            "52/52 [==============================] - 0s 2ms/step - loss: 0.6016 - accuracy: 0.6745 - val_loss: 0.5675 - val_accuracy: 0.6693\n",
            "Epoch 59/150\n",
            "52/52 [==============================] - 0s 2ms/step - loss: 0.5739 - accuracy: 0.7166 - val_loss: 0.5651 - val_accuracy: 0.7087\n",
            "Epoch 60/150\n",
            "52/52 [==============================] - 0s 2ms/step - loss: 0.5732 - accuracy: 0.7320 - val_loss: 0.5676 - val_accuracy: 0.6811\n",
            "Epoch 61/150\n",
            "52/52 [==============================] - 0s 2ms/step - loss: 0.5605 - accuracy: 0.6785 - val_loss: 0.5641 - val_accuracy: 0.7047\n",
            "Epoch 62/150\n",
            "52/52 [==============================] - 0s 3ms/step - loss: 0.5493 - accuracy: 0.6876 - val_loss: 0.5629 - val_accuracy: 0.7008\n",
            "Epoch 63/150\n",
            "52/52 [==============================] - 0s 2ms/step - loss: 0.5477 - accuracy: 0.7463 - val_loss: 0.5725 - val_accuracy: 0.7047\n",
            "Epoch 64/150\n",
            "52/52 [==============================] - 0s 2ms/step - loss: 0.5608 - accuracy: 0.7214 - val_loss: 0.5711 - val_accuracy: 0.7165\n",
            "Epoch 65/150\n",
            "52/52 [==============================] - 0s 2ms/step - loss: 0.5376 - accuracy: 0.7067 - val_loss: 0.5602 - val_accuracy: 0.7283\n",
            "Epoch 66/150\n",
            "52/52 [==============================] - 0s 3ms/step - loss: 0.5541 - accuracy: 0.7137 - val_loss: 0.5603 - val_accuracy: 0.7165\n",
            "Epoch 67/150\n",
            "52/52 [==============================] - 0s 2ms/step - loss: 0.5748 - accuracy: 0.7227 - val_loss: 0.5643 - val_accuracy: 0.6850\n",
            "Epoch 68/150\n",
            "52/52 [==============================] - 0s 2ms/step - loss: 0.5358 - accuracy: 0.7490 - val_loss: 0.5621 - val_accuracy: 0.7244\n",
            "Epoch 69/150\n",
            "52/52 [==============================] - 0s 2ms/step - loss: 0.5891 - accuracy: 0.7178 - val_loss: 0.5575 - val_accuracy: 0.7008\n",
            "Epoch 70/150\n",
            "52/52 [==============================] - 0s 2ms/step - loss: 0.5600 - accuracy: 0.7051 - val_loss: 0.5602 - val_accuracy: 0.7244\n",
            "Epoch 71/150\n",
            "52/52 [==============================] - 0s 2ms/step - loss: 0.5395 - accuracy: 0.7491 - val_loss: 0.5662 - val_accuracy: 0.6929\n",
            "Epoch 72/150\n",
            "52/52 [==============================] - 0s 2ms/step - loss: 0.5375 - accuracy: 0.7238 - val_loss: 0.5586 - val_accuracy: 0.7244\n",
            "Epoch 73/150\n",
            "52/52 [==============================] - 0s 3ms/step - loss: 0.5340 - accuracy: 0.7532 - val_loss: 0.5615 - val_accuracy: 0.7047\n",
            "Epoch 74/150\n",
            "52/52 [==============================] - 0s 2ms/step - loss: 0.5373 - accuracy: 0.7605 - val_loss: 0.5558 - val_accuracy: 0.7165\n",
            "Epoch 75/150\n",
            "52/52 [==============================] - 0s 2ms/step - loss: 0.5737 - accuracy: 0.6775 - val_loss: 0.5710 - val_accuracy: 0.6693\n",
            "Epoch 76/150\n",
            "52/52 [==============================] - 0s 3ms/step - loss: 0.5450 - accuracy: 0.7077 - val_loss: 0.5512 - val_accuracy: 0.7165\n",
            "Epoch 77/150\n",
            "52/52 [==============================] - 0s 3ms/step - loss: 0.5263 - accuracy: 0.7297 - val_loss: 0.5546 - val_accuracy: 0.6890\n",
            "Epoch 78/150\n",
            "52/52 [==============================] - 0s 3ms/step - loss: 0.5449 - accuracy: 0.7201 - val_loss: 0.5600 - val_accuracy: 0.6929\n",
            "Epoch 79/150\n",
            "52/52 [==============================] - 0s 3ms/step - loss: 0.5093 - accuracy: 0.7663 - val_loss: 0.5521 - val_accuracy: 0.7047\n",
            "Epoch 80/150\n",
            "52/52 [==============================] - 0s 3ms/step - loss: 0.5423 - accuracy: 0.7357 - val_loss: 0.5537 - val_accuracy: 0.7008\n",
            "Epoch 81/150\n",
            "52/52 [==============================] - 0s 3ms/step - loss: 0.5362 - accuracy: 0.7463 - val_loss: 0.5491 - val_accuracy: 0.6969\n",
            "Epoch 82/150\n",
            "52/52 [==============================] - 0s 2ms/step - loss: 0.5512 - accuracy: 0.7214 - val_loss: 0.5629 - val_accuracy: 0.7126\n",
            "Epoch 83/150\n",
            "52/52 [==============================] - 0s 2ms/step - loss: 0.5505 - accuracy: 0.7396 - val_loss: 0.5514 - val_accuracy: 0.7323\n",
            "Epoch 84/150\n",
            "52/52 [==============================] - 0s 2ms/step - loss: 0.5830 - accuracy: 0.7164 - val_loss: 0.5529 - val_accuracy: 0.6969\n",
            "Epoch 85/150\n",
            "52/52 [==============================] - 0s 2ms/step - loss: 0.5301 - accuracy: 0.7584 - val_loss: 0.5555 - val_accuracy: 0.6929\n",
            "Epoch 86/150\n",
            "52/52 [==============================] - 0s 2ms/step - loss: 0.5289 - accuracy: 0.7533 - val_loss: 0.5449 - val_accuracy: 0.7283\n",
            "Epoch 87/150\n",
            "52/52 [==============================] - 0s 2ms/step - loss: 0.5449 - accuracy: 0.7269 - val_loss: 0.5442 - val_accuracy: 0.7362\n",
            "Epoch 88/150\n",
            "52/52 [==============================] - 0s 2ms/step - loss: 0.5546 - accuracy: 0.7446 - val_loss: 0.5451 - val_accuracy: 0.7126\n",
            "Epoch 89/150\n",
            "52/52 [==============================] - 0s 2ms/step - loss: 0.5396 - accuracy: 0.7468 - val_loss: 0.5531 - val_accuracy: 0.7205\n",
            "Epoch 90/150\n",
            "52/52 [==============================] - 0s 3ms/step - loss: 0.5445 - accuracy: 0.7227 - val_loss: 0.5446 - val_accuracy: 0.7008\n",
            "Epoch 91/150\n",
            "52/52 [==============================] - 0s 2ms/step - loss: 0.5517 - accuracy: 0.7254 - val_loss: 0.5477 - val_accuracy: 0.7205\n",
            "Epoch 92/150\n",
            "52/52 [==============================] - 0s 2ms/step - loss: 0.5399 - accuracy: 0.7489 - val_loss: 0.5580 - val_accuracy: 0.7362\n",
            "Epoch 93/150\n",
            "52/52 [==============================] - 0s 3ms/step - loss: 0.5333 - accuracy: 0.7419 - val_loss: 0.5393 - val_accuracy: 0.7165\n",
            "Epoch 94/150\n",
            "52/52 [==============================] - 0s 2ms/step - loss: 0.5162 - accuracy: 0.7533 - val_loss: 0.5376 - val_accuracy: 0.7283\n",
            "Epoch 95/150\n",
            "52/52 [==============================] - 0s 3ms/step - loss: 0.5436 - accuracy: 0.7504 - val_loss: 0.5688 - val_accuracy: 0.7087\n",
            "Epoch 96/150\n",
            "52/52 [==============================] - 0s 3ms/step - loss: 0.5749 - accuracy: 0.7026 - val_loss: 0.5396 - val_accuracy: 0.7441\n",
            "Epoch 97/150\n",
            "52/52 [==============================] - 0s 2ms/step - loss: 0.5622 - accuracy: 0.7291 - val_loss: 0.5368 - val_accuracy: 0.7441\n",
            "Epoch 98/150\n",
            "52/52 [==============================] - 0s 2ms/step - loss: 0.5361 - accuracy: 0.7402 - val_loss: 0.5398 - val_accuracy: 0.7165\n",
            "Epoch 99/150\n",
            "52/52 [==============================] - 0s 2ms/step - loss: 0.5081 - accuracy: 0.7510 - val_loss: 0.5296 - val_accuracy: 0.7323\n",
            "Epoch 100/150\n",
            "52/52 [==============================] - 0s 3ms/step - loss: 0.5095 - accuracy: 0.7524 - val_loss: 0.5411 - val_accuracy: 0.7283\n",
            "Epoch 101/150\n",
            "52/52 [==============================] - 0s 2ms/step - loss: 0.5208 - accuracy: 0.7780 - val_loss: 0.5338 - val_accuracy: 0.7283\n",
            "Epoch 102/150\n",
            "52/52 [==============================] - 0s 2ms/step - loss: 0.5202 - accuracy: 0.7533 - val_loss: 0.5345 - val_accuracy: 0.7283\n",
            "Epoch 103/150\n",
            "52/52 [==============================] - 0s 2ms/step - loss: 0.5089 - accuracy: 0.7612 - val_loss: 0.5346 - val_accuracy: 0.7441\n",
            "Epoch 104/150\n",
            "52/52 [==============================] - 0s 2ms/step - loss: 0.5280 - accuracy: 0.7452 - val_loss: 0.5299 - val_accuracy: 0.7402\n",
            "Epoch 105/150\n",
            "52/52 [==============================] - 0s 3ms/step - loss: 0.5261 - accuracy: 0.7604 - val_loss: 0.5405 - val_accuracy: 0.7480\n",
            "Epoch 106/150\n",
            "52/52 [==============================] - 0s 3ms/step - loss: 0.5142 - accuracy: 0.7842 - val_loss: 0.5392 - val_accuracy: 0.7362\n",
            "Epoch 107/150\n",
            "52/52 [==============================] - 0s 3ms/step - loss: 0.4823 - accuracy: 0.7881 - val_loss: 0.5330 - val_accuracy: 0.7480\n",
            "Epoch 108/150\n",
            "52/52 [==============================] - 0s 2ms/step - loss: 0.4954 - accuracy: 0.7677 - val_loss: 0.5273 - val_accuracy: 0.7441\n",
            "Epoch 109/150\n",
            "52/52 [==============================] - 0s 2ms/step - loss: 0.4931 - accuracy: 0.7456 - val_loss: 0.5308 - val_accuracy: 0.7362\n",
            "Epoch 110/150\n",
            "52/52 [==============================] - 0s 3ms/step - loss: 0.5751 - accuracy: 0.7426 - val_loss: 0.5284 - val_accuracy: 0.7402\n",
            "Epoch 111/150\n",
            "52/52 [==============================] - 0s 3ms/step - loss: 0.4980 - accuracy: 0.7628 - val_loss: 0.5397 - val_accuracy: 0.7205\n",
            "Epoch 112/150\n",
            "52/52 [==============================] - 0s 2ms/step - loss: 0.4710 - accuracy: 0.8005 - val_loss: 0.5257 - val_accuracy: 0.7441\n",
            "Epoch 113/150\n",
            "52/52 [==============================] - 0s 2ms/step - loss: 0.5103 - accuracy: 0.7774 - val_loss: 0.5366 - val_accuracy: 0.7441\n",
            "Epoch 114/150\n",
            "52/52 [==============================] - 0s 3ms/step - loss: 0.5261 - accuracy: 0.7413 - val_loss: 0.5283 - val_accuracy: 0.7520\n",
            "Epoch 115/150\n",
            "52/52 [==============================] - 0s 2ms/step - loss: 0.4904 - accuracy: 0.7790 - val_loss: 0.5305 - val_accuracy: 0.7480\n",
            "Epoch 116/150\n",
            "52/52 [==============================] - 0s 3ms/step - loss: 0.5210 - accuracy: 0.7377 - val_loss: 0.5284 - val_accuracy: 0.7559\n",
            "Epoch 117/150\n",
            "52/52 [==============================] - 0s 2ms/step - loss: 0.4865 - accuracy: 0.7867 - val_loss: 0.5203 - val_accuracy: 0.7480\n",
            "Epoch 118/150\n",
            "52/52 [==============================] - 0s 2ms/step - loss: 0.5146 - accuracy: 0.7497 - val_loss: 0.5341 - val_accuracy: 0.7559\n",
            "Epoch 119/150\n",
            "52/52 [==============================] - 0s 2ms/step - loss: 0.4832 - accuracy: 0.7832 - val_loss: 0.5210 - val_accuracy: 0.7480\n",
            "Epoch 120/150\n",
            "52/52 [==============================] - 0s 2ms/step - loss: 0.4814 - accuracy: 0.7830 - val_loss: 0.5175 - val_accuracy: 0.7441\n",
            "Epoch 121/150\n",
            "52/52 [==============================] - 0s 2ms/step - loss: 0.5181 - accuracy: 0.7480 - val_loss: 0.5205 - val_accuracy: 0.7402\n",
            "Epoch 122/150\n",
            "52/52 [==============================] - 0s 2ms/step - loss: 0.5081 - accuracy: 0.7523 - val_loss: 0.5356 - val_accuracy: 0.7283\n",
            "Epoch 123/150\n",
            "52/52 [==============================] - 0s 3ms/step - loss: 0.5082 - accuracy: 0.7507 - val_loss: 0.5306 - val_accuracy: 0.7480\n",
            "Epoch 124/150\n",
            "52/52 [==============================] - 0s 2ms/step - loss: 0.5167 - accuracy: 0.7412 - val_loss: 0.5280 - val_accuracy: 0.7795\n",
            "Epoch 125/150\n",
            "52/52 [==============================] - 0s 3ms/step - loss: 0.5108 - accuracy: 0.7379 - val_loss: 0.5482 - val_accuracy: 0.7402\n",
            "Epoch 126/150\n",
            "52/52 [==============================] - 0s 2ms/step - loss: 0.4951 - accuracy: 0.7794 - val_loss: 0.5321 - val_accuracy: 0.7520\n",
            "Epoch 127/150\n",
            "52/52 [==============================] - 0s 2ms/step - loss: 0.5048 - accuracy: 0.7795 - val_loss: 0.5243 - val_accuracy: 0.7480\n",
            "Epoch 128/150\n",
            "52/52 [==============================] - 0s 2ms/step - loss: 0.5233 - accuracy: 0.7724 - val_loss: 0.5241 - val_accuracy: 0.7835\n",
            "Epoch 129/150\n",
            "52/52 [==============================] - 0s 3ms/step - loss: 0.5106 - accuracy: 0.7472 - val_loss: 0.5245 - val_accuracy: 0.7559\n",
            "Epoch 130/150\n",
            "52/52 [==============================] - 0s 3ms/step - loss: 0.5497 - accuracy: 0.7246 - val_loss: 0.5172 - val_accuracy: 0.7717\n",
            "Epoch 131/150\n",
            "52/52 [==============================] - 0s 2ms/step - loss: 0.4993 - accuracy: 0.7751 - val_loss: 0.5164 - val_accuracy: 0.7717\n",
            "Epoch 132/150\n",
            "52/52 [==============================] - 0s 3ms/step - loss: 0.4895 - accuracy: 0.7822 - val_loss: 0.5100 - val_accuracy: 0.7638\n",
            "Epoch 133/150\n",
            "52/52 [==============================] - 0s 2ms/step - loss: 0.5086 - accuracy: 0.7753 - val_loss: 0.5118 - val_accuracy: 0.7559\n",
            "Epoch 134/150\n",
            "52/52 [==============================] - 0s 2ms/step - loss: 0.5006 - accuracy: 0.7714 - val_loss: 0.5169 - val_accuracy: 0.7559\n",
            "Epoch 135/150\n",
            "52/52 [==============================] - 0s 2ms/step - loss: 0.4996 - accuracy: 0.7686 - val_loss: 0.5241 - val_accuracy: 0.7480\n",
            "Epoch 136/150\n",
            "52/52 [==============================] - 0s 3ms/step - loss: 0.5618 - accuracy: 0.7347 - val_loss: 0.5114 - val_accuracy: 0.7717\n",
            "Epoch 137/150\n",
            "52/52 [==============================] - 0s 2ms/step - loss: 0.5071 - accuracy: 0.7580 - val_loss: 0.5245 - val_accuracy: 0.7441\n",
            "Epoch 138/150\n",
            "52/52 [==============================] - 0s 2ms/step - loss: 0.4866 - accuracy: 0.7884 - val_loss: 0.5305 - val_accuracy: 0.7244\n",
            "Epoch 139/150\n",
            "52/52 [==============================] - 0s 2ms/step - loss: 0.5289 - accuracy: 0.7182 - val_loss: 0.5224 - val_accuracy: 0.7598\n",
            "Epoch 140/150\n",
            "52/52 [==============================] - 0s 3ms/step - loss: 0.5111 - accuracy: 0.7445 - val_loss: 0.5268 - val_accuracy: 0.7559\n",
            "Epoch 141/150\n",
            "52/52 [==============================] - 0s 3ms/step - loss: 0.5102 - accuracy: 0.7554 - val_loss: 0.5087 - val_accuracy: 0.7598\n",
            "Epoch 142/150\n",
            "52/52 [==============================] - 0s 2ms/step - loss: 0.5033 - accuracy: 0.7611 - val_loss: 0.5117 - val_accuracy: 0.7559\n",
            "Epoch 143/150\n",
            "52/52 [==============================] - 0s 3ms/step - loss: 0.4657 - accuracy: 0.7938 - val_loss: 0.5075 - val_accuracy: 0.7638\n",
            "Epoch 144/150\n",
            "52/52 [==============================] - 0s 3ms/step - loss: 0.5071 - accuracy: 0.7615 - val_loss: 0.5136 - val_accuracy: 0.7756\n",
            "Epoch 145/150\n",
            "52/52 [==============================] - 0s 2ms/step - loss: 0.5101 - accuracy: 0.7491 - val_loss: 0.5090 - val_accuracy: 0.7480\n",
            "Epoch 146/150\n",
            "52/52 [==============================] - 0s 2ms/step - loss: 0.5138 - accuracy: 0.7292 - val_loss: 0.5081 - val_accuracy: 0.7795\n",
            "Epoch 147/150\n",
            "52/52 [==============================] - 0s 3ms/step - loss: 0.4996 - accuracy: 0.7729 - val_loss: 0.5077 - val_accuracy: 0.7677\n",
            "Epoch 148/150\n",
            "52/52 [==============================] - 0s 2ms/step - loss: 0.4857 - accuracy: 0.7636 - val_loss: 0.5145 - val_accuracy: 0.7677\n",
            "Epoch 149/150\n",
            "52/52 [==============================] - 0s 3ms/step - loss: 0.5161 - accuracy: 0.7495 - val_loss: 0.5166 - val_accuracy: 0.7835\n",
            "Epoch 150/150\n",
            "52/52 [==============================] - 0s 2ms/step - loss: 0.4994 - accuracy: 0.7779 - val_loss: 0.5070 - val_accuracy: 0.7756\n"
          ],
          "name": "stdout"
        },
        {
          "output_type": "execute_result",
          "data": {
            "text/plain": [
              "<keras.callbacks.History at 0x7f5537060050>"
            ]
          },
          "metadata": {
            "tags": []
          },
          "execution_count": 14
        }
      ]
    },
    {
      "cell_type": "code",
      "metadata": {
        "ExecuteTime": {
          "end_time": "2021-02-09T08:43:37.551736Z",
          "start_time": "2021-02-09T08:43:37.504864Z"
        },
        "colab": {
          "base_uri": "https://localhost:8080/"
        },
        "id": "XtN9y2Dpd_-P",
        "outputId": "71f92618-c4dc-41b6-8384-1b968d50973d"
      },
      "source": [
        "# evaluate the model\n",
        "scores = model.evaluate(X, Y)\n",
        "print(\"%s: %.2f%%\" % (model.metrics_names[1], scores[1]*100)) "
      ],
      "execution_count": 15,
      "outputs": [
        {
          "output_type": "stream",
          "text": [
            "24/24 [==============================] - 0s 1ms/step - loss: 0.4943 - accuracy: 0.7760\n",
            "accuracy: 77.60%\n"
          ],
          "name": "stdout"
        }
      ]
    },
    {
      "cell_type": "code",
      "metadata": {
        "ExecuteTime": {
          "end_time": "2021-02-09T08:43:40.838711Z",
          "start_time": "2021-02-09T08:43:40.830771Z"
        },
        "colab": {
          "base_uri": "https://localhost:8080/"
        },
        "id": "vCi5fQrTd_-Q",
        "outputId": "166d4fc7-f6f1-4b09-f1ff-163d4f653f49"
      },
      "source": [
        "# Visualize training history\n",
        "\n",
        "# list all data in history\n",
        "model.history.history.keys()\n"
      ],
      "execution_count": 24,
      "outputs": [
        {
          "output_type": "stream",
          "text": [
            "dict_keys([])\n"
          ],
          "name": "stdout"
        }
      ]
    },
    {
      "cell_type": "code",
      "metadata": {
        "ExecuteTime": {
          "end_time": "2021-02-09T08:44:17.907593Z",
          "start_time": "2021-02-09T08:44:17.129960Z"
        },
        "colab": {
          "base_uri": "https://localhost:8080/",
          "height": 231
        },
        "id": "UbrkOA7id_-Q",
        "outputId": "42112ec3-3252-48e3-b17b-0ab2d247a30d"
      },
      "source": [
        "# summarize history for accuracy\n",
        "import matplotlib.pyplot as plt\n",
        "\n",
        "plt.plot(model.history.history['acc'])\n",
        "plt.plot(model.history.history['val_acc'])\n",
        "plt.title('model accuracy')\n",
        "plt.ylabel('accuracy')\n",
        "plt.xlabel('epoch')\n",
        "plt.legend(['train', 'test'], loc='upper left')\n",
        "plt.show()\n",
        "# summarize history for loss\n",
        "plt.plot(model.history.history['loss'])\n",
        "plt.plot(model.history.history['val_loss'])\n",
        "plt.title('model loss') \n",
        "plt.ylabel('loss')\n",
        "plt.xlabel('epoch')\n",
        "plt.legend(['train', 'test'], loc='upper left')\n",
        "plt.show()\n"
      ],
      "execution_count": 20,
      "outputs": [
        {
          "output_type": "error",
          "ename": "KeyError",
          "evalue": "ignored",
          "traceback": [
            "\u001b[0;31m---------------------------------------------------------------------------\u001b[0m",
            "\u001b[0;31mKeyError\u001b[0m                                  Traceback (most recent call last)",
            "\u001b[0;32m<ipython-input-20-87754e75cb51>\u001b[0m in \u001b[0;36m<module>\u001b[0;34m()\u001b[0m\n\u001b[1;32m      2\u001b[0m \u001b[0;32mimport\u001b[0m \u001b[0mmatplotlib\u001b[0m\u001b[0;34m.\u001b[0m\u001b[0mpyplot\u001b[0m \u001b[0;32mas\u001b[0m \u001b[0mplt\u001b[0m\u001b[0;34m\u001b[0m\u001b[0;34m\u001b[0m\u001b[0m\n\u001b[1;32m      3\u001b[0m \u001b[0;34m\u001b[0m\u001b[0m\n\u001b[0;32m----> 4\u001b[0;31m \u001b[0mplt\u001b[0m\u001b[0;34m.\u001b[0m\u001b[0mplot\u001b[0m\u001b[0;34m(\u001b[0m\u001b[0mmodel\u001b[0m\u001b[0;34m.\u001b[0m\u001b[0mhistory\u001b[0m\u001b[0;34m.\u001b[0m\u001b[0mhistory\u001b[0m\u001b[0;34m[\u001b[0m\u001b[0;34m'acc'\u001b[0m\u001b[0;34m]\u001b[0m\u001b[0;34m)\u001b[0m\u001b[0;34m\u001b[0m\u001b[0;34m\u001b[0m\u001b[0m\n\u001b[0m\u001b[1;32m      5\u001b[0m \u001b[0mplt\u001b[0m\u001b[0;34m.\u001b[0m\u001b[0mplot\u001b[0m\u001b[0;34m(\u001b[0m\u001b[0mmodel\u001b[0m\u001b[0;34m.\u001b[0m\u001b[0mhistory\u001b[0m\u001b[0;34m.\u001b[0m\u001b[0mhistory\u001b[0m\u001b[0;34m[\u001b[0m\u001b[0;34m'val_acc'\u001b[0m\u001b[0;34m]\u001b[0m\u001b[0;34m)\u001b[0m\u001b[0;34m\u001b[0m\u001b[0;34m\u001b[0m\u001b[0m\n\u001b[1;32m      6\u001b[0m \u001b[0mplt\u001b[0m\u001b[0;34m.\u001b[0m\u001b[0mtitle\u001b[0m\u001b[0;34m(\u001b[0m\u001b[0;34m'model accuracy'\u001b[0m\u001b[0;34m)\u001b[0m\u001b[0;34m\u001b[0m\u001b[0;34m\u001b[0m\u001b[0m\n",
            "\u001b[0;31mKeyError\u001b[0m: 'acc'"
          ]
        }
      ]
    },
    {
      "cell_type": "code",
      "metadata": {
        "id": "w27LKcEGd_-S"
      },
      "source": [
        ""
      ],
      "execution_count": null,
      "outputs": []
    }
  ]
}