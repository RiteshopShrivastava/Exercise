{
  "nbformat": 4,
  "nbformat_minor": 0,
  "metadata": {
    "kernelspec": {
      "display_name": "Python 3",
      "language": "python",
      "name": "python3"
    },
    "language_info": {
      "codemirror_mode": {
        "name": "ipython",
        "version": 3
      },
      "file_extension": ".py",
      "mimetype": "text/x-python",
      "name": "python",
      "nbconvert_exporter": "python",
      "pygments_lexer": "ipython3",
      "version": "3.7.3"
    },
    "varInspector": {
      "cols": {
        "lenName": 16,
        "lenType": 16,
        "lenVar": 40
      },
      "kernels_config": {
        "python": {
          "delete_cmd_postfix": "",
          "delete_cmd_prefix": "del ",
          "library": "var_list.py",
          "varRefreshCmd": "print(var_dic_list())"
        },
        "r": {
          "delete_cmd_postfix": ") ",
          "delete_cmd_prefix": "rm(",
          "library": "var_list.r",
          "varRefreshCmd": "cat(var_dic_list()) "
        }
      },
      "types_to_exclude": [
        "module",
        "function",
        "builtin_function_or_method",
        "instance",
        "_Feature"
      ],
      "window_display": false
    },
    "colab": {
      "name": "Neural Network_Back Propagation_updated.ipynb",
      "provenance": [],
      "collapsed_sections": [],
      "include_colab_link": true
    }
  },
  "cells": [
    {
      "cell_type": "markdown",
      "metadata": {
        "id": "view-in-github",
        "colab_type": "text"
      },
      "source": [
        "<a href=\"https://colab.research.google.com/github/RiteshopShrivastava/Exercise/blob/main/Neural_Network_Back_Propagation_updated.ipynb\" target=\"_parent\"><img src=\"https://colab.research.google.com/assets/colab-badge.svg\" alt=\"Open In Colab\"/></a>"
      ]
    },
    {
      "cell_type": "code",
      "metadata": {
        "id": "jrPyedAbd_-J"
      },
      "source": [
        "!pip install keras\n",
        "!pip install tensorflow"
      ],
      "execution_count": null,
      "outputs": []
    },
    {
      "cell_type": "code",
      "metadata": {
        "ExecuteTime": {
          "end_time": "2021-02-09T08:42:54.585529Z",
          "start_time": "2021-02-09T08:41:27.933303Z"
        },
        "id": "cn_tQfZ1d_-L"
      },
      "source": [
        "# Create your first MLP in Keras\n",
        "from keras.models import Sequential\n",
        "from keras.layers import Dense\n",
        "import numpy \n",
        "import pandas as pd\n"
      ],
      "execution_count": 47,
      "outputs": []
    },
    {
      "cell_type": "code",
      "metadata": {
        "ExecuteTime": {
          "end_time": "2021-02-09T08:42:58.124430Z",
          "start_time": "2021-02-09T08:42:57.908638Z"
        },
        "id": "KH4A8ae-d_-M"
      },
      "source": [
        "# fix random seed for reproducibility\n",
        "seed = 7\n",
        "numpy.random.seed(seed)\n",
        "# load pima indians dataset\n",
        "dataset = numpy.loadtxt(\"/content/pima-indians-diabetes.data.csv\", delimiter=\",\")\n",
        "# split into input (X) and output (Y) variables\n",
        "X = dataset[:,0:8]\n",
        "Y = dataset[:,8]\n"
      ],
      "execution_count": 48,
      "outputs": []
    },
    {
      "cell_type": "code",
      "metadata": {
        "ExecuteTime": {
          "end_time": "2021-02-09T08:43:05.880536Z",
          "start_time": "2021-02-09T08:43:03.559979Z"
        },
        "id": "Q7kmC6Jid_-N"
      },
      "source": [
        "# create model\n",
        "model = Sequential()\n",
        "model.add(Dense(12, input_dim=8, kernel_initializer='random_uniform', activation='relu'))\n",
        "model.add(Dense(8, kernel_initializer='random_uniform', activation='relu'))\n",
        "model.add(Dense(1, kernel_initializer='random_uniform', activation='sigmoid'))"
      ],
      "execution_count": 49,
      "outputs": []
    },
    {
      "cell_type": "markdown",
      "metadata": {
        "id": "itYFpbOYd_-N"
      },
      "source": [
        "![image.png](attachment:image.png)"
      ]
    },
    {
      "cell_type": "code",
      "metadata": {
        "ExecuteTime": {
          "end_time": "2021-02-09T08:43:10.113333Z",
          "start_time": "2021-02-09T08:43:09.931655Z"
        },
        "id": "GdYkqrQcd_-O"
      },
      "source": [
        "# Compile model\n",
        "model.compile(loss='binary_crossentropy', optimizer='adam', metrics=['accuracy']) "
      ],
      "execution_count": 50,
      "outputs": []
    },
    {
      "cell_type": "code",
      "metadata": {
        "ExecuteTime": {
          "end_time": "2021-02-09T08:43:33.205685Z",
          "start_time": "2021-02-09T08:43:12.271005Z"
        },
        "colab": {
          "base_uri": "https://localhost:8080/"
        },
        "id": "UKTPDzSGd_-O",
        "outputId": "35d6d59e-5102-4b41-c254-6d07584b0545"
      },
      "source": [
        "# Fit the model\n",
        "model.fit(X, Y, validation_split=0.33, epochs=150, batch_size=10) "
      ],
      "execution_count": 51,
      "outputs": [
        {
          "output_type": "stream",
          "text": [
            "Epoch 1/150\n",
            "52/52 [==============================] - 1s 12ms/step - loss: 0.6869 - accuracy: 0.6503 - val_loss: 0.6640 - val_accuracy: 0.6732\n",
            "Epoch 2/150\n",
            "52/52 [==============================] - 0s 3ms/step - loss: 0.6884 - accuracy: 0.5850 - val_loss: 0.6540 - val_accuracy: 0.6732\n",
            "Epoch 3/150\n",
            "52/52 [==============================] - 0s 3ms/step - loss: 0.6602 - accuracy: 0.6517 - val_loss: 0.6533 - val_accuracy: 0.6811\n",
            "Epoch 4/150\n",
            "52/52 [==============================] - 0s 2ms/step - loss: 0.6472 - accuracy: 0.6687 - val_loss: 0.6520 - val_accuracy: 0.6693\n",
            "Epoch 5/150\n",
            "52/52 [==============================] - 0s 2ms/step - loss: 0.6623 - accuracy: 0.5973 - val_loss: 0.6431 - val_accuracy: 0.6811\n",
            "Epoch 6/150\n",
            "52/52 [==============================] - 0s 2ms/step - loss: 0.6646 - accuracy: 0.6076 - val_loss: 0.6371 - val_accuracy: 0.6772\n",
            "Epoch 7/150\n",
            "52/52 [==============================] - 0s 3ms/step - loss: 0.6395 - accuracy: 0.6549 - val_loss: 0.6342 - val_accuracy: 0.6811\n",
            "Epoch 8/150\n",
            "52/52 [==============================] - 0s 3ms/step - loss: 0.6548 - accuracy: 0.6225 - val_loss: 0.6246 - val_accuracy: 0.6811\n",
            "Epoch 9/150\n",
            "52/52 [==============================] - 0s 2ms/step - loss: 0.6367 - accuracy: 0.6281 - val_loss: 0.6198 - val_accuracy: 0.6654\n",
            "Epoch 10/150\n",
            "52/52 [==============================] - 0s 3ms/step - loss: 0.6474 - accuracy: 0.6235 - val_loss: 0.6109 - val_accuracy: 0.6850\n",
            "Epoch 11/150\n",
            "52/52 [==============================] - 0s 2ms/step - loss: 0.6504 - accuracy: 0.6389 - val_loss: 0.6003 - val_accuracy: 0.6850\n",
            "Epoch 12/150\n",
            "52/52 [==============================] - 0s 2ms/step - loss: 0.6278 - accuracy: 0.6149 - val_loss: 0.5957 - val_accuracy: 0.6929\n",
            "Epoch 13/150\n",
            "52/52 [==============================] - 0s 3ms/step - loss: 0.5920 - accuracy: 0.7016 - val_loss: 0.5908 - val_accuracy: 0.7047\n",
            "Epoch 14/150\n",
            "52/52 [==============================] - 0s 3ms/step - loss: 0.6019 - accuracy: 0.7208 - val_loss: 0.5934 - val_accuracy: 0.6969\n",
            "Epoch 15/150\n",
            "52/52 [==============================] - 0s 2ms/step - loss: 0.5916 - accuracy: 0.7106 - val_loss: 0.6005 - val_accuracy: 0.6693\n",
            "Epoch 16/150\n",
            "52/52 [==============================] - 0s 3ms/step - loss: 0.6055 - accuracy: 0.6865 - val_loss: 0.5767 - val_accuracy: 0.7126\n",
            "Epoch 17/150\n",
            "52/52 [==============================] - 0s 2ms/step - loss: 0.5785 - accuracy: 0.7331 - val_loss: 0.5829 - val_accuracy: 0.7126\n",
            "Epoch 18/150\n",
            "52/52 [==============================] - 0s 2ms/step - loss: 0.5902 - accuracy: 0.7125 - val_loss: 0.5844 - val_accuracy: 0.7205\n",
            "Epoch 19/150\n",
            "52/52 [==============================] - 0s 2ms/step - loss: 0.5858 - accuracy: 0.7062 - val_loss: 0.5766 - val_accuracy: 0.7205\n",
            "Epoch 20/150\n",
            "52/52 [==============================] - 0s 2ms/step - loss: 0.5933 - accuracy: 0.7108 - val_loss: 0.6034 - val_accuracy: 0.7008\n",
            "Epoch 21/150\n",
            "52/52 [==============================] - 0s 3ms/step - loss: 0.5725 - accuracy: 0.7200 - val_loss: 0.5721 - val_accuracy: 0.7283\n",
            "Epoch 22/150\n",
            "52/52 [==============================] - 0s 3ms/step - loss: 0.5928 - accuracy: 0.6818 - val_loss: 0.5731 - val_accuracy: 0.7126\n",
            "Epoch 23/150\n",
            "52/52 [==============================] - 0s 2ms/step - loss: 0.5754 - accuracy: 0.7166 - val_loss: 0.5787 - val_accuracy: 0.7008\n",
            "Epoch 24/150\n",
            "52/52 [==============================] - 0s 2ms/step - loss: 0.5876 - accuracy: 0.7112 - val_loss: 0.5749 - val_accuracy: 0.7205\n",
            "Epoch 25/150\n",
            "52/52 [==============================] - 0s 2ms/step - loss: 0.5929 - accuracy: 0.7118 - val_loss: 0.5735 - val_accuracy: 0.6969\n",
            "Epoch 26/150\n",
            "52/52 [==============================] - 0s 2ms/step - loss: 0.5405 - accuracy: 0.7626 - val_loss: 0.5701 - val_accuracy: 0.7087\n",
            "Epoch 27/150\n",
            "52/52 [==============================] - 0s 2ms/step - loss: 0.5765 - accuracy: 0.7383 - val_loss: 0.5703 - val_accuracy: 0.7008\n",
            "Epoch 28/150\n",
            "52/52 [==============================] - 0s 3ms/step - loss: 0.5830 - accuracy: 0.6573 - val_loss: 0.5732 - val_accuracy: 0.6929\n",
            "Epoch 29/150\n",
            "52/52 [==============================] - 0s 2ms/step - loss: 0.5744 - accuracy: 0.6939 - val_loss: 0.5695 - val_accuracy: 0.6969\n",
            "Epoch 30/150\n",
            "52/52 [==============================] - 0s 3ms/step - loss: 0.5703 - accuracy: 0.7231 - val_loss: 0.5672 - val_accuracy: 0.6969\n",
            "Epoch 31/150\n",
            "52/52 [==============================] - 0s 2ms/step - loss: 0.6049 - accuracy: 0.6658 - val_loss: 0.5709 - val_accuracy: 0.7087\n",
            "Epoch 32/150\n",
            "52/52 [==============================] - 0s 3ms/step - loss: 0.5827 - accuracy: 0.7118 - val_loss: 0.5655 - val_accuracy: 0.7008\n",
            "Epoch 33/150\n",
            "52/52 [==============================] - 0s 2ms/step - loss: 0.5649 - accuracy: 0.7137 - val_loss: 0.5646 - val_accuracy: 0.6929\n",
            "Epoch 34/150\n",
            "52/52 [==============================] - 0s 2ms/step - loss: 0.5680 - accuracy: 0.7380 - val_loss: 0.5899 - val_accuracy: 0.6693\n",
            "Epoch 35/150\n",
            "52/52 [==============================] - 0s 2ms/step - loss: 0.5797 - accuracy: 0.6813 - val_loss: 0.5724 - val_accuracy: 0.6969\n",
            "Epoch 36/150\n",
            "52/52 [==============================] - 0s 2ms/step - loss: 0.5410 - accuracy: 0.7297 - val_loss: 0.5723 - val_accuracy: 0.7047\n",
            "Epoch 37/150\n",
            "52/52 [==============================] - 0s 3ms/step - loss: 0.6150 - accuracy: 0.6931 - val_loss: 0.5658 - val_accuracy: 0.7205\n",
            "Epoch 38/150\n",
            "52/52 [==============================] - 0s 2ms/step - loss: 0.5499 - accuracy: 0.7446 - val_loss: 0.5673 - val_accuracy: 0.7047\n",
            "Epoch 39/150\n",
            "52/52 [==============================] - 0s 3ms/step - loss: 0.5847 - accuracy: 0.7040 - val_loss: 0.5990 - val_accuracy: 0.7047\n",
            "Epoch 40/150\n",
            "52/52 [==============================] - 0s 2ms/step - loss: 0.5894 - accuracy: 0.7397 - val_loss: 0.5706 - val_accuracy: 0.7126\n",
            "Epoch 41/150\n",
            "52/52 [==============================] - 0s 3ms/step - loss: 0.5626 - accuracy: 0.7168 - val_loss: 0.5649 - val_accuracy: 0.7165\n",
            "Epoch 42/150\n",
            "52/52 [==============================] - 0s 2ms/step - loss: 0.5350 - accuracy: 0.7467 - val_loss: 0.5675 - val_accuracy: 0.7047\n",
            "Epoch 43/150\n",
            "52/52 [==============================] - 0s 3ms/step - loss: 0.5719 - accuracy: 0.7146 - val_loss: 0.5672 - val_accuracy: 0.7205\n",
            "Epoch 44/150\n",
            "52/52 [==============================] - 0s 3ms/step - loss: 0.5541 - accuracy: 0.7450 - val_loss: 0.5686 - val_accuracy: 0.7008\n",
            "Epoch 45/150\n",
            "52/52 [==============================] - 0s 3ms/step - loss: 0.5235 - accuracy: 0.7421 - val_loss: 0.5687 - val_accuracy: 0.7008\n",
            "Epoch 46/150\n",
            "52/52 [==============================] - 0s 3ms/step - loss: 0.5796 - accuracy: 0.7099 - val_loss: 0.5715 - val_accuracy: 0.6969\n",
            "Epoch 47/150\n",
            "52/52 [==============================] - 0s 3ms/step - loss: 0.5820 - accuracy: 0.7048 - val_loss: 0.5648 - val_accuracy: 0.7087\n",
            "Epoch 48/150\n",
            "52/52 [==============================] - 0s 3ms/step - loss: 0.6046 - accuracy: 0.7023 - val_loss: 0.5611 - val_accuracy: 0.7165\n",
            "Epoch 49/150\n",
            "52/52 [==============================] - 0s 2ms/step - loss: 0.5518 - accuracy: 0.7252 - val_loss: 0.5582 - val_accuracy: 0.7165\n",
            "Epoch 50/150\n",
            "52/52 [==============================] - 0s 2ms/step - loss: 0.5654 - accuracy: 0.7086 - val_loss: 0.5811 - val_accuracy: 0.6654\n",
            "Epoch 51/150\n",
            "52/52 [==============================] - 0s 2ms/step - loss: 0.5586 - accuracy: 0.7181 - val_loss: 0.5630 - val_accuracy: 0.7165\n",
            "Epoch 52/150\n",
            "52/52 [==============================] - 0s 3ms/step - loss: 0.5264 - accuracy: 0.7430 - val_loss: 0.5590 - val_accuracy: 0.7205\n",
            "Epoch 53/150\n",
            "52/52 [==============================] - 0s 3ms/step - loss: 0.5693 - accuracy: 0.7367 - val_loss: 0.5646 - val_accuracy: 0.7205\n",
            "Epoch 54/150\n",
            "52/52 [==============================] - 0s 3ms/step - loss: 0.5374 - accuracy: 0.7660 - val_loss: 0.5706 - val_accuracy: 0.6929\n",
            "Epoch 55/150\n",
            "52/52 [==============================] - 0s 2ms/step - loss: 0.5429 - accuracy: 0.7350 - val_loss: 0.5946 - val_accuracy: 0.6693\n",
            "Epoch 56/150\n",
            "52/52 [==============================] - 0s 3ms/step - loss: 0.5555 - accuracy: 0.7387 - val_loss: 0.5581 - val_accuracy: 0.7165\n",
            "Epoch 57/150\n",
            "52/52 [==============================] - 0s 3ms/step - loss: 0.5162 - accuracy: 0.7681 - val_loss: 0.5562 - val_accuracy: 0.7244\n",
            "Epoch 58/150\n",
            "52/52 [==============================] - 0s 2ms/step - loss: 0.5132 - accuracy: 0.7522 - val_loss: 0.5637 - val_accuracy: 0.7205\n",
            "Epoch 59/150\n",
            "52/52 [==============================] - 0s 2ms/step - loss: 0.5511 - accuracy: 0.7254 - val_loss: 0.5600 - val_accuracy: 0.6969\n",
            "Epoch 60/150\n",
            "52/52 [==============================] - 0s 2ms/step - loss: 0.5412 - accuracy: 0.7348 - val_loss: 0.5549 - val_accuracy: 0.7087\n",
            "Epoch 61/150\n",
            "52/52 [==============================] - 0s 2ms/step - loss: 0.5557 - accuracy: 0.7423 - val_loss: 0.5582 - val_accuracy: 0.7244\n",
            "Epoch 62/150\n",
            "52/52 [==============================] - 0s 2ms/step - loss: 0.5529 - accuracy: 0.7423 - val_loss: 0.5552 - val_accuracy: 0.7165\n",
            "Epoch 63/150\n",
            "52/52 [==============================] - 0s 3ms/step - loss: 0.5375 - accuracy: 0.7595 - val_loss: 0.5680 - val_accuracy: 0.7008\n",
            "Epoch 64/150\n",
            "52/52 [==============================] - 0s 3ms/step - loss: 0.5836 - accuracy: 0.6883 - val_loss: 0.5543 - val_accuracy: 0.7402\n",
            "Epoch 65/150\n",
            "52/52 [==============================] - 0s 2ms/step - loss: 0.5548 - accuracy: 0.7344 - val_loss: 0.5534 - val_accuracy: 0.7283\n",
            "Epoch 66/150\n",
            "52/52 [==============================] - 0s 2ms/step - loss: 0.5375 - accuracy: 0.7440 - val_loss: 0.5541 - val_accuracy: 0.7126\n",
            "Epoch 67/150\n",
            "52/52 [==============================] - 0s 2ms/step - loss: 0.5238 - accuracy: 0.7547 - val_loss: 0.5505 - val_accuracy: 0.7244\n",
            "Epoch 68/150\n",
            "52/52 [==============================] - 0s 2ms/step - loss: 0.5059 - accuracy: 0.7855 - val_loss: 0.5569 - val_accuracy: 0.7165\n",
            "Epoch 69/150\n",
            "52/52 [==============================] - 0s 3ms/step - loss: 0.5515 - accuracy: 0.7273 - val_loss: 0.5554 - val_accuracy: 0.7165\n",
            "Epoch 70/150\n",
            "52/52 [==============================] - 0s 2ms/step - loss: 0.5355 - accuracy: 0.7500 - val_loss: 0.5513 - val_accuracy: 0.7205\n",
            "Epoch 71/150\n",
            "52/52 [==============================] - 0s 2ms/step - loss: 0.5497 - accuracy: 0.7189 - val_loss: 0.5588 - val_accuracy: 0.7244\n",
            "Epoch 72/150\n",
            "52/52 [==============================] - 0s 3ms/step - loss: 0.5042 - accuracy: 0.7714 - val_loss: 0.5597 - val_accuracy: 0.7126\n",
            "Epoch 73/150\n",
            "52/52 [==============================] - 0s 3ms/step - loss: 0.5250 - accuracy: 0.7495 - val_loss: 0.5617 - val_accuracy: 0.6850\n",
            "Epoch 74/150\n",
            "52/52 [==============================] - 0s 2ms/step - loss: 0.5483 - accuracy: 0.7179 - val_loss: 0.5590 - val_accuracy: 0.7008\n",
            "Epoch 75/150\n",
            "52/52 [==============================] - 0s 3ms/step - loss: 0.5228 - accuracy: 0.7576 - val_loss: 0.5517 - val_accuracy: 0.7362\n",
            "Epoch 76/150\n",
            "52/52 [==============================] - 0s 2ms/step - loss: 0.5197 - accuracy: 0.7502 - val_loss: 0.5446 - val_accuracy: 0.7323\n",
            "Epoch 77/150\n",
            "52/52 [==============================] - 0s 2ms/step - loss: 0.5077 - accuracy: 0.7801 - val_loss: 0.5543 - val_accuracy: 0.7205\n",
            "Epoch 78/150\n",
            "52/52 [==============================] - 0s 2ms/step - loss: 0.5273 - accuracy: 0.7724 - val_loss: 0.5444 - val_accuracy: 0.7283\n",
            "Epoch 79/150\n",
            "52/52 [==============================] - 0s 2ms/step - loss: 0.5318 - accuracy: 0.7453 - val_loss: 0.5412 - val_accuracy: 0.7283\n",
            "Epoch 80/150\n",
            "52/52 [==============================] - 0s 2ms/step - loss: 0.4960 - accuracy: 0.7581 - val_loss: 0.5451 - val_accuracy: 0.7441\n",
            "Epoch 81/150\n",
            "52/52 [==============================] - 0s 2ms/step - loss: 0.5185 - accuracy: 0.7293 - val_loss: 0.5405 - val_accuracy: 0.7402\n",
            "Epoch 82/150\n",
            "52/52 [==============================] - 0s 2ms/step - loss: 0.5193 - accuracy: 0.7675 - val_loss: 0.5467 - val_accuracy: 0.7165\n",
            "Epoch 83/150\n",
            "52/52 [==============================] - 0s 2ms/step - loss: 0.5146 - accuracy: 0.7544 - val_loss: 0.5860 - val_accuracy: 0.7205\n",
            "Epoch 84/150\n",
            "52/52 [==============================] - 0s 2ms/step - loss: 0.5662 - accuracy: 0.7082 - val_loss: 0.5473 - val_accuracy: 0.7283\n",
            "Epoch 85/150\n",
            "52/52 [==============================] - 0s 2ms/step - loss: 0.5181 - accuracy: 0.7624 - val_loss: 0.5439 - val_accuracy: 0.7441\n",
            "Epoch 86/150\n",
            "52/52 [==============================] - 0s 2ms/step - loss: 0.5567 - accuracy: 0.7240 - val_loss: 0.5361 - val_accuracy: 0.7244\n",
            "Epoch 87/150\n",
            "52/52 [==============================] - 0s 3ms/step - loss: 0.5360 - accuracy: 0.7427 - val_loss: 0.5415 - val_accuracy: 0.7165\n",
            "Epoch 88/150\n",
            "52/52 [==============================] - 0s 3ms/step - loss: 0.5279 - accuracy: 0.7487 - val_loss: 0.5455 - val_accuracy: 0.7362\n",
            "Epoch 89/150\n",
            "52/52 [==============================] - 0s 2ms/step - loss: 0.4817 - accuracy: 0.7522 - val_loss: 0.5420 - val_accuracy: 0.7283\n",
            "Epoch 90/150\n",
            "52/52 [==============================] - 0s 3ms/step - loss: 0.5493 - accuracy: 0.7158 - val_loss: 0.5782 - val_accuracy: 0.7362\n",
            "Epoch 91/150\n",
            "52/52 [==============================] - 0s 2ms/step - loss: 0.5803 - accuracy: 0.7090 - val_loss: 0.5503 - val_accuracy: 0.7205\n",
            "Epoch 92/150\n",
            "52/52 [==============================] - 0s 3ms/step - loss: 0.5293 - accuracy: 0.7543 - val_loss: 0.5335 - val_accuracy: 0.7480\n",
            "Epoch 93/150\n",
            "52/52 [==============================] - 0s 3ms/step - loss: 0.5021 - accuracy: 0.7744 - val_loss: 0.5402 - val_accuracy: 0.7441\n",
            "Epoch 94/150\n",
            "52/52 [==============================] - 0s 3ms/step - loss: 0.5354 - accuracy: 0.7545 - val_loss: 0.5376 - val_accuracy: 0.7402\n",
            "Epoch 95/150\n",
            "52/52 [==============================] - 0s 2ms/step - loss: 0.5192 - accuracy: 0.7108 - val_loss: 0.5347 - val_accuracy: 0.7402\n",
            "Epoch 96/150\n",
            "52/52 [==============================] - 0s 2ms/step - loss: 0.5107 - accuracy: 0.7489 - val_loss: 0.5405 - val_accuracy: 0.7165\n",
            "Epoch 97/150\n",
            "52/52 [==============================] - 0s 2ms/step - loss: 0.5228 - accuracy: 0.7365 - val_loss: 0.5571 - val_accuracy: 0.7126\n",
            "Epoch 98/150\n",
            "52/52 [==============================] - 0s 2ms/step - loss: 0.5172 - accuracy: 0.7403 - val_loss: 0.5366 - val_accuracy: 0.7559\n",
            "Epoch 99/150\n",
            "52/52 [==============================] - 0s 2ms/step - loss: 0.4676 - accuracy: 0.8026 - val_loss: 0.5305 - val_accuracy: 0.7480\n",
            "Epoch 100/150\n",
            "52/52 [==============================] - 0s 2ms/step - loss: 0.4970 - accuracy: 0.7762 - val_loss: 0.5324 - val_accuracy: 0.7441\n",
            "Epoch 101/150\n",
            "52/52 [==============================] - 0s 3ms/step - loss: 0.5097 - accuracy: 0.7479 - val_loss: 0.5375 - val_accuracy: 0.7283\n",
            "Epoch 102/150\n",
            "52/52 [==============================] - 0s 3ms/step - loss: 0.4993 - accuracy: 0.7726 - val_loss: 0.5316 - val_accuracy: 0.7480\n",
            "Epoch 103/150\n",
            "52/52 [==============================] - 0s 3ms/step - loss: 0.5135 - accuracy: 0.7439 - val_loss: 0.5285 - val_accuracy: 0.7441\n",
            "Epoch 104/150\n",
            "52/52 [==============================] - 0s 2ms/step - loss: 0.5472 - accuracy: 0.7061 - val_loss: 0.5306 - val_accuracy: 0.7480\n",
            "Epoch 105/150\n",
            "52/52 [==============================] - 0s 3ms/step - loss: 0.4918 - accuracy: 0.7564 - val_loss: 0.5397 - val_accuracy: 0.7283\n",
            "Epoch 106/150\n",
            "52/52 [==============================] - 0s 2ms/step - loss: 0.4979 - accuracy: 0.7635 - val_loss: 0.5334 - val_accuracy: 0.7520\n",
            "Epoch 107/150\n",
            "52/52 [==============================] - 0s 3ms/step - loss: 0.4756 - accuracy: 0.7865 - val_loss: 0.5430 - val_accuracy: 0.7205\n",
            "Epoch 108/150\n",
            "52/52 [==============================] - 0s 2ms/step - loss: 0.5721 - accuracy: 0.7070 - val_loss: 0.5242 - val_accuracy: 0.7480\n",
            "Epoch 109/150\n",
            "52/52 [==============================] - 0s 2ms/step - loss: 0.5117 - accuracy: 0.7453 - val_loss: 0.5296 - val_accuracy: 0.7441\n",
            "Epoch 110/150\n",
            "52/52 [==============================] - 0s 3ms/step - loss: 0.5216 - accuracy: 0.7304 - val_loss: 0.5301 - val_accuracy: 0.7402\n",
            "Epoch 111/150\n",
            "52/52 [==============================] - 0s 2ms/step - loss: 0.5088 - accuracy: 0.7505 - val_loss: 0.5231 - val_accuracy: 0.7362\n",
            "Epoch 112/150\n",
            "52/52 [==============================] - 0s 2ms/step - loss: 0.5204 - accuracy: 0.7321 - val_loss: 0.5313 - val_accuracy: 0.7283\n",
            "Epoch 113/150\n",
            "52/52 [==============================] - 0s 2ms/step - loss: 0.5191 - accuracy: 0.7401 - val_loss: 0.5396 - val_accuracy: 0.7520\n",
            "Epoch 114/150\n",
            "52/52 [==============================] - 0s 2ms/step - loss: 0.5028 - accuracy: 0.7633 - val_loss: 0.5365 - val_accuracy: 0.7362\n",
            "Epoch 115/150\n",
            "52/52 [==============================] - 0s 2ms/step - loss: 0.5320 - accuracy: 0.7252 - val_loss: 0.5276 - val_accuracy: 0.7441\n",
            "Epoch 116/150\n",
            "52/52 [==============================] - 0s 3ms/step - loss: 0.5201 - accuracy: 0.7502 - val_loss: 0.5321 - val_accuracy: 0.7520\n",
            "Epoch 117/150\n",
            "52/52 [==============================] - 0s 2ms/step - loss: 0.4852 - accuracy: 0.7968 - val_loss: 0.5360 - val_accuracy: 0.7402\n",
            "Epoch 118/150\n",
            "52/52 [==============================] - 0s 3ms/step - loss: 0.5338 - accuracy: 0.7249 - val_loss: 0.5244 - val_accuracy: 0.7441\n",
            "Epoch 119/150\n",
            "52/52 [==============================] - 0s 3ms/step - loss: 0.5037 - accuracy: 0.7709 - val_loss: 0.5294 - val_accuracy: 0.7362\n",
            "Epoch 120/150\n",
            "52/52 [==============================] - 0s 3ms/step - loss: 0.5341 - accuracy: 0.7304 - val_loss: 0.5223 - val_accuracy: 0.7402\n",
            "Epoch 121/150\n",
            "52/52 [==============================] - 0s 3ms/step - loss: 0.5044 - accuracy: 0.7356 - val_loss: 0.5152 - val_accuracy: 0.7520\n",
            "Epoch 122/150\n",
            "52/52 [==============================] - 0s 2ms/step - loss: 0.4785 - accuracy: 0.7803 - val_loss: 0.5184 - val_accuracy: 0.7520\n",
            "Epoch 123/150\n",
            "52/52 [==============================] - 0s 3ms/step - loss: 0.5049 - accuracy: 0.7570 - val_loss: 0.5324 - val_accuracy: 0.7441\n",
            "Epoch 124/150\n",
            "52/52 [==============================] - 0s 2ms/step - loss: 0.5385 - accuracy: 0.7232 - val_loss: 0.5567 - val_accuracy: 0.7402\n",
            "Epoch 125/150\n",
            "52/52 [==============================] - 0s 3ms/step - loss: 0.5086 - accuracy: 0.7269 - val_loss: 0.5231 - val_accuracy: 0.7362\n",
            "Epoch 126/150\n",
            "52/52 [==============================] - 0s 3ms/step - loss: 0.5027 - accuracy: 0.7605 - val_loss: 0.5307 - val_accuracy: 0.7559\n",
            "Epoch 127/150\n",
            "52/52 [==============================] - 0s 2ms/step - loss: 0.5269 - accuracy: 0.7368 - val_loss: 0.5214 - val_accuracy: 0.7598\n",
            "Epoch 128/150\n",
            "52/52 [==============================] - 0s 2ms/step - loss: 0.5149 - accuracy: 0.7648 - val_loss: 0.5382 - val_accuracy: 0.7362\n",
            "Epoch 129/150\n",
            "52/52 [==============================] - 0s 2ms/step - loss: 0.5514 - accuracy: 0.7423 - val_loss: 0.5152 - val_accuracy: 0.7717\n",
            "Epoch 130/150\n",
            "52/52 [==============================] - 0s 2ms/step - loss: 0.4875 - accuracy: 0.7513 - val_loss: 0.5195 - val_accuracy: 0.7480\n",
            "Epoch 131/150\n",
            "52/52 [==============================] - 0s 3ms/step - loss: 0.5081 - accuracy: 0.7590 - val_loss: 0.5485 - val_accuracy: 0.7244\n",
            "Epoch 132/150\n",
            "52/52 [==============================] - 0s 3ms/step - loss: 0.5089 - accuracy: 0.7339 - val_loss: 0.5119 - val_accuracy: 0.7598\n",
            "Epoch 133/150\n",
            "52/52 [==============================] - 0s 2ms/step - loss: 0.5095 - accuracy: 0.7513 - val_loss: 0.5528 - val_accuracy: 0.7323\n",
            "Epoch 134/150\n",
            "52/52 [==============================] - 0s 3ms/step - loss: 0.5134 - accuracy: 0.7468 - val_loss: 0.5135 - val_accuracy: 0.7598\n",
            "Epoch 135/150\n",
            "52/52 [==============================] - 0s 2ms/step - loss: 0.4560 - accuracy: 0.7866 - val_loss: 0.5247 - val_accuracy: 0.7638\n",
            "Epoch 136/150\n",
            "52/52 [==============================] - 0s 2ms/step - loss: 0.5210 - accuracy: 0.7099 - val_loss: 0.5161 - val_accuracy: 0.7402\n",
            "Epoch 137/150\n",
            "52/52 [==============================] - 0s 2ms/step - loss: 0.4792 - accuracy: 0.7529 - val_loss: 0.5339 - val_accuracy: 0.7165\n",
            "Epoch 138/150\n",
            "52/52 [==============================] - 0s 3ms/step - loss: 0.5070 - accuracy: 0.7308 - val_loss: 0.5133 - val_accuracy: 0.7480\n",
            "Epoch 139/150\n",
            "52/52 [==============================] - 0s 2ms/step - loss: 0.5100 - accuracy: 0.7239 - val_loss: 0.5143 - val_accuracy: 0.7559\n",
            "Epoch 140/150\n",
            "52/52 [==============================] - 0s 3ms/step - loss: 0.4761 - accuracy: 0.7710 - val_loss: 0.5123 - val_accuracy: 0.7638\n",
            "Epoch 141/150\n",
            "52/52 [==============================] - 0s 3ms/step - loss: 0.4789 - accuracy: 0.7538 - val_loss: 0.5240 - val_accuracy: 0.7441\n",
            "Epoch 142/150\n",
            "52/52 [==============================] - 0s 2ms/step - loss: 0.4817 - accuracy: 0.7816 - val_loss: 0.5155 - val_accuracy: 0.7598\n",
            "Epoch 143/150\n",
            "52/52 [==============================] - 0s 2ms/step - loss: 0.4935 - accuracy: 0.7453 - val_loss: 0.5221 - val_accuracy: 0.7480\n",
            "Epoch 144/150\n",
            "52/52 [==============================] - 0s 2ms/step - loss: 0.5213 - accuracy: 0.7190 - val_loss: 0.5144 - val_accuracy: 0.7717\n",
            "Epoch 145/150\n",
            "52/52 [==============================] - 0s 3ms/step - loss: 0.4780 - accuracy: 0.7544 - val_loss: 0.5115 - val_accuracy: 0.7717\n",
            "Epoch 146/150\n",
            "52/52 [==============================] - 0s 2ms/step - loss: 0.4963 - accuracy: 0.7654 - val_loss: 0.5091 - val_accuracy: 0.7717\n",
            "Epoch 147/150\n",
            "52/52 [==============================] - 0s 2ms/step - loss: 0.4972 - accuracy: 0.7481 - val_loss: 0.5356 - val_accuracy: 0.7480\n",
            "Epoch 148/150\n",
            "52/52 [==============================] - 0s 3ms/step - loss: 0.4685 - accuracy: 0.7899 - val_loss: 0.5072 - val_accuracy: 0.7756\n",
            "Epoch 149/150\n",
            "52/52 [==============================] - 0s 3ms/step - loss: 0.4731 - accuracy: 0.7643 - val_loss: 0.5073 - val_accuracy: 0.7717\n",
            "Epoch 150/150\n",
            "52/52 [==============================] - 0s 2ms/step - loss: 0.4859 - accuracy: 0.7407 - val_loss: 0.5580 - val_accuracy: 0.7283\n"
          ],
          "name": "stdout"
        },
        {
          "output_type": "execute_result",
          "data": {
            "text/plain": [
              "<keras.callbacks.History at 0x7f7768a265d0>"
            ]
          },
          "metadata": {
            "tags": []
          },
          "execution_count": 51
        }
      ]
    },
    {
      "cell_type": "code",
      "metadata": {
        "ExecuteTime": {
          "end_time": "2021-02-09T08:43:37.551736Z",
          "start_time": "2021-02-09T08:43:37.504864Z"
        },
        "colab": {
          "base_uri": "https://localhost:8080/"
        },
        "id": "XtN9y2Dpd_-P",
        "outputId": "eb5128cd-c7dd-479d-b008-730921c916d0"
      },
      "source": [
        "# evaluate the model\n",
        "scores = model.evaluate(X, Y)\n",
        "print(\"%s: %.2f%%\" % (model.metrics_names[1], scores[1]*100)) "
      ],
      "execution_count": 52,
      "outputs": [
        {
          "output_type": "stream",
          "text": [
            "24/24 [==============================] - 0s 1ms/step - loss: 0.5247 - accuracy: 0.7474\n",
            "accuracy: 74.74%\n"
          ],
          "name": "stdout"
        }
      ]
    },
    {
      "cell_type": "code",
      "metadata": {
        "ExecuteTime": {
          "end_time": "2021-02-09T08:43:40.838711Z",
          "start_time": "2021-02-09T08:43:40.830771Z"
        },
        "colab": {
          "base_uri": "https://localhost:8080/"
        },
        "id": "vCi5fQrTd_-Q",
        "outputId": "c9eafe3d-5b39-41a9-a730-6e182d9261c0"
      },
      "source": [
        "# Visualize training history\n",
        "\n",
        "# list all data in history\n",
        "model.history.history.keys()\n"
      ],
      "execution_count": 57,
      "outputs": [
        {
          "output_type": "execute_result",
          "data": {
            "text/plain": [
              "dict_keys([])"
            ]
          },
          "metadata": {
            "tags": []
          },
          "execution_count": 57
        }
      ]
    },
    {
      "cell_type": "code",
      "metadata": {
        "ExecuteTime": {
          "end_time": "2021-02-09T08:44:17.907593Z",
          "start_time": "2021-02-09T08:44:17.129960Z"
        },
        "colab": {
          "base_uri": "https://localhost:8080/",
          "height": 238
        },
        "id": "UbrkOA7id_-Q",
        "outputId": "18ea4b9e-a5b6-41e6-80de-1719aaf494b1"
      },
      "source": [
        "# summarize history for accuracy\n",
        "import matplotlib.pyplot as plt\n",
        "\n",
        "plt.plot(model.history.history['acc'])\n",
        "plt.plot(model.history.history['val_acc'])\n",
        "plt.title('model accuracy')\n",
        "plt.ylabel('accuracy')\n",
        "plt.xlabel('epoch')\n",
        "plt.legend(['train', 'test'], loc='upper left')\n",
        "plt.show()\n",
        "# summarize history for loss\n",
        "plt.plot(model.history.history['loss'])\n",
        "plt.plot(model.history.history['val_loss'])\n",
        "plt.title('model loss') \n",
        "plt.ylabel('loss')\n",
        "plt.xlabel('epoch')\n",
        "plt.legend(['train', 'test'], loc='upper left')\n",
        "plt.show()\n"
      ],
      "execution_count": 56,
      "outputs": [
        {
          "output_type": "error",
          "ename": "KeyError",
          "evalue": "ignored",
          "traceback": [
            "\u001b[0;31m---------------------------------------------------------------------------\u001b[0m",
            "\u001b[0;31mKeyError\u001b[0m                                  Traceback (most recent call last)",
            "\u001b[0;32m<ipython-input-56-87754e75cb51>\u001b[0m in \u001b[0;36m<module>\u001b[0;34m()\u001b[0m\n\u001b[1;32m      2\u001b[0m \u001b[0;32mimport\u001b[0m \u001b[0mmatplotlib\u001b[0m\u001b[0;34m.\u001b[0m\u001b[0mpyplot\u001b[0m \u001b[0;32mas\u001b[0m \u001b[0mplt\u001b[0m\u001b[0;34m\u001b[0m\u001b[0;34m\u001b[0m\u001b[0m\n\u001b[1;32m      3\u001b[0m \u001b[0;34m\u001b[0m\u001b[0m\n\u001b[0;32m----> 4\u001b[0;31m \u001b[0mplt\u001b[0m\u001b[0;34m.\u001b[0m\u001b[0mplot\u001b[0m\u001b[0;34m(\u001b[0m\u001b[0mmodel\u001b[0m\u001b[0;34m.\u001b[0m\u001b[0mhistory\u001b[0m\u001b[0;34m.\u001b[0m\u001b[0mhistory\u001b[0m\u001b[0;34m[\u001b[0m\u001b[0;34m'acc'\u001b[0m\u001b[0;34m]\u001b[0m\u001b[0;34m)\u001b[0m\u001b[0;34m\u001b[0m\u001b[0;34m\u001b[0m\u001b[0m\n\u001b[0m\u001b[1;32m      5\u001b[0m \u001b[0mplt\u001b[0m\u001b[0;34m.\u001b[0m\u001b[0mplot\u001b[0m\u001b[0;34m(\u001b[0m\u001b[0mmodel\u001b[0m\u001b[0;34m.\u001b[0m\u001b[0mhistory\u001b[0m\u001b[0;34m.\u001b[0m\u001b[0mhistory\u001b[0m\u001b[0;34m[\u001b[0m\u001b[0;34m'val_acc'\u001b[0m\u001b[0;34m]\u001b[0m\u001b[0;34m)\u001b[0m\u001b[0;34m\u001b[0m\u001b[0;34m\u001b[0m\u001b[0m\n\u001b[1;32m      6\u001b[0m \u001b[0mplt\u001b[0m\u001b[0;34m.\u001b[0m\u001b[0mtitle\u001b[0m\u001b[0;34m(\u001b[0m\u001b[0;34m'model accuracy'\u001b[0m\u001b[0;34m)\u001b[0m\u001b[0;34m\u001b[0m\u001b[0;34m\u001b[0m\u001b[0m\n",
            "\u001b[0;31mKeyError\u001b[0m: 'acc'"
          ]
        }
      ]
    },
    {
      "cell_type": "code",
      "metadata": {
        "id": "w27LKcEGd_-S"
      },
      "source": [
        ""
      ],
      "execution_count": null,
      "outputs": []
    }
  ]
}