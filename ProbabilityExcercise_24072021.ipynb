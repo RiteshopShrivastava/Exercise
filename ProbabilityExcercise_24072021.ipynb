{
  "nbformat": 4,
  "nbformat_minor": 0,
  "metadata": {
    "colab": {
      "name": "ProbabilityExcercise_24072021.ipynb",
      "provenance": [],
      "collapsed_sections": [],
      "authorship_tag": "ABX9TyMQWR/BbEV98meRkH5na3K7",
      "include_colab_link": true
    },
    "kernelspec": {
      "name": "python3",
      "display_name": "Python 3"
    },
    "language_info": {
      "name": "python"
    }
  },
  "cells": [
    {
      "cell_type": "markdown",
      "metadata": {
        "id": "view-in-github",
        "colab_type": "text"
      },
      "source": [
        "<a href=\"https://colab.research.google.com/github/RiteshopShrivastava/Exercise/blob/main/ProbabilityExcercise_24072021.ipynb\" target=\"_parent\"><img src=\"https://colab.research.google.com/assets/colab-badge.svg\" alt=\"Open In Colab\"/></a>"
      ]
    },
    {
      "cell_type": "markdown",
      "metadata": {
        "id": "kZZcpkISXOsL"
      },
      "source": [
        "Find the probability that a normally distributed random variable has  a mean  of 60 & standard deviation 10 and we want to find the probability that X is less than 70"
      ]
    },
    {
      "cell_type": "code",
      "metadata": {
        "colab": {
          "base_uri": "https://localhost:8080/"
        },
        "id": "kzRTa6wRKM3e",
        "outputId": "5bedf29e-5cd0-4c4e-c349-04e83f915db4"
      },
      "source": [
        "from scipy import stats\n",
        "stats.norm.cdf(70,loc=60,scale=10) # probability of less tha 70 marks"
      ],
      "execution_count": null,
      "outputs": [
        {
          "output_type": "execute_result",
          "data": {
            "text/plain": [
              "0.8413447460685429"
            ]
          },
          "metadata": {
            "tags": []
          },
          "execution_count": 1
        }
      ]
    },
    {
      "cell_type": "code",
      "metadata": {
        "colab": {
          "base_uri": "https://localhost:8080/"
        },
        "id": "gLxFX3BRKfPt",
        "outputId": "2f9c4ac3-0c0a-4610-c268-3a5ee750e24a"
      },
      "source": [
        "stats.norm.cdf(680,loc=711,scale=29) # find the probability of less tha 680, mean= 711 (loc), SD=29 (scale)"
      ],
      "execution_count": null,
      "outputs": [
        {
          "output_type": "execute_result",
          "data": {
            "text/plain": [
              "0.14254260383881612"
            ]
          },
          "metadata": {
            "tags": []
          },
          "execution_count": 2
        }
      ]
    },
    {
      "cell_type": "code",
      "metadata": {
        "colab": {
          "base_uri": "https://localhost:8080/"
        },
        "id": "kHIEUvTUKfTL",
        "outputId": "67aa62c7-35a6-404a-a2af-eb47af005148"
      },
      "source": [
        "Prob = 1- stats.norm.cdf(720,711,29) # probability for p(X > 720), when mean= 711, SD=29\n",
        "\n",
        "Prob"
      ],
      "execution_count": null,
      "outputs": [
        {
          "output_type": "execute_result",
          "data": {
            "text/plain": [
              "0.37814937265194704"
            ]
          },
          "metadata": {
            "tags": []
          },
          "execution_count": 3
        }
      ]
    },
    {
      "cell_type": "code",
      "metadata": {
        "colab": {
          "base_uri": "https://localhost:8080/"
        },
        "id": "snPsIlUPKfUr",
        "outputId": "c868fb74-f217-45fe-badf-07b6bb3ef840"
      },
      "source": [
        "prob1 = stats.norm.cdf(730,loc=711,scale=29)- stats.norm.cdf(650,711,29) # probability for p(650 <= X <= 730),when mean= 711, SD=29\n",
        "\n",
        "#prob2 = stats.norm.cdf(650,711,29)\n",
        "#Finalprob =prob1-prob2\n",
        "#Finalprob\n",
        "prob1"
      ],
      "execution_count": null,
      "outputs": [
        {
          "output_type": "execute_result",
          "data": {
            "text/plain": [
              "0.7261083222423672"
            ]
          },
          "metadata": {
            "tags": []
          },
          "execution_count": 4
        }
      ]
    },
    {
      "cell_type": "code",
      "metadata": {
        "id": "P-pRC8HkKfWr"
      },
      "source": [
        ""
      ],
      "execution_count": null,
      "outputs": []
    },
    {
      "cell_type": "code",
      "metadata": {
        "id": "SabhWaqiKfZT"
      },
      "source": [
        ""
      ],
      "execution_count": null,
      "outputs": []
    },
    {
      "cell_type": "code",
      "metadata": {
        "id": "M0x7ggUJKfb-"
      },
      "source": [
        ""
      ],
      "execution_count": null,
      "outputs": []
    },
    {
      "cell_type": "code",
      "metadata": {
        "id": "106P8j1TKffa"
      },
      "source": [
        ""
      ],
      "execution_count": null,
      "outputs": []
    }
  ]
}