{
  "nbformat": 4,
  "nbformat_minor": 0,
  "metadata": {
    "kernelspec": {
      "display_name": "Python 3",
      "language": "python",
      "name": "python3"
    },
    "language_info": {
      "codemirror_mode": {
        "name": "ipython",
        "version": 3
      },
      "file_extension": ".py",
      "mimetype": "text/x-python",
      "name": "python",
      "nbconvert_exporter": "python",
      "pygments_lexer": "ipython3",
      "version": "3.7.4"
    },
    "colab": {
      "name": "2_NN_Hyperparameter_Tuning.ipynb",
      "provenance": [],
      "collapsed_sections": [],
      "include_colab_link": true
    }
  },
  "cells": [
    {
      "cell_type": "markdown",
      "metadata": {
        "id": "view-in-github",
        "colab_type": "text"
      },
      "source": [
        "<a href=\"https://colab.research.google.com/github/RiteshopShrivastava/Python/blob/main/2_NN_Hyperparameter_Tuning.ipynb\" target=\"_parent\"><img src=\"https://colab.research.google.com/assets/colab-badge.svg\" alt=\"Open In Colab\"/></a>"
      ]
    },
    {
      "cell_type": "code",
      "metadata": {
        "id": "37z_A6moF2YN"
      },
      "source": [
        "# Importing the necessary packages\n",
        "import pandas as pd\n",
        "import numpy as np\n",
        "import keras\n",
        "import tensorflow\n",
        "from sklearn.preprocessing import StandardScaler"
      ],
      "execution_count": 8,
      "outputs": []
    },
    {
      "cell_type": "code",
      "metadata": {
        "id": "0hLfVUZjF2YN"
      },
      "source": [
        "# load pima indians dataset\n",
        "dataset = np.loadtxt(\"pima-indians-diabetes.csv\", delimiter=\",\")"
      ],
      "execution_count": 9,
      "outputs": []
    },
    {
      "cell_type": "code",
      "metadata": {
        "id": "Gyflyd1DF2YN"
      },
      "source": [
        "X = dataset[:,0:8]\n",
        "y = dataset[:,8]"
      ],
      "execution_count": 10,
      "outputs": []
    },
    {
      "cell_type": "code",
      "metadata": {
        "id": "k6oZWHwMF2YN",
        "colab": {
          "base_uri": "https://localhost:8080/"
        },
        "outputId": "3d33c0d0-aa08-4183-c5ff-ac6f7628dc65"
      },
      "source": [
        "# Standardization\n",
        "a = StandardScaler()\n",
        "a.fit(X)\n",
        "X_standardized = a.transform(X)\n",
        "X_standardized"
      ],
      "execution_count": 11,
      "outputs": [
        {
          "output_type": "execute_result",
          "data": {
            "text/plain": [
              "array([[ 0.63994726,  0.84832379,  0.14964075, ...,  0.20401277,\n",
              "         0.46849198,  1.4259954 ],\n",
              "       [-0.84488505, -1.12339636, -0.16054575, ..., -0.68442195,\n",
              "        -0.36506078, -0.19067191],\n",
              "       [ 1.23388019,  1.94372388, -0.26394125, ..., -1.10325546,\n",
              "         0.60439732, -0.10558415],\n",
              "       ...,\n",
              "       [ 0.3429808 ,  0.00330087,  0.14964075, ..., -0.73518964,\n",
              "        -0.68519336, -0.27575966],\n",
              "       [-0.84488505,  0.1597866 , -0.47073225, ..., -0.24020459,\n",
              "        -0.37110101,  1.17073215],\n",
              "       [-0.84488505, -0.8730192 ,  0.04624525, ..., -0.20212881,\n",
              "        -0.47378505, -0.87137393]])"
            ]
          },
          "metadata": {},
          "execution_count": 11
        }
      ]
    },
    {
      "cell_type": "code",
      "metadata": {
        "id": "w6Blt2-IF2YN",
        "colab": {
          "base_uri": "https://localhost:8080/",
          "height": 300
        },
        "outputId": "96a62b8d-1289-4982-c486-63714909a4ee"
      },
      "source": [
        "pd.DataFrame(X_standardized).describe()"
      ],
      "execution_count": null,
      "outputs": [
        {
          "output_type": "execute_result",
          "data": {
            "text/html": [
              "<div>\n",
              "<style scoped>\n",
              "    .dataframe tbody tr th:only-of-type {\n",
              "        vertical-align: middle;\n",
              "    }\n",
              "\n",
              "    .dataframe tbody tr th {\n",
              "        vertical-align: top;\n",
              "    }\n",
              "\n",
              "    .dataframe thead th {\n",
              "        text-align: right;\n",
              "    }\n",
              "</style>\n",
              "<table border=\"1\" class=\"dataframe\">\n",
              "  <thead>\n",
              "    <tr style=\"text-align: right;\">\n",
              "      <th></th>\n",
              "      <th>0</th>\n",
              "      <th>1</th>\n",
              "      <th>2</th>\n",
              "      <th>3</th>\n",
              "      <th>4</th>\n",
              "      <th>5</th>\n",
              "      <th>6</th>\n",
              "      <th>7</th>\n",
              "    </tr>\n",
              "  </thead>\n",
              "  <tbody>\n",
              "    <tr>\n",
              "      <th>count</th>\n",
              "      <td>7.680000e+02</td>\n",
              "      <td>7.680000e+02</td>\n",
              "      <td>7.680000e+02</td>\n",
              "      <td>7.680000e+02</td>\n",
              "      <td>7.680000e+02</td>\n",
              "      <td>7.680000e+02</td>\n",
              "      <td>7.680000e+02</td>\n",
              "      <td>7.680000e+02</td>\n",
              "    </tr>\n",
              "    <tr>\n",
              "      <th>mean</th>\n",
              "      <td>-7.748432e-17</td>\n",
              "      <td>3.614007e-18</td>\n",
              "      <td>-1.327244e-17</td>\n",
              "      <td>7.762888e-17</td>\n",
              "      <td>-5.493291e-17</td>\n",
              "      <td>2.972738e-15</td>\n",
              "      <td>1.924387e-15</td>\n",
              "      <td>2.192980e-16</td>\n",
              "    </tr>\n",
              "    <tr>\n",
              "      <th>std</th>\n",
              "      <td>1.000652e+00</td>\n",
              "      <td>1.000652e+00</td>\n",
              "      <td>1.000652e+00</td>\n",
              "      <td>1.000652e+00</td>\n",
              "      <td>1.000652e+00</td>\n",
              "      <td>1.000652e+00</td>\n",
              "      <td>1.000652e+00</td>\n",
              "      <td>1.000652e+00</td>\n",
              "    </tr>\n",
              "    <tr>\n",
              "      <th>min</th>\n",
              "      <td>-1.141852e+00</td>\n",
              "      <td>-3.783654e+00</td>\n",
              "      <td>-3.572597e+00</td>\n",
              "      <td>-1.288212e+00</td>\n",
              "      <td>-6.928906e-01</td>\n",
              "      <td>-4.060474e+00</td>\n",
              "      <td>-1.189553e+00</td>\n",
              "      <td>-1.041549e+00</td>\n",
              "    </tr>\n",
              "    <tr>\n",
              "      <th>25%</th>\n",
              "      <td>-8.448851e-01</td>\n",
              "      <td>-6.852363e-01</td>\n",
              "      <td>-3.673367e-01</td>\n",
              "      <td>-1.288212e+00</td>\n",
              "      <td>-6.928906e-01</td>\n",
              "      <td>-5.955785e-01</td>\n",
              "      <td>-6.889685e-01</td>\n",
              "      <td>-7.862862e-01</td>\n",
              "    </tr>\n",
              "    <tr>\n",
              "      <th>50%</th>\n",
              "      <td>-2.509521e-01</td>\n",
              "      <td>-1.218877e-01</td>\n",
              "      <td>1.496408e-01</td>\n",
              "      <td>1.545332e-01</td>\n",
              "      <td>-4.280622e-01</td>\n",
              "      <td>9.419788e-04</td>\n",
              "      <td>-3.001282e-01</td>\n",
              "      <td>-3.608474e-01</td>\n",
              "    </tr>\n",
              "    <tr>\n",
              "      <th>75%</th>\n",
              "      <td>6.399473e-01</td>\n",
              "      <td>6.057709e-01</td>\n",
              "      <td>5.632228e-01</td>\n",
              "      <td>7.190857e-01</td>\n",
              "      <td>4.120079e-01</td>\n",
              "      <td>5.847705e-01</td>\n",
              "      <td>4.662269e-01</td>\n",
              "      <td>6.602056e-01</td>\n",
              "    </tr>\n",
              "    <tr>\n",
              "      <th>max</th>\n",
              "      <td>3.906578e+00</td>\n",
              "      <td>2.444478e+00</td>\n",
              "      <td>2.734528e+00</td>\n",
              "      <td>4.921866e+00</td>\n",
              "      <td>6.652839e+00</td>\n",
              "      <td>4.455807e+00</td>\n",
              "      <td>5.883565e+00</td>\n",
              "      <td>4.063716e+00</td>\n",
              "    </tr>\n",
              "  </tbody>\n",
              "</table>\n",
              "</div>"
            ],
            "text/plain": [
              "                  0             1  ...             6             7\n",
              "count  7.680000e+02  7.680000e+02  ...  7.680000e+02  7.680000e+02\n",
              "mean  -7.748432e-17  3.614007e-18  ...  1.924387e-15  2.192980e-16\n",
              "std    1.000652e+00  1.000652e+00  ...  1.000652e+00  1.000652e+00\n",
              "min   -1.141852e+00 -3.783654e+00  ... -1.189553e+00 -1.041549e+00\n",
              "25%   -8.448851e-01 -6.852363e-01  ... -6.889685e-01 -7.862862e-01\n",
              "50%   -2.509521e-01 -1.218877e-01  ... -3.001282e-01 -3.608474e-01\n",
              "75%    6.399473e-01  6.057709e-01  ...  4.662269e-01  6.602056e-01\n",
              "max    3.906578e+00  2.444478e+00  ...  5.883565e+00  4.063716e+00\n",
              "\n",
              "[8 rows x 8 columns]"
            ]
          },
          "metadata": {},
          "execution_count": 5
        }
      ]
    },
    {
      "cell_type": "markdown",
      "metadata": {
        "id": "J2gm0xQXF2YO"
      },
      "source": [
        "#### Tuning of Hyperparameters :- Batch Size and Epochs"
      ]
    },
    {
      "cell_type": "code",
      "metadata": {
        "id": "onyQQ7NoF2YO"
      },
      "source": [
        "# Importing the necessary packages\n",
        "from sklearn.model_selection import GridSearchCV, KFold\n",
        "from keras.models import Sequential\n",
        "from keras.layers import Dense\n",
        "from keras.wrappers.scikit_learn import KerasClassifier\n",
        "#from keras.optimizers import Adam\n",
        "from tensorflow.keras.optimizers import Adam, SGD, RMSprop"
      ],
      "execution_count": 13,
      "outputs": []
    },
    {
      "cell_type": "code",
      "metadata": {
        "id": "lxZu8i6mF2YO"
      },
      "source": [
        "# create model\n",
        "def create_model():\n",
        "    model = Sequential()\n",
        "    model.add(Dense(12, input_dim=8, kernel_initializer='uniform', activation='relu'))\n",
        "    model.add(Dense(8, kernel_initializer='uniform', activation='relu'))\n",
        "    model.add(Dense(1, kernel_initializer='uniform', activation='sigmoid'))\n",
        "    \n",
        "    adam=Adam(lr=0.01)\n",
        "    model.compile(loss='binary_crossentropy', optimizer=adam, metrics=['accuracy'])\n",
        "    return model"
      ],
      "execution_count": 14,
      "outputs": []
    },
    {
      "cell_type": "code",
      "metadata": {
        "id": "AX6zKQg3F2YO",
        "colab": {
          "base_uri": "https://localhost:8080/"
        },
        "outputId": "a53582a9-0b8e-4797-d368-e7050bbc9f82"
      },
      "source": [
        "# Create the model\n",
        "model = KerasClassifier(build_fn = create_model,verbose = 0)\n",
        "# Define the grid search parameters\n",
        "batch_size = [10,20,40]\n",
        "epochs = [10,50,100]\n",
        "# Make a dictionary of the grid search parameters\n",
        "param_grid = dict(batch_size = batch_size,epochs = epochs)\n",
        "# Build and fit the GridSearchCV\n",
        "grid = GridSearchCV(estimator = model,param_grid = param_grid,cv = KFold(),verbose = 10)\n",
        "grid_result = grid.fit(X_standardized,y)"
      ],
      "execution_count": 15,
      "outputs": [
        {
          "output_type": "stream",
          "name": "stdout",
          "text": [
            "Fitting 5 folds for each of 9 candidates, totalling 45 fits\n",
            "[CV] batch_size=10, epochs=10 ........................................\n"
          ]
        },
        {
          "output_type": "stream",
          "name": "stderr",
          "text": [
            "[Parallel(n_jobs=1)]: Using backend SequentialBackend with 1 concurrent workers.\n",
            "/usr/local/lib/python3.7/dist-packages/keras/optimizer_v2/optimizer_v2.py:356: UserWarning: The `lr` argument is deprecated, use `learning_rate` instead.\n",
            "  \"The `lr` argument is deprecated, use `learning_rate` instead.\")\n"
          ]
        },
        {
          "output_type": "stream",
          "name": "stdout",
          "text": [
            "[CV] ............ batch_size=10, epochs=10, score=0.727, total=   2.6s\n",
            "[CV] batch_size=10, epochs=10 ........................................\n"
          ]
        },
        {
          "output_type": "stream",
          "name": "stderr",
          "text": [
            "[Parallel(n_jobs=1)]: Done   1 out of   1 | elapsed:    2.6s remaining:    0.0s\n"
          ]
        },
        {
          "output_type": "stream",
          "name": "stdout",
          "text": [
            "[CV] ............ batch_size=10, epochs=10, score=0.701, total=   1.9s\n",
            "[CV] batch_size=10, epochs=10 ........................................\n"
          ]
        },
        {
          "output_type": "stream",
          "name": "stderr",
          "text": [
            "[Parallel(n_jobs=1)]: Done   2 out of   2 | elapsed:    4.5s remaining:    0.0s\n"
          ]
        },
        {
          "output_type": "stream",
          "name": "stdout",
          "text": [
            "[CV] ............ batch_size=10, epochs=10, score=0.747, total=   1.5s\n",
            "[CV] batch_size=10, epochs=10 ........................................\n"
          ]
        },
        {
          "output_type": "stream",
          "name": "stderr",
          "text": [
            "[Parallel(n_jobs=1)]: Done   3 out of   3 | elapsed:    6.0s remaining:    0.0s\n"
          ]
        },
        {
          "output_type": "stream",
          "name": "stdout",
          "text": [
            "[CV] ............ batch_size=10, epochs=10, score=0.843, total=   1.3s\n",
            "[CV] batch_size=10, epochs=10 ........................................\n"
          ]
        },
        {
          "output_type": "stream",
          "name": "stderr",
          "text": [
            "[Parallel(n_jobs=1)]: Done   4 out of   4 | elapsed:    7.3s remaining:    0.0s\n"
          ]
        },
        {
          "output_type": "stream",
          "name": "stdout",
          "text": [
            "[CV] ............ batch_size=10, epochs=10, score=0.745, total=   1.9s\n",
            "[CV] batch_size=10, epochs=50 ........................................\n"
          ]
        },
        {
          "output_type": "stream",
          "name": "stderr",
          "text": [
            "[Parallel(n_jobs=1)]: Done   5 out of   5 | elapsed:    9.2s remaining:    0.0s\n"
          ]
        },
        {
          "output_type": "stream",
          "name": "stdout",
          "text": [
            "[CV] ............ batch_size=10, epochs=50, score=0.727, total=   5.7s\n",
            "[CV] batch_size=10, epochs=50 ........................................\n"
          ]
        },
        {
          "output_type": "stream",
          "name": "stderr",
          "text": [
            "[Parallel(n_jobs=1)]: Done   6 out of   6 | elapsed:   14.9s remaining:    0.0s\n"
          ]
        },
        {
          "output_type": "stream",
          "name": "stdout",
          "text": [
            "[CV] ............ batch_size=10, epochs=50, score=0.714, total=   5.7s\n",
            "[CV] batch_size=10, epochs=50 ........................................\n"
          ]
        },
        {
          "output_type": "stream",
          "name": "stderr",
          "text": [
            "[Parallel(n_jobs=1)]: Done   7 out of   7 | elapsed:   20.6s remaining:    0.0s\n"
          ]
        },
        {
          "output_type": "stream",
          "name": "stdout",
          "text": [
            "[CV] ............ batch_size=10, epochs=50, score=0.630, total=   5.8s\n",
            "[CV] batch_size=10, epochs=50 ........................................\n"
          ]
        },
        {
          "output_type": "stream",
          "name": "stderr",
          "text": [
            "[Parallel(n_jobs=1)]: Done   8 out of   8 | elapsed:   26.4s remaining:    0.0s\n"
          ]
        },
        {
          "output_type": "stream",
          "name": "stdout",
          "text": [
            "[CV] ............ batch_size=10, epochs=50, score=0.784, total=   5.9s\n",
            "[CV] batch_size=10, epochs=50 ........................................\n"
          ]
        },
        {
          "output_type": "stream",
          "name": "stderr",
          "text": [
            "[Parallel(n_jobs=1)]: Done   9 out of   9 | elapsed:   32.3s remaining:    0.0s\n"
          ]
        },
        {
          "output_type": "stream",
          "name": "stdout",
          "text": [
            "[CV] ............ batch_size=10, epochs=50, score=0.771, total=   4.0s\n",
            "[CV] batch_size=10, epochs=100 .......................................\n",
            "[CV] ........... batch_size=10, epochs=100, score=0.688, total=   7.0s\n",
            "[CV] batch_size=10, epochs=100 .......................................\n",
            "[CV] ........... batch_size=10, epochs=100, score=0.695, total=  10.9s\n",
            "[CV] batch_size=10, epochs=100 .......................................\n",
            "[CV] ........... batch_size=10, epochs=100, score=0.753, total=  11.2s\n",
            "[CV] batch_size=10, epochs=100 .......................................\n",
            "[CV] ........... batch_size=10, epochs=100, score=0.830, total=  10.9s\n",
            "[CV] batch_size=10, epochs=100 .......................................\n",
            "[CV] ........... batch_size=10, epochs=100, score=0.745, total=  10.8s\n",
            "[CV] batch_size=20, epochs=10 ........................................\n",
            "[CV] ............ batch_size=20, epochs=10, score=0.753, total=   1.3s\n",
            "[CV] batch_size=20, epochs=10 ........................................\n",
            "[CV] ............ batch_size=20, epochs=10, score=0.701, total=   1.0s\n",
            "[CV] batch_size=20, epochs=10 ........................................\n",
            "[CV] ............ batch_size=20, epochs=10, score=0.753, total=   0.9s\n",
            "[CV] batch_size=20, epochs=10 ........................................\n",
            "[CV] ............ batch_size=20, epochs=10, score=0.843, total=   1.0s\n",
            "[CV] batch_size=20, epochs=10 ........................................\n",
            "[CV] ............ batch_size=20, epochs=10, score=0.778, total=   1.3s\n",
            "[CV] batch_size=20, epochs=50 ........................................\n",
            "[CV] ............ batch_size=20, epochs=50, score=0.734, total=   3.2s\n",
            "[CV] batch_size=20, epochs=50 ........................................\n",
            "[CV] ............ batch_size=20, epochs=50, score=0.708, total=   2.6s\n",
            "[CV] batch_size=20, epochs=50 ........................................\n",
            "[CV] ............ batch_size=20, epochs=50, score=0.753, total=   3.2s\n",
            "[CV] batch_size=20, epochs=50 ........................................\n",
            "[CV] ............ batch_size=20, epochs=50, score=0.810, total=   2.3s\n",
            "[CV] batch_size=20, epochs=50 ........................................\n",
            "[CV] ............ batch_size=20, epochs=50, score=0.778, total=   2.2s\n",
            "[CV] batch_size=20, epochs=100 .......................................\n",
            "[CV] ........... batch_size=20, epochs=100, score=0.727, total=   5.7s\n",
            "[CV] batch_size=20, epochs=100 .......................................\n",
            "[CV] ........... batch_size=20, epochs=100, score=0.721, total=   3.9s\n",
            "[CV] batch_size=20, epochs=100 .......................................\n",
            "[CV] ........... batch_size=20, epochs=100, score=0.760, total=   3.9s\n",
            "[CV] batch_size=20, epochs=100 .......................................\n",
            "[CV] ........... batch_size=20, epochs=100, score=0.810, total=   5.8s\n",
            "[CV] batch_size=20, epochs=100 .......................................\n",
            "[CV] ........... batch_size=20, epochs=100, score=0.758, total=   5.7s\n",
            "[CV] batch_size=40, epochs=10 ........................................\n",
            "[CV] ............ batch_size=40, epochs=10, score=0.753, total=   0.8s\n",
            "[CV] batch_size=40, epochs=10 ........................................\n",
            "[CV] ............ batch_size=40, epochs=10, score=0.714, total=   1.3s\n",
            "[CV] batch_size=40, epochs=10 ........................................\n",
            "[CV] ............ batch_size=40, epochs=10, score=0.773, total=   0.8s\n",
            "[CV] batch_size=40, epochs=10 ........................................\n",
            "[CV] ............ batch_size=40, epochs=10, score=0.843, total=   0.8s\n",
            "[CV] batch_size=40, epochs=10 ........................................\n",
            "[CV] ............ batch_size=40, epochs=10, score=0.765, total=   0.8s\n",
            "[CV] batch_size=40, epochs=50 ........................................\n",
            "[CV] ............ batch_size=40, epochs=50, score=0.740, total=   1.6s\n",
            "[CV] batch_size=40, epochs=50 ........................................\n",
            "[CV] ............ batch_size=40, epochs=50, score=0.727, total=   1.5s\n",
            "[CV] batch_size=40, epochs=50 ........................................\n",
            "[CV] ............ batch_size=40, epochs=50, score=0.773, total=   1.9s\n",
            "[CV] batch_size=40, epochs=50 ........................................\n",
            "[CV] ............ batch_size=40, epochs=50, score=0.837, total=   1.9s\n",
            "[CV] batch_size=40, epochs=50 ........................................\n",
            "[CV] ............ batch_size=40, epochs=50, score=0.771, total=   1.5s\n",
            "[CV] batch_size=40, epochs=100 .......................................\n",
            "[CV] ........... batch_size=40, epochs=100, score=0.753, total=   3.2s\n",
            "[CV] batch_size=40, epochs=100 .......................................\n",
            "[CV] ........... batch_size=40, epochs=100, score=0.708, total=   2.7s\n",
            "[CV] batch_size=40, epochs=100 .......................................\n",
            "[CV] ........... batch_size=40, epochs=100, score=0.740, total=   3.2s\n",
            "[CV] batch_size=40, epochs=100 .......................................\n",
            "[CV] ........... batch_size=40, epochs=100, score=0.830, total=   2.4s\n",
            "[CV] batch_size=40, epochs=100 .......................................\n",
            "[CV] ........... batch_size=40, epochs=100, score=0.797, total=   3.2s\n"
          ]
        },
        {
          "output_type": "stream",
          "name": "stderr",
          "text": [
            "[Parallel(n_jobs=1)]: Done  45 out of  45 | elapsed:  2.6min finished\n"
          ]
        }
      ]
    },
    {
      "cell_type": "code",
      "metadata": {
        "id": "NARyGW8aF2YO",
        "colab": {
          "base_uri": "https://localhost:8080/"
        },
        "outputId": "425c0e7e-f6c6-4aa6-f763-7f099f46d1ce"
      },
      "source": [
        "# Summarize the results\n",
        "print('Best : {}, using {}'.format(grid_result.best_score_,grid_result.best_params_))\n",
        "means = grid_result.cv_results_['mean_test_score']\n",
        "stds = grid_result.cv_results_['std_test_score']\n",
        "params = grid_result.cv_results_['params']\n",
        "for mean, stdev, param in zip(means, stds, params):\n",
        "  print('{},{} with: {}'.format(mean, stdev, param))"
      ],
      "execution_count": 16,
      "outputs": [
        {
          "output_type": "stream",
          "name": "stdout",
          "text": [
            "Best : 0.7696205854415894, using {'batch_size': 40, 'epochs': 50}\n",
            "0.7527120113372803,0.048084692960048685 with: {'batch_size': 10, 'epochs': 10}\n",
            "0.7253968358039856,0.05445235698844801 with: {'batch_size': 10, 'epochs': 50}\n",
            "0.7423054099082946,0.050991984412324956 with: {'batch_size': 10, 'epochs': 100}\n",
            "0.7657414436340332,0.046043649199777284 with: {'batch_size': 20, 'epochs': 10}\n",
            "0.7566081047058105,0.03539478823878094 with: {'batch_size': 20, 'epochs': 50}\n",
            "0.7552839398384095,0.03177267224938762 with: {'batch_size': 20, 'epochs': 100}\n",
            "0.7696205735206604,0.04187733755363781 with: {'batch_size': 40, 'epochs': 10}\n",
            "0.7696205854415894,0.03782616866719009 with: {'batch_size': 40, 'epochs': 50}\n",
            "0.7657499432563781,0.04313343925669262 with: {'batch_size': 40, 'epochs': 100}\n"
          ]
        }
      ]
    },
    {
      "cell_type": "markdown",
      "metadata": {
        "id": "wrJizT7VF2YO"
      },
      "source": [
        "#### Tuning of Hyperparameters:- Learning rate and Drop out rate"
      ]
    },
    {
      "cell_type": "code",
      "metadata": {
        "id": "f4OJcmqTF2YO",
        "colab": {
          "base_uri": "https://localhost:8080/"
        },
        "outputId": "c77cecd2-61ef-4f8b-e2fe-7e90030e2ae2"
      },
      "source": [
        "from keras.layers import Dropout\n",
        "\n",
        "# Defining the model\n",
        "\n",
        "def create_model(learning_rate,dropout_rate):\n",
        "    model = Sequential()\n",
        "    model.add(Dense(8,input_dim = 8,kernel_initializer = 'normal',activation = 'relu'))\n",
        "    model.add(Dropout(dropout_rate))\n",
        "    model.add(Dense(4,input_dim = 8,kernel_initializer = 'normal',activation = 'relu'))\n",
        "    model.add(Dropout(dropout_rate))\n",
        "    model.add(Dense(1,activation = 'sigmoid'))\n",
        "    \n",
        "    adam = Adam(lr = learning_rate)\n",
        "    model.compile(loss = 'binary_crossentropy',optimizer = adam,metrics = ['accuracy'])\n",
        "    return model\n",
        "\n",
        "# Create the model\n",
        "\n",
        "model = KerasClassifier(build_fn = create_model,verbose = 0,batch_size = 10,epochs = 10)\n",
        "\n",
        "# Define the grid search parameters\n",
        "\n",
        "learning_rate = [0.001,0.01,0.1]\n",
        "dropout_rate = [0.0,0.1,0.2]\n",
        "\n",
        "# Make a dictionary of the grid search parameters\n",
        "\n",
        "param_grids = dict(learning_rate = learning_rate,dropout_rate = dropout_rate)\n",
        "\n",
        "# Build and fit the GridSearchCV\n",
        "\n",
        "grid = GridSearchCV(estimator = model,param_grid = param_grids,cv = KFold(),verbose = 10)\n",
        "grid_result = grid.fit(X_standardized,y)\n"
      ],
      "execution_count": null,
      "outputs": [
        {
          "output_type": "stream",
          "name": "stdout",
          "text": [
            "Fitting 5 folds for each of 9 candidates, totalling 45 fits\n",
            "[CV] dropout_rate=0.0, learning_rate=0.001 ...........................\n"
          ]
        },
        {
          "output_type": "stream",
          "name": "stderr",
          "text": [
            "[Parallel(n_jobs=1)]: Using backend SequentialBackend with 1 concurrent workers.\n",
            "/usr/local/lib/python3.7/dist-packages/keras/optimizer_v2/optimizer_v2.py:356: UserWarning: The `lr` argument is deprecated, use `learning_rate` instead.\n",
            "  \"The `lr` argument is deprecated, use `learning_rate` instead.\")\n"
          ]
        },
        {
          "output_type": "stream",
          "name": "stdout",
          "text": [
            "[CV]  dropout_rate=0.0, learning_rate=0.001, score=0.753, total=   1.3s\n",
            "[CV] dropout_rate=0.0, learning_rate=0.001 ...........................\n"
          ]
        },
        {
          "output_type": "stream",
          "name": "stderr",
          "text": [
            "[Parallel(n_jobs=1)]: Done   1 out of   1 | elapsed:    1.3s remaining:    0.0s\n"
          ]
        },
        {
          "output_type": "stream",
          "name": "stdout",
          "text": [
            "[CV]  dropout_rate=0.0, learning_rate=0.001, score=0.701, total=   1.3s\n",
            "[CV] dropout_rate=0.0, learning_rate=0.001 ...........................\n"
          ]
        },
        {
          "output_type": "stream",
          "name": "stderr",
          "text": [
            "[Parallel(n_jobs=1)]: Done   2 out of   2 | elapsed:    2.5s remaining:    0.0s\n"
          ]
        },
        {
          "output_type": "stream",
          "name": "stdout",
          "text": [
            "[CV]  dropout_rate=0.0, learning_rate=0.001, score=0.747, total=   1.3s\n",
            "[CV] dropout_rate=0.0, learning_rate=0.001 ...........................\n"
          ]
        },
        {
          "output_type": "stream",
          "name": "stderr",
          "text": [
            "[Parallel(n_jobs=1)]: Done   3 out of   3 | elapsed:    3.8s remaining:    0.0s\n"
          ]
        },
        {
          "output_type": "stream",
          "name": "stdout",
          "text": [
            "[CV]  dropout_rate=0.0, learning_rate=0.001, score=0.830, total=   1.3s\n",
            "[CV] dropout_rate=0.0, learning_rate=0.001 ...........................\n"
          ]
        },
        {
          "output_type": "stream",
          "name": "stderr",
          "text": [
            "[Parallel(n_jobs=1)]: Done   4 out of   4 | elapsed:    5.1s remaining:    0.0s\n"
          ]
        },
        {
          "output_type": "stream",
          "name": "stdout",
          "text": [
            "[CV]  dropout_rate=0.0, learning_rate=0.001, score=0.752, total=   1.3s\n",
            "[CV] dropout_rate=0.0, learning_rate=0.01 ............................\n"
          ]
        },
        {
          "output_type": "stream",
          "name": "stderr",
          "text": [
            "[Parallel(n_jobs=1)]: Done   5 out of   5 | elapsed:    6.3s remaining:    0.0s\n"
          ]
        },
        {
          "output_type": "stream",
          "name": "stdout",
          "text": [
            "[CV]  dropout_rate=0.0, learning_rate=0.01, score=0.727, total=   1.6s\n",
            "[CV] dropout_rate=0.0, learning_rate=0.01 ............................\n"
          ]
        },
        {
          "output_type": "stream",
          "name": "stderr",
          "text": [
            "[Parallel(n_jobs=1)]: Done   6 out of   6 | elapsed:    7.9s remaining:    0.0s\n"
          ]
        },
        {
          "output_type": "stream",
          "name": "stdout",
          "text": [
            "[CV]  dropout_rate=0.0, learning_rate=0.01, score=0.708, total=   1.3s\n",
            "[CV] dropout_rate=0.0, learning_rate=0.01 ............................\n"
          ]
        },
        {
          "output_type": "stream",
          "name": "stderr",
          "text": [
            "[Parallel(n_jobs=1)]: Done   7 out of   7 | elapsed:    9.2s remaining:    0.0s\n"
          ]
        },
        {
          "output_type": "stream",
          "name": "stdout",
          "text": [
            "[CV]  dropout_rate=0.0, learning_rate=0.01, score=0.766, total=   1.2s\n",
            "[CV] dropout_rate=0.0, learning_rate=0.01 ............................\n"
          ]
        },
        {
          "output_type": "stream",
          "name": "stderr",
          "text": [
            "[Parallel(n_jobs=1)]: Done   8 out of   8 | elapsed:   10.4s remaining:    0.0s\n"
          ]
        },
        {
          "output_type": "stream",
          "name": "stdout",
          "text": [
            "[CV]  dropout_rate=0.0, learning_rate=0.01, score=0.817, total=   1.2s\n",
            "[CV] dropout_rate=0.0, learning_rate=0.01 ............................\n"
          ]
        },
        {
          "output_type": "stream",
          "name": "stderr",
          "text": [
            "[Parallel(n_jobs=1)]: Done   9 out of   9 | elapsed:   11.6s remaining:    0.0s\n"
          ]
        },
        {
          "output_type": "stream",
          "name": "stdout",
          "text": [
            "[CV]  dropout_rate=0.0, learning_rate=0.01, score=0.752, total=   1.2s\n",
            "[CV] dropout_rate=0.0, learning_rate=0.1 .............................\n",
            "[CV] . dropout_rate=0.0, learning_rate=0.1, score=0.688, total=   1.3s\n",
            "[CV] dropout_rate=0.0, learning_rate=0.1 .............................\n",
            "[CV] . dropout_rate=0.0, learning_rate=0.1, score=0.662, total=   1.3s\n",
            "[CV] dropout_rate=0.0, learning_rate=0.1 .............................\n",
            "[CV] . dropout_rate=0.0, learning_rate=0.1, score=0.766, total=   1.2s\n",
            "[CV] dropout_rate=0.0, learning_rate=0.1 .............................\n",
            "[CV] . dropout_rate=0.0, learning_rate=0.1, score=0.817, total=   1.3s\n",
            "[CV] dropout_rate=0.0, learning_rate=0.1 .............................\n",
            "[CV] . dropout_rate=0.0, learning_rate=0.1, score=0.765, total=   1.6s\n",
            "[CV] dropout_rate=0.1, learning_rate=0.001 ...........................\n",
            "[CV]  dropout_rate=0.1, learning_rate=0.001, score=0.747, total=   1.9s\n",
            "[CV] dropout_rate=0.1, learning_rate=0.001 ...........................\n",
            "[CV]  dropout_rate=0.1, learning_rate=0.001, score=0.708, total=   1.3s\n",
            "[CV] dropout_rate=0.1, learning_rate=0.001 ...........................\n",
            "[CV]  dropout_rate=0.1, learning_rate=0.001, score=0.747, total=   1.3s\n",
            "[CV] dropout_rate=0.1, learning_rate=0.001 ...........................\n",
            "[CV]  dropout_rate=0.1, learning_rate=0.001, score=0.837, total=   1.3s\n",
            "[CV] dropout_rate=0.1, learning_rate=0.001 ...........................\n",
            "[CV]  dropout_rate=0.1, learning_rate=0.001, score=0.765, total=   1.3s\n",
            "[CV] dropout_rate=0.1, learning_rate=0.01 ............................\n",
            "[CV]  dropout_rate=0.1, learning_rate=0.01, score=0.740, total=   1.3s\n",
            "[CV] dropout_rate=0.1, learning_rate=0.01 ............................\n",
            "[CV]  dropout_rate=0.1, learning_rate=0.01, score=0.584, total=   1.3s\n",
            "[CV] dropout_rate=0.1, learning_rate=0.01 ............................\n",
            "[CV]  dropout_rate=0.1, learning_rate=0.01, score=0.786, total=   1.3s\n",
            "[CV] dropout_rate=0.1, learning_rate=0.01 ............................\n",
            "[CV]  dropout_rate=0.1, learning_rate=0.01, score=0.824, total=   1.7s\n",
            "[CV] dropout_rate=0.1, learning_rate=0.01 ............................\n",
            "[CV]  dropout_rate=0.1, learning_rate=0.01, score=0.791, total=   1.3s\n",
            "[CV] dropout_rate=0.1, learning_rate=0.1 .............................\n",
            "[CV] . dropout_rate=0.1, learning_rate=0.1, score=0.734, total=   2.0s\n",
            "[CV] dropout_rate=0.1, learning_rate=0.1 .............................\n",
            "[CV] . dropout_rate=0.1, learning_rate=0.1, score=0.708, total=   1.3s\n",
            "[CV] dropout_rate=0.1, learning_rate=0.1 .............................\n",
            "[CV] . dropout_rate=0.1, learning_rate=0.1, score=0.675, total=   1.3s\n",
            "[CV] dropout_rate=0.1, learning_rate=0.1 .............................\n",
            "[CV] . dropout_rate=0.1, learning_rate=0.1, score=0.745, total=   2.0s\n",
            "[CV] dropout_rate=0.1, learning_rate=0.1 .............................\n",
            "[CV] . dropout_rate=0.1, learning_rate=0.1, score=0.647, total=   1.3s\n",
            "[CV] dropout_rate=0.2, learning_rate=0.001 ...........................\n",
            "[CV]  dropout_rate=0.2, learning_rate=0.001, score=0.747, total=   1.3s\n",
            "[CV] dropout_rate=0.2, learning_rate=0.001 ...........................\n",
            "[CV]  dropout_rate=0.2, learning_rate=0.001, score=0.721, total=   1.3s\n",
            "[CV] dropout_rate=0.2, learning_rate=0.001 ...........................\n",
            "[CV]  dropout_rate=0.2, learning_rate=0.001, score=0.773, total=   1.6s\n",
            "[CV] dropout_rate=0.2, learning_rate=0.001 ...........................\n",
            "[CV]  dropout_rate=0.2, learning_rate=0.001, score=0.837, total=   2.0s\n",
            "[CV] dropout_rate=0.2, learning_rate=0.001 ...........................\n",
            "[CV]  dropout_rate=0.2, learning_rate=0.001, score=0.784, total=   1.9s\n",
            "[CV] dropout_rate=0.2, learning_rate=0.01 ............................\n",
            "[CV]  dropout_rate=0.2, learning_rate=0.01, score=0.760, total=   1.3s\n",
            "[CV] dropout_rate=0.2, learning_rate=0.01 ............................\n",
            "[CV]  dropout_rate=0.2, learning_rate=0.01, score=0.662, total=   1.3s\n",
            "[CV] dropout_rate=0.2, learning_rate=0.01 ............................\n",
            "[CV]  dropout_rate=0.2, learning_rate=0.01, score=0.760, total=   1.3s\n",
            "[CV] dropout_rate=0.2, learning_rate=0.01 ............................\n",
            "[CV]  dropout_rate=0.2, learning_rate=0.01, score=0.843, total=   1.9s\n",
            "[CV] dropout_rate=0.2, learning_rate=0.01 ............................\n",
            "[CV]  dropout_rate=0.2, learning_rate=0.01, score=0.758, total=   2.0s\n",
            "[CV] dropout_rate=0.2, learning_rate=0.1 .............................\n",
            "[CV] . dropout_rate=0.2, learning_rate=0.1, score=0.649, total=   1.3s\n",
            "[CV] dropout_rate=0.2, learning_rate=0.1 .............................\n",
            "[CV] . dropout_rate=0.2, learning_rate=0.1, score=0.584, total=   1.6s\n",
            "[CV] dropout_rate=0.2, learning_rate=0.1 .............................\n",
            "[CV] . dropout_rate=0.2, learning_rate=0.1, score=0.630, total=   1.3s\n",
            "[CV] dropout_rate=0.2, learning_rate=0.1 .............................\n",
            "[CV] . dropout_rate=0.2, learning_rate=0.1, score=0.712, total=   1.3s\n",
            "[CV] dropout_rate=0.2, learning_rate=0.1 .............................\n",
            "[CV] . dropout_rate=0.2, learning_rate=0.1, score=0.647, total=   1.3s\n"
          ]
        },
        {
          "output_type": "stream",
          "name": "stderr",
          "text": [
            "[Parallel(n_jobs=1)]: Done  45 out of  45 | elapsed:  1.1min finished\n"
          ]
        }
      ]
    },
    {
      "cell_type": "code",
      "metadata": {
        "id": "ZtMNrL0GF2YO",
        "colab": {
          "base_uri": "https://localhost:8080/"
        },
        "outputId": "dcc2b0fc-c627-4960-a202-7c15f5727fd5"
      },
      "source": [
        "# Summarize the results\n",
        "print('Best : {}, using {}'.format(grid_result.best_score_,grid_result.best_params_))\n",
        "means = grid_result.cv_results_['mean_test_score']\n",
        "stds = grid_result.cv_results_['std_test_score']\n",
        "params = grid_result.cv_results_['params']\n",
        "for mean, stdev, param in zip(means, stds, params):\n",
        "  print('{},{} with: {}'.format(mean, stdev, param))"
      ],
      "execution_count": null,
      "outputs": [
        {
          "output_type": "stream",
          "name": "stdout",
          "text": [
            "Best : 0.7722349643707276, using {'dropout_rate': 0.2, 'learning_rate': 0.001}\n",
            "0.7565996170043945,0.041444556648463006 with: {'dropout_rate': 0.0, 'learning_rate': 0.001}\n",
            "0.7539852380752563,0.03734419324414344 with: {'dropout_rate': 0.0, 'learning_rate': 0.01}\n",
            "0.7397164940834046,0.05644342929453533 with: {'dropout_rate': 0.0, 'learning_rate': 0.1}\n",
            "0.7605211973190308,0.042344190722653524 with: {'dropout_rate': 0.1, 'learning_rate': 0.001}\n",
            "0.744953739643097,0.08454175134597103 with: {'dropout_rate': 0.1, 'learning_rate': 0.01}\n",
            "0.7018080115318298,0.036414300244432006 with: {'dropout_rate': 0.1, 'learning_rate': 0.1}\n",
            "0.7722349643707276,0.0389516995743293 with: {'dropout_rate': 0.2, 'learning_rate': 0.001}\n",
            "0.7566250681877136,0.057264771766684736 with: {'dropout_rate': 0.2, 'learning_rate': 0.01}\n",
            "0.6446226954460144,0.04115111921140081 with: {'dropout_rate': 0.2, 'learning_rate': 0.1}\n"
          ]
        }
      ]
    },
    {
      "cell_type": "markdown",
      "metadata": {
        "id": "Ub5c4bpdF2YO"
      },
      "source": [
        "#### Tuning of Hyperparameters:- Activation Function and Kernel Initializer"
      ]
    },
    {
      "cell_type": "code",
      "metadata": {
        "id": "lByv17rPF2YO",
        "colab": {
          "base_uri": "https://localhost:8080/"
        },
        "outputId": "11d4a3eb-e323-4bb9-d3a5-65bd26ece0b1"
      },
      "source": [
        "# Defining the model\n",
        "\n",
        "def create_model(activation_function,init):\n",
        "    model = Sequential()\n",
        "    model.add(Dense(8,input_dim = 8,kernel_initializer = init,activation = activation_function))\n",
        "    model.add(Dropout(0.2))\n",
        "    model.add(Dense(4,input_dim = 8,kernel_initializer = init,activation = activation_function))\n",
        "    model.add(Dropout(0.2))\n",
        "    model.add(Dense(1,activation = 'sigmoid'))\n",
        "    \n",
        "    adam = Adam(lr = 0.001)\n",
        "    model.compile(loss = 'binary_crossentropy',optimizer = adam,metrics = ['accuracy'])\n",
        "    return model\n",
        "\n",
        "# Create the model\n",
        "\n",
        "model = KerasClassifier(build_fn = create_model,verbose = 0,batch_size = 10,epochs = 10)\n",
        "\n",
        "# Define the grid search parameters\n",
        "activation_function = ['softmax','relu','tanh','linear']\n",
        "init = ['uniform','normal','zero']\n",
        "\n",
        "# Make a dictionary of the grid search parameters\n",
        "param_grids = dict(activation_function = activation_function,init = init)\n",
        "\n",
        "# Build and fit the GridSearchCV\n",
        "\n",
        "grid = GridSearchCV(estimator = model,param_grid = param_grids,cv = KFold(),verbose = 10)\n",
        "grid_result = grid.fit(X_standardized,y)\n",
        "\n"
      ],
      "execution_count": null,
      "outputs": [
        {
          "output_type": "stream",
          "name": "stdout",
          "text": [
            "Fitting 5 folds for each of 12 candidates, totalling 60 fits\n",
            "[CV] activation_function=softmax, init=uniform .......................\n"
          ]
        },
        {
          "output_type": "stream",
          "name": "stderr",
          "text": [
            "[Parallel(n_jobs=1)]: Using backend SequentialBackend with 1 concurrent workers.\n",
            "/usr/local/lib/python3.7/dist-packages/keras/optimizer_v2/optimizer_v2.py:356: UserWarning: The `lr` argument is deprecated, use `learning_rate` instead.\n",
            "  \"The `lr` argument is deprecated, use `learning_rate` instead.\")\n"
          ]
        },
        {
          "output_type": "stream",
          "name": "stdout",
          "text": [
            "[CV]  activation_function=softmax, init=uniform, score=0.649, total=   1.4s\n",
            "[CV] activation_function=softmax, init=uniform .......................\n"
          ]
        },
        {
          "output_type": "stream",
          "name": "stderr",
          "text": [
            "[Parallel(n_jobs=1)]: Done   1 out of   1 | elapsed:    1.4s remaining:    0.0s\n"
          ]
        },
        {
          "output_type": "stream",
          "name": "stdout",
          "text": [
            "[CV]  activation_function=softmax, init=uniform, score=0.584, total=   1.4s\n",
            "[CV] activation_function=softmax, init=uniform .......................\n"
          ]
        },
        {
          "output_type": "stream",
          "name": "stderr",
          "text": [
            "[Parallel(n_jobs=1)]: Done   2 out of   2 | elapsed:    2.8s remaining:    0.0s\n"
          ]
        },
        {
          "output_type": "stream",
          "name": "stdout",
          "text": [
            "[CV]  activation_function=softmax, init=uniform, score=0.630, total=   2.0s\n",
            "[CV] activation_function=softmax, init=uniform .......................\n"
          ]
        },
        {
          "output_type": "stream",
          "name": "stderr",
          "text": [
            "[Parallel(n_jobs=1)]: Done   3 out of   3 | elapsed:    4.8s remaining:    0.0s\n"
          ]
        },
        {
          "output_type": "stream",
          "name": "stdout",
          "text": [
            "[CV]  activation_function=softmax, init=uniform, score=0.745, total=   2.0s\n",
            "[CV] activation_function=softmax, init=uniform .......................\n"
          ]
        },
        {
          "output_type": "stream",
          "name": "stderr",
          "text": [
            "[Parallel(n_jobs=1)]: Done   4 out of   4 | elapsed:    6.7s remaining:    0.0s\n"
          ]
        },
        {
          "output_type": "stream",
          "name": "stdout",
          "text": [
            "[CV]  activation_function=softmax, init=uniform, score=0.647, total=   1.7s\n",
            "[CV] activation_function=softmax, init=normal ........................\n"
          ]
        },
        {
          "output_type": "stream",
          "name": "stderr",
          "text": [
            "[Parallel(n_jobs=1)]: Done   5 out of   5 | elapsed:    8.4s remaining:    0.0s\n"
          ]
        },
        {
          "output_type": "stream",
          "name": "stdout",
          "text": [
            "[CV]  activation_function=softmax, init=normal, score=0.649, total=   2.0s\n",
            "[CV] activation_function=softmax, init=normal ........................\n"
          ]
        },
        {
          "output_type": "stream",
          "name": "stderr",
          "text": [
            "[Parallel(n_jobs=1)]: Done   6 out of   6 | elapsed:   10.4s remaining:    0.0s\n"
          ]
        },
        {
          "output_type": "stream",
          "name": "stdout",
          "text": [
            "[CV]  activation_function=softmax, init=normal, score=0.584, total=   2.0s\n",
            "[CV] activation_function=softmax, init=normal ........................\n"
          ]
        },
        {
          "output_type": "stream",
          "name": "stderr",
          "text": [
            "[Parallel(n_jobs=1)]: Done   7 out of   7 | elapsed:   12.4s remaining:    0.0s\n"
          ]
        },
        {
          "output_type": "stream",
          "name": "stdout",
          "text": [
            "[CV]  activation_function=softmax, init=normal, score=0.630, total=   2.0s\n",
            "[CV] activation_function=softmax, init=normal ........................\n"
          ]
        },
        {
          "output_type": "stream",
          "name": "stderr",
          "text": [
            "[Parallel(n_jobs=1)]: Done   8 out of   8 | elapsed:   14.4s remaining:    0.0s\n"
          ]
        },
        {
          "output_type": "stream",
          "name": "stdout",
          "text": [
            "[CV]  activation_function=softmax, init=normal, score=0.745, total=   2.0s\n",
            "[CV] activation_function=softmax, init=normal ........................\n"
          ]
        },
        {
          "output_type": "stream",
          "name": "stderr",
          "text": [
            "[Parallel(n_jobs=1)]: Done   9 out of   9 | elapsed:   16.4s remaining:    0.0s\n"
          ]
        },
        {
          "output_type": "stream",
          "name": "stdout",
          "text": [
            "[CV]  activation_function=softmax, init=normal, score=0.647, total=   2.0s\n",
            "[CV] activation_function=softmax, init=zero ..........................\n",
            "[CV]  activation_function=softmax, init=zero, score=0.649, total=   1.4s\n",
            "[CV] activation_function=softmax, init=zero ..........................\n",
            "[CV]  activation_function=softmax, init=zero, score=0.584, total=   1.3s\n",
            "[CV] activation_function=softmax, init=zero ..........................\n",
            "[CV]  activation_function=softmax, init=zero, score=0.630, total=   1.4s\n",
            "[CV] activation_function=softmax, init=zero ..........................\n",
            "[CV]  activation_function=softmax, init=zero, score=0.745, total=   2.3s\n",
            "[CV] activation_function=softmax, init=zero ..........................\n",
            "[CV]  activation_function=softmax, init=zero, score=0.647, total=   1.4s\n",
            "[CV] activation_function=relu, init=uniform ..........................\n",
            "[CV]  activation_function=relu, init=uniform, score=0.753, total=   2.0s\n",
            "[CV] activation_function=relu, init=uniform ..........................\n",
            "[CV]  activation_function=relu, init=uniform, score=0.721, total=   1.3s\n",
            "[CV] activation_function=relu, init=uniform ..........................\n",
            "[CV]  activation_function=relu, init=uniform, score=0.753, total=   2.0s\n",
            "[CV] activation_function=relu, init=uniform ..........................\n",
            "[CV]  activation_function=relu, init=uniform, score=0.824, total=   1.3s\n",
            "[CV] activation_function=relu, init=uniform ..........................\n",
            "[CV]  activation_function=relu, init=uniform, score=0.752, total=   1.3s\n",
            "[CV] activation_function=relu, init=normal ...........................\n",
            "[CV]  activation_function=relu, init=normal, score=0.747, total=   1.3s\n",
            "[CV] activation_function=relu, init=normal ...........................\n",
            "[CV]  activation_function=relu, init=normal, score=0.727, total=   2.3s\n",
            "[CV] activation_function=relu, init=normal ...........................\n",
            "[CV]  activation_function=relu, init=normal, score=0.747, total=   2.0s\n",
            "[CV] activation_function=relu, init=normal ...........................\n",
            "[CV]  activation_function=relu, init=normal, score=0.850, total=   1.3s\n",
            "[CV] activation_function=relu, init=normal ...........................\n",
            "[CV]  activation_function=relu, init=normal, score=0.758, total=   1.3s\n",
            "[CV] activation_function=relu, init=zero .............................\n",
            "[CV] . activation_function=relu, init=zero, score=0.649, total=   1.3s\n",
            "[CV] activation_function=relu, init=zero .............................\n",
            "[CV] . activation_function=relu, init=zero, score=0.584, total=   1.3s\n",
            "[CV] activation_function=relu, init=zero .............................\n",
            "[CV] . activation_function=relu, init=zero, score=0.630, total=   1.3s\n",
            "[CV] activation_function=relu, init=zero .............................\n",
            "[CV] . activation_function=relu, init=zero, score=0.745, total=   1.9s\n",
            "[CV] activation_function=relu, init=zero .............................\n",
            "[CV] . activation_function=relu, init=zero, score=0.647, total=   1.3s\n",
            "[CV] activation_function=tanh, init=uniform ..........................\n",
            "[CV]  activation_function=tanh, init=uniform, score=0.766, total=   1.7s\n",
            "[CV] activation_function=tanh, init=uniform ..........................\n",
            "[CV]  activation_function=tanh, init=uniform, score=0.734, total=   1.3s\n",
            "[CV] activation_function=tanh, init=uniform ..........................\n",
            "[CV]  activation_function=tanh, init=uniform, score=0.753, total=   1.4s\n",
            "[CV] activation_function=tanh, init=uniform ..........................\n",
            "[CV]  activation_function=tanh, init=uniform, score=0.843, total=   1.3s\n",
            "[CV] activation_function=tanh, init=uniform ..........................\n",
            "[CV]  activation_function=tanh, init=uniform, score=0.752, total=   1.3s\n",
            "[CV] activation_function=tanh, init=normal ...........................\n",
            "[CV]  activation_function=tanh, init=normal, score=0.773, total=   1.3s\n",
            "[CV] activation_function=tanh, init=normal ...........................\n",
            "[CV]  activation_function=tanh, init=normal, score=0.721, total=   1.3s\n",
            "[CV] activation_function=tanh, init=normal ...........................\n",
            "[CV]  activation_function=tanh, init=normal, score=0.753, total=   2.0s\n",
            "[CV] activation_function=tanh, init=normal ...........................\n",
            "[CV]  activation_function=tanh, init=normal, score=0.843, total=   1.9s\n",
            "[CV] activation_function=tanh, init=normal ...........................\n",
            "[CV]  activation_function=tanh, init=normal, score=0.745, total=   2.3s\n",
            "[CV] activation_function=tanh, init=zero .............................\n",
            "[CV] . activation_function=tanh, init=zero, score=0.649, total=   1.4s\n",
            "[CV] activation_function=tanh, init=zero .............................\n",
            "[CV] . activation_function=tanh, init=zero, score=0.584, total=   1.3s\n",
            "[CV] activation_function=tanh, init=zero .............................\n",
            "[CV] . activation_function=tanh, init=zero, score=0.630, total=   1.9s\n",
            "[CV] activation_function=tanh, init=zero .............................\n",
            "[CV] . activation_function=tanh, init=zero, score=0.745, total=   1.3s\n",
            "[CV] activation_function=tanh, init=zero .............................\n",
            "[CV] . activation_function=tanh, init=zero, score=0.647, total=   2.0s\n",
            "[CV] activation_function=linear, init=uniform ........................\n",
            "[CV]  activation_function=linear, init=uniform, score=0.773, total=   1.9s\n",
            "[CV] activation_function=linear, init=uniform ........................\n",
            "[CV]  activation_function=linear, init=uniform, score=0.714, total=   1.3s\n",
            "[CV] activation_function=linear, init=uniform ........................\n",
            "[CV]  activation_function=linear, init=uniform, score=0.760, total=   2.0s\n",
            "[CV] activation_function=linear, init=uniform ........................\n",
            "[CV]  activation_function=linear, init=uniform, score=0.830, total=   1.6s\n",
            "[CV] activation_function=linear, init=uniform ........................\n",
            "[CV]  activation_function=linear, init=uniform, score=0.771, total=   1.3s\n",
            "[CV] activation_function=linear, init=normal .........................\n",
            "[CV]  activation_function=linear, init=normal, score=0.773, total=   1.3s\n",
            "[CV] activation_function=linear, init=normal .........................\n",
            "[CV]  activation_function=linear, init=normal, score=0.708, total=   1.9s\n",
            "[CV] activation_function=linear, init=normal .........................\n",
            "[CV]  activation_function=linear, init=normal, score=0.766, total=   1.3s\n",
            "[CV] activation_function=linear, init=normal .........................\n",
            "[CV]  activation_function=linear, init=normal, score=0.830, total=   1.3s\n",
            "[CV] activation_function=linear, init=normal .........................\n",
            "[CV]  activation_function=linear, init=normal, score=0.765, total=   1.3s\n",
            "[CV] activation_function=linear, init=zero ...........................\n",
            "[CV]  activation_function=linear, init=zero, score=0.649, total=   1.3s\n",
            "[CV] activation_function=linear, init=zero ...........................\n",
            "[CV]  activation_function=linear, init=zero, score=0.584, total=   1.3s\n",
            "[CV] activation_function=linear, init=zero ...........................\n",
            "[CV]  activation_function=linear, init=zero, score=0.630, total=   1.6s\n",
            "[CV] activation_function=linear, init=zero ...........................\n",
            "[CV]  activation_function=linear, init=zero, score=0.745, total=   1.3s\n",
            "[CV] activation_function=linear, init=zero ...........................\n",
            "[CV]  activation_function=linear, init=zero, score=0.647, total=   2.0s\n"
          ]
        },
        {
          "output_type": "stream",
          "name": "stderr",
          "text": [
            "[Parallel(n_jobs=1)]: Done  60 out of  60 | elapsed:  1.6min finished\n"
          ]
        }
      ]
    },
    {
      "cell_type": "code",
      "metadata": {
        "id": "YkbCsNd8F2YO",
        "colab": {
          "base_uri": "https://localhost:8080/"
        },
        "outputId": "cb333bb6-4220-4470-9652-df80b6084178"
      },
      "source": [
        "# Summarize the results\n",
        "print('Best : {}, using {}'.format(grid_result.best_score_,grid_result.best_params_))\n",
        "means = grid_result.cv_results_['mean_test_score']\n",
        "stds = grid_result.cv_results_['std_test_score']\n",
        "params = grid_result.cv_results_['params']\n",
        "for mean, stdev, param in zip(means, stds, params):\n",
        "  print('{},{} with: {}'.format(mean, stdev, param))"
      ],
      "execution_count": null,
      "outputs": [
        {
          "output_type": "stream",
          "name": "stdout",
          "text": [
            "Best : 0.7696120858192443, using {'activation_function': 'linear', 'init': 'uniform'}\n",
            "0.6511586427688598,0.05244526932680711 with: {'activation_function': 'softmax', 'init': 'uniform'}\n",
            "0.6511586427688598,0.05244526932680711 with: {'activation_function': 'softmax', 'init': 'normal'}\n",
            "0.6511586427688598,0.05244526932680711 with: {'activation_function': 'softmax', 'init': 'zero'}\n",
            "0.7604872226715088,0.03386523868150409 with: {'activation_function': 'relu', 'init': 'uniform'}\n",
            "0.765724492073059,0.04313423072250706 with: {'activation_function': 'relu', 'init': 'normal'}\n",
            "0.6511586427688598,0.05244526932680711 with: {'activation_function': 'relu', 'init': 'zero'}\n",
            "0.7696035981178284,0.03819247217143921 with: {'activation_function': 'tanh', 'init': 'uniform'}\n",
            "0.7669977068901062,0.04155692682007004 with: {'activation_function': 'tanh', 'init': 'normal'}\n",
            "0.6511586427688598,0.05244526932680711 with: {'activation_function': 'tanh', 'init': 'zero'}\n",
            "0.7696120858192443,0.036947040093127693 with: {'activation_function': 'linear', 'init': 'uniform'}\n",
            "0.7683048963546752,0.0387632285925235 with: {'activation_function': 'linear', 'init': 'normal'}\n",
            "0.6511586427688598,0.05244526932680711 with: {'activation_function': 'linear', 'init': 'zero'}\n"
          ]
        }
      ]
    },
    {
      "cell_type": "markdown",
      "metadata": {
        "id": "BGi6n1DMF2YO"
      },
      "source": [
        "#### Tuning of Hyperparameter :-Number of Neurons in activation layer"
      ]
    },
    {
      "cell_type": "code",
      "metadata": {
        "id": "vbfgmxskF2YO",
        "colab": {
          "base_uri": "https://localhost:8080/"
        },
        "outputId": "988f4112-75e3-4685-b1f2-c7f53a06f21a"
      },
      "source": [
        "# Defining the model\n",
        "\n",
        "def create_model(neuron1,neuron2):\n",
        "    model = Sequential()\n",
        "    model.add(Dense(neuron1,input_dim = 8,kernel_initializer = 'uniform',activation = 'linear'))\n",
        "    model.add(Dropout(0.2))\n",
        "    model.add(Dense(neuron2,input_dim = neuron1,kernel_initializer = 'uniform',activation = 'linear'))\n",
        "    model.add(Dropout(0.2))\n",
        "    model.add(Dense(1,activation = 'sigmoid'))\n",
        "    \n",
        "    adam = Adam(lr = 0.001)\n",
        "    model.compile(loss = 'binary_crossentropy',optimizer = adam,metrics = ['accuracy'])\n",
        "    return model\n",
        "\n",
        "# Create the model\n",
        "\n",
        "model = KerasClassifier(build_fn = create_model,verbose = 0,batch_size = 10,epochs = 10)\n",
        "\n",
        "# Define the grid search parameters\n",
        "\n",
        "neuron1 = [4,8,16]\n",
        "neuron2 = [2,4,8]\n",
        "\n",
        "# Make a dictionary of the grid search parameters\n",
        "\n",
        "param_grids = dict(neuron1 = neuron1,neuron2 = neuron2)\n",
        "\n",
        "# Build and fit the GridSearchCV\n",
        "\n",
        "grid = GridSearchCV(estimator = model,param_grid = param_grids,cv = KFold(),verbose = 10)\n",
        "grid_result = grid.fit(X_standardized,y)\n"
      ],
      "execution_count": null,
      "outputs": [
        {
          "output_type": "stream",
          "name": "stdout",
          "text": [
            "Fitting 5 folds for each of 9 candidates, totalling 45 fits\n",
            "[CV] neuron1=4, neuron2=2 ............................................\n"
          ]
        },
        {
          "output_type": "stream",
          "name": "stderr",
          "text": [
            "[Parallel(n_jobs=1)]: Using backend SequentialBackend with 1 concurrent workers.\n",
            "/usr/local/lib/python3.7/dist-packages/keras/optimizer_v2/optimizer_v2.py:356: UserWarning: The `lr` argument is deprecated, use `learning_rate` instead.\n",
            "  \"The `lr` argument is deprecated, use `learning_rate` instead.\")\n"
          ]
        },
        {
          "output_type": "stream",
          "name": "stdout",
          "text": [
            "[CV] ................ neuron1=4, neuron2=2, score=0.766, total=   2.0s\n",
            "[CV] neuron1=4, neuron2=2 ............................................\n"
          ]
        },
        {
          "output_type": "stream",
          "name": "stderr",
          "text": [
            "[Parallel(n_jobs=1)]: Done   1 out of   1 | elapsed:    2.0s remaining:    0.0s\n"
          ]
        },
        {
          "output_type": "stream",
          "name": "stdout",
          "text": [
            "[CV] ................ neuron1=4, neuron2=2, score=0.734, total=   2.0s\n",
            "[CV] neuron1=4, neuron2=2 ............................................\n"
          ]
        },
        {
          "output_type": "stream",
          "name": "stderr",
          "text": [
            "[Parallel(n_jobs=1)]: Done   2 out of   2 | elapsed:    4.0s remaining:    0.0s\n"
          ]
        },
        {
          "output_type": "stream",
          "name": "stdout",
          "text": [
            "[CV] ................ neuron1=4, neuron2=2, score=0.779, total=   1.4s\n",
            "[CV] neuron1=4, neuron2=2 ............................................\n"
          ]
        },
        {
          "output_type": "stream",
          "name": "stderr",
          "text": [
            "[Parallel(n_jobs=1)]: Done   3 out of   3 | elapsed:    5.4s remaining:    0.0s\n"
          ]
        },
        {
          "output_type": "stream",
          "name": "stdout",
          "text": [
            "[CV] ................ neuron1=4, neuron2=2, score=0.817, total=   2.0s\n",
            "[CV] neuron1=4, neuron2=2 ............................................\n"
          ]
        },
        {
          "output_type": "stream",
          "name": "stderr",
          "text": [
            "[Parallel(n_jobs=1)]: Done   4 out of   4 | elapsed:    7.3s remaining:    0.0s\n"
          ]
        },
        {
          "output_type": "stream",
          "name": "stdout",
          "text": [
            "[CV] ................ neuron1=4, neuron2=2, score=0.758, total=   1.7s\n",
            "[CV] neuron1=4, neuron2=4 ............................................\n"
          ]
        },
        {
          "output_type": "stream",
          "name": "stderr",
          "text": [
            "[Parallel(n_jobs=1)]: Done   5 out of   5 | elapsed:    9.0s remaining:    0.0s\n"
          ]
        },
        {
          "output_type": "stream",
          "name": "stdout",
          "text": [
            "[CV] ................ neuron1=4, neuron2=4, score=0.766, total=   1.3s\n",
            "[CV] neuron1=4, neuron2=4 ............................................\n"
          ]
        },
        {
          "output_type": "stream",
          "name": "stderr",
          "text": [
            "[Parallel(n_jobs=1)]: Done   6 out of   6 | elapsed:   10.4s remaining:    0.0s\n"
          ]
        },
        {
          "output_type": "stream",
          "name": "stdout",
          "text": [
            "[CV] ................ neuron1=4, neuron2=4, score=0.721, total=   2.0s\n",
            "[CV] neuron1=4, neuron2=4 ............................................\n"
          ]
        },
        {
          "output_type": "stream",
          "name": "stderr",
          "text": [
            "[Parallel(n_jobs=1)]: Done   7 out of   7 | elapsed:   12.3s remaining:    0.0s\n"
          ]
        },
        {
          "output_type": "stream",
          "name": "stdout",
          "text": [
            "[CV] ................ neuron1=4, neuron2=4, score=0.773, total=   1.3s\n",
            "[CV] neuron1=4, neuron2=4 ............................................\n"
          ]
        },
        {
          "output_type": "stream",
          "name": "stderr",
          "text": [
            "[Parallel(n_jobs=1)]: Done   8 out of   8 | elapsed:   13.7s remaining:    0.0s\n"
          ]
        },
        {
          "output_type": "stream",
          "name": "stdout",
          "text": [
            "[CV] ................ neuron1=4, neuron2=4, score=0.817, total=   2.0s\n",
            "[CV] neuron1=4, neuron2=4 ............................................\n"
          ]
        },
        {
          "output_type": "stream",
          "name": "stderr",
          "text": [
            "[Parallel(n_jobs=1)]: Done   9 out of   9 | elapsed:   15.7s remaining:    0.0s\n"
          ]
        },
        {
          "output_type": "stream",
          "name": "stdout",
          "text": [
            "[CV] ................ neuron1=4, neuron2=4, score=0.745, total=   1.4s\n",
            "[CV] neuron1=4, neuron2=8 ............................................\n",
            "[CV] ................ neuron1=4, neuron2=8, score=0.779, total=   2.0s\n",
            "[CV] neuron1=4, neuron2=8 ............................................\n",
            "[CV] ................ neuron1=4, neuron2=8, score=0.721, total=   2.0s\n",
            "[CV] neuron1=4, neuron2=8 ............................................\n",
            "[CV] ................ neuron1=4, neuron2=8, score=0.773, total=   1.4s\n",
            "[CV] neuron1=4, neuron2=8 ............................................\n",
            "[CV] ................ neuron1=4, neuron2=8, score=0.824, total=   1.7s\n",
            "[CV] neuron1=4, neuron2=8 ............................................\n",
            "[CV] ................ neuron1=4, neuron2=8, score=0.771, total=   2.0s\n",
            "[CV] neuron1=8, neuron2=2 ............................................\n",
            "[CV] ................ neuron1=8, neuron2=2, score=0.773, total=   1.4s\n",
            "[CV] neuron1=8, neuron2=2 ............................................\n",
            "[CV] ................ neuron1=8, neuron2=2, score=0.727, total=   1.9s\n",
            "[CV] neuron1=8, neuron2=2 ............................................\n",
            "[CV] ................ neuron1=8, neuron2=2, score=0.766, total=   1.3s\n",
            "[CV] neuron1=8, neuron2=2 ............................................\n",
            "[CV] ................ neuron1=8, neuron2=2, score=0.824, total=   1.3s\n",
            "[CV] neuron1=8, neuron2=2 ............................................\n",
            "[CV] ................ neuron1=8, neuron2=2, score=0.765, total=   1.3s\n",
            "[CV] neuron1=8, neuron2=4 ............................................\n",
            "[CV] ................ neuron1=8, neuron2=4, score=0.773, total=   2.0s\n",
            "[CV] neuron1=8, neuron2=4 ............................................\n",
            "[CV] ................ neuron1=8, neuron2=4, score=0.721, total=   1.9s\n",
            "[CV] neuron1=8, neuron2=4 ............................................\n",
            "[CV] ................ neuron1=8, neuron2=4, score=0.766, total=   1.7s\n",
            "[CV] neuron1=8, neuron2=4 ............................................\n",
            "[CV] ................ neuron1=8, neuron2=4, score=0.830, total=   1.4s\n",
            "[CV] neuron1=8, neuron2=4 ............................................\n",
            "[CV] ................ neuron1=8, neuron2=4, score=0.758, total=   2.0s\n",
            "[CV] neuron1=8, neuron2=8 ............................................\n",
            "[CV] ................ neuron1=8, neuron2=8, score=0.773, total=   2.0s\n",
            "[CV] neuron1=8, neuron2=8 ............................................\n",
            "[CV] ................ neuron1=8, neuron2=8, score=0.714, total=   1.9s\n",
            "[CV] neuron1=8, neuron2=8 ............................................\n",
            "[CV] ................ neuron1=8, neuron2=8, score=0.760, total=   1.3s\n",
            "[CV] neuron1=8, neuron2=8 ............................................\n",
            "[CV] ................ neuron1=8, neuron2=8, score=0.830, total=   1.4s\n",
            "[CV] neuron1=8, neuron2=8 ............................................\n",
            "[CV] ................ neuron1=8, neuron2=8, score=0.758, total=   2.0s\n",
            "[CV] neuron1=16, neuron2=2 ...........................................\n",
            "[CV] ............... neuron1=16, neuron2=2, score=0.773, total=   2.0s\n",
            "[CV] neuron1=16, neuron2=2 ...........................................\n",
            "[CV] ............... neuron1=16, neuron2=2, score=0.714, total=   1.7s\n",
            "[CV] neuron1=16, neuron2=2 ...........................................\n",
            "[CV] ............... neuron1=16, neuron2=2, score=0.773, total=   2.0s\n",
            "[CV] neuron1=16, neuron2=2 ...........................................\n",
            "[CV] ............... neuron1=16, neuron2=2, score=0.837, total=   1.4s\n",
            "[CV] neuron1=16, neuron2=2 ...........................................\n",
            "[CV] ............... neuron1=16, neuron2=2, score=0.752, total=   2.0s\n",
            "[CV] neuron1=16, neuron2=4 ...........................................\n",
            "[CV] ............... neuron1=16, neuron2=4, score=0.773, total=   1.4s\n",
            "[CV] neuron1=16, neuron2=4 ...........................................\n",
            "[CV] ............... neuron1=16, neuron2=4, score=0.721, total=   2.0s\n",
            "[CV] neuron1=16, neuron2=4 ...........................................\n",
            "[CV] ............... neuron1=16, neuron2=4, score=0.760, total=   1.4s\n",
            "[CV] neuron1=16, neuron2=4 ...........................................\n",
            "[CV] ............... neuron1=16, neuron2=4, score=0.824, total=   2.0s\n",
            "[CV] neuron1=16, neuron2=4 ...........................................\n",
            "[CV] ............... neuron1=16, neuron2=4, score=0.752, total=   2.0s\n",
            "[CV] neuron1=16, neuron2=8 ...........................................\n",
            "[CV] ............... neuron1=16, neuron2=8, score=0.773, total=   1.7s\n",
            "[CV] neuron1=16, neuron2=8 ...........................................\n",
            "[CV] ............... neuron1=16, neuron2=8, score=0.721, total=   2.0s\n",
            "[CV] neuron1=16, neuron2=8 ...........................................\n",
            "[CV] ............... neuron1=16, neuron2=8, score=0.760, total=   1.4s\n",
            "[CV] neuron1=16, neuron2=8 ...........................................\n",
            "[CV] ............... neuron1=16, neuron2=8, score=0.830, total=   1.3s\n",
            "[CV] neuron1=16, neuron2=8 ...........................................\n",
            "[CV] ............... neuron1=16, neuron2=8, score=0.758, total=   2.0s\n"
          ]
        },
        {
          "output_type": "stream",
          "name": "stderr",
          "text": [
            "[Parallel(n_jobs=1)]: Done  45 out of  45 | elapsed:  1.3min finished\n"
          ]
        }
      ]
    },
    {
      "cell_type": "code",
      "metadata": {
        "id": "7FqW7Z4lF2YO",
        "colab": {
          "base_uri": "https://localhost:8080/"
        },
        "outputId": "6ef724fd-8380-4b76-93f1-b204e463c92b"
      },
      "source": [
        "# Summarize the results\n",
        "print('Best : {}, using {}'.format(grid_result.best_score_,grid_result.best_params_))\n",
        "means = grid_result.cv_results_['mean_test_score']\n",
        "stds = grid_result.cv_results_['std_test_score']\n",
        "params = grid_result.cv_results_['params']\n",
        "for mean, stdev, param in zip(means, stds, params):\n",
        "  print('{},{} with: {}'.format(mean, stdev, param))"
      ],
      "execution_count": null,
      "outputs": [
        {
          "output_type": "stream",
          "name": "stdout",
          "text": [
            "Best : 0.7734997034072876, using {'neuron1': 4, 'neuron2': 8}\n",
            "0.7708768367767334,0.02741015785122412 with: {'neuron1': 4, 'neuron2': 2}\n",
            "0.764366352558136,0.03198158677568415 with: {'neuron1': 4, 'neuron2': 4}\n",
            "0.7734997034072876,0.0326216036361065 with: {'neuron1': 4, 'neuron2': 8}\n",
            "0.7708938121795654,0.03077880004304721 with: {'neuron1': 8, 'neuron2': 2}\n",
            "0.7695951104164124,0.03518887566060487 with: {'neuron1': 8, 'neuron2': 4}\n",
            "0.7669977068901062,0.037200834279024514 with: {'neuron1': 8, 'neuron2': 8}\n",
            "0.7695951104164124,0.03972702144086817 with: {'neuron1': 16, 'neuron2': 2}\n",
            "0.7656820297241211,0.03360020391734826 with: {'neuron1': 16, 'neuron2': 4}\n",
            "0.7682964086532593,0.035408110721954086 with: {'neuron1': 16, 'neuron2': 8}\n"
          ]
        }
      ]
    },
    {
      "cell_type": "markdown",
      "metadata": {
        "id": "aIC5R2HLF2YO"
      },
      "source": [
        "#### Training model with optimum values of Hyperparameters"
      ]
    },
    {
      "cell_type": "code",
      "metadata": {
        "id": "CSmGm5WLF2YO",
        "colab": {
          "base_uri": "https://localhost:8080/"
        },
        "outputId": "82a5d742-415b-45ea-8941-05637ce3549e"
      },
      "source": [
        "from sklearn.metrics import classification_report, accuracy_score\n",
        "\n",
        "# Defining the model\n",
        "\n",
        "def create_model():\n",
        "    model = Sequential()\n",
        "    model.add(Dense(4,input_dim = 8,kernel_initializer = 'uniform',activation = 'linear'))\n",
        "    model.add(Dropout(0.0))\n",
        "    model.add(Dense(8,input_dim = 8,kernel_initializer = 'uniform',activation = 'linear'))\n",
        "    model.add(Dropout(0.0))\n",
        "    model.add(Dense(1,activation = 'sigmoid'))\n",
        "    \n",
        "    adam = Adam(lr = 0.001) #sgd = SGD(lr=learning_rate, momentum=momentum, decay=decay_rate, nesterov=False)\n",
        "    model.compile(loss = 'binary_crossentropy',optimizer = adam,metrics = ['accuracy'])\n",
        "    return model\n",
        "\n",
        "# Create the model\n",
        "\n",
        "model = KerasClassifier(build_fn = create_model,verbose = 0,batch_size = 20,epochs = 10)\n",
        "\n",
        "# Fitting the model\n",
        "\n",
        "model.fit(X_standardized,y)\n",
        "\n",
        "# Predicting using trained model\n",
        "\n",
        "y_predict = model.predict(X_standardized)\n",
        "\n",
        "# Printing the metrics\n",
        "print(accuracy_score(y,y_predict))"
      ],
      "execution_count": null,
      "outputs": [
        {
          "output_type": "stream",
          "name": "stderr",
          "text": [
            "/usr/local/lib/python3.7/dist-packages/keras/optimizer_v2/optimizer_v2.py:356: UserWarning: The `lr` argument is deprecated, use `learning_rate` instead.\n",
            "  \"The `lr` argument is deprecated, use `learning_rate` instead.\")\n"
          ]
        },
        {
          "output_type": "stream",
          "name": "stdout",
          "text": [
            "0.7760416666666666\n"
          ]
        }
      ]
    },
    {
      "cell_type": "markdown",
      "metadata": {
        "id": "8apqs-0jF2YO"
      },
      "source": [
        "# Hyperparameters all at once"
      ]
    },
    {
      "cell_type": "markdown",
      "metadata": {
        "id": "xx1m-2nVF2YO"
      },
      "source": [
        "\n",
        "The hyperparameter optimization was carried out by taking 2 hyperparameters at once. We may have missed the best values. The performance can be further improved by finding the optimum values of hyperparameters all at once given by the code snippet below.\n",
        "#### This process is computationally expensive."
      ]
    },
    {
      "cell_type": "code",
      "metadata": {
        "id": "6LFxZ_KlF2YO"
      },
      "source": [
        "def create_model(learning_rate,dropout_rate,activation_function,init,neuron1,neuron2):\n",
        "    model = Sequential()\n",
        "    model.add(Dense(neuron1,input_dim = 8,kernel_initializer = init,activation = activation_function))\n",
        "    model.add(Dropout(dropout_rate))\n",
        "    model.add(Dense(neuron2,input_dim = neuron1,kernel_initializer = init,activation = activation_function))\n",
        "    model.add(Dropout(dropout_rate))\n",
        "    model.add(Dense(1,activation = 'sigmoid'))\n",
        "    \n",
        "    adam = Adam(lr = learning_rate)\n",
        "    model.compile(loss = 'binary_crossentropy',optimizer = adam,metrics = ['accuracy'])\n",
        "    return model\n",
        "\n",
        "# Create the model\n",
        "\n",
        "model = KerasClassifier(build_fn = create_model,verbose = 0)\n",
        "\n",
        "# Define the grid search parameters\n",
        "\n",
        "batch_size = [10,20,40]\n",
        "epochs = [10,50,100]\n",
        "learning_rate = [0.001,0.01,0.1]\n",
        "dropout_rate = [0.0,0.1,0.2]\n",
        "activation_function = ['softmax','relu','tanh','linear']\n",
        "init = ['uniform','normal','zero']\n",
        "neuron1 = [4,8,16]\n",
        "neuron2 = [2,4,8]\n",
        "\n",
        "# Make a dictionary of the grid search parameters\n",
        "\n",
        "param_grids = dict(batch_size = batch_size,epochs = epochs,learning_rate = learning_rate,dropout_rate = dropout_rate,\n",
        "                   activation_function = activation_function,init = init,neuron1 = neuron1,neuron2 = neuron2)\n",
        "\n",
        "# Build and fit the GridSearchCV\n",
        "\n",
        "grid = GridSearchCV(estimator = model,param_grid = param_grids,cv = KFold(),verbose = 10)\n",
        "grid_result = grid.fit(X_standardized,y)\n",
        "\n",
        "# Summarize the results\n",
        "print('Best : {}, using {}'.format(grid_result.best_score_,grid_result.best_params_))\n",
        "means = grid_result.cv_results_['mean_test_score']\n",
        "stds = grid_result.cv_results_['std_test_score']\n",
        "params = grid_result.cv_results_['params']\n",
        "for mean, stdev, param in zip(means, stds, params):\n",
        "  print('{},{} with: {}'.format(mean, stdev, param))"
      ],
      "execution_count": null,
      "outputs": []
    },
    {
      "cell_type": "code",
      "metadata": {
        "id": "EgJEMz5tF2YO"
      },
      "source": [
        ""
      ],
      "execution_count": null,
      "outputs": []
    }
  ]
}