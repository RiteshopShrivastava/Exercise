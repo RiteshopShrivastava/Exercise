{
  "nbformat": 4,
  "nbformat_minor": 0,
  "metadata": {
    "kernelspec": {
      "display_name": "Python 3",
      "language": "python",
      "name": "python3"
    },
    "language_info": {
      "codemirror_mode": {
        "name": "ipython",
        "version": 3
      },
      "file_extension": ".py",
      "mimetype": "text/x-python",
      "name": "python",
      "nbconvert_exporter": "python",
      "pygments_lexer": "ipython3",
      "version": "3.7.3"
    },
    "varInspector": {
      "cols": {
        "lenName": 16,
        "lenType": 16,
        "lenVar": 40
      },
      "kernels_config": {
        "python": {
          "delete_cmd_postfix": "",
          "delete_cmd_prefix": "del ",
          "library": "var_list.py",
          "varRefreshCmd": "print(var_dic_list())"
        },
        "r": {
          "delete_cmd_postfix": ") ",
          "delete_cmd_prefix": "rm(",
          "library": "var_list.r",
          "varRefreshCmd": "cat(var_dic_list()) "
        }
      },
      "types_to_exclude": [
        "module",
        "function",
        "builtin_function_or_method",
        "instance",
        "_Feature"
      ],
      "window_display": false
    },
    "colab": {
      "name": "Confidence_Interval.ipynb",
      "provenance": [],
      "collapsed_sections": [],
      "include_colab_link": true
    }
  },
  "cells": [
    {
      "cell_type": "markdown",
      "metadata": {
        "id": "view-in-github",
        "colab_type": "text"
      },
      "source": [
        "<a href=\"https://colab.research.google.com/github/RiteshopShrivastava/Exercise/blob/main/Confidence_Interval.ipynb\" target=\"_parent\"><img src=\"https://colab.research.google.com/assets/colab-badge.svg\" alt=\"Open In Colab\"/></a>"
      ]
    },
    {
      "cell_type": "code",
      "metadata": {
        "ExecuteTime": {
          "end_time": "2020-11-23T06:27:40.214846Z",
          "start_time": "2020-11-23T06:27:39.802500Z"
        },
        "id": "x3R_6D1HBirl"
      },
      "source": [
        "from scipy import stats\n",
        "import pandas as pd\n",
        "import numpy as np\n"
      ],
      "execution_count": null,
      "outputs": []
    },
    {
      "cell_type": "code",
      "metadata": {
        "ExecuteTime": {
          "end_time": "2020-11-23T06:32:08.771222Z",
          "start_time": "2020-11-23T06:32:08.028291Z"
        },
        "id": "tHueYgWVBirp"
      },
      "source": [
        "#glaxo_df=pd.read_csv('glaxo_df.csv')\n",
        "#glaxo_df"
      ],
      "execution_count": null,
      "outputs": []
    },
    {
      "cell_type": "code",
      "metadata": {
        "id": "zXwfvjnvOtnW"
      },
      "source": [
        "glaxo_df =pd.read_csv('/content/glaxo_df.csv')\n",
        "glaxo_df"
      ],
      "execution_count": null,
      "outputs": []
    },
    {
      "cell_type": "code",
      "metadata": {
        "colab": {
          "base_uri": "https://localhost:8080/"
        },
        "id": "5hVEkwKDPcdk",
        "outputId": "e0be3f23-0132-47b0-e389-2414638c0a5a"
      },
      "source": [
        "glaxo_df_ci = stats.norm.interval(0.95, loc=glaxo_df.gain.mean(),scale= glaxo_df.gain.std())\n",
        "print('Gain at 95% confidence interval is:', np.round(glaxo_df_ci, 4) )"
      ],
      "execution_count": null,
      "outputs": [
        {
          "output_type": "stream",
          "text": [
            "Gain at 95% confidence interval is: [-0.0258  0.0266]\n"
          ],
          "name": "stdout"
        }
      ]
    },
    {
      "cell_type": "code",
      "metadata": {
        "ExecuteTime": {
          "end_time": "2020-10-06T02:06:08.284170Z",
          "start_time": "2020-10-06T02:06:08.272202Z"
        },
        "id": "Ef7fiBWuBirs",
        "outputId": "cea9616c-1a24-441a-949c-6989b009a14b"
      },
      "source": [
        "glaxo_df_ci = stats.norm.interval(0.95,\n",
        "loc = glaxo_df.gain.mean(),\n",
        "scale = glaxo_df.gain.std())\n",
        "print( 'Gain at 95% confidence interval is:', np.round(glaxo_df_ci, 4))"
      ],
      "execution_count": null,
      "outputs": [
        {
          "output_type": "stream",
          "text": [
            "Gain at 95% confidence interval is: [-0.0258  0.0266]\n"
          ],
          "name": "stdout"
        }
      ]
    },
    {
      "cell_type": "code",
      "metadata": {
        "colab": {
          "base_uri": "https://localhost:8080/"
        },
        "id": "aqvlDIzVRMYo",
        "outputId": "07c6eeee-1afb-4cf1-a364-01a4198f4c57"
      },
      "source": [
        "beml_df = pd.read_csv('/content/beml_df.csv')\n",
        "beml_df_ci = stats.norm.interval(0.95, loc= beml_df.gain.mean(), scale= beml_df.gain.std())\n",
        "print('Gain at 95% confidence interval is:', np.round(beml_df_ci, 4))"
      ],
      "execution_count": null,
      "outputs": [
        {
          "output_type": "stream",
          "text": [
            "Gain at 95% confidence interval is: [-0.0515  0.0521]\n"
          ],
          "name": "stdout"
        }
      ]
    },
    {
      "cell_type": "code",
      "metadata": {
        "ExecuteTime": {
          "end_time": "2020-10-06T02:06:58.425173Z",
          "start_time": "2020-10-06T02:06:58.401236Z"
        },
        "id": "_Nbg4P4ZBirs",
        "outputId": "b754e88c-101e-4ce8-f184-75cfb9eaa337"
      },
      "source": [
        "beml_df=pd.read_csv('beml_df.csv')\n",
        "beml_df_ci = stats.norm.interval(0.95,\n",
        "loc=beml_df.gain.mean(),\n",
        "scale=beml_df.gain.std())\n",
        "print( 'Gain at 95% confidence interval is:', np.round(beml_df_ci, 4))"
      ],
      "execution_count": null,
      "outputs": [
        {
          "output_type": "stream",
          "text": [
            "Gain at 95% confidence interval is: [-0.0515  0.0521]\n"
          ],
          "name": "stdout"
        }
      ]
    },
    {
      "cell_type": "code",
      "metadata": {
        "ExecuteTime": {
          "end_time": "2020-10-06T02:50:58.628904Z",
          "start_time": "2020-10-06T02:50:58.619930Z"
        },
        "id": "VvX9TEInBirt",
        "outputId": "0ad1ab27-df99-42c5-a4a4-45a4b08bfae5"
      },
      "source": [
        "#stats.t.ppf(0.975,79)"
      ],
      "execution_count": null,
      "outputs": [
        {
          "output_type": "execute_result",
          "data": {
            "text/plain": [
              "1.9904502099893602"
            ]
          },
          "metadata": {
            "tags": []
          },
          "execution_count": 10
        }
      ]
    },
    {
      "cell_type": "code",
      "metadata": {
        "ExecuteTime": {
          "end_time": "2020-10-06T02:58:01.552918Z",
          "start_time": "2020-10-06T02:58:01.543941Z"
        },
        "colab": {
          "base_uri": "https://localhost:8080/"
        },
        "id": "ypuiVB3KBiru",
        "outputId": "46b5f382-ba9a-42b7-f552-c6af56451c0f"
      },
      "source": [
        "stats.norm.ppf(0.975) # calculating Z value at 95% confidence"
      ],
      "execution_count": null,
      "outputs": [
        {
          "output_type": "execute_result",
          "data": {
            "text/plain": [
              "1.959963984540054"
            ]
          },
          "metadata": {
            "tags": []
          },
          "execution_count": 15
        }
      ]
    },
    {
      "cell_type": "code",
      "metadata": {
        "ExecuteTime": {
          "end_time": "2021-01-06T02:53:46.883541Z",
          "start_time": "2021-01-06T02:53:46.780951Z"
        },
        "id": "lCUnOrk3Birv",
        "outputId": "e20b31e1-6556-416f-c452-b9fae317fb52"
      },
      "source": [
        "from scipy import stats\n",
        "stats.t.ppf(0.975,139)   "
      ],
      "execution_count": null,
      "outputs": [
        {
          "output_type": "execute_result",
          "data": {
            "text/plain": [
              "1.977177724476122"
            ]
          },
          "metadata": {
            "tags": []
          },
          "execution_count": 4
        }
      ]
    },
    {
      "cell_type": "code",
      "metadata": {
        "ExecuteTime": {
          "end_time": "2020-11-22T05:08:43.061730Z",
          "start_time": "2020-11-22T05:08:43.023830Z"
        },
        "id": "ET0n7yU-Birw",
        "outputId": "d2f92cb2-22ef-4d9a-e74f-b217f1b5c062"
      },
      "source": [
        "stats.t.ppf(0.975,79)  "
      ],
      "execution_count": null,
      "outputs": [
        {
          "output_type": "execute_result",
          "data": {
            "text/plain": [
              "1.9904502099893602"
            ]
          },
          "metadata": {
            "tags": []
          },
          "execution_count": 5
        }
      ]
    },
    {
      "cell_type": "code",
      "metadata": {
        "ExecuteTime": {
          "end_time": "2021-01-06T02:17:48.776808Z",
          "start_time": "2021-01-06T02:17:48.766838Z"
        },
        "id": "fO6zqnW3Birw",
        "outputId": "d661707d-1e2a-4f99-d6bc-29953c9ca3dc"
      },
      "source": [
        "from scipy import stats\n",
        "stats.norm.ppf(0.995) "
      ],
      "execution_count": null,
      "outputs": [
        {
          "output_type": "execute_result",
          "data": {
            "text/plain": [
              "2.5758293035489004"
            ]
          },
          "metadata": {
            "tags": []
          },
          "execution_count": 3
        }
      ]
    }
  ]
}